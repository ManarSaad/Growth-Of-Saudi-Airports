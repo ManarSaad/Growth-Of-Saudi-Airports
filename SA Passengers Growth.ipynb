{
 "cells": [
  {
   "cell_type": "markdown",
   "id": "495d61ea",
   "metadata": {},
   "source": [
    "# Growth Of Saudi Arabia Air Passengers "
   ]
  },
  {
   "cell_type": "markdown",
   "id": "f5cb4f85",
   "metadata": {},
   "source": [
    "Number of passengers and their movements between airports counts as performance indicator of the development of a specific region, and the new factors that happend. The numbers in the past years could tell a lot, as the percentage of increase reflects new opportunities, growth, and development.  Saudi Arabia is the land of the two Holy Mosques which positions the Kingdom at the heart of the Arab and Islamic worlds, so number of passengers expected to increase in specific months, therefore airports are the first and last impression and since the announcement of vision 2030 in 2016, new projects lunched to meet the goals of this vision, each of these projects will open new areas of economic activity, create jobs and drive economic development, and this will result in the growth of passengers and enhancing airports services. This project will include only the international airports, Plus AlUal airport and Neom airport. The reason is my assumption of air passengers growth, within the cities of where every airport is located."
   ]
  },
  {
   "cell_type": "markdown",
   "id": "4fd56539",
   "metadata": {
    "slideshow": {
     "slide_type": "slide"
    }
   },
   "source": [
    "### Research Question  \n",
    "\n",
    "<ul>\n",
    "<li><code>What are the main factors that are driving the changes on number of air passengers in Saudi Arabia?</code></li><br>\n",
    "<li><code>Along with passengers journey inside the airports, what success achievements the Saudi airports earned?</code></li>\n",
    "</ul>"
   ]
  },
  {
   "cell_type": "markdown",
   "id": "f7d5288a",
   "metadata": {},
   "source": [
    " ### Datasets\n",
    " \n",
    "**1.Flights data**\n",
    "\n",
    "<li><i>Year</i>:    <i>from 2010 - 2021</i></li>\n",
    "<li><i>Airport</i>: <i>airports code</i></li>\n",
    "<li><i>FlightsA-Domestic</i>: <i>arrival of domestic flights</i></li>\n",
    "<li><i>PaxA-Domestic</i>: <i>arrival of domestic passengers </i></li>\n",
    "<li><i>FlightsD-Domestic</i>: <i>departure of domestic flights</i></li>\n",
    "<li><i>PaxD-Domestic</i>: <i>departure of domestic passengers</i></li>\n",
    "<li><i>FlightsA-international</i>: <i>arrival of international flights</i></li>\n",
    "<li><i>PaxA-international</i>: <i>farrival of international passengers</i></li>\n",
    "<li><i>FlightsD-international</i>: <i>departure of international flights</i></li>\n",
    "<li><i>PaxD-international</i>: <i>departure of international flights</i></li>\n",
    "<li><i>Flights</i>: <i>total of flights</i></li>\n",
    "<li><i>Pax</i>: <i>total of passengers</i></li>\n",
    "\n",
    "\n"
   ]
  },
  {
   "cell_type": "markdown",
   "id": "a0858fa9",
   "metadata": {},
   "source": [
    "**2.Passengers Monthly data**\n",
    "\n",
    "<ul>\n",
    "<li><i>Year</i>:    <i>From 2015 - 2022 (Jan, Feb) </i></li>\n",
    "<li><i>Month_short</i>: <i>Months, Jan> January, ..</i></li>\n",
    "<li><i>dom/intl</i>: <i>Domestic/International</i></li>\n",
    "<li><i>unique 3-letter code </i></li>\n",
    "\n",
    "\n",
    "</ul>\n"
   ]
  },
  {
   "cell_type": "markdown",
   "id": "2f232bc9",
   "metadata": {},
   "source": [
    "<i>Sourece: [GACA](https://gaca.gov.sa/)</i>"
   ]
  },
  {
   "cell_type": "markdown",
   "id": "db8dfe2b",
   "metadata": {},
   "source": [
    "## 1. Exploratory Data Analysis"
   ]
  },
  {
   "cell_type": "markdown",
   "id": "134ddb23",
   "metadata": {},
   "source": [
    "In this first section of this project, i will make a cursory investigation about the data i have. Being familiar with the data through an explorative process is a fundamental practice to help better understand and justify the information.\n",
    "\n",
    "This project will consists of number of datasets:<br>\n",
    "1- Flights data<br>\n",
    "2- Passengers per month data<br>\n",
    "3- International airports growth<br>\n",
    "\n"
   ]
  },
  {
   "cell_type": "markdown",
   "id": "376f9622",
   "metadata": {},
   "source": [
    "### 1.1 Data cleaning"
   ]
  },
  {
   "cell_type": "code",
   "execution_count": 1,
   "id": "089b7229",
   "metadata": {},
   "outputs": [],
   "source": [
    "# import needed packages to start using data  \n",
    "import pandas as pd\n",
    "import plotly.graph_objects as go\n",
    "import numpy as np\n",
    "import matplotlib.pyplot as plt"
   ]
  },
  {
   "cell_type": "markdown",
   "id": "85271758",
   "metadata": {},
   "source": [
    "#### 1.1.1 Read and show flight dataset \n"
   ]
  },
  {
   "cell_type": "code",
   "execution_count": 2,
   "id": "cd9f73a3",
   "metadata": {},
   "outputs": [],
   "source": [
    "flights=pd.read_csv('FlightsData2.csv') "
   ]
  },
  {
   "cell_type": "code",
   "execution_count": 3,
   "id": "51dd7165",
   "metadata": {
    "scrolled": true
   },
   "outputs": [
    {
     "data": {
      "text/html": [
       "<div>\n",
       "<style scoped>\n",
       "    .dataframe tbody tr th:only-of-type {\n",
       "        vertical-align: middle;\n",
       "    }\n",
       "\n",
       "    .dataframe tbody tr th {\n",
       "        vertical-align: top;\n",
       "    }\n",
       "\n",
       "    .dataframe thead th {\n",
       "        text-align: right;\n",
       "    }\n",
       "</style>\n",
       "<table border=\"1\" class=\"dataframe\">\n",
       "  <thead>\n",
       "    <tr style=\"text-align: right;\">\n",
       "      <th></th>\n",
       "      <th>Unnamed: 0</th>\n",
       "      <th>Year</th>\n",
       "      <th>Airport</th>\n",
       "      <th>FlightsA-Domestic</th>\n",
       "      <th>PaxA-Domestic</th>\n",
       "      <th>CargoA-Domestic</th>\n",
       "      <th>FlightsD-Domestic</th>\n",
       "      <th>PaxD-Domestic</th>\n",
       "      <th>CargoD-Domestic</th>\n",
       "      <th>FlightsA-international</th>\n",
       "      <th>PaxA-international</th>\n",
       "      <th>CargoA-international</th>\n",
       "      <th>FlightsD-international</th>\n",
       "      <th>PaxD-international</th>\n",
       "      <th>CargoD-international</th>\n",
       "      <th>Flights</th>\n",
       "      <th>Pax</th>\n",
       "      <th>Cargo</th>\n",
       "    </tr>\n",
       "  </thead>\n",
       "  <tbody>\n",
       "    <tr>\n",
       "      <th>0</th>\n",
       "      <td>0</td>\n",
       "      <td>2010</td>\n",
       "      <td>ABT</td>\n",
       "      <td>1179.0</td>\n",
       "      <td>112685.0</td>\n",
       "      <td>51.0</td>\n",
       "      <td>1179.0</td>\n",
       "      <td>118292.0</td>\n",
       "      <td>9.0</td>\n",
       "      <td>NaN</td>\n",
       "      <td>NaN</td>\n",
       "      <td>NaN</td>\n",
       "      <td>1.0</td>\n",
       "      <td>7.0</td>\n",
       "      <td>0.0</td>\n",
       "      <td>2359.0</td>\n",
       "      <td>230984.0</td>\n",
       "      <td>60.0</td>\n",
       "    </tr>\n",
       "    <tr>\n",
       "      <th>1</th>\n",
       "      <td>1</td>\n",
       "      <td>2010</td>\n",
       "      <td>AHB</td>\n",
       "      <td>6234.0</td>\n",
       "      <td>692309.0</td>\n",
       "      <td>2264.0</td>\n",
       "      <td>6191.0</td>\n",
       "      <td>705831.0</td>\n",
       "      <td>924.0</td>\n",
       "      <td>250.0</td>\n",
       "      <td>20655.0</td>\n",
       "      <td>13.0</td>\n",
       "      <td>241.0</td>\n",
       "      <td>18452.0</td>\n",
       "      <td>9.0</td>\n",
       "      <td>12916.0</td>\n",
       "      <td>1437247.0</td>\n",
       "      <td>3210.0</td>\n",
       "    </tr>\n",
       "    <tr>\n",
       "      <th>2</th>\n",
       "      <td>2</td>\n",
       "      <td>2010</td>\n",
       "      <td>AJF</td>\n",
       "      <td>1771.0</td>\n",
       "      <td>136865.0</td>\n",
       "      <td>534.0</td>\n",
       "      <td>1764.0</td>\n",
       "      <td>141194.0</td>\n",
       "      <td>56.0</td>\n",
       "      <td>1.0</td>\n",
       "      <td>0.0</td>\n",
       "      <td>0.0</td>\n",
       "      <td>NaN</td>\n",
       "      <td>NaN</td>\n",
       "      <td>NaN</td>\n",
       "      <td>3536.0</td>\n",
       "      <td>278059.0</td>\n",
       "      <td>590.0</td>\n",
       "    </tr>\n",
       "    <tr>\n",
       "      <th>3</th>\n",
       "      <td>3</td>\n",
       "      <td>2010</td>\n",
       "      <td>AQI</td>\n",
       "      <td>543.0</td>\n",
       "      <td>30006.0</td>\n",
       "      <td>32.0</td>\n",
       "      <td>542.0</td>\n",
       "      <td>28674.0</td>\n",
       "      <td>64.0</td>\n",
       "      <td>NaN</td>\n",
       "      <td>NaN</td>\n",
       "      <td>NaN</td>\n",
       "      <td>1.0</td>\n",
       "      <td>0.0</td>\n",
       "      <td>0.0</td>\n",
       "      <td>1086.0</td>\n",
       "      <td>58680.0</td>\n",
       "      <td>96.0</td>\n",
       "    </tr>\n",
       "    <tr>\n",
       "      <th>4</th>\n",
       "      <td>4</td>\n",
       "      <td>2010</td>\n",
       "      <td>BHH</td>\n",
       "      <td>1387.0</td>\n",
       "      <td>115415.0</td>\n",
       "      <td>55.0</td>\n",
       "      <td>1386.0</td>\n",
       "      <td>122263.0</td>\n",
       "      <td>15.0</td>\n",
       "      <td>NaN</td>\n",
       "      <td>NaN</td>\n",
       "      <td>NaN</td>\n",
       "      <td>NaN</td>\n",
       "      <td>NaN</td>\n",
       "      <td>NaN</td>\n",
       "      <td>2773.0</td>\n",
       "      <td>237678.0</td>\n",
       "      <td>70.0</td>\n",
       "    </tr>\n",
       "  </tbody>\n",
       "</table>\n",
       "</div>"
      ],
      "text/plain": [
       "   Unnamed: 0  Year Airport  FlightsA-Domestic  PaxA-Domestic  \\\n",
       "0           0  2010     ABT             1179.0       112685.0   \n",
       "1           1  2010     AHB             6234.0       692309.0   \n",
       "2           2  2010     AJF             1771.0       136865.0   \n",
       "3           3  2010     AQI              543.0        30006.0   \n",
       "4           4  2010     BHH             1387.0       115415.0   \n",
       "\n",
       "   CargoA-Domestic  FlightsD-Domestic  PaxD-Domestic  CargoD-Domestic  \\\n",
       "0             51.0             1179.0       118292.0              9.0   \n",
       "1           2264.0             6191.0       705831.0            924.0   \n",
       "2            534.0             1764.0       141194.0             56.0   \n",
       "3             32.0              542.0        28674.0             64.0   \n",
       "4             55.0             1386.0       122263.0             15.0   \n",
       "\n",
       "   FlightsA-international  PaxA-international  CargoA-international  \\\n",
       "0                     NaN                 NaN                   NaN   \n",
       "1                   250.0             20655.0                  13.0   \n",
       "2                     1.0                 0.0                   0.0   \n",
       "3                     NaN                 NaN                   NaN   \n",
       "4                     NaN                 NaN                   NaN   \n",
       "\n",
       "   FlightsD-international  PaxD-international  CargoD-international  Flights  \\\n",
       "0                     1.0                 7.0                   0.0   2359.0   \n",
       "1                   241.0             18452.0                   9.0  12916.0   \n",
       "2                     NaN                 NaN                   NaN   3536.0   \n",
       "3                     1.0                 0.0                   0.0   1086.0   \n",
       "4                     NaN                 NaN                   NaN   2773.0   \n",
       "\n",
       "         Pax   Cargo  \n",
       "0   230984.0    60.0  \n",
       "1  1437247.0  3210.0  \n",
       "2   278059.0   590.0  \n",
       "3    58680.0    96.0  \n",
       "4   237678.0    70.0  "
      ]
     },
     "execution_count": 3,
     "metadata": {},
     "output_type": "execute_result"
    }
   ],
   "source": [
    "flights.head()"
   ]
  },
  {
   "cell_type": "code",
   "execution_count": 4,
   "id": "0fe2a5c1",
   "metadata": {},
   "outputs": [
    {
     "data": {
      "text/html": [
       "<div>\n",
       "<style scoped>\n",
       "    .dataframe tbody tr th:only-of-type {\n",
       "        vertical-align: middle;\n",
       "    }\n",
       "\n",
       "    .dataframe tbody tr th {\n",
       "        vertical-align: top;\n",
       "    }\n",
       "\n",
       "    .dataframe thead th {\n",
       "        text-align: right;\n",
       "    }\n",
       "</style>\n",
       "<table border=\"1\" class=\"dataframe\">\n",
       "  <thead>\n",
       "    <tr style=\"text-align: right;\">\n",
       "      <th></th>\n",
       "      <th>Unnamed: 0</th>\n",
       "      <th>Year</th>\n",
       "      <th>Airport</th>\n",
       "      <th>FlightsA-Domestic</th>\n",
       "      <th>PaxA-Domestic</th>\n",
       "      <th>CargoA-Domestic</th>\n",
       "      <th>FlightsD-Domestic</th>\n",
       "      <th>PaxD-Domestic</th>\n",
       "      <th>CargoD-Domestic</th>\n",
       "      <th>FlightsA-international</th>\n",
       "      <th>PaxA-international</th>\n",
       "      <th>CargoA-international</th>\n",
       "      <th>FlightsD-international</th>\n",
       "      <th>PaxD-international</th>\n",
       "      <th>CargoD-international</th>\n",
       "      <th>Flights</th>\n",
       "      <th>Pax</th>\n",
       "      <th>Cargo</th>\n",
       "    </tr>\n",
       "  </thead>\n",
       "  <tbody>\n",
       "    <tr>\n",
       "      <th>5</th>\n",
       "      <td>5</td>\n",
       "      <td>2010</td>\n",
       "      <td>DMM</td>\n",
       "      <td>10574.0</td>\n",
       "      <td>1111447.0</td>\n",
       "      <td>7780.00</td>\n",
       "      <td>10611.0</td>\n",
       "      <td>1093376.0</td>\n",
       "      <td>3852.00</td>\n",
       "      <td>12241.0</td>\n",
       "      <td>1204119.0</td>\n",
       "      <td>47936.00</td>\n",
       "      <td>12155.0</td>\n",
       "      <td>1170321.0</td>\n",
       "      <td>16836.00</td>\n",
       "      <td>45581.0</td>\n",
       "      <td>4579263.0</td>\n",
       "      <td>76405.00</td>\n",
       "    </tr>\n",
       "    <tr>\n",
       "      <th>13</th>\n",
       "      <td>13</td>\n",
       "      <td>2010</td>\n",
       "      <td>JED</td>\n",
       "      <td>25242.0</td>\n",
       "      <td>3160789.0</td>\n",
       "      <td>20748.00</td>\n",
       "      <td>24438.0</td>\n",
       "      <td>3081098.0</td>\n",
       "      <td>24544.00</td>\n",
       "      <td>45083.0</td>\n",
       "      <td>5228093.0</td>\n",
       "      <td>126177.00</td>\n",
       "      <td>45076.0</td>\n",
       "      <td>5705842.0</td>\n",
       "      <td>59040.00</td>\n",
       "      <td>139839.0</td>\n",
       "      <td>17175822.0</td>\n",
       "      <td>230508.00</td>\n",
       "    </tr>\n",
       "    <tr>\n",
       "      <th>14</th>\n",
       "      <td>14</td>\n",
       "      <td>2010</td>\n",
       "      <td>MED</td>\n",
       "      <td>8517.0</td>\n",
       "      <td>653114.0</td>\n",
       "      <td>1322.00</td>\n",
       "      <td>9715.0</td>\n",
       "      <td>665746.0</td>\n",
       "      <td>915.00</td>\n",
       "      <td>7050.0</td>\n",
       "      <td>1044396.0</td>\n",
       "      <td>898.00</td>\n",
       "      <td>5767.0</td>\n",
       "      <td>530931.0</td>\n",
       "      <td>825.00</td>\n",
       "      <td>31049.0</td>\n",
       "      <td>2894187.0</td>\n",
       "      <td>3960.00</td>\n",
       "    </tr>\n",
       "    <tr>\n",
       "      <th>17</th>\n",
       "      <td>17</td>\n",
       "      <td>2010</td>\n",
       "      <td>RUH</td>\n",
       "      <td>30512.0</td>\n",
       "      <td>3520112.0</td>\n",
       "      <td>18472.00</td>\n",
       "      <td>30096.0</td>\n",
       "      <td>3364229.0</td>\n",
       "      <td>25137.00</td>\n",
       "      <td>24985.0</td>\n",
       "      <td>3428107.0</td>\n",
       "      <td>130241.00</td>\n",
       "      <td>24847.0</td>\n",
       "      <td>3241259.0</td>\n",
       "      <td>58993.00</td>\n",
       "      <td>110440.0</td>\n",
       "      <td>13553707.0</td>\n",
       "      <td>232843.00</td>\n",
       "    </tr>\n",
       "    <tr>\n",
       "      <th>30</th>\n",
       "      <td>30</td>\n",
       "      <td>2011</td>\n",
       "      <td>DMM</td>\n",
       "      <td>10976.0</td>\n",
       "      <td>1174453.0</td>\n",
       "      <td>7684.83</td>\n",
       "      <td>10998.0</td>\n",
       "      <td>1164244.0</td>\n",
       "      <td>2813.46</td>\n",
       "      <td>14510.0</td>\n",
       "      <td>1512760.0</td>\n",
       "      <td>51983.22</td>\n",
       "      <td>14448.0</td>\n",
       "      <td>1456986.0</td>\n",
       "      <td>18202.61</td>\n",
       "      <td>50932.0</td>\n",
       "      <td>5308443.0</td>\n",
       "      <td>80684.11</td>\n",
       "    </tr>\n",
       "    <tr>\n",
       "      <th>...</th>\n",
       "      <td>...</td>\n",
       "      <td>...</td>\n",
       "      <td>...</td>\n",
       "      <td>...</td>\n",
       "      <td>...</td>\n",
       "      <td>...</td>\n",
       "      <td>...</td>\n",
       "      <td>...</td>\n",
       "      <td>...</td>\n",
       "      <td>...</td>\n",
       "      <td>...</td>\n",
       "      <td>...</td>\n",
       "      <td>...</td>\n",
       "      <td>...</td>\n",
       "      <td>...</td>\n",
       "      <td>...</td>\n",
       "      <td>...</td>\n",
       "      <td>...</td>\n",
       "    </tr>\n",
       "    <tr>\n",
       "      <th>305</th>\n",
       "      <td>305</td>\n",
       "      <td>2021</td>\n",
       "      <td>JED</td>\n",
       "      <td>39013.0</td>\n",
       "      <td>4107189.0</td>\n",
       "      <td>12774.00</td>\n",
       "      <td>38789.0</td>\n",
       "      <td>4052443.0</td>\n",
       "      <td>21600.90</td>\n",
       "      <td>20801.0</td>\n",
       "      <td>2353135.0</td>\n",
       "      <td>105085.20</td>\n",
       "      <td>20997.0</td>\n",
       "      <td>2492949.0</td>\n",
       "      <td>62697.30</td>\n",
       "      <td>119600.0</td>\n",
       "      <td>13005716.0</td>\n",
       "      <td>202157.40</td>\n",
       "    </tr>\n",
       "    <tr>\n",
       "      <th>306</th>\n",
       "      <td>306</td>\n",
       "      <td>2021</td>\n",
       "      <td>MED</td>\n",
       "      <td>7024.0</td>\n",
       "      <td>573690.0</td>\n",
       "      <td>0.00</td>\n",
       "      <td>7100.0</td>\n",
       "      <td>592662.0</td>\n",
       "      <td>0.00</td>\n",
       "      <td>2171.0</td>\n",
       "      <td>235567.0</td>\n",
       "      <td>0.00</td>\n",
       "      <td>2093.0</td>\n",
       "      <td>225469.0</td>\n",
       "      <td>0.00</td>\n",
       "      <td>18388.0</td>\n",
       "      <td>1627388.0</td>\n",
       "      <td>0.00</td>\n",
       "    </tr>\n",
       "    <tr>\n",
       "      <th>307</th>\n",
       "      <td>307</td>\n",
       "      <td>2021</td>\n",
       "      <td>NUM</td>\n",
       "      <td>478.0</td>\n",
       "      <td>2788.0</td>\n",
       "      <td>0.00</td>\n",
       "      <td>483.0</td>\n",
       "      <td>3540.0</td>\n",
       "      <td>0.00</td>\n",
       "      <td>36.0</td>\n",
       "      <td>0.0</td>\n",
       "      <td>0.00</td>\n",
       "      <td>53.0</td>\n",
       "      <td>0.0</td>\n",
       "      <td>0.00</td>\n",
       "      <td>1050.0</td>\n",
       "      <td>6328.0</td>\n",
       "      <td>0.00</td>\n",
       "    </tr>\n",
       "    <tr>\n",
       "      <th>311</th>\n",
       "      <td>311</td>\n",
       "      <td>2021</td>\n",
       "      <td>RUH</td>\n",
       "      <td>46682.0</td>\n",
       "      <td>5118913.0</td>\n",
       "      <td>18570.40</td>\n",
       "      <td>46870.0</td>\n",
       "      <td>5007120.0</td>\n",
       "      <td>11550.50</td>\n",
       "      <td>23217.0</td>\n",
       "      <td>2541097.0</td>\n",
       "      <td>129367.00</td>\n",
       "      <td>23035.0</td>\n",
       "      <td>2761459.0</td>\n",
       "      <td>34857.90</td>\n",
       "      <td>139804.0</td>\n",
       "      <td>15428589.0</td>\n",
       "      <td>194345.80</td>\n",
       "    </tr>\n",
       "    <tr>\n",
       "      <th>316</th>\n",
       "      <td>316</td>\n",
       "      <td>2021</td>\n",
       "      <td>ULH</td>\n",
       "      <td>1081.0</td>\n",
       "      <td>36936.0</td>\n",
       "      <td>0.00</td>\n",
       "      <td>1080.0</td>\n",
       "      <td>35859.0</td>\n",
       "      <td>0.00</td>\n",
       "      <td>66.0</td>\n",
       "      <td>794.0</td>\n",
       "      <td>0.00</td>\n",
       "      <td>65.0</td>\n",
       "      <td>535.0</td>\n",
       "      <td>0.00</td>\n",
       "      <td>2292.0</td>\n",
       "      <td>74124.0</td>\n",
       "      <td>0.00</td>\n",
       "    </tr>\n",
       "  </tbody>\n",
       "</table>\n",
       "<p>62 rows × 18 columns</p>\n",
       "</div>"
      ],
      "text/plain": [
       "     Unnamed: 0  Year Airport  FlightsA-Domestic  PaxA-Domestic  \\\n",
       "5             5  2010     DMM            10574.0      1111447.0   \n",
       "13           13  2010     JED            25242.0      3160789.0   \n",
       "14           14  2010     MED             8517.0       653114.0   \n",
       "17           17  2010     RUH            30512.0      3520112.0   \n",
       "30           30  2011     DMM            10976.0      1174453.0   \n",
       "..          ...   ...     ...                ...            ...   \n",
       "305         305  2021     JED            39013.0      4107189.0   \n",
       "306         306  2021     MED             7024.0       573690.0   \n",
       "307         307  2021     NUM              478.0         2788.0   \n",
       "311         311  2021     RUH            46682.0      5118913.0   \n",
       "316         316  2021     ULH             1081.0        36936.0   \n",
       "\n",
       "     CargoA-Domestic  FlightsD-Domestic  PaxD-Domestic  CargoD-Domestic  \\\n",
       "5            7780.00            10611.0      1093376.0          3852.00   \n",
       "13          20748.00            24438.0      3081098.0         24544.00   \n",
       "14           1322.00             9715.0       665746.0           915.00   \n",
       "17          18472.00            30096.0      3364229.0         25137.00   \n",
       "30           7684.83            10998.0      1164244.0          2813.46   \n",
       "..               ...                ...            ...              ...   \n",
       "305         12774.00            38789.0      4052443.0         21600.90   \n",
       "306             0.00             7100.0       592662.0             0.00   \n",
       "307             0.00              483.0         3540.0             0.00   \n",
       "311         18570.40            46870.0      5007120.0         11550.50   \n",
       "316             0.00             1080.0        35859.0             0.00   \n",
       "\n",
       "     FlightsA-international  PaxA-international  CargoA-international  \\\n",
       "5                   12241.0           1204119.0              47936.00   \n",
       "13                  45083.0           5228093.0             126177.00   \n",
       "14                   7050.0           1044396.0                898.00   \n",
       "17                  24985.0           3428107.0             130241.00   \n",
       "30                  14510.0           1512760.0              51983.22   \n",
       "..                      ...                 ...                   ...   \n",
       "305                 20801.0           2353135.0             105085.20   \n",
       "306                  2171.0            235567.0                  0.00   \n",
       "307                    36.0                 0.0                  0.00   \n",
       "311                 23217.0           2541097.0             129367.00   \n",
       "316                    66.0               794.0                  0.00   \n",
       "\n",
       "     FlightsD-international  PaxD-international  CargoD-international  \\\n",
       "5                   12155.0           1170321.0              16836.00   \n",
       "13                  45076.0           5705842.0              59040.00   \n",
       "14                   5767.0            530931.0                825.00   \n",
       "17                  24847.0           3241259.0              58993.00   \n",
       "30                  14448.0           1456986.0              18202.61   \n",
       "..                      ...                 ...                   ...   \n",
       "305                 20997.0           2492949.0              62697.30   \n",
       "306                  2093.0            225469.0                  0.00   \n",
       "307                    53.0                 0.0                  0.00   \n",
       "311                 23035.0           2761459.0              34857.90   \n",
       "316                    65.0               535.0                  0.00   \n",
       "\n",
       "      Flights         Pax      Cargo  \n",
       "5     45581.0   4579263.0   76405.00  \n",
       "13   139839.0  17175822.0  230508.00  \n",
       "14    31049.0   2894187.0    3960.00  \n",
       "17   110440.0  13553707.0  232843.00  \n",
       "30    50932.0   5308443.0   80684.11  \n",
       "..        ...         ...        ...  \n",
       "305  119600.0  13005716.0  202157.40  \n",
       "306   18388.0   1627388.0       0.00  \n",
       "307    1050.0      6328.0       0.00  \n",
       "311  139804.0  15428589.0  194345.80  \n",
       "316    2292.0     74124.0       0.00  \n",
       "\n",
       "[62 rows x 18 columns]"
      ]
     },
     "execution_count": 4,
     "metadata": {},
     "output_type": "execute_result"
    }
   ],
   "source": [
    "# i will limit this data to have rows about only these airport ( RUH, JED, MED, DMM, ULH, NUM)\n",
    "code_list = ['RUH','JED','DMM','MED','ULH','NUM']\n",
    "flights=flights[flights.Airport.isin(code_list)]\n",
    "flights"
   ]
  },
  {
   "cell_type": "code",
   "execution_count": 5,
   "id": "31c82ef8",
   "metadata": {},
   "outputs": [
    {
     "name": "stdout",
     "output_type": "stream",
     "text": [
      "Dataframe dimensions: (62, 18)\n"
     ]
    }
   ],
   "source": [
    "print('Dataframe dimensions:', flights.shape)"
   ]
  },
  {
   "cell_type": "markdown",
   "id": "5e3a15dd",
   "metadata": {},
   "source": [
    "An additional file of this dataset, the **passengers.csv** file, gives a more exhaustive description of the passengers number, per month:"
   ]
  },
  {
   "cell_type": "code",
   "execution_count": 6,
   "id": "441c13e6",
   "metadata": {},
   "outputs": [
    {
     "name": "stdout",
     "output_type": "stream",
     "text": [
      "Dataframe dimensions: (172, 31)\n"
     ]
    }
   ],
   "source": [
    "passengers=pd.read_csv('passengers1.csv') \n",
    "\n",
    "print('Dataframe dimensions:', passengers.shape)"
   ]
  },
  {
   "cell_type": "markdown",
   "id": "6abeb820",
   "metadata": {},
   "source": [
    "#### 1.1.2 Fill null values and drop unnecessary column "
   ]
  },
  {
   "cell_type": "markdown",
   "id": "cfd559d7",
   "metadata": {},
   "source": [
    "After showing the dataset heading:\n",
    "<br>1-'Unnamed: 0' is unnecessary column and need to be dropped. \n",
    "<br>2- Cargo columns are good indicators of measuring some information, but in this project i will focus on factors reltaed to new events, so i will drop them. \n",
    "<br>2- Also an important step to check null values and then we will fill it with appropriate method.<br>"
   ]
  },
  {
   "cell_type": "code",
   "execution_count": 7,
   "id": "696133e0",
   "metadata": {},
   "outputs": [],
   "source": [
    "# Remove columns with the name: (Unnamed, Cargo)\n",
    "flights.drop(['Unnamed: 0','CargoA-Domestic','CargoD-Domestic','CargoA-international','CargoD-international','Cargo'], axis=1, inplace=True)"
   ]
  },
  {
   "cell_type": "code",
   "execution_count": 8,
   "id": "4bd80dbe",
   "metadata": {},
   "outputs": [
    {
     "data": {
      "text/plain": [
       "Year                      0\n",
       "Airport                   0\n",
       "FlightsA-Domestic         1\n",
       "PaxA-Domestic             1\n",
       "FlightsD-Domestic         1\n",
       "PaxD-Domestic             1\n",
       "FlightsA-international    6\n",
       "PaxA-international        6\n",
       "FlightsD-international    5\n",
       "PaxD-international        5\n",
       "Flights                   0\n",
       "Pax                       0\n",
       "dtype: int64"
      ]
     },
     "execution_count": 8,
     "metadata": {},
     "output_type": "execute_result"
    }
   ],
   "source": [
    "# Dataset.isnull().sum() > Functions shows the sum of null values\n",
    "flights.isnull().sum()"
   ]
  },
  {
   "cell_type": "markdown",
   "id": "732211fc",
   "metadata": {},
   "source": [
    "<b>First</b> since most of null values are in the (international flights columns) and most of the airport are domestic airports, i will assuem that the null values means there was no international flights. And for (domestic flights columns) also, so i will fill it with zero: <br>"
   ]
  },
  {
   "cell_type": "code",
   "execution_count": 9,
   "id": "6f29046a",
   "metadata": {},
   "outputs": [],
   "source": [
    "# Using (fillna(..)) to fill the null values with a value \n",
    "flights['FlightsA-Domestic'].fillna(0, inplace = True)\n",
    "flights['FlightsD-Domestic'].fillna(0, inplace = True)\n",
    "flights['FlightsA-international'].fillna(0, inplace = True)\n",
    "flights['FlightsD-international'].fillna(0, inplace = True)"
   ]
  },
  {
   "cell_type": "markdown",
   "id": "f64f8d3c",
   "metadata": {},
   "source": [
    "<b>Second</b>, after filling null flights columns with zero, i have to assign zero to the related columns like (Passengers) :"
   ]
  },
  {
   "cell_type": "code",
   "execution_count": 10,
   "id": "80d348ec",
   "metadata": {},
   "outputs": [],
   "source": [
    "flights.fillna(0, inplace = True) "
   ]
  },
  {
   "cell_type": "code",
   "execution_count": 11,
   "id": "1464dad6",
   "metadata": {},
   "outputs": [
    {
     "data": {
      "text/plain": [
       "Year                      0\n",
       "Airport                   0\n",
       "FlightsA-Domestic         0\n",
       "PaxA-Domestic             0\n",
       "FlightsD-Domestic         0\n",
       "PaxD-Domestic             0\n",
       "FlightsA-international    0\n",
       "PaxA-international        0\n",
       "FlightsD-international    0\n",
       "PaxD-international        0\n",
       "Flights                   0\n",
       "Pax                       0\n",
       "dtype: int64"
      ]
     },
     "execution_count": 11,
     "metadata": {},
     "output_type": "execute_result"
    }
   ],
   "source": [
    "flights.isnull().sum()"
   ]
  },
  {
   "cell_type": "code",
   "execution_count": 12,
   "id": "c0b30a01",
   "metadata": {},
   "outputs": [
    {
     "data": {
      "text/html": [
       "<div>\n",
       "<style scoped>\n",
       "    .dataframe tbody tr th:only-of-type {\n",
       "        vertical-align: middle;\n",
       "    }\n",
       "\n",
       "    .dataframe tbody tr th {\n",
       "        vertical-align: top;\n",
       "    }\n",
       "\n",
       "    .dataframe thead th {\n",
       "        text-align: right;\n",
       "    }\n",
       "</style>\n",
       "<table border=\"1\" class=\"dataframe\">\n",
       "  <thead>\n",
       "    <tr style=\"text-align: right;\">\n",
       "      <th></th>\n",
       "      <th>Year</th>\n",
       "      <th>Airport</th>\n",
       "      <th>FlightsA-Domestic</th>\n",
       "      <th>PaxA-Domestic</th>\n",
       "      <th>FlightsD-Domestic</th>\n",
       "      <th>PaxD-Domestic</th>\n",
       "      <th>FlightsA-international</th>\n",
       "      <th>PaxA-international</th>\n",
       "      <th>FlightsD-international</th>\n",
       "      <th>PaxD-international</th>\n",
       "      <th>Flights</th>\n",
       "      <th>Pax</th>\n",
       "    </tr>\n",
       "  </thead>\n",
       "  <tbody>\n",
       "    <tr>\n",
       "      <th>5</th>\n",
       "      <td>2010</td>\n",
       "      <td>DMM</td>\n",
       "      <td>10574.0</td>\n",
       "      <td>1111447.0</td>\n",
       "      <td>10611.0</td>\n",
       "      <td>1093376.0</td>\n",
       "      <td>12241.0</td>\n",
       "      <td>1204119.0</td>\n",
       "      <td>12155.0</td>\n",
       "      <td>1170321.0</td>\n",
       "      <td>45581.0</td>\n",
       "      <td>4579263.0</td>\n",
       "    </tr>\n",
       "    <tr>\n",
       "      <th>13</th>\n",
       "      <td>2010</td>\n",
       "      <td>JED</td>\n",
       "      <td>25242.0</td>\n",
       "      <td>3160789.0</td>\n",
       "      <td>24438.0</td>\n",
       "      <td>3081098.0</td>\n",
       "      <td>45083.0</td>\n",
       "      <td>5228093.0</td>\n",
       "      <td>45076.0</td>\n",
       "      <td>5705842.0</td>\n",
       "      <td>139839.0</td>\n",
       "      <td>17175822.0</td>\n",
       "    </tr>\n",
       "    <tr>\n",
       "      <th>14</th>\n",
       "      <td>2010</td>\n",
       "      <td>MED</td>\n",
       "      <td>8517.0</td>\n",
       "      <td>653114.0</td>\n",
       "      <td>9715.0</td>\n",
       "      <td>665746.0</td>\n",
       "      <td>7050.0</td>\n",
       "      <td>1044396.0</td>\n",
       "      <td>5767.0</td>\n",
       "      <td>530931.0</td>\n",
       "      <td>31049.0</td>\n",
       "      <td>2894187.0</td>\n",
       "    </tr>\n",
       "    <tr>\n",
       "      <th>17</th>\n",
       "      <td>2010</td>\n",
       "      <td>RUH</td>\n",
       "      <td>30512.0</td>\n",
       "      <td>3520112.0</td>\n",
       "      <td>30096.0</td>\n",
       "      <td>3364229.0</td>\n",
       "      <td>24985.0</td>\n",
       "      <td>3428107.0</td>\n",
       "      <td>24847.0</td>\n",
       "      <td>3241259.0</td>\n",
       "      <td>110440.0</td>\n",
       "      <td>13553707.0</td>\n",
       "    </tr>\n",
       "    <tr>\n",
       "      <th>30</th>\n",
       "      <td>2011</td>\n",
       "      <td>DMM</td>\n",
       "      <td>10976.0</td>\n",
       "      <td>1174453.0</td>\n",
       "      <td>10998.0</td>\n",
       "      <td>1164244.0</td>\n",
       "      <td>14510.0</td>\n",
       "      <td>1512760.0</td>\n",
       "      <td>14448.0</td>\n",
       "      <td>1456986.0</td>\n",
       "      <td>50932.0</td>\n",
       "      <td>5308443.0</td>\n",
       "    </tr>\n",
       "  </tbody>\n",
       "</table>\n",
       "</div>"
      ],
      "text/plain": [
       "    Year Airport  FlightsA-Domestic  PaxA-Domestic  FlightsD-Domestic  \\\n",
       "5   2010     DMM            10574.0      1111447.0            10611.0   \n",
       "13  2010     JED            25242.0      3160789.0            24438.0   \n",
       "14  2010     MED             8517.0       653114.0             9715.0   \n",
       "17  2010     RUH            30512.0      3520112.0            30096.0   \n",
       "30  2011     DMM            10976.0      1174453.0            10998.0   \n",
       "\n",
       "    PaxD-Domestic  FlightsA-international  PaxA-international  \\\n",
       "5       1093376.0                 12241.0           1204119.0   \n",
       "13      3081098.0                 45083.0           5228093.0   \n",
       "14       665746.0                  7050.0           1044396.0   \n",
       "17      3364229.0                 24985.0           3428107.0   \n",
       "30      1164244.0                 14510.0           1512760.0   \n",
       "\n",
       "    FlightsD-international  PaxD-international   Flights         Pax  \n",
       "5                  12155.0           1170321.0   45581.0   4579263.0  \n",
       "13                 45076.0           5705842.0  139839.0  17175822.0  \n",
       "14                  5767.0            530931.0   31049.0   2894187.0  \n",
       "17                 24847.0           3241259.0  110440.0  13553707.0  \n",
       "30                 14448.0           1456986.0   50932.0   5308443.0  "
      ]
     },
     "execution_count": 12,
     "metadata": {},
     "output_type": "execute_result"
    }
   ],
   "source": [
    "# after the cleaning part, again we take look at the dataset to make sure we can move forward\n",
    "flights.head()"
   ]
  },
  {
   "cell_type": "markdown",
   "id": "e9d3ab59",
   "metadata": {},
   "source": [
    "**Moreover**, before starting any analysis and visualization, it is important to check the values data type,<br>\n",
    "<code>info()</code> shows the data type of all columns, and from there we decide to convert types if needed."
   ]
  },
  {
   "cell_type": "code",
   "execution_count": 13,
   "id": "7f141116",
   "metadata": {},
   "outputs": [
    {
     "name": "stdout",
     "output_type": "stream",
     "text": [
      "<class 'pandas.core.frame.DataFrame'>\n",
      "Int64Index: 62 entries, 5 to 316\n",
      "Data columns (total 12 columns):\n",
      " #   Column                  Non-Null Count  Dtype  \n",
      "---  ------                  --------------  -----  \n",
      " 0   Year                    62 non-null     int64  \n",
      " 1   Airport                 62 non-null     object \n",
      " 2   FlightsA-Domestic       62 non-null     float64\n",
      " 3   PaxA-Domestic           62 non-null     float64\n",
      " 4   FlightsD-Domestic       62 non-null     float64\n",
      " 5   PaxD-Domestic           62 non-null     float64\n",
      " 6   FlightsA-international  62 non-null     float64\n",
      " 7   PaxA-international      62 non-null     float64\n",
      " 8   FlightsD-international  62 non-null     float64\n",
      " 9   PaxD-international      62 non-null     float64\n",
      " 10  Flights                 62 non-null     float64\n",
      " 11  Pax                     62 non-null     float64\n",
      "dtypes: float64(10), int64(1), object(1)\n",
      "memory usage: 6.3+ KB\n"
     ]
    }
   ],
   "source": [
    "flights.info()"
   ]
  },
  {
   "cell_type": "markdown",
   "id": "867f645a",
   "metadata": {},
   "source": [
    "**Now**, number of people (passengers) and flights can't be float numbers, so i will change the type of all the floats data type to integers, so i can use them clearly in the calculations <br>"
   ]
  },
  {
   "cell_type": "code",
   "execution_count": 14,
   "id": "edc55842",
   "metadata": {},
   "outputs": [],
   "source": [
    "flights[['FlightsA-Domestic','PaxA-Domestic','FlightsD-Domestic','PaxD-Domestic','FlightsA-international','PaxA-international','FlightsD-international','PaxD-international','Flights','Pax']]=flights[['FlightsA-Domestic','PaxA-Domestic','FlightsD-Domestic','PaxD-Domestic','FlightsA-international','PaxA-international','FlightsD-international','PaxD-international','Flights','Pax']].astype('int64')"
   ]
  },
  {
   "cell_type": "markdown",
   "id": "849501ad",
   "metadata": {},
   "source": [
    "**After** cleaning the data, now it is ready to the understanding stage, knwoing numbers and statistics of the data,<br> ploting the feature to have more insights.<br> Also, i have some questions to ask, how many airports the dataset have? for what period?, maximum number of passengers, flights, and so on.."
   ]
  },
  {
   "cell_type": "code",
   "execution_count": 15,
   "id": "01653637",
   "metadata": {},
   "outputs": [
    {
     "name": "stdout",
     "output_type": "stream",
     "text": [
      "Dataset have 6 airports\n"
     ]
    }
   ],
   "source": [
    "total_airports=flights.Airport.unique()\n",
    "print('Dataset have', len(total_airports),'airports')"
   ]
  },
  {
   "cell_type": "markdown",
   "id": "a4104d19",
   "metadata": {},
   "source": [
    "**In** Saudi Arabia we have 28 airports, and four of them are international airports, according to the [General Authority of Civil Aviation](https://gaca.gov.sa/scs/Satellite?c=Page&cid=1440406464565&locale=en_GB&pagename=GACA%2FPage%2FGACA_Airports_PT), and they are: \n",
    "<ol>\n",
    "<li>King Khalid International Airport, Riyadh city.</li>\n",
    "<li>King Abdulaziz International Airport, Jeddah city.</li>\n",
    "<li>King Fahad International Airport, Dammam city.</li>\n",
    "<li>Prince Mohammad Bin Abdulaziz International Airport, Madinah city.</li>\n",
    "</ol>\n",
    "\n",
    "This project will include only these international airports, AlUal airport, Neom airport. The reason is my assumption of air passengers growth, within the cities of where every airport is located."
   ]
  },
  {
   "cell_type": "markdown",
   "id": "4b78e82a",
   "metadata": {},
   "source": [
    "**Moreover**, saying i want to measure the grwoth through the years, it is important to know the starting and ending of this period, how many years the dataset have. "
   ]
  },
  {
   "cell_type": "code",
   "execution_count": 16,
   "id": "a5a28c89",
   "metadata": {
    "scrolled": false
   },
   "outputs": [
    {
     "name": "stdout",
     "output_type": "stream",
     "text": [
      "Dataset contains data between the years 2010 and 2021 "
     ]
    }
   ],
   "source": [
    "years=flights.Year.unique()\n",
    "years\n",
    "print('Dataset contains data between the years', years[0],'and',years[-1],end=\" \")"
   ]
  },
  {
   "cell_type": "markdown",
   "id": "9dce4e30",
   "metadata": {},
   "source": [
    "**Calculation of statistical summary**: <code>describe()</code> function gives the mean, std and IQR values.<br>\n",
    "And here i want to have a full summary statiscis of every columns of the dataset, in order to get a pretty good sense of what i'm up against."
   ]
  },
  {
   "cell_type": "code",
   "execution_count": 17,
   "id": "dd318455",
   "metadata": {
    "scrolled": true
   },
   "outputs": [
    {
     "data": {
      "text/html": [
       "<div>\n",
       "<style scoped>\n",
       "    .dataframe tbody tr th:only-of-type {\n",
       "        vertical-align: middle;\n",
       "    }\n",
       "\n",
       "    .dataframe tbody tr th {\n",
       "        vertical-align: top;\n",
       "    }\n",
       "\n",
       "    .dataframe thead th {\n",
       "        text-align: right;\n",
       "    }\n",
       "</style>\n",
       "<table border=\"1\" class=\"dataframe\">\n",
       "  <thead>\n",
       "    <tr style=\"text-align: right;\">\n",
       "      <th></th>\n",
       "      <th>count</th>\n",
       "      <th>mean</th>\n",
       "      <th>std</th>\n",
       "      <th>min</th>\n",
       "      <th>25%</th>\n",
       "      <th>50%</th>\n",
       "      <th>75%</th>\n",
       "      <th>max</th>\n",
       "    </tr>\n",
       "  </thead>\n",
       "  <tbody>\n",
       "    <tr>\n",
       "      <th>Year</th>\n",
       "      <td>62.0</td>\n",
       "      <td>2.015806e+03</td>\n",
       "      <td>3.486925e+00</td>\n",
       "      <td>2010.0</td>\n",
       "      <td>2013.00</td>\n",
       "      <td>2016.0</td>\n",
       "      <td>2019.00</td>\n",
       "      <td>2021.0</td>\n",
       "    </tr>\n",
       "    <tr>\n",
       "      <th>FlightsA-Domestic</th>\n",
       "      <td>62.0</td>\n",
       "      <td>2.125423e+04</td>\n",
       "      <td>1.833464e+04</td>\n",
       "      <td>0.0</td>\n",
       "      <td>7356.00</td>\n",
       "      <td>15801.0</td>\n",
       "      <td>33802.50</td>\n",
       "      <td>62533.0</td>\n",
       "    </tr>\n",
       "    <tr>\n",
       "      <th>PaxA-Domestic</th>\n",
       "      <td>62.0</td>\n",
       "      <td>2.530771e+06</td>\n",
       "      <td>2.398330e+06</td>\n",
       "      <td>0.0</td>\n",
       "      <td>593546.00</td>\n",
       "      <td>1632966.5</td>\n",
       "      <td>4091230.25</td>\n",
       "      <td>8453790.0</td>\n",
       "    </tr>\n",
       "    <tr>\n",
       "      <th>FlightsD-Domestic</th>\n",
       "      <td>62.0</td>\n",
       "      <td>2.129726e+04</td>\n",
       "      <td>1.795219e+04</td>\n",
       "      <td>0.0</td>\n",
       "      <td>7753.75</td>\n",
       "      <td>15919.5</td>\n",
       "      <td>32827.25</td>\n",
       "      <td>62031.0</td>\n",
       "    </tr>\n",
       "    <tr>\n",
       "      <th>PaxD-Domestic</th>\n",
       "      <td>62.0</td>\n",
       "      <td>2.510152e+06</td>\n",
       "      <td>2.347366e+06</td>\n",
       "      <td>0.0</td>\n",
       "      <td>610933.00</td>\n",
       "      <td>1619753.5</td>\n",
       "      <td>4044053.25</td>\n",
       "      <td>8217263.0</td>\n",
       "    </tr>\n",
       "    <tr>\n",
       "      <th>FlightsA-international</th>\n",
       "      <td>62.0</td>\n",
       "      <td>2.184610e+04</td>\n",
       "      <td>2.038095e+04</td>\n",
       "      <td>0.0</td>\n",
       "      <td>4830.75</td>\n",
       "      <td>18527.5</td>\n",
       "      <td>32410.50</td>\n",
       "      <td>69516.0</td>\n",
       "    </tr>\n",
       "    <tr>\n",
       "      <th>PaxA-international</th>\n",
       "      <td>62.0</td>\n",
       "      <td>2.954981e+06</td>\n",
       "      <td>2.957519e+06</td>\n",
       "      <td>0.0</td>\n",
       "      <td>686660.50</td>\n",
       "      <td>2351921.0</td>\n",
       "      <td>4823937.50</td>\n",
       "      <td>11237016.0</td>\n",
       "    </tr>\n",
       "    <tr>\n",
       "      <th>FlightsD-international</th>\n",
       "      <td>62.0</td>\n",
       "      <td>2.171127e+04</td>\n",
       "      <td>2.080819e+04</td>\n",
       "      <td>0.0</td>\n",
       "      <td>4232.50</td>\n",
       "      <td>17278.0</td>\n",
       "      <td>32272.50</td>\n",
       "      <td>71137.0</td>\n",
       "    </tr>\n",
       "    <tr>\n",
       "      <th>PaxD-international</th>\n",
       "      <td>62.0</td>\n",
       "      <td>3.070131e+06</td>\n",
       "      <td>3.297834e+06</td>\n",
       "      <td>0.0</td>\n",
       "      <td>542294.75</td>\n",
       "      <td>2290121.0</td>\n",
       "      <td>4820475.50</td>\n",
       "      <td>12311381.0</td>\n",
       "    </tr>\n",
       "    <tr>\n",
       "      <th>Flights</th>\n",
       "      <td>62.0</td>\n",
       "      <td>8.610885e+04</td>\n",
       "      <td>7.438239e+04</td>\n",
       "      <td>38.0</td>\n",
       "      <td>21599.75</td>\n",
       "      <td>60813.5</td>\n",
       "      <td>139890.75</td>\n",
       "      <td>241940.0</td>\n",
       "    </tr>\n",
       "    <tr>\n",
       "      <th>Pax</th>\n",
       "      <td>62.0</td>\n",
       "      <td>1.106603e+07</td>\n",
       "      <td>1.058931e+07</td>\n",
       "      <td>1027.0</td>\n",
       "      <td>2409475.50</td>\n",
       "      <td>8093454.5</td>\n",
       "      <td>18018993.75</td>\n",
       "      <td>37540861.0</td>\n",
       "    </tr>\n",
       "  </tbody>\n",
       "</table>\n",
       "</div>"
      ],
      "text/plain": [
       "                        count          mean           std     min         25%  \\\n",
       "Year                     62.0  2.015806e+03  3.486925e+00  2010.0     2013.00   \n",
       "FlightsA-Domestic        62.0  2.125423e+04  1.833464e+04     0.0     7356.00   \n",
       "PaxA-Domestic            62.0  2.530771e+06  2.398330e+06     0.0   593546.00   \n",
       "FlightsD-Domestic        62.0  2.129726e+04  1.795219e+04     0.0     7753.75   \n",
       "PaxD-Domestic            62.0  2.510152e+06  2.347366e+06     0.0   610933.00   \n",
       "FlightsA-international   62.0  2.184610e+04  2.038095e+04     0.0     4830.75   \n",
       "PaxA-international       62.0  2.954981e+06  2.957519e+06     0.0   686660.50   \n",
       "FlightsD-international   62.0  2.171127e+04  2.080819e+04     0.0     4232.50   \n",
       "PaxD-international       62.0  3.070131e+06  3.297834e+06     0.0   542294.75   \n",
       "Flights                  62.0  8.610885e+04  7.438239e+04    38.0    21599.75   \n",
       "Pax                      62.0  1.106603e+07  1.058931e+07  1027.0  2409475.50   \n",
       "\n",
       "                              50%          75%         max  \n",
       "Year                       2016.0      2019.00      2021.0  \n",
       "FlightsA-Domestic         15801.0     33802.50     62533.0  \n",
       "PaxA-Domestic           1632966.5   4091230.25   8453790.0  \n",
       "FlightsD-Domestic         15919.5     32827.25     62031.0  \n",
       "PaxD-Domestic           1619753.5   4044053.25   8217263.0  \n",
       "FlightsA-international    18527.5     32410.50     69516.0  \n",
       "PaxA-international      2351921.0   4823937.50  11237016.0  \n",
       "FlightsD-international    17278.0     32272.50     71137.0  \n",
       "PaxD-international      2290121.0   4820475.50  12311381.0  \n",
       "Flights                   60813.5    139890.75    241940.0  \n",
       "Pax                     8093454.5  18018993.75  37540861.0  "
      ]
     },
     "execution_count": 17,
     "metadata": {},
     "output_type": "execute_result"
    }
   ],
   "source": [
    "# .T > it shows the output as Table, of the operations as columns\n",
    "flights.describe().T"
   ]
  },
  {
   "cell_type": "markdown",
   "id": "77dcaa5a",
   "metadata": {},
   "source": [
    "**Result** of describe function reflects that our data have a huge numbers, and later on i will dive deep into more calculations. Count shows how many observations in the data, and for the other operations, the average, maximum and minimum numbers that applied in each column like: ( Domestic flights, International flights, Passengers, ... )"
   ]
  },
  {
   "cell_type": "code",
   "execution_count": 18,
   "id": "068fc714",
   "metadata": {},
   "outputs": [
    {
     "data": {
      "image/png": "[encoded data removed]",
      "text/plain": [
       "<Figure size 720x576 with 1 Axes>"
      ]
     },
     "metadata": {},
     "output_type": "display_data"
    }
   ],
   "source": [
    "import seaborn as sns\n",
    "\n",
    "\n",
    "sns.set(rc={'figure.figsize':(10,8)})\n",
    "ax = sns.lineplot(x='Year', y='Flights', data = flights,ci=None)\n",
    "ax.set_title('Flights At SA Airports (2010 - 2021)',fontsize=20)\n",
    "plt.show()"
   ]
  },
  {
   "cell_type": "markdown",
   "id": "faa8b82e",
   "metadata": {},
   "source": [
    "**It is clear**, graph shows continuous increasing of flights, regarding the dramatic drop after 2019,<br>\n",
    "We all know the reason for that, Covid19. This may effect some ivistigatione "
   ]
  },
  {
   "cell_type": "code",
   "execution_count": 19,
   "id": "f160ddf0",
   "metadata": {},
   "outputs": [
    {
     "data": {
      "text/plain": [
       "Airport\n",
       "NUM        16700\n",
       "ULH       321269\n",
       "MED     58583438\n",
       "DMM     91301734\n",
       "RUH    241070940\n",
       "JED    294800030\n",
       "Name: Pax, dtype: int64"
      ]
     },
     "execution_count": 19,
     "metadata": {},
     "output_type": "execute_result"
    }
   ],
   "source": [
    "flights.groupby('Airport').Pax.sum().sort_values()"
   ]
  },
  {
   "cell_type": "markdown",
   "id": "52e2581a",
   "metadata": {},
   "source": [
    "**Year of 2019**, had the maximum number of passengers with total of 103358070, any trends?"
   ]
  },
  {
   "cell_type": "markdown",
   "id": "c184a76a",
   "metadata": {},
   "source": [
    "The flights data showed huge numbers, and for clean analysis i will split the data by aiprots, starting from domestic airports towards international aiports. That's provide clear calculations. "
   ]
  },
  {
   "cell_type": "code",
   "execution_count": 20,
   "id": "9c3b50d7",
   "metadata": {},
   "outputs": [
    {
     "data": {
      "text/plain": [
       "Year  Airport\n",
       "2010  DMM         4579263\n",
       "      JED        17175822\n",
       "      MED         2894187\n",
       "      RUH        13553707\n",
       "2011  DMM         5308443\n",
       "                   ...   \n",
       "2021  JED        13005716\n",
       "      MED         1627388\n",
       "      NUM            6328\n",
       "      RUH        15428589\n",
       "      ULH           74124\n",
       "Name: Pax, Length: 62, dtype: int64"
      ]
     },
     "execution_count": 20,
     "metadata": {},
     "output_type": "execute_result"
    }
   ],
   "source": [
    "flights.groupby(['Year','Airport']).Pax.sum()"
   ]
  },
  {
   "cell_type": "code",
   "execution_count": 21,
   "id": "eeb1d914",
   "metadata": {
    "scrolled": false
   },
   "outputs": [
    {
     "data": {
      "application/vnd.plotly.v1+json": {
       "config": {
        "plotlyServerURL": "https://plot.ly"
       },
       "data": [
        {
         "lat": [
          24.65,
          21.5428,
          26.4333,
          18.2167,
          24.4667,
          16.8892,
          28.3838,
          26.3333,
          21.2667,
          17.4917,
          27.5236,
          30,
          18.531319,
          20.0129,
          30.9833,
          24.0943,
          28.446959,
          31.33176,
          17.4833314,
          25.42433164,
          26.6166642,
          20.559454,
          29.63649745,
          31.67316397,
          26.24551,
          24.48983137,
          28.212942,
          22.7999968
         ],
         "lon": [
          46.71,
          39.1728,
          50.1,
          42.5,
          39.6,
          42.5611,
          36.555,
          43.9667,
          40.4167,
          44.1322,
          41.7001,
          40.1333,
          42.915787,
          41.4677,
          41.0167,
          38.0493,
          45.948944,
          37.34282,
          47.1166662,
          49.61983085,
          37.916663,
          44.865658,
          43.50083133,
          38.65183073,
          36.45249,
          44.3833318,
          34.735456,
          39.0333332
         ],
         "marker": {
          "color": "tomato"
         },
         "mode": "markers",
         "text": [
          "RUH Riyadh, Travelrs: 241,070,940",
          "JED Jeddah, Travelrs: 294,800,030",
          "DMM Dammam, Travelrs: 91,301,734",
          "AHB Abha, Travelrs: 33,637,239",
          "MED Medina, Travelrs: 58,583,438",
          "GIZ Jazan, Travelrs: 19,771,264",
          "TUU Tabuk, Travelrs: 13,750,967",
          "ELQ Al Qassim, Travelrs: 12,717,384",
          "TIF Taif, Travelrs: 10,103,312",
          "EAM Najran, Travelrs: 3,862,982",
          "HAS Hail, Travelrs: 8,136,169",
          "AJF Skaka, Travelrs: 4,992,126",
          "BHH Bisha, Travelrs: 4,231,044",
          "ABT Al Bahah, Travelrs: 4,134,114",
          "RAE Arar, Travelrs: 2,810,920",
          "YNB Yanbu, Travelrs: 7,129,758",
          "AQI Hafar Al Batin, Travelrs: 1,981,578",
          "URY Al Qurayyat, Travelrs: 2,170,549",
          "SHW Sharurah, Travelrs: 1,992,973",
          "HOF Al Ahsa, Travelrs: 1,491,601",
          "ULH Al Ula, Travelrs: 321,269",
          "WAE Wadi al-Dawasir, Travelrs: 1,238,100",
          "RAH Rafha, Travelrs: 730,756",
          "TUI Turaif, Travelrs: 767,966",
          "EJH Al Wajh, Travelrs: 545,044",
          "DWD Dawadmi, Travelrs: 258,947",
          "NUM Neom, Travelrs: 16,700",
          "RGB Rabigh, Travelrs: 487"
         ],
         "type": "scattergeo"
        }
       ],
       "layout": {
        "geo": {
         "fitbounds": "locations",
         "scope": "asia"
        },
        "template": {
         "data": {
          "bar": [
           {
            "error_x": {
             "color": "#2a3f5f"
            },
            "error_y": {
             "color": "#2a3f5f"
            },
            "marker": {
             "line": {
              "color": "#E5ECF6",
              "width": 0.5
             },
             "pattern": {
              "fillmode": "overlay",
              "size": 10,
              "solidity": 0.2
             }
            },
            "type": "bar"
           }
          ],
          "barpolar": [
           {
            "marker": {
             "line": {
              "color": "#E5ECF6",
              "width": 0.5
             },
             "pattern": {
              "fillmode": "overlay",
              "size": 10,
              "solidity": 0.2
             }
            },
            "type": "barpolar"
           }
          ],
          "carpet": [
           {
            "aaxis": {
             "endlinecolor": "#2a3f5f",
             "gridcolor": "white",
             "linecolor": "white",
             "minorgridcolor": "white",
             "startlinecolor": "#2a3f5f"
            },
            "baxis": {
             "endlinecolor": "#2a3f5f",
             "gridcolor": "white",
             "linecolor": "white",
             "minorgridcolor": "white",
             "startlinecolor": "#2a3f5f"
            },
            "type": "carpet"
           }
          ],
          "choropleth": [
           {
            "colorbar": {
             "outlinewidth": 0,
             "ticks": ""
            },
            "type": "choropleth"
           }
          ],
          "contour": [
           {
            "colorbar": {
             "outlinewidth": 0,
             "ticks": ""
            },
            "colorscale": [
             [
              0,
              "#0d0887"
             ],
             [
              0.1111111111111111,
              "#46039f"
             ],
             [
              0.2222222222222222,
              "#7201a8"
             ],
             [
              0.3333333333333333,
              "#9c179e"
             ],
             [
              0.4444444444444444,
              "#bd3786"
             ],
             [
              0.5555555555555556,
              "#d8576b"
             ],
             [
              0.6666666666666666,
              "#ed7953"
             ],
             [
              0.7777777777777778,
              "#fb9f3a"
             ],
             [
              0.8888888888888888,
              "#fdca26"
             ],
             [
              1,
              "#f0f921"
             ]
            ],
            "type": "contour"
           }
          ],
          "contourcarpet": [
           {
            "colorbar": {
             "outlinewidth": 0,
             "ticks": ""
            },
            "type": "contourcarpet"
           }
          ],
          "heatmap": [
           {
            "colorbar": {
             "outlinewidth": 0,
             "ticks": ""
            },
            "colorscale": [
             [
              0,
              "#0d0887"
             ],
             [
              0.1111111111111111,
              "#46039f"
             ],
             [
              0.2222222222222222,
              "#7201a8"
             ],
             [
              0.3333333333333333,
              "#9c179e"
             ],
             [
              0.4444444444444444,
              "#bd3786"
             ],
             [
              0.5555555555555556,
              "#d8576b"
             ],
             [
              0.6666666666666666,
              "#ed7953"
             ],
             [
              0.7777777777777778,
              "#fb9f3a"
             ],
             [
              0.8888888888888888,
              "#fdca26"
             ],
             [
              1,
              "#f0f921"
             ]
            ],
            "type": "heatmap"
           }
          ],
          "heatmapgl": [
           {
            "colorbar": {
             "outlinewidth": 0,
             "ticks": ""
            },
            "colorscale": [
             [
              0,
              "#0d0887"
             ],
             [
              0.1111111111111111,
              "#46039f"
             ],
             [
              0.2222222222222222,
              "#7201a8"
             ],
             [
              0.3333333333333333,
              "#9c179e"
             ],
             [
              0.4444444444444444,
              "#bd3786"
             ],
             [
              0.5555555555555556,
              "#d8576b"
             ],
             [
              0.6666666666666666,
              "#ed7953"
             ],
             [
              0.7777777777777778,
              "#fb9f3a"
             ],
             [
              0.8888888888888888,
              "#fdca26"
             ],
             [
              1,
              "#f0f921"
             ]
            ],
            "type": "heatmapgl"
           }
          ],
          "histogram": [
           {
            "marker": {
             "pattern": {
              "fillmode": "overlay",
              "size": 10,
              "solidity": 0.2
             }
            },
            "type": "histogram"
           }
          ],
          "histogram2d": [
           {
            "colorbar": {
             "outlinewidth": 0,
             "ticks": ""
            },
            "colorscale": [
             [
              0,
              "#0d0887"
             ],
             [
              0.1111111111111111,
              "#46039f"
             ],
             [
              0.2222222222222222,
              "#7201a8"
             ],
             [
              0.3333333333333333,
              "#9c179e"
             ],
             [
              0.4444444444444444,
              "#bd3786"
             ],
             [
              0.5555555555555556,
              "#d8576b"
             ],
             [
              0.6666666666666666,
              "#ed7953"
             ],
             [
              0.7777777777777778,
              "#fb9f3a"
             ],
             [
              0.8888888888888888,
              "#fdca26"
             ],
             [
              1,
              "#f0f921"
             ]
            ],
            "type": "histogram2d"
           }
          ],
          "histogram2dcontour": [
           {
            "colorbar": {
             "outlinewidth": 0,
             "ticks": ""
            },
            "colorscale": [
             [
              0,
              "#0d0887"
             ],
             [
              0.1111111111111111,
              "#46039f"
             ],
             [
              0.2222222222222222,
              "#7201a8"
             ],
             [
              0.3333333333333333,
              "#9c179e"
             ],
             [
              0.4444444444444444,
              "#bd3786"
             ],
             [
              0.5555555555555556,
              "#d8576b"
             ],
             [
              0.6666666666666666,
              "#ed7953"
             ],
             [
              0.7777777777777778,
              "#fb9f3a"
             ],
             [
              0.8888888888888888,
              "#fdca26"
             ],
             [
              1,
              "#f0f921"
             ]
            ],
            "type": "histogram2dcontour"
           }
          ],
          "mesh3d": [
           {
            "colorbar": {
             "outlinewidth": 0,
             "ticks": ""
            },
            "type": "mesh3d"
           }
          ],
          "parcoords": [
           {
            "line": {
             "colorbar": {
              "outlinewidth": 0,
              "ticks": ""
             }
            },
            "type": "parcoords"
           }
          ],
          "pie": [
           {
            "automargin": true,
            "type": "pie"
           }
          ],
          "scatter": [
           {
            "marker": {
             "colorbar": {
              "outlinewidth": 0,
              "ticks": ""
             }
            },
            "type": "scatter"
           }
          ],
          "scatter3d": [
           {
            "line": {
             "colorbar": {
              "outlinewidth": 0,
              "ticks": ""
             }
            },
            "marker": {
             "colorbar": {
              "outlinewidth": 0,
              "ticks": ""
             }
            },
            "type": "scatter3d"
           }
          ],
          "scattercarpet": [
           {
            "marker": {
             "colorbar": {
              "outlinewidth": 0,
              "ticks": ""
             }
            },
            "type": "scattercarpet"
           }
          ],
          "scattergeo": [
           {
            "marker": {
             "colorbar": {
              "outlinewidth": 0,
              "ticks": ""
             }
            },
            "type": "scattergeo"
           }
          ],
          "scattergl": [
           {
            "marker": {
             "colorbar": {
              "outlinewidth": 0,
              "ticks": ""
             }
            },
            "type": "scattergl"
           }
          ],
          "scattermapbox": [
           {
            "marker": {
             "colorbar": {
              "outlinewidth": 0,
              "ticks": ""
             }
            },
            "type": "scattermapbox"
           }
          ],
          "scatterpolar": [
           {
            "marker": {
             "colorbar": {
              "outlinewidth": 0,
              "ticks": ""
             }
            },
            "type": "scatterpolar"
           }
          ],
          "scatterpolargl": [
           {
            "marker": {
             "colorbar": {
              "outlinewidth": 0,
              "ticks": ""
             }
            },
            "type": "scatterpolargl"
           }
          ],
          "scatterternary": [
           {
            "marker": {
             "colorbar": {
              "outlinewidth": 0,
              "ticks": ""
             }
            },
            "type": "scatterternary"
           }
          ],
          "surface": [
           {
            "colorbar": {
             "outlinewidth": 0,
             "ticks": ""
            },
            "colorscale": [
             [
              0,
              "#0d0887"
             ],
             [
              0.1111111111111111,
              "#46039f"
             ],
             [
              0.2222222222222222,
              "#7201a8"
             ],
             [
              0.3333333333333333,
              "#9c179e"
             ],
             [
              0.4444444444444444,
              "#bd3786"
             ],
             [
              0.5555555555555556,
              "#d8576b"
             ],
             [
              0.6666666666666666,
              "#ed7953"
             ],
             [
              0.7777777777777778,
              "#fb9f3a"
             ],
             [
              0.8888888888888888,
              "#fdca26"
             ],
             [
              1,
              "#f0f921"
             ]
            ],
            "type": "surface"
           }
          ],
          "table": [
           {
            "cells": {
             "fill": {
              "color": "#EBF0F8"
             },
             "line": {
              "color": "white"
             }
            },
            "header": {
             "fill": {
              "color": "#C8D4E3"
             },
             "line": {
              "color": "white"
             }
            },
            "type": "table"
           }
          ]
         },
         "layout": {
          "annotationdefaults": {
           "arrowcolor": "#2a3f5f",
           "arrowhead": 0,
           "arrowwidth": 1
          },
          "autotypenumbers": "strict",
          "coloraxis": {
           "colorbar": {
            "outlinewidth": 0,
            "ticks": ""
           }
          },
          "colorscale": {
           "diverging": [
            [
             0,
             "#8e0152"
            ],
            [
             0.1,
             "#c51b7d"
            ],
            [
             0.2,
             "#de77ae"
            ],
            [
             0.3,
             "#f1b6da"
            ],
            [
             0.4,
             "#fde0ef"
            ],
            [
             0.5,
             "#f7f7f7"
            ],
            [
             0.6,
             "#e6f5d0"
            ],
            [
             0.7,
             "#b8e186"
            ],
            [
             0.8,
             "#7fbc41"
            ],
            [
             0.9,
             "#4d9221"
            ],
            [
             1,
             "#276419"
            ]
           ],
           "sequential": [
            [
             0,
             "#0d0887"
            ],
            [
             0.1111111111111111,
             "#46039f"
            ],
            [
             0.2222222222222222,
             "#7201a8"
            ],
            [
             0.3333333333333333,
             "#9c179e"
            ],
            [
             0.4444444444444444,
             "#bd3786"
            ],
            [
             0.5555555555555556,
             "#d8576b"
            ],
            [
             0.6666666666666666,
             "#ed7953"
            ],
            [
             0.7777777777777778,
             "#fb9f3a"
            ],
            [
             0.8888888888888888,
             "#fdca26"
            ],
            [
             1,
             "#f0f921"
            ]
           ],
           "sequentialminus": [
            [
             0,
             "#0d0887"
            ],
            [
             0.1111111111111111,
             "#46039f"
            ],
            [
             0.2222222222222222,
             "#7201a8"
            ],
            [
             0.3333333333333333,
             "#9c179e"
            ],
            [
             0.4444444444444444,
             "#bd3786"
            ],
            [
             0.5555555555555556,
             "#d8576b"
            ],
            [
             0.6666666666666666,
             "#ed7953"
            ],
            [
             0.7777777777777778,
             "#fb9f3a"
            ],
            [
             0.8888888888888888,
             "#fdca26"
            ],
            [
             1,
             "#f0f921"
            ]
           ]
          },
          "colorway": [
           "#636efa",
           "#EF553B",
           "#00cc96",
           "#ab63fa",
           "#FFA15A",
           "#19d3f3",
           "#FF6692",
           "#B6E880",
           "#FF97FF",
           "#FECB52"
          ],
          "font": {
           "color": "#2a3f5f"
          },
          "geo": {
           "bgcolor": "white",
           "lakecolor": "white",
           "landcolor": "#E5ECF6",
           "showlakes": true,
           "showland": true,
           "subunitcolor": "white"
          },
          "hoverlabel": {
           "align": "left"
          },
          "hovermode": "closest",
          "mapbox": {
           "style": "light"
          },
          "paper_bgcolor": "white",
          "plot_bgcolor": "#E5ECF6",
          "polar": {
           "angularaxis": {
            "gridcolor": "white",
            "linecolor": "white",
            "ticks": ""
           },
           "bgcolor": "#E5ECF6",
           "radialaxis": {
            "gridcolor": "white",
            "linecolor": "white",
            "ticks": ""
           }
          },
          "scene": {
           "xaxis": {
            "backgroundcolor": "#E5ECF6",
            "gridcolor": "white",
            "gridwidth": 2,
            "linecolor": "white",
            "showbackground": true,
            "ticks": "",
            "zerolinecolor": "white"
           },
           "yaxis": {
            "backgroundcolor": "#E5ECF6",
            "gridcolor": "white",
            "gridwidth": 2,
            "linecolor": "white",
            "showbackground": true,
            "ticks": "",
            "zerolinecolor": "white"
           },
           "zaxis": {
            "backgroundcolor": "#E5ECF6",
            "gridcolor": "white",
            "gridwidth": 2,
            "linecolor": "white",
            "showbackground": true,
            "ticks": "",
            "zerolinecolor": "white"
           }
          },
          "shapedefaults": {
           "line": {
            "color": "#2a3f5f"
           }
          },
          "ternary": {
           "aaxis": {
            "gridcolor": "white",
            "linecolor": "white",
            "ticks": ""
           },
           "baxis": {
            "gridcolor": "white",
            "linecolor": "white",
            "ticks": ""
           },
           "bgcolor": "#E5ECF6",
           "caxis": {
            "gridcolor": "white",
            "linecolor": "white",
            "ticks": ""
           }
          },
          "title": {
           "x": 0.05
          },
          "xaxis": {
           "automargin": true,
           "gridcolor": "white",
           "linecolor": "white",
           "ticks": "",
           "title": {
            "standoff": 15
           },
           "zerolinecolor": "white",
           "zerolinewidth": 2
          },
          "yaxis": {
           "automargin": true,
           "gridcolor": "white",
           "linecolor": "white",
           "ticks": "",
           "title": {
            "standoff": 15
           },
           "zerolinecolor": "white",
           "zerolinewidth": 2
          }
         }
        },
        "title": {
         "text": "Saudi Arabia Total Air Passengers From 2010-2021  <br>(Hover for airport name and city)"
        }
       }
      }
     },
     "metadata": {},
     "output_type": "display_data"
    }
   ],
   "source": [
    "import plotly.graph_objects as go\n",
    "\n",
    "import pandas as pd\n",
    "\n",
    "df =pd.read_csv(\"long_lat_ong_lat_Sheet1.csv\")\n",
    "df['text'] = df['airport'] + ' ' + df['city'] + ', ' + '' + 'Travelrs: ' + df['serve'].astype(str)\n",
    "\n",
    "fig = go.Figure(data=go.Scattergeo(\n",
    "        lon = df['long'],\n",
    "        lat = df['la'],\n",
    "        text = df['text'],\n",
    "        mode = 'markers',\n",
    "        marker_color = 'tomato',\n",
    "        #geo='geo3',\n",
    "        ))\n",
    "fig.update_geos(fitbounds=\"locations\")\n",
    "fig.update_layout(\n",
    "        title = 'Saudi Arabia Total Air Passengers From 2010-2021  <br>(Hover for airport name and city)',\n",
    "        geo_scope='asia',\n",
    "    )\n",
    "fig.show()"
   ]
  },
  {
   "cell_type": "markdown",
   "id": "31530236",
   "metadata": {},
   "source": [
    "## 2. International Airports: Air Passengers Growing Precentages 2010 - 2021"
   ]
  },
  {
   "cell_type": "markdown",
   "id": "88b12d38",
   "metadata": {},
   "source": [
    "### 2.1. King Khalid International Airport - RUH"
   ]
  },
  {
   "cell_type": "markdown",
   "id": "7ff0e356",
   "metadata": {},
   "source": [
    "King Khalid International Airport (IATA: RUH) is located in the capital city of Saudi Arabia, Riyadh. The largest city in the Kingdom, As the country’s capital, Riyadh hosts numerous government ministries and public services headquarters, making the public sector the city’s largest employer. <br> \n",
    "Vision 2030 have a major plans for Riyadh city, as it started 2016, Riyadh will be be one of the largest city economies in the world. This will changes numbers in every sector especially (Air passengers numbers). <br>"
   ]
  },
  {
   "cell_type": "markdown",
   "id": "f84ab64b",
   "metadata": {},
   "source": [
    "**Read data** from the dataset that only have RUH rows related to King Khalid airport: "
   ]
  },
  {
   "cell_type": "code",
   "execution_count": 22,
   "id": "13fa1f14",
   "metadata": {
    "scrolled": true
   },
   "outputs": [
    {
     "data": {
      "text/html": [
       "<div>\n",
       "<style scoped>\n",
       "    .dataframe tbody tr th:only-of-type {\n",
       "        vertical-align: middle;\n",
       "    }\n",
       "\n",
       "    .dataframe tbody tr th {\n",
       "        vertical-align: top;\n",
       "    }\n",
       "\n",
       "    .dataframe thead th {\n",
       "        text-align: right;\n",
       "    }\n",
       "</style>\n",
       "<table border=\"1\" class=\"dataframe\">\n",
       "  <thead>\n",
       "    <tr style=\"text-align: right;\">\n",
       "      <th></th>\n",
       "      <th>index</th>\n",
       "      <th>Year</th>\n",
       "      <th>Airport</th>\n",
       "      <th>FlightsA-Domestic</th>\n",
       "      <th>PaxA-Domestic</th>\n",
       "      <th>FlightsD-Domestic</th>\n",
       "      <th>PaxD-Domestic</th>\n",
       "      <th>FlightsA-international</th>\n",
       "      <th>PaxA-international</th>\n",
       "      <th>FlightsD-international</th>\n",
       "      <th>PaxD-international</th>\n",
       "      <th>Flights</th>\n",
       "      <th>Pax</th>\n",
       "    </tr>\n",
       "  </thead>\n",
       "  <tbody>\n",
       "    <tr>\n",
       "      <th>0</th>\n",
       "      <td>17</td>\n",
       "      <td>2010</td>\n",
       "      <td>RUH</td>\n",
       "      <td>30512</td>\n",
       "      <td>3520112</td>\n",
       "      <td>30096</td>\n",
       "      <td>3364229</td>\n",
       "      <td>24985</td>\n",
       "      <td>3428107</td>\n",
       "      <td>24847</td>\n",
       "      <td>3241259</td>\n",
       "      <td>110440</td>\n",
       "      <td>13553707</td>\n",
       "    </tr>\n",
       "    <tr>\n",
       "      <th>1</th>\n",
       "      <td>42</td>\n",
       "      <td>2011</td>\n",
       "      <td>RUH</td>\n",
       "      <td>30896</td>\n",
       "      <td>3807331</td>\n",
       "      <td>30489</td>\n",
       "      <td>3646701</td>\n",
       "      <td>27757</td>\n",
       "      <td>3787567</td>\n",
       "      <td>27521</td>\n",
       "      <td>3659775</td>\n",
       "      <td>116663</td>\n",
       "      <td>14901374</td>\n",
       "    </tr>\n",
       "    <tr>\n",
       "      <th>2</th>\n",
       "      <td>68</td>\n",
       "      <td>2012</td>\n",
       "      <td>RUH</td>\n",
       "      <td>37021</td>\n",
       "      <td>4558949</td>\n",
       "      <td>36428</td>\n",
       "      <td>4391651</td>\n",
       "      <td>30795</td>\n",
       "      <td>3926242</td>\n",
       "      <td>30698</td>\n",
       "      <td>4148670</td>\n",
       "      <td>134942</td>\n",
       "      <td>17025512</td>\n",
       "    </tr>\n",
       "    <tr>\n",
       "      <th>3</th>\n",
       "      <td>94</td>\n",
       "      <td>2013</td>\n",
       "      <td>RUH</td>\n",
       "      <td>37782</td>\n",
       "      <td>4761562</td>\n",
       "      <td>37145</td>\n",
       "      <td>4573903</td>\n",
       "      <td>32548</td>\n",
       "      <td>4334681</td>\n",
       "      <td>32433</td>\n",
       "      <td>4629905</td>\n",
       "      <td>139908</td>\n",
       "      <td>18300051</td>\n",
       "    </tr>\n",
       "    <tr>\n",
       "      <th>4</th>\n",
       "      <td>120</td>\n",
       "      <td>2014</td>\n",
       "      <td>RUH</td>\n",
       "      <td>40901</td>\n",
       "      <td>5311781</td>\n",
       "      <td>40688</td>\n",
       "      <td>5169502</td>\n",
       "      <td>31998</td>\n",
       "      <td>4987023</td>\n",
       "      <td>31791</td>\n",
       "      <td>4883999</td>\n",
       "      <td>145378</td>\n",
       "      <td>20352305</td>\n",
       "    </tr>\n",
       "    <tr>\n",
       "      <th>5</th>\n",
       "      <td>146</td>\n",
       "      <td>2015</td>\n",
       "      <td>RUH</td>\n",
       "      <td>46530</td>\n",
       "      <td>6187761</td>\n",
       "      <td>46781</td>\n",
       "      <td>6059886</td>\n",
       "      <td>32773</td>\n",
       "      <td>5375852</td>\n",
       "      <td>32558</td>\n",
       "      <td>5114668</td>\n",
       "      <td>158642</td>\n",
       "      <td>22738167</td>\n",
       "    </tr>\n",
       "    <tr>\n",
       "      <th>6</th>\n",
       "      <td>173</td>\n",
       "      <td>2016</td>\n",
       "      <td>RUH</td>\n",
       "      <td>56440</td>\n",
       "      <td>6302138</td>\n",
       "      <td>57182</td>\n",
       "      <td>6245549</td>\n",
       "      <td>41274</td>\n",
       "      <td>5700271</td>\n",
       "      <td>40511</td>\n",
       "      <td>5529815</td>\n",
       "      <td>195407</td>\n",
       "      <td>23777773</td>\n",
       "    </tr>\n",
       "    <tr>\n",
       "      <th>7</th>\n",
       "      <td>200</td>\n",
       "      <td>2017</td>\n",
       "      <td>RUH</td>\n",
       "      <td>55188</td>\n",
       "      <td>7236257</td>\n",
       "      <td>55468</td>\n",
       "      <td>7198679</td>\n",
       "      <td>46586</td>\n",
       "      <td>5900293</td>\n",
       "      <td>46290</td>\n",
       "      <td>6043563</td>\n",
       "      <td>203532</td>\n",
       "      <td>26378792</td>\n",
       "    </tr>\n",
       "    <tr>\n",
       "      <th>8</th>\n",
       "      <td>227</td>\n",
       "      <td>2018</td>\n",
       "      <td>RUH</td>\n",
       "      <td>56612</td>\n",
       "      <td>7814427</td>\n",
       "      <td>56744</td>\n",
       "      <td>7709819</td>\n",
       "      <td>47626</td>\n",
       "      <td>6172594</td>\n",
       "      <td>47763</td>\n",
       "      <td>6429791</td>\n",
       "      <td>208745</td>\n",
       "      <td>28126631</td>\n",
       "    </tr>\n",
       "    <tr>\n",
       "      <th>9</th>\n",
       "      <td>255</td>\n",
       "      <td>2019</td>\n",
       "      <td>RUH</td>\n",
       "      <td>62533</td>\n",
       "      <td>8453790</td>\n",
       "      <td>62031</td>\n",
       "      <td>8217263</td>\n",
       "      <td>43561</td>\n",
       "      <td>6285616</td>\n",
       "      <td>44038</td>\n",
       "      <td>6127569</td>\n",
       "      <td>212163</td>\n",
       "      <td>29084238</td>\n",
       "    </tr>\n",
       "    <tr>\n",
       "      <th>10</th>\n",
       "      <td>283</td>\n",
       "      <td>2020</td>\n",
       "      <td>RUH</td>\n",
       "      <td>34108</td>\n",
       "      <td>3924599</td>\n",
       "      <td>33518</td>\n",
       "      <td>3690087</td>\n",
       "      <td>17569</td>\n",
       "      <td>1749274</td>\n",
       "      <td>18137</td>\n",
       "      <td>2039841</td>\n",
       "      <td>103332</td>\n",
       "      <td>11403801</td>\n",
       "    </tr>\n",
       "    <tr>\n",
       "      <th>11</th>\n",
       "      <td>311</td>\n",
       "      <td>2021</td>\n",
       "      <td>RUH</td>\n",
       "      <td>46682</td>\n",
       "      <td>5118913</td>\n",
       "      <td>46870</td>\n",
       "      <td>5007120</td>\n",
       "      <td>23217</td>\n",
       "      <td>2541097</td>\n",
       "      <td>23035</td>\n",
       "      <td>2761459</td>\n",
       "      <td>139804</td>\n",
       "      <td>15428589</td>\n",
       "    </tr>\n",
       "  </tbody>\n",
       "</table>\n",
       "</div>"
      ],
      "text/plain": [
       "    index  Year Airport  FlightsA-Domestic  PaxA-Domestic  FlightsD-Domestic  \\\n",
       "0      17  2010     RUH              30512        3520112              30096   \n",
       "1      42  2011     RUH              30896        3807331              30489   \n",
       "2      68  2012     RUH              37021        4558949              36428   \n",
       "3      94  2013     RUH              37782        4761562              37145   \n",
       "4     120  2014     RUH              40901        5311781              40688   \n",
       "5     146  2015     RUH              46530        6187761              46781   \n",
       "6     173  2016     RUH              56440        6302138              57182   \n",
       "7     200  2017     RUH              55188        7236257              55468   \n",
       "8     227  2018     RUH              56612        7814427              56744   \n",
       "9     255  2019     RUH              62533        8453790              62031   \n",
       "10    283  2020     RUH              34108        3924599              33518   \n",
       "11    311  2021     RUH              46682        5118913              46870   \n",
       "\n",
       "    PaxD-Domestic  FlightsA-international  PaxA-international  \\\n",
       "0         3364229                   24985             3428107   \n",
       "1         3646701                   27757             3787567   \n",
       "2         4391651                   30795             3926242   \n",
       "3         4573903                   32548             4334681   \n",
       "4         5169502                   31998             4987023   \n",
       "5         6059886                   32773             5375852   \n",
       "6         6245549                   41274             5700271   \n",
       "7         7198679                   46586             5900293   \n",
       "8         7709819                   47626             6172594   \n",
       "9         8217263                   43561             6285616   \n",
       "10        3690087                   17569             1749274   \n",
       "11        5007120                   23217             2541097   \n",
       "\n",
       "    FlightsD-international  PaxD-international  Flights       Pax  \n",
       "0                    24847             3241259   110440  13553707  \n",
       "1                    27521             3659775   116663  14901374  \n",
       "2                    30698             4148670   134942  17025512  \n",
       "3                    32433             4629905   139908  18300051  \n",
       "4                    31791             4883999   145378  20352305  \n",
       "5                    32558             5114668   158642  22738167  \n",
       "6                    40511             5529815   195407  23777773  \n",
       "7                    46290             6043563   203532  26378792  \n",
       "8                    47763             6429791   208745  28126631  \n",
       "9                    44038             6127569   212163  29084238  \n",
       "10                   18137             2039841   103332  11403801  \n",
       "11                   23035             2761459   139804  15428589  "
      ]
     },
     "execution_count": 22,
     "metadata": {},
     "output_type": "execute_result"
    }
   ],
   "source": [
    "#1 Riyadhpax will have the values of flights data but only the rows about RUH \n",
    "Riyadhpax=flights[(flights['Airport'] == 'RUH')]\n",
    "Riyadhpax.reset_index()"
   ]
  },
  {
   "cell_type": "markdown",
   "id": "09cf35b3",
   "metadata": {},
   "source": [
    "**Before** i dive deep to spesific, let's look for the total number of passenger through 2010 - 2021, after that i'm wondering what's the busiest year in the same period. Creating varibale with the name <code>Total_passengers_RUH</code> and another for the busiest year <code>Busiest_year_RUH</code> "
   ]
  },
  {
   "cell_type": "code",
   "execution_count": 23,
   "id": "0a29ab86",
   "metadata": {},
   "outputs": [
    {
     "name": "stdout",
     "output_type": "stream",
     "text": [
      "Total number of air passengers (2010 - 2021) is 241070940 Millions\n"
     ]
    }
   ],
   "source": [
    "Total_passengers_RUH=Riyadhpax.Pax.sum()\n",
    "print('Total number of air passengers (2010 - 2021) is',str(Total_passengers_RUH),'Millions')"
   ]
  },
  {
   "cell_type": "code",
   "execution_count": 24,
   "id": "f4a884c3",
   "metadata": {},
   "outputs": [
    {
     "data": {
      "text/html": [
       "<div>\n",
       "<style scoped>\n",
       "    .dataframe tbody tr th:only-of-type {\n",
       "        vertical-align: middle;\n",
       "    }\n",
       "\n",
       "    .dataframe tbody tr th {\n",
       "        vertical-align: top;\n",
       "    }\n",
       "\n",
       "    .dataframe thead th {\n",
       "        text-align: right;\n",
       "    }\n",
       "</style>\n",
       "<table border=\"1\" class=\"dataframe\">\n",
       "  <thead>\n",
       "    <tr style=\"text-align: right;\">\n",
       "      <th></th>\n",
       "      <th>Year</th>\n",
       "      <th>Pax</th>\n",
       "    </tr>\n",
       "  </thead>\n",
       "  <tbody>\n",
       "    <tr>\n",
       "      <th>0</th>\n",
       "      <td>2019</td>\n",
       "      <td>29084238</td>\n",
       "    </tr>\n",
       "  </tbody>\n",
       "</table>\n",
       "</div>"
      ],
      "text/plain": [
       "   Year       Pax\n",
       "0  2019  29084238"
      ]
     },
     "execution_count": 24,
     "metadata": {},
     "output_type": "execute_result"
    }
   ],
   "source": [
    "# Filter dataset with the maximum passnger number using max() function\n",
    "Busiest_year_RUH=Riyadhpax.loc[(Riyadhpax[\"Pax\"] == Riyadhpax.Pax.max()),:].reset_index()\n",
    "Busiest_year_RUH[['Year','Pax']]"
   ]
  },
  {
   "cell_type": "code",
   "execution_count": 25,
   "id": "4ec559c6",
   "metadata": {
    "scrolled": true
   },
   "outputs": [
    {
     "data": {
      "text/html": [
       "<div>\n",
       "<style scoped>\n",
       "    .dataframe tbody tr th:only-of-type {\n",
       "        vertical-align: middle;\n",
       "    }\n",
       "\n",
       "    .dataframe tbody tr th {\n",
       "        vertical-align: top;\n",
       "    }\n",
       "\n",
       "    .dataframe thead th {\n",
       "        text-align: right;\n",
       "    }\n",
       "</style>\n",
       "<table border=\"1\" class=\"dataframe\">\n",
       "  <thead>\n",
       "    <tr style=\"text-align: right;\">\n",
       "      <th></th>\n",
       "      <th>index</th>\n",
       "      <th>Year</th>\n",
       "      <th>Airport</th>\n",
       "      <th>Pax</th>\n",
       "    </tr>\n",
       "  </thead>\n",
       "  <tbody>\n",
       "    <tr>\n",
       "      <th>0</th>\n",
       "      <td>17</td>\n",
       "      <td>2010</td>\n",
       "      <td>RUH</td>\n",
       "      <td>13553707</td>\n",
       "    </tr>\n",
       "    <tr>\n",
       "      <th>1</th>\n",
       "      <td>42</td>\n",
       "      <td>2011</td>\n",
       "      <td>RUH</td>\n",
       "      <td>14901374</td>\n",
       "    </tr>\n",
       "    <tr>\n",
       "      <th>2</th>\n",
       "      <td>68</td>\n",
       "      <td>2012</td>\n",
       "      <td>RUH</td>\n",
       "      <td>17025512</td>\n",
       "    </tr>\n",
       "    <tr>\n",
       "      <th>3</th>\n",
       "      <td>94</td>\n",
       "      <td>2013</td>\n",
       "      <td>RUH</td>\n",
       "      <td>18300051</td>\n",
       "    </tr>\n",
       "    <tr>\n",
       "      <th>4</th>\n",
       "      <td>120</td>\n",
       "      <td>2014</td>\n",
       "      <td>RUH</td>\n",
       "      <td>20352305</td>\n",
       "    </tr>\n",
       "    <tr>\n",
       "      <th>5</th>\n",
       "      <td>146</td>\n",
       "      <td>2015</td>\n",
       "      <td>RUH</td>\n",
       "      <td>22738167</td>\n",
       "    </tr>\n",
       "    <tr>\n",
       "      <th>6</th>\n",
       "      <td>173</td>\n",
       "      <td>2016</td>\n",
       "      <td>RUH</td>\n",
       "      <td>23777773</td>\n",
       "    </tr>\n",
       "    <tr>\n",
       "      <th>7</th>\n",
       "      <td>200</td>\n",
       "      <td>2017</td>\n",
       "      <td>RUH</td>\n",
       "      <td>26378792</td>\n",
       "    </tr>\n",
       "    <tr>\n",
       "      <th>8</th>\n",
       "      <td>227</td>\n",
       "      <td>2018</td>\n",
       "      <td>RUH</td>\n",
       "      <td>28126631</td>\n",
       "    </tr>\n",
       "    <tr>\n",
       "      <th>9</th>\n",
       "      <td>255</td>\n",
       "      <td>2019</td>\n",
       "      <td>RUH</td>\n",
       "      <td>29084238</td>\n",
       "    </tr>\n",
       "    <tr>\n",
       "      <th>10</th>\n",
       "      <td>283</td>\n",
       "      <td>2020</td>\n",
       "      <td>RUH</td>\n",
       "      <td>11403801</td>\n",
       "    </tr>\n",
       "    <tr>\n",
       "      <th>11</th>\n",
       "      <td>311</td>\n",
       "      <td>2021</td>\n",
       "      <td>RUH</td>\n",
       "      <td>15428589</td>\n",
       "    </tr>\n",
       "  </tbody>\n",
       "</table>\n",
       "</div>"
      ],
      "text/plain": [
       "    index  Year Airport       Pax\n",
       "0      17  2010     RUH  13553707\n",
       "1      42  2011     RUH  14901374\n",
       "2      68  2012     RUH  17025512\n",
       "3      94  2013     RUH  18300051\n",
       "4     120  2014     RUH  20352305\n",
       "5     146  2015     RUH  22738167\n",
       "6     173  2016     RUH  23777773\n",
       "7     200  2017     RUH  26378792\n",
       "8     227  2018     RUH  28126631\n",
       "9     255  2019     RUH  29084238\n",
       "10    283  2020     RUH  11403801\n",
       "11    311  2021     RUH  15428589"
      ]
     },
     "execution_count": 25,
     "metadata": {},
     "output_type": "execute_result"
    }
   ],
   "source": [
    "# now i want only subset of the riyadh data, that only include three columns, for clear view\n",
    "precentRiyadhpax=Riyadhpax[['Year','Airport','Pax']]\n",
    "precentRiyadhpax = precentRiyadhpax.copy()  # Ensuring a copy is made to avoid warning note\n",
    "precentRiyadhpax.reset_index()"
   ]
  },
  {
   "cell_type": "code",
   "execution_count": 26,
   "id": "0eb07596",
   "metadata": {},
   "outputs": [
    {
     "data": {
      "application/vnd.plotly.v1+json": {
       "config": {
        "plotlyServerURL": "https://plot.ly"
       },
       "data": [
        {
         "mode": "lines+markers",
         "name": "markers",
         "type": "scatter",
         "x": [
          2010,
          2011,
          2012,
          2013,
          2014,
          2015,
          2016,
          2017,
          2018,
          2019,
          2020,
          2021
         ],
         "y": [
          13553707,
          14901374,
          17025512,
          18300051,
          20352305,
          22738167,
          23777773,
          26378792,
          28126631,
          29084238,
          11403801,
          15428589
         ]
        }
       ],
       "layout": {
        "font": {
         "color": "RebeccaPurple",
         "family": "Courier New, monospace",
         "size": 18
        },
        "template": {
         "data": {
          "bar": [
           {
            "error_x": {
             "color": "#2a3f5f"
            },
            "error_y": {
             "color": "#2a3f5f"
            },
            "marker": {
             "line": {
              "color": "#E5ECF6",
              "width": 0.5
             },
             "pattern": {
              "fillmode": "overlay",
              "size": 10,
              "solidity": 0.2
             }
            },
            "type": "bar"
           }
          ],
          "barpolar": [
           {
            "marker": {
             "line": {
              "color": "#E5ECF6",
              "width": 0.5
             },
             "pattern": {
              "fillmode": "overlay",
              "size": 10,
              "solidity": 0.2
             }
            },
            "type": "barpolar"
           }
          ],
          "carpet": [
           {
            "aaxis": {
             "endlinecolor": "#2a3f5f",
             "gridcolor": "white",
             "linecolor": "white",
             "minorgridcolor": "white",
             "startlinecolor": "#2a3f5f"
            },
            "baxis": {
             "endlinecolor": "#2a3f5f",
             "gridcolor": "white",
             "linecolor": "white",
             "minorgridcolor": "white",
             "startlinecolor": "#2a3f5f"
            },
            "type": "carpet"
           }
          ],
          "choropleth": [
           {
            "colorbar": {
             "outlinewidth": 0,
             "ticks": ""
            },
            "type": "choropleth"
           }
          ],
          "contour": [
           {
            "colorbar": {
             "outlinewidth": 0,
             "ticks": ""
            },
            "colorscale": [
             [
              0,
              "#0d0887"
             ],
             [
              0.1111111111111111,
              "#46039f"
             ],
             [
              0.2222222222222222,
              "#7201a8"
             ],
             [
              0.3333333333333333,
              "#9c179e"
             ],
             [
              0.4444444444444444,
              "#bd3786"
             ],
             [
              0.5555555555555556,
              "#d8576b"
             ],
             [
              0.6666666666666666,
              "#ed7953"
             ],
             [
              0.7777777777777778,
              "#fb9f3a"
             ],
             [
              0.8888888888888888,
              "#fdca26"
             ],
             [
              1,
              "#f0f921"
             ]
            ],
            "type": "contour"
           }
          ],
          "contourcarpet": [
           {
            "colorbar": {
             "outlinewidth": 0,
             "ticks": ""
            },
            "type": "contourcarpet"
           }
          ],
          "heatmap": [
           {
            "colorbar": {
             "outlinewidth": 0,
             "ticks": ""
            },
            "colorscale": [
             [
              0,
              "#0d0887"
             ],
             [
              0.1111111111111111,
              "#46039f"
             ],
             [
              0.2222222222222222,
              "#7201a8"
             ],
             [
              0.3333333333333333,
              "#9c179e"
             ],
             [
              0.4444444444444444,
              "#bd3786"
             ],
             [
              0.5555555555555556,
              "#d8576b"
             ],
             [
              0.6666666666666666,
              "#ed7953"
             ],
             [
              0.7777777777777778,
              "#fb9f3a"
             ],
             [
              0.8888888888888888,
              "#fdca26"
             ],
             [
              1,
              "#f0f921"
             ]
            ],
            "type": "heatmap"
           }
          ],
          "heatmapgl": [
           {
            "colorbar": {
             "outlinewidth": 0,
             "ticks": ""
            },
            "colorscale": [
             [
              0,
              "#0d0887"
             ],
             [
              0.1111111111111111,
              "#46039f"
             ],
             [
              0.2222222222222222,
              "#7201a8"
             ],
             [
              0.3333333333333333,
              "#9c179e"
             ],
             [
              0.4444444444444444,
              "#bd3786"
             ],
             [
              0.5555555555555556,
              "#d8576b"
             ],
             [
              0.6666666666666666,
              "#ed7953"
             ],
             [
              0.7777777777777778,
              "#fb9f3a"
             ],
             [
              0.8888888888888888,
              "#fdca26"
             ],
             [
              1,
              "#f0f921"
             ]
            ],
            "type": "heatmapgl"
           }
          ],
          "histogram": [
           {
            "marker": {
             "pattern": {
              "fillmode": "overlay",
              "size": 10,
              "solidity": 0.2
             }
            },
            "type": "histogram"
           }
          ],
          "histogram2d": [
           {
            "colorbar": {
             "outlinewidth": 0,
             "ticks": ""
            },
            "colorscale": [
             [
              0,
              "#0d0887"
             ],
             [
              0.1111111111111111,
              "#46039f"
             ],
             [
              0.2222222222222222,
              "#7201a8"
             ],
             [
              0.3333333333333333,
              "#9c179e"
             ],
             [
              0.4444444444444444,
              "#bd3786"
             ],
             [
              0.5555555555555556,
              "#d8576b"
             ],
             [
              0.6666666666666666,
              "#ed7953"
             ],
             [
              0.7777777777777778,
              "#fb9f3a"
             ],
             [
              0.8888888888888888,
              "#fdca26"
             ],
             [
              1,
              "#f0f921"
             ]
            ],
            "type": "histogram2d"
           }
          ],
          "histogram2dcontour": [
           {
            "colorbar": {
             "outlinewidth": 0,
             "ticks": ""
            },
            "colorscale": [
             [
              0,
              "#0d0887"
             ],
             [
              0.1111111111111111,
              "#46039f"
             ],
             [
              0.2222222222222222,
              "#7201a8"
             ],
             [
              0.3333333333333333,
              "#9c179e"
             ],
             [
              0.4444444444444444,
              "#bd3786"
             ],
             [
              0.5555555555555556,
              "#d8576b"
             ],
             [
              0.6666666666666666,
              "#ed7953"
             ],
             [
              0.7777777777777778,
              "#fb9f3a"
             ],
             [
              0.8888888888888888,
              "#fdca26"
             ],
             [
              1,
              "#f0f921"
             ]
            ],
            "type": "histogram2dcontour"
           }
          ],
          "mesh3d": [
           {
            "colorbar": {
             "outlinewidth": 0,
             "ticks": ""
            },
            "type": "mesh3d"
           }
          ],
          "parcoords": [
           {
            "line": {
             "colorbar": {
              "outlinewidth": 0,
              "ticks": ""
             }
            },
            "type": "parcoords"
           }
          ],
          "pie": [
           {
            "automargin": true,
            "type": "pie"
           }
          ],
          "scatter": [
           {
            "marker": {
             "colorbar": {
              "outlinewidth": 0,
              "ticks": ""
             }
            },
            "type": "scatter"
           }
          ],
          "scatter3d": [
           {
            "line": {
             "colorbar": {
              "outlinewidth": 0,
              "ticks": ""
             }
            },
            "marker": {
             "colorbar": {
              "outlinewidth": 0,
              "ticks": ""
             }
            },
            "type": "scatter3d"
           }
          ],
          "scattercarpet": [
           {
            "marker": {
             "colorbar": {
              "outlinewidth": 0,
              "ticks": ""
             }
            },
            "type": "scattercarpet"
           }
          ],
          "scattergeo": [
           {
            "marker": {
             "colorbar": {
              "outlinewidth": 0,
              "ticks": ""
             }
            },
            "type": "scattergeo"
           }
          ],
          "scattergl": [
           {
            "marker": {
             "colorbar": {
              "outlinewidth": 0,
              "ticks": ""
             }
            },
            "type": "scattergl"
           }
          ],
          "scattermapbox": [
           {
            "marker": {
             "colorbar": {
              "outlinewidth": 0,
              "ticks": ""
             }
            },
            "type": "scattermapbox"
           }
          ],
          "scatterpolar": [
           {
            "marker": {
             "colorbar": {
              "outlinewidth": 0,
              "ticks": ""
             }
            },
            "type": "scatterpolar"
           }
          ],
          "scatterpolargl": [
           {
            "marker": {
             "colorbar": {
              "outlinewidth": 0,
              "ticks": ""
             }
            },
            "type": "scatterpolargl"
           }
          ],
          "scatterternary": [
           {
            "marker": {
             "colorbar": {
              "outlinewidth": 0,
              "ticks": ""
             }
            },
            "type": "scatterternary"
           }
          ],
          "surface": [
           {
            "colorbar": {
             "outlinewidth": 0,
             "ticks": ""
            },
            "colorscale": [
             [
              0,
              "#0d0887"
             ],
             [
              0.1111111111111111,
              "#46039f"
             ],
             [
              0.2222222222222222,
              "#7201a8"
             ],
             [
              0.3333333333333333,
              "#9c179e"
             ],
             [
              0.4444444444444444,
              "#bd3786"
             ],
             [
              0.5555555555555556,
              "#d8576b"
             ],
             [
              0.6666666666666666,
              "#ed7953"
             ],
             [
              0.7777777777777778,
              "#fb9f3a"
             ],
             [
              0.8888888888888888,
              "#fdca26"
             ],
             [
              1,
              "#f0f921"
             ]
            ],
            "type": "surface"
           }
          ],
          "table": [
           {
            "cells": {
             "fill": {
              "color": "#EBF0F8"
             },
             "line": {
              "color": "white"
             }
            },
            "header": {
             "fill": {
              "color": "#C8D4E3"
             },
             "line": {
              "color": "white"
             }
            },
            "type": "table"
           }
          ]
         },
         "layout": {
          "annotationdefaults": {
           "arrowcolor": "#2a3f5f",
           "arrowhead": 0,
           "arrowwidth": 1
          },
          "autotypenumbers": "strict",
          "coloraxis": {
           "colorbar": {
            "outlinewidth": 0,
            "ticks": ""
           }
          },
          "colorscale": {
           "diverging": [
            [
             0,
             "#8e0152"
            ],
            [
             0.1,
             "#c51b7d"
            ],
            [
             0.2,
             "#de77ae"
            ],
            [
             0.3,
             "#f1b6da"
            ],
            [
             0.4,
             "#fde0ef"
            ],
            [
             0.5,
             "#f7f7f7"
            ],
            [
             0.6,
             "#e6f5d0"
            ],
            [
             0.7,
             "#b8e186"
            ],
            [
             0.8,
             "#7fbc41"
            ],
            [
             0.9,
             "#4d9221"
            ],
            [
             1,
             "#276419"
            ]
           ],
           "sequential": [
            [
             0,
             "#0d0887"
            ],
            [
             0.1111111111111111,
             "#46039f"
            ],
            [
             0.2222222222222222,
             "#7201a8"
            ],
            [
             0.3333333333333333,
             "#9c179e"
            ],
            [
             0.4444444444444444,
             "#bd3786"
            ],
            [
             0.5555555555555556,
             "#d8576b"
            ],
            [
             0.6666666666666666,
             "#ed7953"
            ],
            [
             0.7777777777777778,
             "#fb9f3a"
            ],
            [
             0.8888888888888888,
             "#fdca26"
            ],
            [
             1,
             "#f0f921"
            ]
           ],
           "sequentialminus": [
            [
             0,
             "#0d0887"
            ],
            [
             0.1111111111111111,
             "#46039f"
            ],
            [
             0.2222222222222222,
             "#7201a8"
            ],
            [
             0.3333333333333333,
             "#9c179e"
            ],
            [
             0.4444444444444444,
             "#bd3786"
            ],
            [
             0.5555555555555556,
             "#d8576b"
            ],
            [
             0.6666666666666666,
             "#ed7953"
            ],
            [
             0.7777777777777778,
             "#fb9f3a"
            ],
            [
             0.8888888888888888,
             "#fdca26"
            ],
            [
             1,
             "#f0f921"
            ]
           ]
          },
          "colorway": [
           "#636efa",
           "#EF553B",
           "#00cc96",
           "#ab63fa",
           "#FFA15A",
           "#19d3f3",
           "#FF6692",
           "#B6E880",
           "#FF97FF",
           "#FECB52"
          ],
          "font": {
           "color": "#2a3f5f"
          },
          "geo": {
           "bgcolor": "white",
           "lakecolor": "white",
           "landcolor": "#E5ECF6",
           "showlakes": true,
           "showland": true,
           "subunitcolor": "white"
          },
          "hoverlabel": {
           "align": "left"
          },
          "hovermode": "closest",
          "mapbox": {
           "style": "light"
          },
          "paper_bgcolor": "white",
          "plot_bgcolor": "#E5ECF6",
          "polar": {
           "angularaxis": {
            "gridcolor": "white",
            "linecolor": "white",
            "ticks": ""
           },
           "bgcolor": "#E5ECF6",
           "radialaxis": {
            "gridcolor": "white",
            "linecolor": "white",
            "ticks": ""
           }
          },
          "scene": {
           "xaxis": {
            "backgroundcolor": "#E5ECF6",
            "gridcolor": "white",
            "gridwidth": 2,
            "linecolor": "white",
            "showbackground": true,
            "ticks": "",
            "zerolinecolor": "white"
           },
           "yaxis": {
            "backgroundcolor": "#E5ECF6",
            "gridcolor": "white",
            "gridwidth": 2,
            "linecolor": "white",
            "showbackground": true,
            "ticks": "",
            "zerolinecolor": "white"
           },
           "zaxis": {
            "backgroundcolor": "#E5ECF6",
            "gridcolor": "white",
            "gridwidth": 2,
            "linecolor": "white",
            "showbackground": true,
            "ticks": "",
            "zerolinecolor": "white"
           }
          },
          "shapedefaults": {
           "line": {
            "color": "#2a3f5f"
           }
          },
          "ternary": {
           "aaxis": {
            "gridcolor": "white",
            "linecolor": "white",
            "ticks": ""
           },
           "baxis": {
            "gridcolor": "white",
            "linecolor": "white",
            "ticks": ""
           },
           "bgcolor": "#E5ECF6",
           "caxis": {
            "gridcolor": "white",
            "linecolor": "white",
            "ticks": ""
           }
          },
          "title": {
           "x": 0.05
          },
          "xaxis": {
           "automargin": true,
           "gridcolor": "white",
           "linecolor": "white",
           "ticks": "",
           "title": {
            "standoff": 15
           },
           "zerolinecolor": "white",
           "zerolinewidth": 2
          },
          "yaxis": {
           "automargin": true,
           "gridcolor": "white",
           "linecolor": "white",
           "ticks": "",
           "title": {
            "standoff": 15
           },
           "zerolinecolor": "white",
           "zerolinewidth": 2
          }
         }
        },
        "title": {
         "text": "King Khalid International Airport"
        },
        "xaxis": {
         "title": {
          "text": "Year"
         }
        },
        "yaxis": {
         "title": {
          "text": "Passengers Number"
         }
        }
       }
      }
     },
     "metadata": {},
     "output_type": "display_data"
    }
   ],
   "source": [
    "import plotly.graph_objects as go\n",
    "\n",
    "fig = go.Figure()\n",
    "\n",
    "fig.add_trace(go.Scatter(x=precentRiyadhpax.Year, y=precentRiyadhpax.Pax,\n",
    "                    mode='lines+markers',\n",
    "                    name='markers'))\n",
    "fig.update_layout(\n",
    "    title=\"King Khalid International Airport\",\n",
    "    xaxis_title=\"Year\",\n",
    "    yaxis_title=\"Passengers Number\",\n",
    "    font=dict(\n",
    "        family=\"Courier New, monospace\",\n",
    "        size=18,\n",
    "        color=\"RebeccaPurple\"\n",
    "    )\n",
    ")                        \n",
    "fig.show()                    \n",
    "                  "
   ]
  },
  {
   "cell_type": "markdown",
   "id": "c07c72e6",
   "metadata": {},
   "source": [
    "Now to calcuate the rate of changes, python have <code>pct_change()</code> (new column value - Previous column value)/(Previous column value) and i will apply this function to a passenger columns to have the result of rate changing through the years."
   ]
  },
  {
   "cell_type": "code",
   "execution_count": 27,
   "id": "650002cd",
   "metadata": {},
   "outputs": [
    {
     "data": {
      "text/html": [
       "<div>\n",
       "<style scoped>\n",
       "    .dataframe tbody tr th:only-of-type {\n",
       "        vertical-align: middle;\n",
       "    }\n",
       "\n",
       "    .dataframe tbody tr th {\n",
       "        vertical-align: top;\n",
       "    }\n",
       "\n",
       "    .dataframe thead th {\n",
       "        text-align: right;\n",
       "    }\n",
       "</style>\n",
       "<table border=\"1\" class=\"dataframe\">\n",
       "  <thead>\n",
       "    <tr style=\"text-align: right;\">\n",
       "      <th></th>\n",
       "      <th>index</th>\n",
       "      <th>Year</th>\n",
       "      <th>Airport</th>\n",
       "      <th>Pax</th>\n",
       "      <th>increasing_rate_RUH</th>\n",
       "    </tr>\n",
       "  </thead>\n",
       "  <tbody>\n",
       "    <tr>\n",
       "      <th>0</th>\n",
       "      <td>17</td>\n",
       "      <td>2010</td>\n",
       "      <td>RUH</td>\n",
       "      <td>13553707</td>\n",
       "      <td>NaN</td>\n",
       "    </tr>\n",
       "    <tr>\n",
       "      <th>1</th>\n",
       "      <td>42</td>\n",
       "      <td>2011</td>\n",
       "      <td>RUH</td>\n",
       "      <td>14901374</td>\n",
       "      <td>9.943162</td>\n",
       "    </tr>\n",
       "    <tr>\n",
       "      <th>2</th>\n",
       "      <td>68</td>\n",
       "      <td>2012</td>\n",
       "      <td>RUH</td>\n",
       "      <td>17025512</td>\n",
       "      <td>14.254645</td>\n",
       "    </tr>\n",
       "    <tr>\n",
       "      <th>3</th>\n",
       "      <td>94</td>\n",
       "      <td>2013</td>\n",
       "      <td>RUH</td>\n",
       "      <td>18300051</td>\n",
       "      <td>7.486054</td>\n",
       "    </tr>\n",
       "    <tr>\n",
       "      <th>4</th>\n",
       "      <td>120</td>\n",
       "      <td>2014</td>\n",
       "      <td>RUH</td>\n",
       "      <td>20352305</td>\n",
       "      <td>11.214471</td>\n",
       "    </tr>\n",
       "    <tr>\n",
       "      <th>5</th>\n",
       "      <td>146</td>\n",
       "      <td>2015</td>\n",
       "      <td>RUH</td>\n",
       "      <td>22738167</td>\n",
       "      <td>11.722810</td>\n",
       "    </tr>\n",
       "    <tr>\n",
       "      <th>6</th>\n",
       "      <td>173</td>\n",
       "      <td>2016</td>\n",
       "      <td>RUH</td>\n",
       "      <td>23777773</td>\n",
       "      <td>4.572075</td>\n",
       "    </tr>\n",
       "    <tr>\n",
       "      <th>7</th>\n",
       "      <td>200</td>\n",
       "      <td>2017</td>\n",
       "      <td>RUH</td>\n",
       "      <td>26378792</td>\n",
       "      <td>10.938867</td>\n",
       "    </tr>\n",
       "    <tr>\n",
       "      <th>8</th>\n",
       "      <td>227</td>\n",
       "      <td>2018</td>\n",
       "      <td>RUH</td>\n",
       "      <td>28126631</td>\n",
       "      <td>6.625925</td>\n",
       "    </tr>\n",
       "    <tr>\n",
       "      <th>9</th>\n",
       "      <td>255</td>\n",
       "      <td>2019</td>\n",
       "      <td>RUH</td>\n",
       "      <td>29084238</td>\n",
       "      <td>3.404627</td>\n",
       "    </tr>\n",
       "    <tr>\n",
       "      <th>10</th>\n",
       "      <td>283</td>\n",
       "      <td>2020</td>\n",
       "      <td>RUH</td>\n",
       "      <td>11403801</td>\n",
       "      <td>-60.790443</td>\n",
       "    </tr>\n",
       "    <tr>\n",
       "      <th>11</th>\n",
       "      <td>311</td>\n",
       "      <td>2021</td>\n",
       "      <td>RUH</td>\n",
       "      <td>15428589</td>\n",
       "      <td>35.293390</td>\n",
       "    </tr>\n",
       "  </tbody>\n",
       "</table>\n",
       "</div>"
      ],
      "text/plain": [
       "    index  Year Airport       Pax  increasing_rate_RUH\n",
       "0      17  2010     RUH  13553707                  NaN\n",
       "1      42  2011     RUH  14901374             9.943162\n",
       "2      68  2012     RUH  17025512            14.254645\n",
       "3      94  2013     RUH  18300051             7.486054\n",
       "4     120  2014     RUH  20352305            11.214471\n",
       "5     146  2015     RUH  22738167            11.722810\n",
       "6     173  2016     RUH  23777773             4.572075\n",
       "7     200  2017     RUH  26378792            10.938867\n",
       "8     227  2018     RUH  28126631             6.625925\n",
       "9     255  2019     RUH  29084238             3.404627\n",
       "10    283  2020     RUH  11403801           -60.790443\n",
       "11    311  2021     RUH  15428589            35.293390"
      ]
     },
     "execution_count": 27,
     "metadata": {},
     "output_type": "execute_result"
    }
   ],
   "source": [
    "RUHprecentage=precentRiyadhpax['Pax'].pct_change()\n",
    "precentRiyadhpax['increasing_rate_RUH']=RUHprecentage*100 # Assign the new value of changes \n",
    "precentRiyadhpax.reset_index()"
   ]
  },
  {
   "cell_type": "markdown",
   "id": "3cd45249",
   "metadata": {},
   "source": [
    "Rate of changes is increasing, with the highest rate of 14.25% in **2012**.\n",
    "<li>In this year 22 airplanes (Boeing) was added to Saudi aircraft, this may result on increasing the air passengers travelers.<li> Also, new expansion plan was decided in 2012, to enhance all the airport facilities.<br> <li>The year 2021 after Covid-19, increasing rate of 35% with 15,428,589 passengers, this show positive sign to recover."
   ]
  },
  {
   "cell_type": "markdown",
   "id": "68462dbd",
   "metadata": {},
   "source": [
    "####  International and Domestic Arrivals to RUH Airport"
   ]
  },
  {
   "cell_type": "markdown",
   "id": "7fdd5592",
   "metadata": {},
   "source": [
    "**In brief**, i show passngers numbers in total, now i will show columns related to arrivals from either International or Domestic directions."
   ]
  },
  {
   "cell_type": "code",
   "execution_count": 28,
   "id": "7ca01888",
   "metadata": {
    "scrolled": true
   },
   "outputs": [
    {
     "data": {
      "text/html": [
       "<div>\n",
       "<style scoped>\n",
       "    .dataframe tbody tr th:only-of-type {\n",
       "        vertical-align: middle;\n",
       "    }\n",
       "\n",
       "    .dataframe tbody tr th {\n",
       "        vertical-align: top;\n",
       "    }\n",
       "\n",
       "    .dataframe thead th {\n",
       "        text-align: right;\n",
       "    }\n",
       "</style>\n",
       "<table border=\"1\" class=\"dataframe\">\n",
       "  <thead>\n",
       "    <tr style=\"text-align: right;\">\n",
       "      <th></th>\n",
       "      <th>Year</th>\n",
       "      <th>Airport</th>\n",
       "      <th>PaxA-international</th>\n",
       "      <th>PaxA-Domestic</th>\n",
       "      <th>increasing_rate_international</th>\n",
       "      <th>increasing_rate_domestic</th>\n",
       "    </tr>\n",
       "  </thead>\n",
       "  <tbody>\n",
       "    <tr>\n",
       "      <th>17</th>\n",
       "      <td>2010</td>\n",
       "      <td>RUH</td>\n",
       "      <td>3428107</td>\n",
       "      <td>3520112</td>\n",
       "      <td>NaN</td>\n",
       "      <td>NaN</td>\n",
       "    </tr>\n",
       "    <tr>\n",
       "      <th>42</th>\n",
       "      <td>2011</td>\n",
       "      <td>RUH</td>\n",
       "      <td>3787567</td>\n",
       "      <td>3807331</td>\n",
       "      <td>10.485670</td>\n",
       "      <td>8.159371</td>\n",
       "    </tr>\n",
       "    <tr>\n",
       "      <th>68</th>\n",
       "      <td>2012</td>\n",
       "      <td>RUH</td>\n",
       "      <td>3926242</td>\n",
       "      <td>4558949</td>\n",
       "      <td>3.661321</td>\n",
       "      <td>19.741336</td>\n",
       "    </tr>\n",
       "    <tr>\n",
       "      <th>94</th>\n",
       "      <td>2013</td>\n",
       "      <td>RUH</td>\n",
       "      <td>4334681</td>\n",
       "      <td>4761562</td>\n",
       "      <td>10.402797</td>\n",
       "      <td>4.444292</td>\n",
       "    </tr>\n",
       "    <tr>\n",
       "      <th>120</th>\n",
       "      <td>2014</td>\n",
       "      <td>RUH</td>\n",
       "      <td>4987023</td>\n",
       "      <td>5311781</td>\n",
       "      <td>15.049366</td>\n",
       "      <td>11.555431</td>\n",
       "    </tr>\n",
       "    <tr>\n",
       "      <th>146</th>\n",
       "      <td>2015</td>\n",
       "      <td>RUH</td>\n",
       "      <td>5375852</td>\n",
       "      <td>6187761</td>\n",
       "      <td>7.796816</td>\n",
       "      <td>16.491267</td>\n",
       "    </tr>\n",
       "    <tr>\n",
       "      <th>173</th>\n",
       "      <td>2016</td>\n",
       "      <td>RUH</td>\n",
       "      <td>5700271</td>\n",
       "      <td>6302138</td>\n",
       "      <td>6.034746</td>\n",
       "      <td>1.848439</td>\n",
       "    </tr>\n",
       "    <tr>\n",
       "      <th>200</th>\n",
       "      <td>2017</td>\n",
       "      <td>RUH</td>\n",
       "      <td>5900293</td>\n",
       "      <td>7236257</td>\n",
       "      <td>3.508991</td>\n",
       "      <td>14.822256</td>\n",
       "    </tr>\n",
       "    <tr>\n",
       "      <th>227</th>\n",
       "      <td>2018</td>\n",
       "      <td>RUH</td>\n",
       "      <td>6172594</td>\n",
       "      <td>7814427</td>\n",
       "      <td>4.615042</td>\n",
       "      <td>7.989904</td>\n",
       "    </tr>\n",
       "    <tr>\n",
       "      <th>255</th>\n",
       "      <td>2019</td>\n",
       "      <td>RUH</td>\n",
       "      <td>6285616</td>\n",
       "      <td>8453790</td>\n",
       "      <td>1.831029</td>\n",
       "      <td>8.181828</td>\n",
       "    </tr>\n",
       "    <tr>\n",
       "      <th>283</th>\n",
       "      <td>2020</td>\n",
       "      <td>RUH</td>\n",
       "      <td>1749274</td>\n",
       "      <td>3924599</td>\n",
       "      <td>-72.170206</td>\n",
       "      <td>-53.575864</td>\n",
       "    </tr>\n",
       "    <tr>\n",
       "      <th>311</th>\n",
       "      <td>2021</td>\n",
       "      <td>RUH</td>\n",
       "      <td>2541097</td>\n",
       "      <td>5118913</td>\n",
       "      <td>45.265807</td>\n",
       "      <td>30.431491</td>\n",
       "    </tr>\n",
       "  </tbody>\n",
       "</table>\n",
       "</div>"
      ],
      "text/plain": [
       "     Year Airport  PaxA-international  PaxA-Domestic  \\\n",
       "17   2010     RUH             3428107        3520112   \n",
       "42   2011     RUH             3787567        3807331   \n",
       "68   2012     RUH             3926242        4558949   \n",
       "94   2013     RUH             4334681        4761562   \n",
       "120  2014     RUH             4987023        5311781   \n",
       "146  2015     RUH             5375852        6187761   \n",
       "173  2016     RUH             5700271        6302138   \n",
       "200  2017     RUH             5900293        7236257   \n",
       "227  2018     RUH             6172594        7814427   \n",
       "255  2019     RUH             6285616        8453790   \n",
       "283  2020     RUH             1749274        3924599   \n",
       "311  2021     RUH             2541097        5118913   \n",
       "\n",
       "     increasing_rate_international  increasing_rate_domestic  \n",
       "17                             NaN                       NaN  \n",
       "42                       10.485670                  8.159371  \n",
       "68                        3.661321                 19.741336  \n",
       "94                       10.402797                  4.444292  \n",
       "120                      15.049366                 11.555431  \n",
       "146                       7.796816                 16.491267  \n",
       "173                       6.034746                  1.848439  \n",
       "200                       3.508991                 14.822256  \n",
       "227                       4.615042                  7.989904  \n",
       "255                       1.831029                  8.181828  \n",
       "283                     -72.170206                -53.575864  \n",
       "311                      45.265807                 30.431491  "
      ]
     },
     "execution_count": 28,
     "metadata": {},
     "output_type": "execute_result"
    }
   ],
   "source": [
    "# I will apply pct_change() function to two columns (PaxA-international,PaxA-Domestic)\n",
    "RiyadhpaxArrival=Riyadhpax[['Year','Airport','PaxA-international','PaxA-Domestic']]\n",
    "RiyadhpaxArrival=RiyadhpaxArrival.copy()\n",
    "#1 first column\n",
    "ch_arr=RiyadhpaxArrival['PaxA-international'].pct_change()\n",
    "RiyadhpaxArrival['increasing_rate_international']=ch_arr*100 # To have result in precentages\n",
    "#2 second column\n",
    "ch_arr_Domestic=RiyadhpaxArrival['PaxA-Domestic'].pct_change()\n",
    "RiyadhpaxArrival['increasing_rate_domestic']=ch_arr_Domestic*100\n",
    "\n",
    "RiyadhpaxArrival.head(12)"
   ]
  },
  {
   "cell_type": "markdown",
   "id": "2fe6585c",
   "metadata": {},
   "source": [
    "##### Arrivals Flights  - RUH"
   ]
  },
  {
   "cell_type": "markdown",
   "id": "2dfbdcce",
   "metadata": {},
   "source": [
    "Since 2019 was the year with largest air passenger numbers, and with announcing new tourism plans, dose this ruselt in more international or domestic arrivals flights?<br> only data can tell."
   ]
  },
  {
   "cell_type": "code",
   "execution_count": 29,
   "id": "14d6673f",
   "metadata": {},
   "outputs": [
    {
     "data": {
      "text/html": [
       "<div>\n",
       "<style scoped>\n",
       "    .dataframe tbody tr th:only-of-type {\n",
       "        vertical-align: middle;\n",
       "    }\n",
       "\n",
       "    .dataframe tbody tr th {\n",
       "        vertical-align: top;\n",
       "    }\n",
       "\n",
       "    .dataframe thead th {\n",
       "        text-align: right;\n",
       "    }\n",
       "</style>\n",
       "<table border=\"1\" class=\"dataframe\">\n",
       "  <thead>\n",
       "    <tr style=\"text-align: right;\">\n",
       "      <th></th>\n",
       "      <th>Year</th>\n",
       "      <th>Airport</th>\n",
       "      <th>FlightsA-international</th>\n",
       "      <th>FlightsA-Domestic</th>\n",
       "    </tr>\n",
       "  </thead>\n",
       "  <tbody>\n",
       "    <tr>\n",
       "      <th>17</th>\n",
       "      <td>2010</td>\n",
       "      <td>RUH</td>\n",
       "      <td>24985</td>\n",
       "      <td>30512</td>\n",
       "    </tr>\n",
       "    <tr>\n",
       "      <th>42</th>\n",
       "      <td>2011</td>\n",
       "      <td>RUH</td>\n",
       "      <td>27757</td>\n",
       "      <td>30896</td>\n",
       "    </tr>\n",
       "    <tr>\n",
       "      <th>68</th>\n",
       "      <td>2012</td>\n",
       "      <td>RUH</td>\n",
       "      <td>30795</td>\n",
       "      <td>37021</td>\n",
       "    </tr>\n",
       "    <tr>\n",
       "      <th>94</th>\n",
       "      <td>2013</td>\n",
       "      <td>RUH</td>\n",
       "      <td>32548</td>\n",
       "      <td>37782</td>\n",
       "    </tr>\n",
       "    <tr>\n",
       "      <th>120</th>\n",
       "      <td>2014</td>\n",
       "      <td>RUH</td>\n",
       "      <td>31998</td>\n",
       "      <td>40901</td>\n",
       "    </tr>\n",
       "    <tr>\n",
       "      <th>146</th>\n",
       "      <td>2015</td>\n",
       "      <td>RUH</td>\n",
       "      <td>32773</td>\n",
       "      <td>46530</td>\n",
       "    </tr>\n",
       "    <tr>\n",
       "      <th>173</th>\n",
       "      <td>2016</td>\n",
       "      <td>RUH</td>\n",
       "      <td>41274</td>\n",
       "      <td>56440</td>\n",
       "    </tr>\n",
       "    <tr>\n",
       "      <th>200</th>\n",
       "      <td>2017</td>\n",
       "      <td>RUH</td>\n",
       "      <td>46586</td>\n",
       "      <td>55188</td>\n",
       "    </tr>\n",
       "    <tr>\n",
       "      <th>227</th>\n",
       "      <td>2018</td>\n",
       "      <td>RUH</td>\n",
       "      <td>47626</td>\n",
       "      <td>56612</td>\n",
       "    </tr>\n",
       "    <tr>\n",
       "      <th>255</th>\n",
       "      <td>2019</td>\n",
       "      <td>RUH</td>\n",
       "      <td>43561</td>\n",
       "      <td>62533</td>\n",
       "    </tr>\n",
       "    <tr>\n",
       "      <th>283</th>\n",
       "      <td>2020</td>\n",
       "      <td>RUH</td>\n",
       "      <td>17569</td>\n",
       "      <td>34108</td>\n",
       "    </tr>\n",
       "    <tr>\n",
       "      <th>311</th>\n",
       "      <td>2021</td>\n",
       "      <td>RUH</td>\n",
       "      <td>23217</td>\n",
       "      <td>46682</td>\n",
       "    </tr>\n",
       "  </tbody>\n",
       "</table>\n",
       "</div>"
      ],
      "text/plain": [
       "     Year Airport  FlightsA-international  FlightsA-Domestic\n",
       "17   2010     RUH                   24985              30512\n",
       "42   2011     RUH                   27757              30896\n",
       "68   2012     RUH                   30795              37021\n",
       "94   2013     RUH                   32548              37782\n",
       "120  2014     RUH                   31998              40901\n",
       "146  2015     RUH                   32773              46530\n",
       "173  2016     RUH                   41274              56440\n",
       "200  2017     RUH                   46586              55188\n",
       "227  2018     RUH                   47626              56612\n",
       "255  2019     RUH                   43561              62533\n",
       "283  2020     RUH                   17569              34108\n",
       "311  2021     RUH                   23217              46682"
      ]
     },
     "execution_count": 29,
     "metadata": {},
     "output_type": "execute_result"
    }
   ],
   "source": [
    "Riyadh_Ar=flights[(flights['Airport'] == 'RUH')]\n",
    "Riyadh_A_flights=Riyadh_Ar[['Year','Airport','FlightsA-international','FlightsA-Domestic']]\n",
    "Riyadh_A_flights"
   ]
  },
  {
   "cell_type": "code",
   "execution_count": 30,
   "id": "38d0838c",
   "metadata": {
    "scrolled": true
   },
   "outputs": [
    {
     "data": {
      "text/html": [
       "<div>\n",
       "<style scoped>\n",
       "    .dataframe tbody tr th:only-of-type {\n",
       "        vertical-align: middle;\n",
       "    }\n",
       "\n",
       "    .dataframe tbody tr th {\n",
       "        vertical-align: top;\n",
       "    }\n",
       "\n",
       "    .dataframe thead th {\n",
       "        text-align: right;\n",
       "    }\n",
       "</style>\n",
       "<table border=\"1\" class=\"dataframe\">\n",
       "  <thead>\n",
       "    <tr style=\"text-align: right;\">\n",
       "      <th></th>\n",
       "      <th>Year</th>\n",
       "      <th>Airport</th>\n",
       "      <th>FlightsA-international</th>\n",
       "      <th>FlightsA-Domestic</th>\n",
       "      <th>changes_international_arr</th>\n",
       "      <th>changes_domestic_arr</th>\n",
       "    </tr>\n",
       "  </thead>\n",
       "  <tbody>\n",
       "    <tr>\n",
       "      <th>17</th>\n",
       "      <td>2010</td>\n",
       "      <td>RUH</td>\n",
       "      <td>24985</td>\n",
       "      <td>30512</td>\n",
       "      <td>NaN</td>\n",
       "      <td>NaN</td>\n",
       "    </tr>\n",
       "    <tr>\n",
       "      <th>42</th>\n",
       "      <td>2011</td>\n",
       "      <td>RUH</td>\n",
       "      <td>27757</td>\n",
       "      <td>30896</td>\n",
       "      <td>11.094657</td>\n",
       "      <td>1.258521</td>\n",
       "    </tr>\n",
       "    <tr>\n",
       "      <th>68</th>\n",
       "      <td>2012</td>\n",
       "      <td>RUH</td>\n",
       "      <td>30795</td>\n",
       "      <td>37021</td>\n",
       "      <td>10.944987</td>\n",
       "      <td>19.824573</td>\n",
       "    </tr>\n",
       "    <tr>\n",
       "      <th>94</th>\n",
       "      <td>2013</td>\n",
       "      <td>RUH</td>\n",
       "      <td>32548</td>\n",
       "      <td>37782</td>\n",
       "      <td>5.692483</td>\n",
       "      <td>2.055590</td>\n",
       "    </tr>\n",
       "    <tr>\n",
       "      <th>120</th>\n",
       "      <td>2014</td>\n",
       "      <td>RUH</td>\n",
       "      <td>31998</td>\n",
       "      <td>40901</td>\n",
       "      <td>-1.689812</td>\n",
       "      <td>8.255254</td>\n",
       "    </tr>\n",
       "    <tr>\n",
       "      <th>146</th>\n",
       "      <td>2015</td>\n",
       "      <td>RUH</td>\n",
       "      <td>32773</td>\n",
       "      <td>46530</td>\n",
       "      <td>2.422026</td>\n",
       "      <td>13.762500</td>\n",
       "    </tr>\n",
       "    <tr>\n",
       "      <th>173</th>\n",
       "      <td>2016</td>\n",
       "      <td>RUH</td>\n",
       "      <td>41274</td>\n",
       "      <td>56440</td>\n",
       "      <td>25.939035</td>\n",
       "      <td>21.298087</td>\n",
       "    </tr>\n",
       "    <tr>\n",
       "      <th>200</th>\n",
       "      <td>2017</td>\n",
       "      <td>RUH</td>\n",
       "      <td>46586</td>\n",
       "      <td>55188</td>\n",
       "      <td>12.870088</td>\n",
       "      <td>-2.218285</td>\n",
       "    </tr>\n",
       "    <tr>\n",
       "      <th>227</th>\n",
       "      <td>2018</td>\n",
       "      <td>RUH</td>\n",
       "      <td>47626</td>\n",
       "      <td>56612</td>\n",
       "      <td>2.232430</td>\n",
       "      <td>2.580271</td>\n",
       "    </tr>\n",
       "    <tr>\n",
       "      <th>255</th>\n",
       "      <td>2019</td>\n",
       "      <td>RUH</td>\n",
       "      <td>43561</td>\n",
       "      <td>62533</td>\n",
       "      <td>-8.535254</td>\n",
       "      <td>10.458913</td>\n",
       "    </tr>\n",
       "    <tr>\n",
       "      <th>283</th>\n",
       "      <td>2020</td>\n",
       "      <td>RUH</td>\n",
       "      <td>17569</td>\n",
       "      <td>34108</td>\n",
       "      <td>-59.668052</td>\n",
       "      <td>-45.455999</td>\n",
       "    </tr>\n",
       "    <tr>\n",
       "      <th>311</th>\n",
       "      <td>2021</td>\n",
       "      <td>RUH</td>\n",
       "      <td>23217</td>\n",
       "      <td>46682</td>\n",
       "      <td>32.147533</td>\n",
       "      <td>36.865252</td>\n",
       "    </tr>\n",
       "  </tbody>\n",
       "</table>\n",
       "</div>"
      ],
      "text/plain": [
       "     Year Airport  FlightsA-international  FlightsA-Domestic  \\\n",
       "17   2010     RUH                   24985              30512   \n",
       "42   2011     RUH                   27757              30896   \n",
       "68   2012     RUH                   30795              37021   \n",
       "94   2013     RUH                   32548              37782   \n",
       "120  2014     RUH                   31998              40901   \n",
       "146  2015     RUH                   32773              46530   \n",
       "173  2016     RUH                   41274              56440   \n",
       "200  2017     RUH                   46586              55188   \n",
       "227  2018     RUH                   47626              56612   \n",
       "255  2019     RUH                   43561              62533   \n",
       "283  2020     RUH                   17569              34108   \n",
       "311  2021     RUH                   23217              46682   \n",
       "\n",
       "     changes_international_arr  changes_domestic_arr  \n",
       "17                         NaN                   NaN  \n",
       "42                   11.094657              1.258521  \n",
       "68                   10.944987             19.824573  \n",
       "94                    5.692483              2.055590  \n",
       "120                  -1.689812              8.255254  \n",
       "146                   2.422026             13.762500  \n",
       "173                  25.939035             21.298087  \n",
       "200                  12.870088             -2.218285  \n",
       "227                   2.232430              2.580271  \n",
       "255                  -8.535254             10.458913  \n",
       "283                 -59.668052            -45.455999  \n",
       "311                  32.147533             36.865252  "
      ]
     },
     "execution_count": 30,
     "metadata": {},
     "output_type": "execute_result"
    }
   ],
   "source": [
    "Riyadh_A_flights=Riyadh_A_flights.copy()\n",
    "# again applying pct_change() to have the rate changes\n",
    "# International flights\n",
    "Riyadh_Ar_changes=Riyadh_A_flights['FlightsA-international'].pct_change()\n",
    "Riyadh_A_flights['changes_international_arr']=Riyadh_Ar_changes*100 # to convert result to absolute are \n",
    "# Domestic flights\n",
    "Riyadh_AD_changes=Riyadh_A_flights['FlightsA-Domestic'].pct_change()\n",
    "Riyadh_A_flights['changes_domestic_arr']=Riyadh_AD_changes*100\n",
    "\n",
    "\n",
    "Riyadh_A_flights"
   ]
  },
  {
   "cell_type": "markdown",
   "id": "1f5724e0",
   "metadata": {},
   "source": [
    "So the answer to my <i>question above</i>,  number of domestic arrivals flight to Riyadh, increased by 10.45% in 2019.<br> <li>Passengers from the inside were the key of this increasement</li> not surprising because in 2019  Riyadh season was launched by the General Entertainment Authority. The festival is part of the Kingdom's Vision 2030 and its goal to enhance the quality of life for citizens and residents. "
   ]
  },
  {
   "cell_type": "markdown",
   "id": "986d79b6",
   "metadata": {},
   "source": [
    "**2016** shows the highest increasing flights rate of 21% comparing to 2015, this maybe the result of increased/added new destinations of the popular carrier (flynas), along with that, the new terminal 5 opend in 2016."
   ]
  },
  {
   "cell_type": "code",
   "execution_count": 31,
   "id": "0ddb24cb",
   "metadata": {
    "scrolled": false
   },
   "outputs": [
    {
     "data": {
      "application/vnd.plotly.v1+json": {
       "config": {
        "plotlyServerURL": "https://plot.ly"
       },
       "data": [
        {
         "hovertemplate": "Year=%{x}<br>Changes=%{y}<extra></extra>",
         "legendgroup": "",
         "line": {
          "color": "#636efa",
          "dash": "solid"
         },
         "marker": {
          "symbol": "circle"
         },
         "mode": "lines",
         "name": "",
         "orientation": "v",
         "showlegend": false,
         "type": "scatter",
         "x": [
          2010,
          2011,
          2012,
          2013,
          2014,
          2015,
          2016,
          2017,
          2018,
          2019,
          2020,
          2021
         ],
         "xaxis": "x",
         "y": [
          null,
          11.09465679407644,
          10.944986850163918,
          5.692482545867827,
          -1.6898119700135217,
          2.422026376648545,
          25.939035181399326,
          12.870087706546496,
          2.232430343880143,
          -8.535253852937474,
          -59.668051697619426,
          32.14753258580454
         ],
         "yaxis": "y"
        },
        {
         "name": "RUH - International Flights Arrival",
         "type": "scatter",
         "x": [
          2010,
          2011,
          2012,
          2013,
          2014,
          2015,
          2016,
          2017,
          2018,
          2019,
          2020,
          2021
         ],
         "y": [
          null,
          11.09465679407644,
          10.944986850163918,
          5.692482545867827,
          -1.6898119700135217,
          2.422026376648545,
          25.939035181399326,
          12.870087706546496,
          2.232430343880143,
          -8.535253852937474,
          -59.668051697619426,
          32.14753258580454
         ]
        },
        {
         "name": "RUH - Domestic Flights Arrival",
         "type": "scatter",
         "x": [
          2010,
          2011,
          2012,
          2013,
          2014,
          2015,
          2016,
          2017,
          2018,
          2019,
          2020,
          2021
         ],
         "y": [
          null,
          1.2585212375458843,
          19.824572760227866,
          2.0555900705005348,
          8.25525382457255,
          13.76249969438399,
          21.29808725553406,
          -2.2182849043231756,
          2.580271073421758,
          10.458913304599736,
          -45.45599923240529,
          36.865251553887646
         ]
        }
       ],
       "layout": {
        "legend": {
         "tracegroupgap": 0
        },
        "margin": {
         "t": 60
        },
        "template": {
         "data": {
          "bar": [
           {
            "error_x": {
             "color": "#2a3f5f"
            },
            "error_y": {
             "color": "#2a3f5f"
            },
            "marker": {
             "line": {
              "color": "#E5ECF6",
              "width": 0.5
             },
             "pattern": {
              "fillmode": "overlay",
              "size": 10,
              "solidity": 0.2
             }
            },
            "type": "bar"
           }
          ],
          "barpolar": [
           {
            "marker": {
             "line": {
              "color": "#E5ECF6",
              "width": 0.5
             },
             "pattern": {
              "fillmode": "overlay",
              "size": 10,
              "solidity": 0.2
             }
            },
            "type": "barpolar"
           }
          ],
          "carpet": [
           {
            "aaxis": {
             "endlinecolor": "#2a3f5f",
             "gridcolor": "white",
             "linecolor": "white",
             "minorgridcolor": "white",
             "startlinecolor": "#2a3f5f"
            },
            "baxis": {
             "endlinecolor": "#2a3f5f",
             "gridcolor": "white",
             "linecolor": "white",
             "minorgridcolor": "white",
             "startlinecolor": "#2a3f5f"
            },
            "type": "carpet"
           }
          ],
          "choropleth": [
           {
            "colorbar": {
             "outlinewidth": 0,
             "ticks": ""
            },
            "type": "choropleth"
           }
          ],
          "contour": [
           {
            "colorbar": {
             "outlinewidth": 0,
             "ticks": ""
            },
            "colorscale": [
             [
              0,
              "#0d0887"
             ],
             [
              0.1111111111111111,
              "#46039f"
             ],
             [
              0.2222222222222222,
              "#7201a8"
             ],
             [
              0.3333333333333333,
              "#9c179e"
             ],
             [
              0.4444444444444444,
              "#bd3786"
             ],
             [
              0.5555555555555556,
              "#d8576b"
             ],
             [
              0.6666666666666666,
              "#ed7953"
             ],
             [
              0.7777777777777778,
              "#fb9f3a"
             ],
             [
              0.8888888888888888,
              "#fdca26"
             ],
             [
              1,
              "#f0f921"
             ]
            ],
            "type": "contour"
           }
          ],
          "contourcarpet": [
           {
            "colorbar": {
             "outlinewidth": 0,
             "ticks": ""
            },
            "type": "contourcarpet"
           }
          ],
          "heatmap": [
           {
            "colorbar": {
             "outlinewidth": 0,
             "ticks": ""
            },
            "colorscale": [
             [
              0,
              "#0d0887"
             ],
             [
              0.1111111111111111,
              "#46039f"
             ],
             [
              0.2222222222222222,
              "#7201a8"
             ],
             [
              0.3333333333333333,
              "#9c179e"
             ],
             [
              0.4444444444444444,
              "#bd3786"
             ],
             [
              0.5555555555555556,
              "#d8576b"
             ],
             [
              0.6666666666666666,
              "#ed7953"
             ],
             [
              0.7777777777777778,
              "#fb9f3a"
             ],
             [
              0.8888888888888888,
              "#fdca26"
             ],
             [
              1,
              "#f0f921"
             ]
            ],
            "type": "heatmap"
           }
          ],
          "heatmapgl": [
           {
            "colorbar": {
             "outlinewidth": 0,
             "ticks": ""
            },
            "colorscale": [
             [
              0,
              "#0d0887"
             ],
             [
              0.1111111111111111,
              "#46039f"
             ],
             [
              0.2222222222222222,
              "#7201a8"
             ],
             [
              0.3333333333333333,
              "#9c179e"
             ],
             [
              0.4444444444444444,
              "#bd3786"
             ],
             [
              0.5555555555555556,
              "#d8576b"
             ],
             [
              0.6666666666666666,
              "#ed7953"
             ],
             [
              0.7777777777777778,
              "#fb9f3a"
             ],
             [
              0.8888888888888888,
              "#fdca26"
             ],
             [
              1,
              "#f0f921"
             ]
            ],
            "type": "heatmapgl"
           }
          ],
          "histogram": [
           {
            "marker": {
             "pattern": {
              "fillmode": "overlay",
              "size": 10,
              "solidity": 0.2
             }
            },
            "type": "histogram"
           }
          ],
          "histogram2d": [
           {
            "colorbar": {
             "outlinewidth": 0,
             "ticks": ""
            },
            "colorscale": [
             [
              0,
              "#0d0887"
             ],
             [
              0.1111111111111111,
              "#46039f"
             ],
             [
              0.2222222222222222,
              "#7201a8"
             ],
             [
              0.3333333333333333,
              "#9c179e"
             ],
             [
              0.4444444444444444,
              "#bd3786"
             ],
             [
              0.5555555555555556,
              "#d8576b"
             ],
             [
              0.6666666666666666,
              "#ed7953"
             ],
             [
              0.7777777777777778,
              "#fb9f3a"
             ],
             [
              0.8888888888888888,
              "#fdca26"
             ],
             [
              1,
              "#f0f921"
             ]
            ],
            "type": "histogram2d"
           }
          ],
          "histogram2dcontour": [
           {
            "colorbar": {
             "outlinewidth": 0,
             "ticks": ""
            },
            "colorscale": [
             [
              0,
              "#0d0887"
             ],
             [
              0.1111111111111111,
              "#46039f"
             ],
             [
              0.2222222222222222,
              "#7201a8"
             ],
             [
              0.3333333333333333,
              "#9c179e"
             ],
             [
              0.4444444444444444,
              "#bd3786"
             ],
             [
              0.5555555555555556,
              "#d8576b"
             ],
             [
              0.6666666666666666,
              "#ed7953"
             ],
             [
              0.7777777777777778,
              "#fb9f3a"
             ],
             [
              0.8888888888888888,
              "#fdca26"
             ],
             [
              1,
              "#f0f921"
             ]
            ],
            "type": "histogram2dcontour"
           }
          ],
          "mesh3d": [
           {
            "colorbar": {
             "outlinewidth": 0,
             "ticks": ""
            },
            "type": "mesh3d"
           }
          ],
          "parcoords": [
           {
            "line": {
             "colorbar": {
              "outlinewidth": 0,
              "ticks": ""
             }
            },
            "type": "parcoords"
           }
          ],
          "pie": [
           {
            "automargin": true,
            "type": "pie"
           }
          ],
          "scatter": [
           {
            "marker": {
             "colorbar": {
              "outlinewidth": 0,
              "ticks": ""
             }
            },
            "type": "scatter"
           }
          ],
          "scatter3d": [
           {
            "line": {
             "colorbar": {
              "outlinewidth": 0,
              "ticks": ""
             }
            },
            "marker": {
             "colorbar": {
              "outlinewidth": 0,
              "ticks": ""
             }
            },
            "type": "scatter3d"
           }
          ],
          "scattercarpet": [
           {
            "marker": {
             "colorbar": {
              "outlinewidth": 0,
              "ticks": ""
             }
            },
            "type": "scattercarpet"
           }
          ],
          "scattergeo": [
           {
            "marker": {
             "colorbar": {
              "outlinewidth": 0,
              "ticks": ""
             }
            },
            "type": "scattergeo"
           }
          ],
          "scattergl": [
           {
            "marker": {
             "colorbar": {
              "outlinewidth": 0,
              "ticks": ""
             }
            },
            "type": "scattergl"
           }
          ],
          "scattermapbox": [
           {
            "marker": {
             "colorbar": {
              "outlinewidth": 0,
              "ticks": ""
             }
            },
            "type": "scattermapbox"
           }
          ],
          "scatterpolar": [
           {
            "marker": {
             "colorbar": {
              "outlinewidth": 0,
              "ticks": ""
             }
            },
            "type": "scatterpolar"
           }
          ],
          "scatterpolargl": [
           {
            "marker": {
             "colorbar": {
              "outlinewidth": 0,
              "ticks": ""
             }
            },
            "type": "scatterpolargl"
           }
          ],
          "scatterternary": [
           {
            "marker": {
             "colorbar": {
              "outlinewidth": 0,
              "ticks": ""
             }
            },
            "type": "scatterternary"
           }
          ],
          "surface": [
           {
            "colorbar": {
             "outlinewidth": 0,
             "ticks": ""
            },
            "colorscale": [
             [
              0,
              "#0d0887"
             ],
             [
              0.1111111111111111,
              "#46039f"
             ],
             [
              0.2222222222222222,
              "#7201a8"
             ],
             [
              0.3333333333333333,
              "#9c179e"
             ],
             [
              0.4444444444444444,
              "#bd3786"
             ],
             [
              0.5555555555555556,
              "#d8576b"
             ],
             [
              0.6666666666666666,
              "#ed7953"
             ],
             [
              0.7777777777777778,
              "#fb9f3a"
             ],
             [
              0.8888888888888888,
              "#fdca26"
             ],
             [
              1,
              "#f0f921"
             ]
            ],
            "type": "surface"
           }
          ],
          "table": [
           {
            "cells": {
             "fill": {
              "color": "#EBF0F8"
             },
             "line": {
              "color": "white"
             }
            },
            "header": {
             "fill": {
              "color": "#C8D4E3"
             },
             "line": {
              "color": "white"
             }
            },
            "type": "table"
           }
          ]
         },
         "layout": {
          "annotationdefaults": {
           "arrowcolor": "#2a3f5f",
           "arrowhead": 0,
           "arrowwidth": 1
          },
          "autotypenumbers": "strict",
          "coloraxis": {
           "colorbar": {
            "outlinewidth": 0,
            "ticks": ""
           }
          },
          "colorscale": {
           "diverging": [
            [
             0,
             "#8e0152"
            ],
            [
             0.1,
             "#c51b7d"
            ],
            [
             0.2,
             "#de77ae"
            ],
            [
             0.3,
             "#f1b6da"
            ],
            [
             0.4,
             "#fde0ef"
            ],
            [
             0.5,
             "#f7f7f7"
            ],
            [
             0.6,
             "#e6f5d0"
            ],
            [
             0.7,
             "#b8e186"
            ],
            [
             0.8,
             "#7fbc41"
            ],
            [
             0.9,
             "#4d9221"
            ],
            [
             1,
             "#276419"
            ]
           ],
           "sequential": [
            [
             0,
             "#0d0887"
            ],
            [
             0.1111111111111111,
             "#46039f"
            ],
            [
             0.2222222222222222,
             "#7201a8"
            ],
            [
             0.3333333333333333,
             "#9c179e"
            ],
            [
             0.4444444444444444,
             "#bd3786"
            ],
            [
             0.5555555555555556,
             "#d8576b"
            ],
            [
             0.6666666666666666,
             "#ed7953"
            ],
            [
             0.7777777777777778,
             "#fb9f3a"
            ],
            [
             0.8888888888888888,
             "#fdca26"
            ],
            [
             1,
             "#f0f921"
            ]
           ],
           "sequentialminus": [
            [
             0,
             "#0d0887"
            ],
            [
             0.1111111111111111,
             "#46039f"
            ],
            [
             0.2222222222222222,
             "#7201a8"
            ],
            [
             0.3333333333333333,
             "#9c179e"
            ],
            [
             0.4444444444444444,
             "#bd3786"
            ],
            [
             0.5555555555555556,
             "#d8576b"
            ],
            [
             0.6666666666666666,
             "#ed7953"
            ],
            [
             0.7777777777777778,
             "#fb9f3a"
            ],
            [
             0.8888888888888888,
             "#fdca26"
            ],
            [
             1,
             "#f0f921"
            ]
           ]
          },
          "colorway": [
           "#636efa",
           "#EF553B",
           "#00cc96",
           "#ab63fa",
           "#FFA15A",
           "#19d3f3",
           "#FF6692",
           "#B6E880",
           "#FF97FF",
           "#FECB52"
          ],
          "font": {
           "color": "#2a3f5f"
          },
          "geo": {
           "bgcolor": "white",
           "lakecolor": "white",
           "landcolor": "#E5ECF6",
           "showlakes": true,
           "showland": true,
           "subunitcolor": "white"
          },
          "hoverlabel": {
           "align": "left"
          },
          "hovermode": "closest",
          "mapbox": {
           "style": "light"
          },
          "paper_bgcolor": "white",
          "plot_bgcolor": "#E5ECF6",
          "polar": {
           "angularaxis": {
            "gridcolor": "white",
            "linecolor": "white",
            "ticks": ""
           },
           "bgcolor": "#E5ECF6",
           "radialaxis": {
            "gridcolor": "white",
            "linecolor": "white",
            "ticks": ""
           }
          },
          "scene": {
           "xaxis": {
            "backgroundcolor": "#E5ECF6",
            "gridcolor": "white",
            "gridwidth": 2,
            "linecolor": "white",
            "showbackground": true,
            "ticks": "",
            "zerolinecolor": "white"
           },
           "yaxis": {
            "backgroundcolor": "#E5ECF6",
            "gridcolor": "white",
            "gridwidth": 2,
            "linecolor": "white",
            "showbackground": true,
            "ticks": "",
            "zerolinecolor": "white"
           },
           "zaxis": {
            "backgroundcolor": "#E5ECF6",
            "gridcolor": "white",
            "gridwidth": 2,
            "linecolor": "white",
            "showbackground": true,
            "ticks": "",
            "zerolinecolor": "white"
           }
          },
          "shapedefaults": {
           "line": {
            "color": "#2a3f5f"
           }
          },
          "ternary": {
           "aaxis": {
            "gridcolor": "white",
            "linecolor": "white",
            "ticks": ""
           },
           "baxis": {
            "gridcolor": "white",
            "linecolor": "white",
            "ticks": ""
           },
           "bgcolor": "#E5ECF6",
           "caxis": {
            "gridcolor": "white",
            "linecolor": "white",
            "ticks": ""
           }
          },
          "title": {
           "x": 0.05
          },
          "xaxis": {
           "automargin": true,
           "gridcolor": "white",
           "linecolor": "white",
           "ticks": "",
           "title": {
            "standoff": 15
           },
           "zerolinecolor": "white",
           "zerolinewidth": 2
          },
          "yaxis": {
           "automargin": true,
           "gridcolor": "white",
           "linecolor": "white",
           "ticks": "",
           "title": {
            "standoff": 15
           },
           "zerolinecolor": "white",
           "zerolinewidth": 2
          }
         }
        },
        "xaxis": {
         "anchor": "y",
         "domain": [
          0,
          1
         ],
         "showgrid": false,
         "title": {
          "text": "Year"
         }
        },
        "yaxis": {
         "anchor": "x",
         "domain": [
          0,
          1
         ],
         "showgrid": false,
         "title": {
          "text": "Changes"
         }
        }
       }
      }
     },
     "metadata": {},
     "output_type": "display_data"
    }
   ],
   "source": [
    "import plotly.express as px\n",
    "\n",
    "fig = px.line(\n",
    "x=Riyadh_A_flights.Year,\n",
    "y= Riyadh_A_flights.changes_international_arr,\n",
    "labels=dict(x=\"Year\", y=\"Changes\")\n",
    "\n",
    ")\n",
    "fig.add_scatter(x=Riyadh_A_flights.Year,\n",
    "y=Riyadh_A_flights.changes_international_arr,\n",
    "name = 'RUH - International Flights Arrival',\n",
    "\n",
    ")\n",
    "fig.add_scatter(x=Riyadh_A_flights.Year,\n",
    "y=Riyadh_A_flights.changes_domestic_arr,\n",
    "name = 'RUH - Domestic Flights Arrival')\n",
    "\n",
    "# Hide grid lines\n",
    "fig.update_xaxes(showgrid=False)\n",
    "fig.update_yaxes(showgrid=False)\n",
    "fig.show()"
   ]
  },
  {
   "cell_type": "markdown",
   "id": "3477b8d7",
   "metadata": {},
   "source": [
    "Domestic arrivals to Riyadh is increased by 10% in it's second largest increased after 2016, therefor, the tourism events was opend in 2019 for the first time. Arrival flights from out decreased. Even though the arrivals number of passenger in 2019 increased by 1.83% from 2018."
   ]
  },
  {
   "cell_type": "markdown",
   "id": "6b9e8ccb",
   "metadata": {},
   "source": [
    "#### 2.1.1 Air Passengers Monthly - RUH"
   ]
  },
  {
   "cell_type": "code",
   "execution_count": 32,
   "id": "36d8ed9f",
   "metadata": {
    "scrolled": false
   },
   "outputs": [],
   "source": [
    "# assign Riyadh airport rows to new varibale\n",
    "Riyadh=passengers[['Year','Month_short','dom/intl','RUH']]\n",
    "Riyadh.sample(10)\n",
    "\n",
    "# save the mean of air passengers numbers from (2015-2022) because the passenger dataset are limited to this period\n",
    "riyadh=Riyadh.groupby(['Year']).agg({'RUH':'mean'})\n",
    "#Riyadh"
   ]
  },
  {
   "cell_type": "markdown",
   "id": "9b37a2ae",
   "metadata": {},
   "source": [
    "Since 2019 having clear factors behind the growth of passengers, i will plot the number of passengers (international, domestic) starting from 2019 - 2021"
   ]
  },
  {
   "cell_type": "code",
   "execution_count": 33,
   "id": "71b6c7f8",
   "metadata": {},
   "outputs": [],
   "source": [
    "# filter to have only the three years  \n",
    "\n",
    "RUH_2019=Riyadh.loc[(Riyadh[\"Year\"] == 2019),:].reset_index()\n",
    "RUH_2020=Riyadh.loc[(Riyadh[\"Year\"] == 2020),:].reset_index()\n",
    "RUH_2021=Riyadh.loc[(Riyadh[\"Year\"] == 2021),:].reset_index()"
   ]
  },
  {
   "cell_type": "code",
   "execution_count": 34,
   "id": "dc538805",
   "metadata": {
    "scrolled": true
   },
   "outputs": [],
   "source": [
    "# filter to have only international travellers \n",
    "Riyadh_international_2019=RUH_2019.loc[(RUH_2019[\"dom/intl\"] == \"international\"),:].reset_index()\n",
    "Riyadh_international_2020=RUH_2020.loc[(RUH_2020[\"dom/intl\"] == \"international\"),:].reset_index()\n",
    "Riyadh_international_2021=RUH_2021.loc[(RUH_2021[\"dom/intl\"] == \"international\"),:].reset_index()\n",
    "\n",
    "Riyadh_domestic_2019=RUH_2019.loc[(RUH_2019[\"dom/intl\"] == \"Domestic\"),:].reset_index()\n",
    "Riyadh_domestic_2020=RUH_2020.loc[(RUH_2020[\"dom/intl\"] == \"Domestic\"),:].reset_index()\n",
    "Riyadh_domestic_2021=RUH_2021.loc[(RUH_2021[\"dom/intl\"] == \"Domestic\"),:].reset_index()\n"
   ]
  },
  {
   "cell_type": "code",
   "execution_count": 35,
   "id": "f15af54c",
   "metadata": {
    "scrolled": false
   },
   "outputs": [
    {
     "data": {
      "application/vnd.plotly.v1+json": {
       "config": {
        "plotlyServerURL": "https://plot.ly"
       },
       "data": [
        {
         "type": "scatter",
         "x": [
          "Jan",
          "Feb",
          "Mar",
          "Apr",
          "May",
          "Jun",
          "Jul",
          "Aug",
          "Sep",
          "Oct",
          "Nov",
          "Dec"
         ],
         "xaxis": "x",
         "y": [
          1023050,
          840489,
          974434,
          1005210,
          900654,
          1158527,
          1294478,
          1274336,
          993739,
          945115,
          963058,
          1036527
         ],
         "yaxis": "y"
        },
        {
         "type": "scatter",
         "x": [
          "Jan",
          "Feb",
          "Mar",
          "Apr",
          "May",
          "Jun",
          "Jul",
          "Aug",
          "Sep",
          "Oct",
          "Nov",
          "Dec"
         ],
         "xaxis": "x2",
         "y": [
          1181084,
          932405,
          355666,
          14735,
          26166,
          79113,
          121943,
          105809,
          179990,
          268984,
          270595,
          250075
         ],
         "yaxis": "y2"
        },
        {
         "type": "scatter",
         "x": [
          "Jan",
          "Feb",
          "Mar",
          "Apr",
          "May",
          "Jun",
          "Jul",
          "Aug",
          "Sep",
          "Oct",
          "Nov",
          "Dec"
         ],
         "xaxis": "x3",
         "y": [
          415435,
          265800,
          266788,
          275853,
          295140,
          418271,
          485549,
          490199,
          563730,
          703765,
          720257,
          822950
         ],
         "yaxis": "y3"
        }
       ],
       "layout": {
        "annotations": [
         {
          "font": {
           "size": 16
          },
          "showarrow": false,
          "text": "International Air Passengers 2019",
          "x": 0.5,
          "xanchor": "center",
          "xref": "paper",
          "y": 1,
          "yanchor": "bottom",
          "yref": "paper"
         },
         {
          "font": {
           "size": 16
          },
          "showarrow": false,
          "text": "International Air Passengers 2020",
          "x": 0.5,
          "xanchor": "center",
          "xref": "paper",
          "y": 0.6111111111111112,
          "yanchor": "bottom",
          "yref": "paper"
         },
         {
          "font": {
           "size": 16
          },
          "showarrow": false,
          "text": "International Air Passengers 2021",
          "x": 0.5,
          "xanchor": "center",
          "xref": "paper",
          "y": 0.22222222222222224,
          "yanchor": "bottom",
          "yref": "paper"
         }
        ],
        "height": 500,
        "template": {
         "data": {
          "bar": [
           {
            "error_x": {
             "color": "#2a3f5f"
            },
            "error_y": {
             "color": "#2a3f5f"
            },
            "marker": {
             "line": {
              "color": "#E5ECF6",
              "width": 0.5
             },
             "pattern": {
              "fillmode": "overlay",
              "size": 10,
              "solidity": 0.2
             }
            },
            "type": "bar"
           }
          ],
          "barpolar": [
           {
            "marker": {
             "line": {
              "color": "#E5ECF6",
              "width": 0.5
             },
             "pattern": {
              "fillmode": "overlay",
              "size": 10,
              "solidity": 0.2
             }
            },
            "type": "barpolar"
           }
          ],
          "carpet": [
           {
            "aaxis": {
             "endlinecolor": "#2a3f5f",
             "gridcolor": "white",
             "linecolor": "white",
             "minorgridcolor": "white",
             "startlinecolor": "#2a3f5f"
            },
            "baxis": {
             "endlinecolor": "#2a3f5f",
             "gridcolor": "white",
             "linecolor": "white",
             "minorgridcolor": "white",
             "startlinecolor": "#2a3f5f"
            },
            "type": "carpet"
           }
          ],
          "choropleth": [
           {
            "colorbar": {
             "outlinewidth": 0,
             "ticks": ""
            },
            "type": "choropleth"
           }
          ],
          "contour": [
           {
            "colorbar": {
             "outlinewidth": 0,
             "ticks": ""
            },
            "colorscale": [
             [
              0,
              "#0d0887"
             ],
             [
              0.1111111111111111,
              "#46039f"
             ],
             [
              0.2222222222222222,
              "#7201a8"
             ],
             [
              0.3333333333333333,
              "#9c179e"
             ],
             [
              0.4444444444444444,
              "#bd3786"
             ],
             [
              0.5555555555555556,
              "#d8576b"
             ],
             [
              0.6666666666666666,
              "#ed7953"
             ],
             [
              0.7777777777777778,
              "#fb9f3a"
             ],
             [
              0.8888888888888888,
              "#fdca26"
             ],
             [
              1,
              "#f0f921"
             ]
            ],
            "type": "contour"
           }
          ],
          "contourcarpet": [
           {
            "colorbar": {
             "outlinewidth": 0,
             "ticks": ""
            },
            "type": "contourcarpet"
           }
          ],
          "heatmap": [
           {
            "colorbar": {
             "outlinewidth": 0,
             "ticks": ""
            },
            "colorscale": [
             [
              0,
              "#0d0887"
             ],
             [
              0.1111111111111111,
              "#46039f"
             ],
             [
              0.2222222222222222,
              "#7201a8"
             ],
             [
              0.3333333333333333,
              "#9c179e"
             ],
             [
              0.4444444444444444,
              "#bd3786"
             ],
             [
              0.5555555555555556,
              "#d8576b"
             ],
             [
              0.6666666666666666,
              "#ed7953"
             ],
             [
              0.7777777777777778,
              "#fb9f3a"
             ],
             [
              0.8888888888888888,
              "#fdca26"
             ],
             [
              1,
              "#f0f921"
             ]
            ],
            "type": "heatmap"
           }
          ],
          "heatmapgl": [
           {
            "colorbar": {
             "outlinewidth": 0,
             "ticks": ""
            },
            "colorscale": [
             [
              0,
              "#0d0887"
             ],
             [
              0.1111111111111111,
              "#46039f"
             ],
             [
              0.2222222222222222,
              "#7201a8"
             ],
             [
              0.3333333333333333,
              "#9c179e"
             ],
             [
              0.4444444444444444,
              "#bd3786"
             ],
             [
              0.5555555555555556,
              "#d8576b"
             ],
             [
              0.6666666666666666,
              "#ed7953"
             ],
             [
              0.7777777777777778,
              "#fb9f3a"
             ],
             [
              0.8888888888888888,
              "#fdca26"
             ],
             [
              1,
              "#f0f921"
             ]
            ],
            "type": "heatmapgl"
           }
          ],
          "histogram": [
           {
            "marker": {
             "pattern": {
              "fillmode": "overlay",
              "size": 10,
              "solidity": 0.2
             }
            },
            "type": "histogram"
           }
          ],
          "histogram2d": [
           {
            "colorbar": {
             "outlinewidth": 0,
             "ticks": ""
            },
            "colorscale": [
             [
              0,
              "#0d0887"
             ],
             [
              0.1111111111111111,
              "#46039f"
             ],
             [
              0.2222222222222222,
              "#7201a8"
             ],
             [
              0.3333333333333333,
              "#9c179e"
             ],
             [
              0.4444444444444444,
              "#bd3786"
             ],
             [
              0.5555555555555556,
              "#d8576b"
             ],
             [
              0.6666666666666666,
              "#ed7953"
             ],
             [
              0.7777777777777778,
              "#fb9f3a"
             ],
             [
              0.8888888888888888,
              "#fdca26"
             ],
             [
              1,
              "#f0f921"
             ]
            ],
            "type": "histogram2d"
           }
          ],
          "histogram2dcontour": [
           {
            "colorbar": {
             "outlinewidth": 0,
             "ticks": ""
            },
            "colorscale": [
             [
              0,
              "#0d0887"
             ],
             [
              0.1111111111111111,
              "#46039f"
             ],
             [
              0.2222222222222222,
              "#7201a8"
             ],
             [
              0.3333333333333333,
              "#9c179e"
             ],
             [
              0.4444444444444444,
              "#bd3786"
             ],
             [
              0.5555555555555556,
              "#d8576b"
             ],
             [
              0.6666666666666666,
              "#ed7953"
             ],
             [
              0.7777777777777778,
              "#fb9f3a"
             ],
             [
              0.8888888888888888,
              "#fdca26"
             ],
             [
              1,
              "#f0f921"
             ]
            ],
            "type": "histogram2dcontour"
           }
          ],
          "mesh3d": [
           {
            "colorbar": {
             "outlinewidth": 0,
             "ticks": ""
            },
            "type": "mesh3d"
           }
          ],
          "parcoords": [
           {
            "line": {
             "colorbar": {
              "outlinewidth": 0,
              "ticks": ""
             }
            },
            "type": "parcoords"
           }
          ],
          "pie": [
           {
            "automargin": true,
            "type": "pie"
           }
          ],
          "scatter": [
           {
            "marker": {
             "colorbar": {
              "outlinewidth": 0,
              "ticks": ""
             }
            },
            "type": "scatter"
           }
          ],
          "scatter3d": [
           {
            "line": {
             "colorbar": {
              "outlinewidth": 0,
              "ticks": ""
             }
            },
            "marker": {
             "colorbar": {
              "outlinewidth": 0,
              "ticks": ""
             }
            },
            "type": "scatter3d"
           }
          ],
          "scattercarpet": [
           {
            "marker": {
             "colorbar": {
              "outlinewidth": 0,
              "ticks": ""
             }
            },
            "type": "scattercarpet"
           }
          ],
          "scattergeo": [
           {
            "marker": {
             "colorbar": {
              "outlinewidth": 0,
              "ticks": ""
             }
            },
            "type": "scattergeo"
           }
          ],
          "scattergl": [
           {
            "marker": {
             "colorbar": {
              "outlinewidth": 0,
              "ticks": ""
             }
            },
            "type": "scattergl"
           }
          ],
          "scattermapbox": [
           {
            "marker": {
             "colorbar": {
              "outlinewidth": 0,
              "ticks": ""
             }
            },
            "type": "scattermapbox"
           }
          ],
          "scatterpolar": [
           {
            "marker": {
             "colorbar": {
              "outlinewidth": 0,
              "ticks": ""
             }
            },
            "type": "scatterpolar"
           }
          ],
          "scatterpolargl": [
           {
            "marker": {
             "colorbar": {
              "outlinewidth": 0,
              "ticks": ""
             }
            },
            "type": "scatterpolargl"
           }
          ],
          "scatterternary": [
           {
            "marker": {
             "colorbar": {
              "outlinewidth": 0,
              "ticks": ""
             }
            },
            "type": "scatterternary"
           }
          ],
          "surface": [
           {
            "colorbar": {
             "outlinewidth": 0,
             "ticks": ""
            },
            "colorscale": [
             [
              0,
              "#0d0887"
             ],
             [
              0.1111111111111111,
              "#46039f"
             ],
             [
              0.2222222222222222,
              "#7201a8"
             ],
             [
              0.3333333333333333,
              "#9c179e"
             ],
             [
              0.4444444444444444,
              "#bd3786"
             ],
             [
              0.5555555555555556,
              "#d8576b"
             ],
             [
              0.6666666666666666,
              "#ed7953"
             ],
             [
              0.7777777777777778,
              "#fb9f3a"
             ],
             [
              0.8888888888888888,
              "#fdca26"
             ],
             [
              1,
              "#f0f921"
             ]
            ],
            "type": "surface"
           }
          ],
          "table": [
           {
            "cells": {
             "fill": {
              "color": "#EBF0F8"
             },
             "line": {
              "color": "white"
             }
            },
            "header": {
             "fill": {
              "color": "#C8D4E3"
             },
             "line": {
              "color": "white"
             }
            },
            "type": "table"
           }
          ]
         },
         "layout": {
          "annotationdefaults": {
           "arrowcolor": "#2a3f5f",
           "arrowhead": 0,
           "arrowwidth": 1
          },
          "autotypenumbers": "strict",
          "coloraxis": {
           "colorbar": {
            "outlinewidth": 0,
            "ticks": ""
           }
          },
          "colorscale": {
           "diverging": [
            [
             0,
             "#8e0152"
            ],
            [
             0.1,
             "#c51b7d"
            ],
            [
             0.2,
             "#de77ae"
            ],
            [
             0.3,
             "#f1b6da"
            ],
            [
             0.4,
             "#fde0ef"
            ],
            [
             0.5,
             "#f7f7f7"
            ],
            [
             0.6,
             "#e6f5d0"
            ],
            [
             0.7,
             "#b8e186"
            ],
            [
             0.8,
             "#7fbc41"
            ],
            [
             0.9,
             "#4d9221"
            ],
            [
             1,
             "#276419"
            ]
           ],
           "sequential": [
            [
             0,
             "#0d0887"
            ],
            [
             0.1111111111111111,
             "#46039f"
            ],
            [
             0.2222222222222222,
             "#7201a8"
            ],
            [
             0.3333333333333333,
             "#9c179e"
            ],
            [
             0.4444444444444444,
             "#bd3786"
            ],
            [
             0.5555555555555556,
             "#d8576b"
            ],
            [
             0.6666666666666666,
             "#ed7953"
            ],
            [
             0.7777777777777778,
             "#fb9f3a"
            ],
            [
             0.8888888888888888,
             "#fdca26"
            ],
            [
             1,
             "#f0f921"
            ]
           ],
           "sequentialminus": [
            [
             0,
             "#0d0887"
            ],
            [
             0.1111111111111111,
             "#46039f"
            ],
            [
             0.2222222222222222,
             "#7201a8"
            ],
            [
             0.3333333333333333,
             "#9c179e"
            ],
            [
             0.4444444444444444,
             "#bd3786"
            ],
            [
             0.5555555555555556,
             "#d8576b"
            ],
            [
             0.6666666666666666,
             "#ed7953"
            ],
            [
             0.7777777777777778,
             "#fb9f3a"
            ],
            [
             0.8888888888888888,
             "#fdca26"
            ],
            [
             1,
             "#f0f921"
            ]
           ]
          },
          "colorway": [
           "#636efa",
           "#EF553B",
           "#00cc96",
           "#ab63fa",
           "#FFA15A",
           "#19d3f3",
           "#FF6692",
           "#B6E880",
           "#FF97FF",
           "#FECB52"
          ],
          "font": {
           "color": "#2a3f5f"
          },
          "geo": {
           "bgcolor": "white",
           "lakecolor": "white",
           "landcolor": "#E5ECF6",
           "showlakes": true,
           "showland": true,
           "subunitcolor": "white"
          },
          "hoverlabel": {
           "align": "left"
          },
          "hovermode": "closest",
          "mapbox": {
           "style": "light"
          },
          "paper_bgcolor": "white",
          "plot_bgcolor": "#E5ECF6",
          "polar": {
           "angularaxis": {
            "gridcolor": "white",
            "linecolor": "white",
            "ticks": ""
           },
           "bgcolor": "#E5ECF6",
           "radialaxis": {
            "gridcolor": "white",
            "linecolor": "white",
            "ticks": ""
           }
          },
          "scene": {
           "xaxis": {
            "backgroundcolor": "#E5ECF6",
            "gridcolor": "white",
            "gridwidth": 2,
            "linecolor": "white",
            "showbackground": true,
            "ticks": "",
            "zerolinecolor": "white"
           },
           "yaxis": {
            "backgroundcolor": "#E5ECF6",
            "gridcolor": "white",
            "gridwidth": 2,
            "linecolor": "white",
            "showbackground": true,
            "ticks": "",
            "zerolinecolor": "white"
           },
           "zaxis": {
            "backgroundcolor": "#E5ECF6",
            "gridcolor": "white",
            "gridwidth": 2,
            "linecolor": "white",
            "showbackground": true,
            "ticks": "",
            "zerolinecolor": "white"
           }
          },
          "shapedefaults": {
           "line": {
            "color": "#2a3f5f"
           }
          },
          "ternary": {
           "aaxis": {
            "gridcolor": "white",
            "linecolor": "white",
            "ticks": ""
           },
           "baxis": {
            "gridcolor": "white",
            "linecolor": "white",
            "ticks": ""
           },
           "bgcolor": "#E5ECF6",
           "caxis": {
            "gridcolor": "white",
            "linecolor": "white",
            "ticks": ""
           }
          },
          "title": {
           "x": 0.05
          },
          "xaxis": {
           "automargin": true,
           "gridcolor": "white",
           "linecolor": "white",
           "ticks": "",
           "title": {
            "standoff": 15
           },
           "zerolinecolor": "white",
           "zerolinewidth": 2
          },
          "yaxis": {
           "automargin": true,
           "gridcolor": "white",
           "linecolor": "white",
           "ticks": "",
           "title": {
            "standoff": 15
           },
           "zerolinecolor": "white",
           "zerolinewidth": 2
          }
         }
        },
        "title": {
         "text": " Number Of Passengers to Riyadh from International Airports (2015 - 2021)"
        },
        "width": 1000,
        "xaxis": {
         "anchor": "y",
         "domain": [
          0,
          1
         ]
        },
        "xaxis2": {
         "anchor": "y2",
         "domain": [
          0,
          1
         ]
        },
        "xaxis3": {
         "anchor": "y3",
         "domain": [
          0,
          1
         ]
        },
        "yaxis": {
         "anchor": "x",
         "domain": [
          0.7777777777777778,
          1
         ]
        },
        "yaxis2": {
         "anchor": "x2",
         "domain": [
          0.3888888888888889,
          0.6111111111111112
         ]
        },
        "yaxis3": {
         "anchor": "x3",
         "domain": [
          0,
          0.22222222222222224
         ]
        }
       }
      }
     },
     "metadata": {},
     "output_type": "display_data"
    }
   ],
   "source": [
    "# import libraries to use visualization plots\n",
    "from plotly.subplots import make_subplots\n",
    "import plotly.graph_objects as go\n",
    "\n",
    "fig = make_subplots(\n",
    "    rows=3, cols=1,\n",
    "    subplot_titles=(\"International Air Passengers 2019\", \"International Air Passengers 2020\", \"International Air Passengers 2021\"))\n",
    "\n",
    "fig.add_trace(go.Scatter(x=Riyadh_international_2019.Month_short, y=Riyadh_international_2019.RUH),\n",
    "              row=1, col=1)\n",
    "\n",
    "fig.add_trace(go.Scatter(x=Riyadh_international_2020.Month_short, y=Riyadh_international_2020.RUH),\n",
    "              row=2, col=1)\n",
    "\n",
    "fig.add_trace(go.Scatter(x=Riyadh_international_2021.Month_short, y=Riyadh_international_2021.RUH),\n",
    "              row=3, col=1)\n",
    "\n",
    "\n",
    "\n",
    "fig.update_layout(height=500, width=1000,\n",
    "                  title_text=\" Number Of Passengers to Riyadh from International Airports (2015 - 2021)\")\n",
    "\n",
    "fig.show()"
   ]
  },
  {
   "cell_type": "markdown",
   "id": "c171bab1",
   "metadata": {},
   "source": [
    "<li>Riyadhd Season ( From Oct - Jan):</li>\n",
    "Numbers shows increas in these months.\n",
    "<li>January International Air passengers:</li> The highest number of passengers of Jan month was in  2020, Saudi hosts Saudi Arabia hosts the Dakar Rally, the first time the legendary desert race has taken place in the Middle East\n",
    "<li>August 2021:</li>\n",
    "Numbers shows increas in this months, i assum this related to annouce the country in (1, Aug) to welcome again international tourism’s "
   ]
  },
  {
   "cell_type": "code",
   "execution_count": 36,
   "id": "aba850b0",
   "metadata": {
    "scrolled": false
   },
   "outputs": [
    {
     "data": {
      "application/vnd.plotly.v1+json": {
       "config": {
        "plotlyServerURL": "https://plot.ly"
       },
       "data": [
        {
         "type": "scatter",
         "x": [
          "Jan",
          "Feb",
          "Mar",
          "Apr",
          "May",
          "Jun",
          "Jul",
          "Aug",
          "Sep",
          "Oct",
          "Nov",
          "Dec"
         ],
         "xaxis": "x",
         "y": [
          1356071,
          1208139,
          1456127,
          1393176,
          1451002,
          1456466,
          1503133,
          1360057,
          1328608,
          1395471,
          1356117,
          1410254
         ],
         "yaxis": "y"
        },
        {
         "type": "scatter",
         "x": [
          "Jan",
          "Feb",
          "Mar",
          "Apr",
          "May",
          "Jun",
          "Jul",
          "Aug",
          "Sep",
          "Oct",
          "Nov",
          "Dec"
         ],
         "xaxis": "x2",
         "y": [
          1551456,
          1282024,
          724751,
          2104,
          10347,
          228465,
          440399,
          566075,
          603739,
          688279,
          727722,
          791863
         ],
         "yaxis": "y2"
        },
        {
         "type": "scatter",
         "x": [
          "Jan",
          "Feb",
          "Mar",
          "Apr",
          "May",
          "Jun",
          "Jul",
          "Aug",
          "Sep",
          "Oct",
          "Nov",
          "Dec"
         ],
         "xaxis": "x3",
         "y": [
          904129,
          677347,
          811268,
          739169,
          826366,
          909234,
          897895,
          944300,
          887587,
          1031124,
          1170474,
          1233609
         ],
         "yaxis": "y3"
        }
       ],
       "layout": {
        "annotations": [
         {
          "font": {
           "size": 16
          },
          "showarrow": false,
          "text": "Domestic Air Passengers 2019",
          "x": 0.5,
          "xanchor": "center",
          "xref": "paper",
          "y": 1,
          "yanchor": "bottom",
          "yref": "paper"
         },
         {
          "font": {
           "size": 16
          },
          "showarrow": false,
          "text": "Domestic Air Passengers 2020",
          "x": 0.5,
          "xanchor": "center",
          "xref": "paper",
          "y": 0.6111111111111112,
          "yanchor": "bottom",
          "yref": "paper"
         },
         {
          "font": {
           "size": 16
          },
          "showarrow": false,
          "text": "Domestic Air Passengers 2021",
          "x": 0.5,
          "xanchor": "center",
          "xref": "paper",
          "y": 0.22222222222222224,
          "yanchor": "bottom",
          "yref": "paper"
         }
        ],
        "height": 500,
        "template": {
         "data": {
          "bar": [
           {
            "error_x": {
             "color": "#2a3f5f"
            },
            "error_y": {
             "color": "#2a3f5f"
            },
            "marker": {
             "line": {
              "color": "#E5ECF6",
              "width": 0.5
             },
             "pattern": {
              "fillmode": "overlay",
              "size": 10,
              "solidity": 0.2
             }
            },
            "type": "bar"
           }
          ],
          "barpolar": [
           {
            "marker": {
             "line": {
              "color": "#E5ECF6",
              "width": 0.5
             },
             "pattern": {
              "fillmode": "overlay",
              "size": 10,
              "solidity": 0.2
             }
            },
            "type": "barpolar"
           }
          ],
          "carpet": [
           {
            "aaxis": {
             "endlinecolor": "#2a3f5f",
             "gridcolor": "white",
             "linecolor": "white",
             "minorgridcolor": "white",
             "startlinecolor": "#2a3f5f"
            },
            "baxis": {
             "endlinecolor": "#2a3f5f",
             "gridcolor": "white",
             "linecolor": "white",
             "minorgridcolor": "white",
             "startlinecolor": "#2a3f5f"
            },
            "type": "carpet"
           }
          ],
          "choropleth": [
           {
            "colorbar": {
             "outlinewidth": 0,
             "ticks": ""
            },
            "type": "choropleth"
           }
          ],
          "contour": [
           {
            "colorbar": {
             "outlinewidth": 0,
             "ticks": ""
            },
            "colorscale": [
             [
              0,
              "#0d0887"
             ],
             [
              0.1111111111111111,
              "#46039f"
             ],
             [
              0.2222222222222222,
              "#7201a8"
             ],
             [
              0.3333333333333333,
              "#9c179e"
             ],
             [
              0.4444444444444444,
              "#bd3786"
             ],
             [
              0.5555555555555556,
              "#d8576b"
             ],
             [
              0.6666666666666666,
              "#ed7953"
             ],
             [
              0.7777777777777778,
              "#fb9f3a"
             ],
             [
              0.8888888888888888,
              "#fdca26"
             ],
             [
              1,
              "#f0f921"
             ]
            ],
            "type": "contour"
           }
          ],
          "contourcarpet": [
           {
            "colorbar": {
             "outlinewidth": 0,
             "ticks": ""
            },
            "type": "contourcarpet"
           }
          ],
          "heatmap": [
           {
            "colorbar": {
             "outlinewidth": 0,
             "ticks": ""
            },
            "colorscale": [
             [
              0,
              "#0d0887"
             ],
             [
              0.1111111111111111,
              "#46039f"
             ],
             [
              0.2222222222222222,
              "#7201a8"
             ],
             [
              0.3333333333333333,
              "#9c179e"
             ],
             [
              0.4444444444444444,
              "#bd3786"
             ],
             [
              0.5555555555555556,
              "#d8576b"
             ],
             [
              0.6666666666666666,
              "#ed7953"
             ],
             [
              0.7777777777777778,
              "#fb9f3a"
             ],
             [
              0.8888888888888888,
              "#fdca26"
             ],
             [
              1,
              "#f0f921"
             ]
            ],
            "type": "heatmap"
           }
          ],
          "heatmapgl": [
           {
            "colorbar": {
             "outlinewidth": 0,
             "ticks": ""
            },
            "colorscale": [
             [
              0,
              "#0d0887"
             ],
             [
              0.1111111111111111,
              "#46039f"
             ],
             [
              0.2222222222222222,
              "#7201a8"
             ],
             [
              0.3333333333333333,
              "#9c179e"
             ],
             [
              0.4444444444444444,
              "#bd3786"
             ],
             [
              0.5555555555555556,
              "#d8576b"
             ],
             [
              0.6666666666666666,
              "#ed7953"
             ],
             [
              0.7777777777777778,
              "#fb9f3a"
             ],
             [
              0.8888888888888888,
              "#fdca26"
             ],
             [
              1,
              "#f0f921"
             ]
            ],
            "type": "heatmapgl"
           }
          ],
          "histogram": [
           {
            "marker": {
             "pattern": {
              "fillmode": "overlay",
              "size": 10,
              "solidity": 0.2
             }
            },
            "type": "histogram"
           }
          ],
          "histogram2d": [
           {
            "colorbar": {
             "outlinewidth": 0,
             "ticks": ""
            },
            "colorscale": [
             [
              0,
              "#0d0887"
             ],
             [
              0.1111111111111111,
              "#46039f"
             ],
             [
              0.2222222222222222,
              "#7201a8"
             ],
             [
              0.3333333333333333,
              "#9c179e"
             ],
             [
              0.4444444444444444,
              "#bd3786"
             ],
             [
              0.5555555555555556,
              "#d8576b"
             ],
             [
              0.6666666666666666,
              "#ed7953"
             ],
             [
              0.7777777777777778,
              "#fb9f3a"
             ],
             [
              0.8888888888888888,
              "#fdca26"
             ],
             [
              1,
              "#f0f921"
             ]
            ],
            "type": "histogram2d"
           }
          ],
          "histogram2dcontour": [
           {
            "colorbar": {
             "outlinewidth": 0,
             "ticks": ""
            },
            "colorscale": [
             [
              0,
              "#0d0887"
             ],
             [
              0.1111111111111111,
              "#46039f"
             ],
             [
              0.2222222222222222,
              "#7201a8"
             ],
             [
              0.3333333333333333,
              "#9c179e"
             ],
             [
              0.4444444444444444,
              "#bd3786"
             ],
             [
              0.5555555555555556,
              "#d8576b"
             ],
             [
              0.6666666666666666,
              "#ed7953"
             ],
             [
              0.7777777777777778,
              "#fb9f3a"
             ],
             [
              0.8888888888888888,
              "#fdca26"
             ],
             [
              1,
              "#f0f921"
             ]
            ],
            "type": "histogram2dcontour"
           }
          ],
          "mesh3d": [
           {
            "colorbar": {
             "outlinewidth": 0,
             "ticks": ""
            },
            "type": "mesh3d"
           }
          ],
          "parcoords": [
           {
            "line": {
             "colorbar": {
              "outlinewidth": 0,
              "ticks": ""
             }
            },
            "type": "parcoords"
           }
          ],
          "pie": [
           {
            "automargin": true,
            "type": "pie"
           }
          ],
          "scatter": [
           {
            "marker": {
             "colorbar": {
              "outlinewidth": 0,
              "ticks": ""
             }
            },
            "type": "scatter"
           }
          ],
          "scatter3d": [
           {
            "line": {
             "colorbar": {
              "outlinewidth": 0,
              "ticks": ""
             }
            },
            "marker": {
             "colorbar": {
              "outlinewidth": 0,
              "ticks": ""
             }
            },
            "type": "scatter3d"
           }
          ],
          "scattercarpet": [
           {
            "marker": {
             "colorbar": {
              "outlinewidth": 0,
              "ticks": ""
             }
            },
            "type": "scattercarpet"
           }
          ],
          "scattergeo": [
           {
            "marker": {
             "colorbar": {
              "outlinewidth": 0,
              "ticks": ""
             }
            },
            "type": "scattergeo"
           }
          ],
          "scattergl": [
           {
            "marker": {
             "colorbar": {
              "outlinewidth": 0,
              "ticks": ""
             }
            },
            "type": "scattergl"
           }
          ],
          "scattermapbox": [
           {
            "marker": {
             "colorbar": {
              "outlinewidth": 0,
              "ticks": ""
             }
            },
            "type": "scattermapbox"
           }
          ],
          "scatterpolar": [
           {
            "marker": {
             "colorbar": {
              "outlinewidth": 0,
              "ticks": ""
             }
            },
            "type": "scatterpolar"
           }
          ],
          "scatterpolargl": [
           {
            "marker": {
             "colorbar": {
              "outlinewidth": 0,
              "ticks": ""
             }
            },
            "type": "scatterpolargl"
           }
          ],
          "scatterternary": [
           {
            "marker": {
             "colorbar": {
              "outlinewidth": 0,
              "ticks": ""
             }
            },
            "type": "scatterternary"
           }
          ],
          "surface": [
           {
            "colorbar": {
             "outlinewidth": 0,
             "ticks": ""
            },
            "colorscale": [
             [
              0,
              "#0d0887"
             ],
             [
              0.1111111111111111,
              "#46039f"
             ],
             [
              0.2222222222222222,
              "#7201a8"
             ],
             [
              0.3333333333333333,
              "#9c179e"
             ],
             [
              0.4444444444444444,
              "#bd3786"
             ],
             [
              0.5555555555555556,
              "#d8576b"
             ],
             [
              0.6666666666666666,
              "#ed7953"
             ],
             [
              0.7777777777777778,
              "#fb9f3a"
             ],
             [
              0.8888888888888888,
              "#fdca26"
             ],
             [
              1,
              "#f0f921"
             ]
            ],
            "type": "surface"
           }
          ],
          "table": [
           {
            "cells": {
             "fill": {
              "color": "#EBF0F8"
             },
             "line": {
              "color": "white"
             }
            },
            "header": {
             "fill": {
              "color": "#C8D4E3"
             },
             "line": {
              "color": "white"
             }
            },
            "type": "table"
           }
          ]
         },
         "layout": {
          "annotationdefaults": {
           "arrowcolor": "#2a3f5f",
           "arrowhead": 0,
           "arrowwidth": 1
          },
          "autotypenumbers": "strict",
          "coloraxis": {
           "colorbar": {
            "outlinewidth": 0,
            "ticks": ""
           }
          },
          "colorscale": {
           "diverging": [
            [
             0,
             "#8e0152"
            ],
            [
             0.1,
             "#c51b7d"
            ],
            [
             0.2,
             "#de77ae"
            ],
            [
             0.3,
             "#f1b6da"
            ],
            [
             0.4,
             "#fde0ef"
            ],
            [
             0.5,
             "#f7f7f7"
            ],
            [
             0.6,
             "#e6f5d0"
            ],
            [
             0.7,
             "#b8e186"
            ],
            [
             0.8,
             "#7fbc41"
            ],
            [
             0.9,
             "#4d9221"
            ],
            [
             1,
             "#276419"
            ]
           ],
           "sequential": [
            [
             0,
             "#0d0887"
            ],
            [
             0.1111111111111111,
             "#46039f"
            ],
            [
             0.2222222222222222,
             "#7201a8"
            ],
            [
             0.3333333333333333,
             "#9c179e"
            ],
            [
             0.4444444444444444,
             "#bd3786"
            ],
            [
             0.5555555555555556,
             "#d8576b"
            ],
            [
             0.6666666666666666,
             "#ed7953"
            ],
            [
             0.7777777777777778,
             "#fb9f3a"
            ],
            [
             0.8888888888888888,
             "#fdca26"
            ],
            [
             1,
             "#f0f921"
            ]
           ],
           "sequentialminus": [
            [
             0,
             "#0d0887"
            ],
            [
             0.1111111111111111,
             "#46039f"
            ],
            [
             0.2222222222222222,
             "#7201a8"
            ],
            [
             0.3333333333333333,
             "#9c179e"
            ],
            [
             0.4444444444444444,
             "#bd3786"
            ],
            [
             0.5555555555555556,
             "#d8576b"
            ],
            [
             0.6666666666666666,
             "#ed7953"
            ],
            [
             0.7777777777777778,
             "#fb9f3a"
            ],
            [
             0.8888888888888888,
             "#fdca26"
            ],
            [
             1,
             "#f0f921"
            ]
           ]
          },
          "colorway": [
           "#636efa",
           "#EF553B",
           "#00cc96",
           "#ab63fa",
           "#FFA15A",
           "#19d3f3",
           "#FF6692",
           "#B6E880",
           "#FF97FF",
           "#FECB52"
          ],
          "font": {
           "color": "#2a3f5f"
          },
          "geo": {
           "bgcolor": "white",
           "lakecolor": "white",
           "landcolor": "#E5ECF6",
           "showlakes": true,
           "showland": true,
           "subunitcolor": "white"
          },
          "hoverlabel": {
           "align": "left"
          },
          "hovermode": "closest",
          "mapbox": {
           "style": "light"
          },
          "paper_bgcolor": "white",
          "plot_bgcolor": "#E5ECF6",
          "polar": {
           "angularaxis": {
            "gridcolor": "white",
            "linecolor": "white",
            "ticks": ""
           },
           "bgcolor": "#E5ECF6",
           "radialaxis": {
            "gridcolor": "white",
            "linecolor": "white",
            "ticks": ""
           }
          },
          "scene": {
           "xaxis": {
            "backgroundcolor": "#E5ECF6",
            "gridcolor": "white",
            "gridwidth": 2,
            "linecolor": "white",
            "showbackground": true,
            "ticks": "",
            "zerolinecolor": "white"
           },
           "yaxis": {
            "backgroundcolor": "#E5ECF6",
            "gridcolor": "white",
            "gridwidth": 2,
            "linecolor": "white",
            "showbackground": true,
            "ticks": "",
            "zerolinecolor": "white"
           },
           "zaxis": {
            "backgroundcolor": "#E5ECF6",
            "gridcolor": "white",
            "gridwidth": 2,
            "linecolor": "white",
            "showbackground": true,
            "ticks": "",
            "zerolinecolor": "white"
           }
          },
          "shapedefaults": {
           "line": {
            "color": "#2a3f5f"
           }
          },
          "ternary": {
           "aaxis": {
            "gridcolor": "white",
            "linecolor": "white",
            "ticks": ""
           },
           "baxis": {
            "gridcolor": "white",
            "linecolor": "white",
            "ticks": ""
           },
           "bgcolor": "#E5ECF6",
           "caxis": {
            "gridcolor": "white",
            "linecolor": "white",
            "ticks": ""
           }
          },
          "title": {
           "x": 0.05
          },
          "xaxis": {
           "automargin": true,
           "gridcolor": "white",
           "linecolor": "white",
           "ticks": "",
           "title": {
            "standoff": 15
           },
           "zerolinecolor": "white",
           "zerolinewidth": 2
          },
          "yaxis": {
           "automargin": true,
           "gridcolor": "white",
           "linecolor": "white",
           "ticks": "",
           "title": {
            "standoff": 15
           },
           "zerolinecolor": "white",
           "zerolinewidth": 2
          }
         }
        },
        "title": {
         "text": " Number Of Passengers To Riyadh from Domestic Airports (2015 - 2021)"
        },
        "width": 1000,
        "xaxis": {
         "anchor": "y",
         "domain": [
          0,
          1
         ]
        },
        "xaxis2": {
         "anchor": "y2",
         "domain": [
          0,
          1
         ]
        },
        "xaxis3": {
         "anchor": "y3",
         "domain": [
          0,
          1
         ]
        },
        "yaxis": {
         "anchor": "x",
         "domain": [
          0.7777777777777778,
          1
         ]
        },
        "yaxis2": {
         "anchor": "x2",
         "domain": [
          0.3888888888888889,
          0.6111111111111112
         ]
        },
        "yaxis3": {
         "anchor": "x3",
         "domain": [
          0,
          0.22222222222222224
         ]
        }
       }
      }
     },
     "metadata": {},
     "output_type": "display_data"
    }
   ],
   "source": [
    "# import libraries to use visualization plots\n",
    "from plotly.subplots import make_subplots\n",
    "import plotly.graph_objects as go\n",
    "\n",
    "fig = make_subplots(\n",
    "    rows=3, cols=1,\n",
    "    subplot_titles=(\"Domestic Air Passengers 2019\", \"Domestic Air Passengers 2020\", \"Domestic Air Passengers 2021\"))\n",
    "\n",
    "fig.add_trace(go.Scatter(x=Riyadh_domestic_2019.Month_short, y=Riyadh_domestic_2019.RUH),\n",
    "              row=1, col=1)\n",
    "\n",
    "fig.add_trace(go.Scatter(x=Riyadh_domestic_2020.Month_short, y=Riyadh_domestic_2020.RUH),\n",
    "              row=2, col=1)\n",
    "\n",
    "fig.add_trace(go.Scatter(x=Riyadh_domestic_2021.Month_short, y=Riyadh_domestic_2021.RUH),\n",
    "              row=3, col=1)\n",
    "\n",
    "\n",
    "\n",
    "fig.update_layout(height=500, width=1000,\n",
    "                  title_text=\" Number Of Passengers To Riyadh from Domestic Airports (2015 - 2021)\")\n",
    "\n",
    "fig.show()"
   ]
  },
  {
   "cell_type": "markdown",
   "id": "524d44ef",
   "metadata": {},
   "source": [
    "Same for domestic arrivals, **increasing in the months that lunched Riyadh seasons** from Oct-Jan, <br>, and in (March,2019) \"Saudi Airshow hosted a mix of business, general and commercial aviation and aerospace exhibitors\""
   ]
  },
  {
   "cell_type": "markdown",
   "id": "b175c005",
   "metadata": {},
   "source": [
    "### 2.2. King Abdulaziz International Airport - JED"
   ]
  },
  {
   "cell_type": "markdown",
   "id": "731c03dd",
   "metadata": {},
   "source": [
    "King Abdulaziz International Airport - JED, is located in Jeddah city, second popular city in the Kingdom. Jeddah is the gate entry to the Haram Mosque, Millions of pilgrims every year visited Makkah, numbers shows huge increasing of thier numbers, and this is one of Vision 2030 achievements. "
   ]
  },
  {
   "cell_type": "code",
   "execution_count": 37,
   "id": "ea98d182",
   "metadata": {},
   "outputs": [
    {
     "data": {
      "text/html": [
       "<div>\n",
       "<style scoped>\n",
       "    .dataframe tbody tr th:only-of-type {\n",
       "        vertical-align: middle;\n",
       "    }\n",
       "\n",
       "    .dataframe tbody tr th {\n",
       "        vertical-align: top;\n",
       "    }\n",
       "\n",
       "    .dataframe thead th {\n",
       "        text-align: right;\n",
       "    }\n",
       "</style>\n",
       "<table border=\"1\" class=\"dataframe\">\n",
       "  <thead>\n",
       "    <tr style=\"text-align: right;\">\n",
       "      <th></th>\n",
       "      <th>index</th>\n",
       "      <th>Year</th>\n",
       "      <th>Airport</th>\n",
       "      <th>FlightsA-Domestic</th>\n",
       "      <th>PaxA-Domestic</th>\n",
       "      <th>FlightsD-Domestic</th>\n",
       "      <th>PaxD-Domestic</th>\n",
       "      <th>FlightsA-international</th>\n",
       "      <th>PaxA-international</th>\n",
       "      <th>FlightsD-international</th>\n",
       "      <th>PaxD-international</th>\n",
       "      <th>Flights</th>\n",
       "      <th>Pax</th>\n",
       "    </tr>\n",
       "  </thead>\n",
       "  <tbody>\n",
       "    <tr>\n",
       "      <th>0</th>\n",
       "      <td>13</td>\n",
       "      <td>2010</td>\n",
       "      <td>JED</td>\n",
       "      <td>25242</td>\n",
       "      <td>3160789</td>\n",
       "      <td>24438</td>\n",
       "      <td>3081098</td>\n",
       "      <td>45083</td>\n",
       "      <td>5228093</td>\n",
       "      <td>45076</td>\n",
       "      <td>5705842</td>\n",
       "      <td>139839</td>\n",
       "      <td>17175822</td>\n",
       "    </tr>\n",
       "    <tr>\n",
       "      <th>1</th>\n",
       "      <td>38</td>\n",
       "      <td>2011</td>\n",
       "      <td>JED</td>\n",
       "      <td>26143</td>\n",
       "      <td>3455917</td>\n",
       "      <td>25796</td>\n",
       "      <td>3376883</td>\n",
       "      <td>50366</td>\n",
       "      <td>5894360</td>\n",
       "      <td>50506</td>\n",
       "      <td>6443031</td>\n",
       "      <td>152811</td>\n",
       "      <td>19170191</td>\n",
       "    </tr>\n",
       "    <tr>\n",
       "      <th>2</th>\n",
       "      <td>64</td>\n",
       "      <td>2012</td>\n",
       "      <td>JED</td>\n",
       "      <td>29449</td>\n",
       "      <td>3827512</td>\n",
       "      <td>28571</td>\n",
       "      <td>3972258</td>\n",
       "      <td>52524</td>\n",
       "      <td>5058910</td>\n",
       "      <td>52526</td>\n",
       "      <td>7578896</td>\n",
       "      <td>163070</td>\n",
       "      <td>20437576</td>\n",
       "    </tr>\n",
       "    <tr>\n",
       "      <th>3</th>\n",
       "      <td>90</td>\n",
       "      <td>2013</td>\n",
       "      <td>JED</td>\n",
       "      <td>30427</td>\n",
       "      <td>4043354</td>\n",
       "      <td>28833</td>\n",
       "      <td>4018884</td>\n",
       "      <td>49168</td>\n",
       "      <td>5673630</td>\n",
       "      <td>49958</td>\n",
       "      <td>7185243</td>\n",
       "      <td>158386</td>\n",
       "      <td>20921111</td>\n",
       "    </tr>\n",
       "    <tr>\n",
       "      <th>4</th>\n",
       "      <td>116</td>\n",
       "      <td>2014</td>\n",
       "      <td>JED</td>\n",
       "      <td>32886</td>\n",
       "      <td>4392926</td>\n",
       "      <td>30755</td>\n",
       "      <td>4374638</td>\n",
       "      <td>54766</td>\n",
       "      <td>7223143</td>\n",
       "      <td>56354</td>\n",
       "      <td>8467606</td>\n",
       "      <td>174761</td>\n",
       "      <td>24458313</td>\n",
       "    </tr>\n",
       "    <tr>\n",
       "      <th>5</th>\n",
       "      <td>142</td>\n",
       "      <td>2015</td>\n",
       "      <td>JED</td>\n",
       "      <td>40352</td>\n",
       "      <td>5438502</td>\n",
       "      <td>39467</td>\n",
       "      <td>5551293</td>\n",
       "      <td>58065</td>\n",
       "      <td>8601578</td>\n",
       "      <td>59356</td>\n",
       "      <td>8955543</td>\n",
       "      <td>197240</td>\n",
       "      <td>28546916</td>\n",
       "    </tr>\n",
       "    <tr>\n",
       "      <th>6</th>\n",
       "      <td>168</td>\n",
       "      <td>2016</td>\n",
       "      <td>JED</td>\n",
       "      <td>48391</td>\n",
       "      <td>5453914</td>\n",
       "      <td>46885</td>\n",
       "      <td>5453705</td>\n",
       "      <td>64941</td>\n",
       "      <td>9699708</td>\n",
       "      <td>66372</td>\n",
       "      <td>10567939</td>\n",
       "      <td>226589</td>\n",
       "      <td>31175266</td>\n",
       "    </tr>\n",
       "    <tr>\n",
       "      <th>7</th>\n",
       "      <td>195</td>\n",
       "      <td>2017</td>\n",
       "      <td>JED</td>\n",
       "      <td>46074</td>\n",
       "      <td>5947047</td>\n",
       "      <td>44714</td>\n",
       "      <td>5871497</td>\n",
       "      <td>67783</td>\n",
       "      <td>10629983</td>\n",
       "      <td>69236</td>\n",
       "      <td>11725411</td>\n",
       "      <td>227807</td>\n",
       "      <td>34173938</td>\n",
       "    </tr>\n",
       "    <tr>\n",
       "      <th>8</th>\n",
       "      <td>222</td>\n",
       "      <td>2018</td>\n",
       "      <td>JED</td>\n",
       "      <td>48021</td>\n",
       "      <td>6586645</td>\n",
       "      <td>46389</td>\n",
       "      <td>6336083</td>\n",
       "      <td>69516</td>\n",
       "      <td>10772800</td>\n",
       "      <td>71137</td>\n",
       "      <td>12311381</td>\n",
       "      <td>235063</td>\n",
       "      <td>36006909</td>\n",
       "    </tr>\n",
       "    <tr>\n",
       "      <th>9</th>\n",
       "      <td>249</td>\n",
       "      <td>2019</td>\n",
       "      <td>JED</td>\n",
       "      <td>53385</td>\n",
       "      <td>7133625</td>\n",
       "      <td>51994</td>\n",
       "      <td>7040227</td>\n",
       "      <td>67625</td>\n",
       "      <td>11237016</td>\n",
       "      <td>68936</td>\n",
       "      <td>12129993</td>\n",
       "      <td>241940</td>\n",
       "      <td>37540861</td>\n",
       "    </tr>\n",
       "    <tr>\n",
       "      <th>10</th>\n",
       "      <td>277</td>\n",
       "      <td>2020</td>\n",
       "      <td>JED</td>\n",
       "      <td>27055</td>\n",
       "      <td>2991653</td>\n",
       "      <td>26742</td>\n",
       "      <td>3028001</td>\n",
       "      <td>20976</td>\n",
       "      <td>2737768</td>\n",
       "      <td>21268</td>\n",
       "      <td>3429989</td>\n",
       "      <td>96041</td>\n",
       "      <td>12187411</td>\n",
       "    </tr>\n",
       "    <tr>\n",
       "      <th>11</th>\n",
       "      <td>305</td>\n",
       "      <td>2021</td>\n",
       "      <td>JED</td>\n",
       "      <td>39013</td>\n",
       "      <td>4107189</td>\n",
       "      <td>38789</td>\n",
       "      <td>4052443</td>\n",
       "      <td>20801</td>\n",
       "      <td>2353135</td>\n",
       "      <td>20997</td>\n",
       "      <td>2492949</td>\n",
       "      <td>119600</td>\n",
       "      <td>13005716</td>\n",
       "    </tr>\n",
       "  </tbody>\n",
       "</table>\n",
       "</div>"
      ],
      "text/plain": [
       "    index  Year Airport  FlightsA-Domestic  PaxA-Domestic  FlightsD-Domestic  \\\n",
       "0      13  2010     JED              25242        3160789              24438   \n",
       "1      38  2011     JED              26143        3455917              25796   \n",
       "2      64  2012     JED              29449        3827512              28571   \n",
       "3      90  2013     JED              30427        4043354              28833   \n",
       "4     116  2014     JED              32886        4392926              30755   \n",
       "5     142  2015     JED              40352        5438502              39467   \n",
       "6     168  2016     JED              48391        5453914              46885   \n",
       "7     195  2017     JED              46074        5947047              44714   \n",
       "8     222  2018     JED              48021        6586645              46389   \n",
       "9     249  2019     JED              53385        7133625              51994   \n",
       "10    277  2020     JED              27055        2991653              26742   \n",
       "11    305  2021     JED              39013        4107189              38789   \n",
       "\n",
       "    PaxD-Domestic  FlightsA-international  PaxA-international  \\\n",
       "0         3081098                   45083             5228093   \n",
       "1         3376883                   50366             5894360   \n",
       "2         3972258                   52524             5058910   \n",
       "3         4018884                   49168             5673630   \n",
       "4         4374638                   54766             7223143   \n",
       "5         5551293                   58065             8601578   \n",
       "6         5453705                   64941             9699708   \n",
       "7         5871497                   67783            10629983   \n",
       "8         6336083                   69516            10772800   \n",
       "9         7040227                   67625            11237016   \n",
       "10        3028001                   20976             2737768   \n",
       "11        4052443                   20801             2353135   \n",
       "\n",
       "    FlightsD-international  PaxD-international  Flights       Pax  \n",
       "0                    45076             5705842   139839  17175822  \n",
       "1                    50506             6443031   152811  19170191  \n",
       "2                    52526             7578896   163070  20437576  \n",
       "3                    49958             7185243   158386  20921111  \n",
       "4                    56354             8467606   174761  24458313  \n",
       "5                    59356             8955543   197240  28546916  \n",
       "6                    66372            10567939   226589  31175266  \n",
       "7                    69236            11725411   227807  34173938  \n",
       "8                    71137            12311381   235063  36006909  \n",
       "9                    68936            12129993   241940  37540861  \n",
       "10                   21268             3429989    96041  12187411  \n",
       "11                   20997             2492949   119600  13005716  "
      ]
     },
     "execution_count": 37,
     "metadata": {},
     "output_type": "execute_result"
    }
   ],
   "source": [
    "# Filter rows to have only values of JED > King Abdulaziz International Airport\n",
    "JEDpax=flights[(flights['Airport'] == 'JED')]\n",
    "JEDpax.reset_index()"
   ]
  },
  {
   "cell_type": "code",
   "execution_count": 38,
   "id": "be6ed928",
   "metadata": {
    "scrolled": true
   },
   "outputs": [
    {
     "data": {
      "text/html": [
       "<div>\n",
       "<style scoped>\n",
       "    .dataframe tbody tr th:only-of-type {\n",
       "        vertical-align: middle;\n",
       "    }\n",
       "\n",
       "    .dataframe tbody tr th {\n",
       "        vertical-align: top;\n",
       "    }\n",
       "\n",
       "    .dataframe thead th {\n",
       "        text-align: right;\n",
       "    }\n",
       "</style>\n",
       "<table border=\"1\" class=\"dataframe\">\n",
       "  <thead>\n",
       "    <tr style=\"text-align: right;\">\n",
       "      <th></th>\n",
       "      <th>index</th>\n",
       "      <th>Year</th>\n",
       "      <th>Airport</th>\n",
       "      <th>Pax</th>\n",
       "    </tr>\n",
       "  </thead>\n",
       "  <tbody>\n",
       "    <tr>\n",
       "      <th>0</th>\n",
       "      <td>13</td>\n",
       "      <td>2010</td>\n",
       "      <td>JED</td>\n",
       "      <td>17175822</td>\n",
       "    </tr>\n",
       "    <tr>\n",
       "      <th>1</th>\n",
       "      <td>38</td>\n",
       "      <td>2011</td>\n",
       "      <td>JED</td>\n",
       "      <td>19170191</td>\n",
       "    </tr>\n",
       "    <tr>\n",
       "      <th>2</th>\n",
       "      <td>64</td>\n",
       "      <td>2012</td>\n",
       "      <td>JED</td>\n",
       "      <td>20437576</td>\n",
       "    </tr>\n",
       "    <tr>\n",
       "      <th>3</th>\n",
       "      <td>90</td>\n",
       "      <td>2013</td>\n",
       "      <td>JED</td>\n",
       "      <td>20921111</td>\n",
       "    </tr>\n",
       "    <tr>\n",
       "      <th>4</th>\n",
       "      <td>116</td>\n",
       "      <td>2014</td>\n",
       "      <td>JED</td>\n",
       "      <td>24458313</td>\n",
       "    </tr>\n",
       "    <tr>\n",
       "      <th>5</th>\n",
       "      <td>142</td>\n",
       "      <td>2015</td>\n",
       "      <td>JED</td>\n",
       "      <td>28546916</td>\n",
       "    </tr>\n",
       "    <tr>\n",
       "      <th>6</th>\n",
       "      <td>168</td>\n",
       "      <td>2016</td>\n",
       "      <td>JED</td>\n",
       "      <td>31175266</td>\n",
       "    </tr>\n",
       "    <tr>\n",
       "      <th>7</th>\n",
       "      <td>195</td>\n",
       "      <td>2017</td>\n",
       "      <td>JED</td>\n",
       "      <td>34173938</td>\n",
       "    </tr>\n",
       "    <tr>\n",
       "      <th>8</th>\n",
       "      <td>222</td>\n",
       "      <td>2018</td>\n",
       "      <td>JED</td>\n",
       "      <td>36006909</td>\n",
       "    </tr>\n",
       "    <tr>\n",
       "      <th>9</th>\n",
       "      <td>249</td>\n",
       "      <td>2019</td>\n",
       "      <td>JED</td>\n",
       "      <td>37540861</td>\n",
       "    </tr>\n",
       "    <tr>\n",
       "      <th>10</th>\n",
       "      <td>277</td>\n",
       "      <td>2020</td>\n",
       "      <td>JED</td>\n",
       "      <td>12187411</td>\n",
       "    </tr>\n",
       "    <tr>\n",
       "      <th>11</th>\n",
       "      <td>305</td>\n",
       "      <td>2021</td>\n",
       "      <td>JED</td>\n",
       "      <td>13005716</td>\n",
       "    </tr>\n",
       "  </tbody>\n",
       "</table>\n",
       "</div>"
      ],
      "text/plain": [
       "    index  Year Airport       Pax\n",
       "0      13  2010     JED  17175822\n",
       "1      38  2011     JED  19170191\n",
       "2      64  2012     JED  20437576\n",
       "3      90  2013     JED  20921111\n",
       "4     116  2014     JED  24458313\n",
       "5     142  2015     JED  28546916\n",
       "6     168  2016     JED  31175266\n",
       "7     195  2017     JED  34173938\n",
       "8     222  2018     JED  36006909\n",
       "9     249  2019     JED  37540861\n",
       "10    277  2020     JED  12187411\n",
       "11    305  2021     JED  13005716"
      ]
     },
     "execution_count": 38,
     "metadata": {},
     "output_type": "execute_result"
    }
   ],
   "source": [
    "precentJEDpax=JEDpax[['Year','Airport','Pax']]\n",
    "precentJEDpax = precentJEDpax.copy()  # Ensuring a copy is made to avoid warning note, .loc() could be used insted\n",
    "precentJEDpax.reset_index()"
   ]
  },
  {
   "cell_type": "markdown",
   "id": "414edfa7",
   "metadata": {},
   "source": [
    "The largesr numbers of travellers within King Abdulaziz International Airport, was in 2019 the year that King Salman Bin Abdualaziz opened the **New Airport of King Abdulaziz International Airport** ."
   ]
  },
  {
   "cell_type": "code",
   "execution_count": 39,
   "id": "ff1bffc4",
   "metadata": {},
   "outputs": [
    {
     "data": {
      "text/html": [
       "<div>\n",
       "<style scoped>\n",
       "    .dataframe tbody tr th:only-of-type {\n",
       "        vertical-align: middle;\n",
       "    }\n",
       "\n",
       "    .dataframe tbody tr th {\n",
       "        vertical-align: top;\n",
       "    }\n",
       "\n",
       "    .dataframe thead th {\n",
       "        text-align: right;\n",
       "    }\n",
       "</style>\n",
       "<table border=\"1\" class=\"dataframe\">\n",
       "  <thead>\n",
       "    <tr style=\"text-align: right;\">\n",
       "      <th></th>\n",
       "      <th>index</th>\n",
       "      <th>Year</th>\n",
       "      <th>Airport</th>\n",
       "      <th>Pax</th>\n",
       "      <th>increasing_precentage</th>\n",
       "    </tr>\n",
       "  </thead>\n",
       "  <tbody>\n",
       "    <tr>\n",
       "      <th>0</th>\n",
       "      <td>13</td>\n",
       "      <td>2010</td>\n",
       "      <td>JED</td>\n",
       "      <td>17175822</td>\n",
       "      <td>NaN</td>\n",
       "    </tr>\n",
       "    <tr>\n",
       "      <th>1</th>\n",
       "      <td>38</td>\n",
       "      <td>2011</td>\n",
       "      <td>JED</td>\n",
       "      <td>19170191</td>\n",
       "      <td>11.611491</td>\n",
       "    </tr>\n",
       "    <tr>\n",
       "      <th>2</th>\n",
       "      <td>64</td>\n",
       "      <td>2012</td>\n",
       "      <td>JED</td>\n",
       "      <td>20437576</td>\n",
       "      <td>6.611228</td>\n",
       "    </tr>\n",
       "    <tr>\n",
       "      <th>3</th>\n",
       "      <td>90</td>\n",
       "      <td>2013</td>\n",
       "      <td>JED</td>\n",
       "      <td>20921111</td>\n",
       "      <td>2.365912</td>\n",
       "    </tr>\n",
       "    <tr>\n",
       "      <th>4</th>\n",
       "      <td>116</td>\n",
       "      <td>2014</td>\n",
       "      <td>JED</td>\n",
       "      <td>24458313</td>\n",
       "      <td>16.907333</td>\n",
       "    </tr>\n",
       "    <tr>\n",
       "      <th>5</th>\n",
       "      <td>142</td>\n",
       "      <td>2015</td>\n",
       "      <td>JED</td>\n",
       "      <td>28546916</td>\n",
       "      <td>16.716619</td>\n",
       "    </tr>\n",
       "    <tr>\n",
       "      <th>6</th>\n",
       "      <td>168</td>\n",
       "      <td>2016</td>\n",
       "      <td>JED</td>\n",
       "      <td>31175266</td>\n",
       "      <td>9.207124</td>\n",
       "    </tr>\n",
       "    <tr>\n",
       "      <th>7</th>\n",
       "      <td>195</td>\n",
       "      <td>2017</td>\n",
       "      <td>JED</td>\n",
       "      <td>34173938</td>\n",
       "      <td>9.618754</td>\n",
       "    </tr>\n",
       "    <tr>\n",
       "      <th>8</th>\n",
       "      <td>222</td>\n",
       "      <td>2018</td>\n",
       "      <td>JED</td>\n",
       "      <td>36006909</td>\n",
       "      <td>5.363652</td>\n",
       "    </tr>\n",
       "    <tr>\n",
       "      <th>9</th>\n",
       "      <td>249</td>\n",
       "      <td>2019</td>\n",
       "      <td>JED</td>\n",
       "      <td>37540861</td>\n",
       "      <td>4.260160</td>\n",
       "    </tr>\n",
       "    <tr>\n",
       "      <th>10</th>\n",
       "      <td>277</td>\n",
       "      <td>2020</td>\n",
       "      <td>JED</td>\n",
       "      <td>12187411</td>\n",
       "      <td>-67.535611</td>\n",
       "    </tr>\n",
       "    <tr>\n",
       "      <th>11</th>\n",
       "      <td>305</td>\n",
       "      <td>2021</td>\n",
       "      <td>JED</td>\n",
       "      <td>13005716</td>\n",
       "      <td>6.714346</td>\n",
       "    </tr>\n",
       "  </tbody>\n",
       "</table>\n",
       "</div>"
      ],
      "text/plain": [
       "    index  Year Airport       Pax  increasing_precentage\n",
       "0      13  2010     JED  17175822                    NaN\n",
       "1      38  2011     JED  19170191              11.611491\n",
       "2      64  2012     JED  20437576               6.611228\n",
       "3      90  2013     JED  20921111               2.365912\n",
       "4     116  2014     JED  24458313              16.907333\n",
       "5     142  2015     JED  28546916              16.716619\n",
       "6     168  2016     JED  31175266               9.207124\n",
       "7     195  2017     JED  34173938               9.618754\n",
       "8     222  2018     JED  36006909               5.363652\n",
       "9     249  2019     JED  37540861               4.260160\n",
       "10    277  2020     JED  12187411             -67.535611\n",
       "11    305  2021     JED  13005716               6.714346"
      ]
     },
     "execution_count": 39,
     "metadata": {},
     "output_type": "execute_result"
    }
   ],
   "source": [
    "# Now measuring the rate changes of passengers\n",
    "JEDprecentage=precentJEDpax['Pax'].pct_change()\n",
    "precentJEDpax['increasing_precentage']=JEDprecentage*100 # Assign the new value of changes * 100 \n",
    "precentJEDpax.reset_index()"
   ]
  },
  {
   "cell_type": "markdown",
   "id": "f5216db7",
   "metadata": {},
   "source": [
    "####  International arrivals to JED airports"
   ]
  },
  {
   "cell_type": "code",
   "execution_count": 40,
   "id": "4d523137",
   "metadata": {
    "scrolled": true
   },
   "outputs": [
    {
     "data": {
      "text/html": [
       "<div>\n",
       "<style scoped>\n",
       "    .dataframe tbody tr th:only-of-type {\n",
       "        vertical-align: middle;\n",
       "    }\n",
       "\n",
       "    .dataframe tbody tr th {\n",
       "        vertical-align: top;\n",
       "    }\n",
       "\n",
       "    .dataframe thead th {\n",
       "        text-align: right;\n",
       "    }\n",
       "</style>\n",
       "<table border=\"1\" class=\"dataframe\">\n",
       "  <thead>\n",
       "    <tr style=\"text-align: right;\">\n",
       "      <th></th>\n",
       "      <th>Year</th>\n",
       "      <th>Airport</th>\n",
       "      <th>PaxA-international</th>\n",
       "      <th>Chages %</th>\n",
       "    </tr>\n",
       "  </thead>\n",
       "  <tbody>\n",
       "    <tr>\n",
       "      <th>13</th>\n",
       "      <td>2010</td>\n",
       "      <td>JED</td>\n",
       "      <td>5228093</td>\n",
       "      <td>NaN</td>\n",
       "    </tr>\n",
       "    <tr>\n",
       "      <th>38</th>\n",
       "      <td>2011</td>\n",
       "      <td>JED</td>\n",
       "      <td>5894360</td>\n",
       "      <td>12.743978</td>\n",
       "    </tr>\n",
       "    <tr>\n",
       "      <th>64</th>\n",
       "      <td>2012</td>\n",
       "      <td>JED</td>\n",
       "      <td>5058910</td>\n",
       "      <td>-14.173719</td>\n",
       "    </tr>\n",
       "    <tr>\n",
       "      <th>90</th>\n",
       "      <td>2013</td>\n",
       "      <td>JED</td>\n",
       "      <td>5673630</td>\n",
       "      <td>12.151234</td>\n",
       "    </tr>\n",
       "    <tr>\n",
       "      <th>116</th>\n",
       "      <td>2014</td>\n",
       "      <td>JED</td>\n",
       "      <td>7223143</td>\n",
       "      <td>27.310787</td>\n",
       "    </tr>\n",
       "    <tr>\n",
       "      <th>142</th>\n",
       "      <td>2015</td>\n",
       "      <td>JED</td>\n",
       "      <td>8601578</td>\n",
       "      <td>19.083590</td>\n",
       "    </tr>\n",
       "    <tr>\n",
       "      <th>168</th>\n",
       "      <td>2016</td>\n",
       "      <td>JED</td>\n",
       "      <td>9699708</td>\n",
       "      <td>12.766611</td>\n",
       "    </tr>\n",
       "    <tr>\n",
       "      <th>195</th>\n",
       "      <td>2017</td>\n",
       "      <td>JED</td>\n",
       "      <td>10629983</td>\n",
       "      <td>9.590753</td>\n",
       "    </tr>\n",
       "    <tr>\n",
       "      <th>222</th>\n",
       "      <td>2018</td>\n",
       "      <td>JED</td>\n",
       "      <td>10772800</td>\n",
       "      <td>1.343530</td>\n",
       "    </tr>\n",
       "    <tr>\n",
       "      <th>249</th>\n",
       "      <td>2019</td>\n",
       "      <td>JED</td>\n",
       "      <td>11237016</td>\n",
       "      <td>4.309149</td>\n",
       "    </tr>\n",
       "    <tr>\n",
       "      <th>277</th>\n",
       "      <td>2020</td>\n",
       "      <td>JED</td>\n",
       "      <td>2737768</td>\n",
       "      <td>-75.636165</td>\n",
       "    </tr>\n",
       "    <tr>\n",
       "      <th>305</th>\n",
       "      <td>2021</td>\n",
       "      <td>JED</td>\n",
       "      <td>2353135</td>\n",
       "      <td>-14.049145</td>\n",
       "    </tr>\n",
       "  </tbody>\n",
       "</table>\n",
       "</div>"
      ],
      "text/plain": [
       "     Year Airport  PaxA-international   Chages %\n",
       "13   2010     JED             5228093        NaN\n",
       "38   2011     JED             5894360  12.743978\n",
       "64   2012     JED             5058910 -14.173719\n",
       "90   2013     JED             5673630  12.151234\n",
       "116  2014     JED             7223143  27.310787\n",
       "142  2015     JED             8601578  19.083590\n",
       "168  2016     JED             9699708  12.766611\n",
       "195  2017     JED            10629983   9.590753\n",
       "222  2018     JED            10772800   1.343530\n",
       "249  2019     JED            11237016   4.309149\n",
       "277  2020     JED             2737768 -75.636165\n",
       "305  2021     JED             2353135 -14.049145"
      ]
     },
     "execution_count": 40,
     "metadata": {},
     "output_type": "execute_result"
    }
   ],
   "source": [
    "# subset to have only three columns for calculations\n",
    "JeddahpaxArrival=JEDpax[['Year','Airport','PaxA-international']]\n",
    "JeddahpaxArrival=JeddahpaxArrival.copy()\n",
    "# measuring the rate of changes in the international arrivals passengers\n",
    "ch_arr_JED=JeddahpaxArrival['PaxA-international'].pct_change()\n",
    "JeddahpaxArrival['Chages %']=ch_arr_JED*100\n",
    "JeddahpaxArrival.head(12)"
   ]
  },
  {
   "cell_type": "markdown",
   "id": "90e6c5ee",
   "metadata": {},
   "source": [
    "The lowest rate was -14.17%, in 2012, plans of increasing the area of Al Haram was lunched in 2012, Saudi limits the numbers of pilgrims.\n",
    "While the highest rate of changes was in 2014 with 27% increasing compared to 2013, in 2014 was one of the largest expansion of Al Haram, its goal was to welcome more than 43 Million visitors. "
   ]
  },
  {
   "cell_type": "markdown",
   "id": "a873603a",
   "metadata": {},
   "source": [
    "#### Arrivals Flights  - JED\n"
   ]
  },
  {
   "cell_type": "code",
   "execution_count": 41,
   "id": "23a91548",
   "metadata": {
    "scrolled": true
   },
   "outputs": [
    {
     "data": {
      "text/html": [
       "<div>\n",
       "<style scoped>\n",
       "    .dataframe tbody tr th:only-of-type {\n",
       "        vertical-align: middle;\n",
       "    }\n",
       "\n",
       "    .dataframe tbody tr th {\n",
       "        vertical-align: top;\n",
       "    }\n",
       "\n",
       "    .dataframe thead th {\n",
       "        text-align: right;\n",
       "    }\n",
       "</style>\n",
       "<table border=\"1\" class=\"dataframe\">\n",
       "  <thead>\n",
       "    <tr style=\"text-align: right;\">\n",
       "      <th></th>\n",
       "      <th>Year</th>\n",
       "      <th>Airport</th>\n",
       "      <th>FlightsA-international</th>\n",
       "      <th>FlightsA-Domestic</th>\n",
       "    </tr>\n",
       "  </thead>\n",
       "  <tbody>\n",
       "    <tr>\n",
       "      <th>13</th>\n",
       "      <td>2010</td>\n",
       "      <td>JED</td>\n",
       "      <td>45083</td>\n",
       "      <td>25242</td>\n",
       "    </tr>\n",
       "    <tr>\n",
       "      <th>38</th>\n",
       "      <td>2011</td>\n",
       "      <td>JED</td>\n",
       "      <td>50366</td>\n",
       "      <td>26143</td>\n",
       "    </tr>\n",
       "    <tr>\n",
       "      <th>64</th>\n",
       "      <td>2012</td>\n",
       "      <td>JED</td>\n",
       "      <td>52524</td>\n",
       "      <td>29449</td>\n",
       "    </tr>\n",
       "    <tr>\n",
       "      <th>90</th>\n",
       "      <td>2013</td>\n",
       "      <td>JED</td>\n",
       "      <td>49168</td>\n",
       "      <td>30427</td>\n",
       "    </tr>\n",
       "    <tr>\n",
       "      <th>116</th>\n",
       "      <td>2014</td>\n",
       "      <td>JED</td>\n",
       "      <td>54766</td>\n",
       "      <td>32886</td>\n",
       "    </tr>\n",
       "    <tr>\n",
       "      <th>142</th>\n",
       "      <td>2015</td>\n",
       "      <td>JED</td>\n",
       "      <td>58065</td>\n",
       "      <td>40352</td>\n",
       "    </tr>\n",
       "    <tr>\n",
       "      <th>168</th>\n",
       "      <td>2016</td>\n",
       "      <td>JED</td>\n",
       "      <td>64941</td>\n",
       "      <td>48391</td>\n",
       "    </tr>\n",
       "    <tr>\n",
       "      <th>195</th>\n",
       "      <td>2017</td>\n",
       "      <td>JED</td>\n",
       "      <td>67783</td>\n",
       "      <td>46074</td>\n",
       "    </tr>\n",
       "    <tr>\n",
       "      <th>222</th>\n",
       "      <td>2018</td>\n",
       "      <td>JED</td>\n",
       "      <td>69516</td>\n",
       "      <td>48021</td>\n",
       "    </tr>\n",
       "    <tr>\n",
       "      <th>249</th>\n",
       "      <td>2019</td>\n",
       "      <td>JED</td>\n",
       "      <td>67625</td>\n",
       "      <td>53385</td>\n",
       "    </tr>\n",
       "    <tr>\n",
       "      <th>277</th>\n",
       "      <td>2020</td>\n",
       "      <td>JED</td>\n",
       "      <td>20976</td>\n",
       "      <td>27055</td>\n",
       "    </tr>\n",
       "    <tr>\n",
       "      <th>305</th>\n",
       "      <td>2021</td>\n",
       "      <td>JED</td>\n",
       "      <td>20801</td>\n",
       "      <td>39013</td>\n",
       "    </tr>\n",
       "  </tbody>\n",
       "</table>\n",
       "</div>"
      ],
      "text/plain": [
       "     Year Airport  FlightsA-international  FlightsA-Domestic\n",
       "13   2010     JED                   45083              25242\n",
       "38   2011     JED                   50366              26143\n",
       "64   2012     JED                   52524              29449\n",
       "90   2013     JED                   49168              30427\n",
       "116  2014     JED                   54766              32886\n",
       "142  2015     JED                   58065              40352\n",
       "168  2016     JED                   64941              48391\n",
       "195  2017     JED                   67783              46074\n",
       "222  2018     JED                   69516              48021\n",
       "249  2019     JED                   67625              53385\n",
       "277  2020     JED                   20976              27055\n",
       "305  2021     JED                   20801              39013"
      ]
     },
     "execution_count": 41,
     "metadata": {},
     "output_type": "execute_result"
    }
   ],
   "source": [
    "# comparing that show the changes of flights (arrivals > international, domestic)\n",
    "Jeddah_A_flights=JEDpax[['Year','Airport','FlightsA-international','FlightsA-Domestic',]]\n",
    "Jeddah_A_flights"
   ]
  },
  {
   "cell_type": "code",
   "execution_count": 42,
   "id": "e873dfef",
   "metadata": {
    "scrolled": false
   },
   "outputs": [
    {
     "data": {
      "text/html": [
       "<div>\n",
       "<style scoped>\n",
       "    .dataframe tbody tr th:only-of-type {\n",
       "        vertical-align: middle;\n",
       "    }\n",
       "\n",
       "    .dataframe tbody tr th {\n",
       "        vertical-align: top;\n",
       "    }\n",
       "\n",
       "    .dataframe thead th {\n",
       "        text-align: right;\n",
       "    }\n",
       "</style>\n",
       "<table border=\"1\" class=\"dataframe\">\n",
       "  <thead>\n",
       "    <tr style=\"text-align: right;\">\n",
       "      <th></th>\n",
       "      <th>Year</th>\n",
       "      <th>Airport</th>\n",
       "      <th>FlightsA-international</th>\n",
       "      <th>FlightsA-Domestic</th>\n",
       "      <th>changes_international_arr</th>\n",
       "      <th>changes_domestic_arr</th>\n",
       "    </tr>\n",
       "  </thead>\n",
       "  <tbody>\n",
       "    <tr>\n",
       "      <th>13</th>\n",
       "      <td>2010</td>\n",
       "      <td>JED</td>\n",
       "      <td>45083</td>\n",
       "      <td>25242</td>\n",
       "      <td>NaN</td>\n",
       "      <td>NaN</td>\n",
       "    </tr>\n",
       "    <tr>\n",
       "      <th>38</th>\n",
       "      <td>2011</td>\n",
       "      <td>JED</td>\n",
       "      <td>50366</td>\n",
       "      <td>26143</td>\n",
       "      <td>11.718386</td>\n",
       "      <td>3.569448</td>\n",
       "    </tr>\n",
       "    <tr>\n",
       "      <th>64</th>\n",
       "      <td>2012</td>\n",
       "      <td>JED</td>\n",
       "      <td>52524</td>\n",
       "      <td>29449</td>\n",
       "      <td>4.284636</td>\n",
       "      <td>12.645833</td>\n",
       "    </tr>\n",
       "    <tr>\n",
       "      <th>90</th>\n",
       "      <td>2013</td>\n",
       "      <td>JED</td>\n",
       "      <td>49168</td>\n",
       "      <td>30427</td>\n",
       "      <td>-6.389460</td>\n",
       "      <td>3.320996</td>\n",
       "    </tr>\n",
       "    <tr>\n",
       "      <th>116</th>\n",
       "      <td>2014</td>\n",
       "      <td>JED</td>\n",
       "      <td>54766</td>\n",
       "      <td>32886</td>\n",
       "      <td>11.385454</td>\n",
       "      <td>8.081638</td>\n",
       "    </tr>\n",
       "    <tr>\n",
       "      <th>142</th>\n",
       "      <td>2015</td>\n",
       "      <td>JED</td>\n",
       "      <td>58065</td>\n",
       "      <td>40352</td>\n",
       "      <td>6.023810</td>\n",
       "      <td>22.702670</td>\n",
       "    </tr>\n",
       "    <tr>\n",
       "      <th>168</th>\n",
       "      <td>2016</td>\n",
       "      <td>JED</td>\n",
       "      <td>64941</td>\n",
       "      <td>48391</td>\n",
       "      <td>11.841901</td>\n",
       "      <td>19.922185</td>\n",
       "    </tr>\n",
       "    <tr>\n",
       "      <th>195</th>\n",
       "      <td>2017</td>\n",
       "      <td>JED</td>\n",
       "      <td>67783</td>\n",
       "      <td>46074</td>\n",
       "      <td>4.376280</td>\n",
       "      <td>-4.788080</td>\n",
       "    </tr>\n",
       "    <tr>\n",
       "      <th>222</th>\n",
       "      <td>2018</td>\n",
       "      <td>JED</td>\n",
       "      <td>69516</td>\n",
       "      <td>48021</td>\n",
       "      <td>2.556688</td>\n",
       "      <td>4.225811</td>\n",
       "    </tr>\n",
       "    <tr>\n",
       "      <th>249</th>\n",
       "      <td>2019</td>\n",
       "      <td>JED</td>\n",
       "      <td>67625</td>\n",
       "      <td>53385</td>\n",
       "      <td>-2.720237</td>\n",
       "      <td>11.170113</td>\n",
       "    </tr>\n",
       "    <tr>\n",
       "      <th>277</th>\n",
       "      <td>2020</td>\n",
       "      <td>JED</td>\n",
       "      <td>20976</td>\n",
       "      <td>27055</td>\n",
       "      <td>-68.981885</td>\n",
       "      <td>-49.320970</td>\n",
       "    </tr>\n",
       "    <tr>\n",
       "      <th>305</th>\n",
       "      <td>2021</td>\n",
       "      <td>JED</td>\n",
       "      <td>20801</td>\n",
       "      <td>39013</td>\n",
       "      <td>-0.834287</td>\n",
       "      <td>44.198854</td>\n",
       "    </tr>\n",
       "  </tbody>\n",
       "</table>\n",
       "</div>"
      ],
      "text/plain": [
       "     Year Airport  FlightsA-international  FlightsA-Domestic  \\\n",
       "13   2010     JED                   45083              25242   \n",
       "38   2011     JED                   50366              26143   \n",
       "64   2012     JED                   52524              29449   \n",
       "90   2013     JED                   49168              30427   \n",
       "116  2014     JED                   54766              32886   \n",
       "142  2015     JED                   58065              40352   \n",
       "168  2016     JED                   64941              48391   \n",
       "195  2017     JED                   67783              46074   \n",
       "222  2018     JED                   69516              48021   \n",
       "249  2019     JED                   67625              53385   \n",
       "277  2020     JED                   20976              27055   \n",
       "305  2021     JED                   20801              39013   \n",
       "\n",
       "     changes_international_arr  changes_domestic_arr  \n",
       "13                         NaN                   NaN  \n",
       "38                   11.718386              3.569448  \n",
       "64                    4.284636             12.645833  \n",
       "90                   -6.389460              3.320996  \n",
       "116                  11.385454              8.081638  \n",
       "142                   6.023810             22.702670  \n",
       "168                  11.841901             19.922185  \n",
       "195                   4.376280             -4.788080  \n",
       "222                   2.556688              4.225811  \n",
       "249                  -2.720237             11.170113  \n",
       "277                 -68.981885            -49.320970  \n",
       "305                  -0.834287             44.198854  "
      ]
     },
     "execution_count": 42,
     "metadata": {},
     "output_type": "execute_result"
    }
   ],
   "source": [
    "Jeddah_A_flights=Jeddah_A_flights.copy()\n",
    "#1 changes rate in international arrivals flights to jeddah\n",
    "Jeddah_Ar_changes=Jeddah_A_flights['FlightsA-international'].pct_change()\n",
    "Jeddah_A_flights['changes_international_arr']=Jeddah_Ar_changes*100\n",
    "\n",
    "#1 changes rate in domestic arrivals flights to jeddah\n",
    "Jeddah_D_changes=Jeddah_A_flights['FlightsA-Domestic'].pct_change()\n",
    "Jeddah_A_flights['changes_domestic_arr']=Jeddah_D_changes*100\n",
    "\n",
    "Jeddah_A_flights"
   ]
  },
  {
   "cell_type": "markdown",
   "id": "f5e2ae94",
   "metadata": {},
   "source": [
    "Huge increasing in 2015, 2016 same years after the largest expansion of Al Haram . "
   ]
  },
  {
   "cell_type": "code",
   "execution_count": 43,
   "id": "9046b5ca",
   "metadata": {},
   "outputs": [
    {
     "data": {
      "text/plain": [
       "41.69220163298103"
      ]
     },
     "execution_count": 43,
     "metadata": {},
     "output_type": "execute_result"
    }
   ],
   "source": [
    "JEDpax=JEDpax.copy()\n",
    "\n",
    "# Here i will compare the arrivals (Domestic - International)\n",
    "sum_arrivals=JEDpax['PaxA-Domestic']+JEDpax['PaxA-international']\n",
    "JEDpax['total_arrival_pax']=sum_arrivals\n",
    "\n",
    "# Domestic arrivals out of total arrivals through the years\n",
    "out_of_total=(JEDpax['PaxA-Domestic']/JEDpax['total_arrival_pax'])*100\n",
    "\n",
    "# mean precentage of domestic arrivals to jeddah\n",
    "mean_of_domestic_passengers=out_of_total.mean()\n",
    "mean_of_domestic_passengers"
   ]
  },
  {
   "cell_type": "code",
   "execution_count": 44,
   "id": "b950db4e",
   "metadata": {
    "scrolled": false
   },
   "outputs": [
    {
     "data": {
      "text/plain": [
       "58.30779836701896"
      ]
     },
     "execution_count": 44,
     "metadata": {},
     "output_type": "execute_result"
    }
   ],
   "source": [
    "# international arrivals out of total arrivals through the years\n",
    "out_of_total_I=(JEDpax['PaxA-international']/JEDpax['total_arrival_pax'])*100\n",
    "out_of_total_I.mean() # mean precentage of international arrivals to jeddah\n"
   ]
  },
  {
   "cell_type": "markdown",
   "id": "1a28be2e",
   "metadata": {},
   "source": [
    "Number of international arrivals are from outside Saudi Arabia, except after 2020 Covid-19, 63.57% arrivals to jeedah were from the inside, where 36.42% from international destination "
   ]
  },
  {
   "cell_type": "code",
   "execution_count": 45,
   "id": "d62254a1",
   "metadata": {},
   "outputs": [
    {
     "data": {
      "application/vnd.plotly.v1+json": {
       "config": {
        "plotlyServerURL": "https://plot.ly"
       },
       "data": [
        {
         "labels": [
          "Domestic Passengers",
          "International Passengers"
         ],
         "type": "pie",
         "values": [
          41.69,
          58.3
         ]
        }
       ],
       "layout": {
        "template": {
         "data": {
          "bar": [
           {
            "error_x": {
             "color": "#2a3f5f"
            },
            "error_y": {
             "color": "#2a3f5f"
            },
            "marker": {
             "line": {
              "color": "#E5ECF6",
              "width": 0.5
             },
             "pattern": {
              "fillmode": "overlay",
              "size": 10,
              "solidity": 0.2
             }
            },
            "type": "bar"
           }
          ],
          "barpolar": [
           {
            "marker": {
             "line": {
              "color": "#E5ECF6",
              "width": 0.5
             },
             "pattern": {
              "fillmode": "overlay",
              "size": 10,
              "solidity": 0.2
             }
            },
            "type": "barpolar"
           }
          ],
          "carpet": [
           {
            "aaxis": {
             "endlinecolor": "#2a3f5f",
             "gridcolor": "white",
             "linecolor": "white",
             "minorgridcolor": "white",
             "startlinecolor": "#2a3f5f"
            },
            "baxis": {
             "endlinecolor": "#2a3f5f",
             "gridcolor": "white",
             "linecolor": "white",
             "minorgridcolor": "white",
             "startlinecolor": "#2a3f5f"
            },
            "type": "carpet"
           }
          ],
          "choropleth": [
           {
            "colorbar": {
             "outlinewidth": 0,
             "ticks": ""
            },
            "type": "choropleth"
           }
          ],
          "contour": [
           {
            "colorbar": {
             "outlinewidth": 0,
             "ticks": ""
            },
            "colorscale": [
             [
              0,
              "#0d0887"
             ],
             [
              0.1111111111111111,
              "#46039f"
             ],
             [
              0.2222222222222222,
              "#7201a8"
             ],
             [
              0.3333333333333333,
              "#9c179e"
             ],
             [
              0.4444444444444444,
              "#bd3786"
             ],
             [
              0.5555555555555556,
              "#d8576b"
             ],
             [
              0.6666666666666666,
              "#ed7953"
             ],
             [
              0.7777777777777778,
              "#fb9f3a"
             ],
             [
              0.8888888888888888,
              "#fdca26"
             ],
             [
              1,
              "#f0f921"
             ]
            ],
            "type": "contour"
           }
          ],
          "contourcarpet": [
           {
            "colorbar": {
             "outlinewidth": 0,
             "ticks": ""
            },
            "type": "contourcarpet"
           }
          ],
          "heatmap": [
           {
            "colorbar": {
             "outlinewidth": 0,
             "ticks": ""
            },
            "colorscale": [
             [
              0,
              "#0d0887"
             ],
             [
              0.1111111111111111,
              "#46039f"
             ],
             [
              0.2222222222222222,
              "#7201a8"
             ],
             [
              0.3333333333333333,
              "#9c179e"
             ],
             [
              0.4444444444444444,
              "#bd3786"
             ],
             [
              0.5555555555555556,
              "#d8576b"
             ],
             [
              0.6666666666666666,
              "#ed7953"
             ],
             [
              0.7777777777777778,
              "#fb9f3a"
             ],
             [
              0.8888888888888888,
              "#fdca26"
             ],
             [
              1,
              "#f0f921"
             ]
            ],
            "type": "heatmap"
           }
          ],
          "heatmapgl": [
           {
            "colorbar": {
             "outlinewidth": 0,
             "ticks": ""
            },
            "colorscale": [
             [
              0,
              "#0d0887"
             ],
             [
              0.1111111111111111,
              "#46039f"
             ],
             [
              0.2222222222222222,
              "#7201a8"
             ],
             [
              0.3333333333333333,
              "#9c179e"
             ],
             [
              0.4444444444444444,
              "#bd3786"
             ],
             [
              0.5555555555555556,
              "#d8576b"
             ],
             [
              0.6666666666666666,
              "#ed7953"
             ],
             [
              0.7777777777777778,
              "#fb9f3a"
             ],
             [
              0.8888888888888888,
              "#fdca26"
             ],
             [
              1,
              "#f0f921"
             ]
            ],
            "type": "heatmapgl"
           }
          ],
          "histogram": [
           {
            "marker": {
             "pattern": {
              "fillmode": "overlay",
              "size": 10,
              "solidity": 0.2
             }
            },
            "type": "histogram"
           }
          ],
          "histogram2d": [
           {
            "colorbar": {
             "outlinewidth": 0,
             "ticks": ""
            },
            "colorscale": [
             [
              0,
              "#0d0887"
             ],
             [
              0.1111111111111111,
              "#46039f"
             ],
             [
              0.2222222222222222,
              "#7201a8"
             ],
             [
              0.3333333333333333,
              "#9c179e"
             ],
             [
              0.4444444444444444,
              "#bd3786"
             ],
             [
              0.5555555555555556,
              "#d8576b"
             ],
             [
              0.6666666666666666,
              "#ed7953"
             ],
             [
              0.7777777777777778,
              "#fb9f3a"
             ],
             [
              0.8888888888888888,
              "#fdca26"
             ],
             [
              1,
              "#f0f921"
             ]
            ],
            "type": "histogram2d"
           }
          ],
          "histogram2dcontour": [
           {
            "colorbar": {
             "outlinewidth": 0,
             "ticks": ""
            },
            "colorscale": [
             [
              0,
              "#0d0887"
             ],
             [
              0.1111111111111111,
              "#46039f"
             ],
             [
              0.2222222222222222,
              "#7201a8"
             ],
             [
              0.3333333333333333,
              "#9c179e"
             ],
             [
              0.4444444444444444,
              "#bd3786"
             ],
             [
              0.5555555555555556,
              "#d8576b"
             ],
             [
              0.6666666666666666,
              "#ed7953"
             ],
             [
              0.7777777777777778,
              "#fb9f3a"
             ],
             [
              0.8888888888888888,
              "#fdca26"
             ],
             [
              1,
              "#f0f921"
             ]
            ],
            "type": "histogram2dcontour"
           }
          ],
          "mesh3d": [
           {
            "colorbar": {
             "outlinewidth": 0,
             "ticks": ""
            },
            "type": "mesh3d"
           }
          ],
          "parcoords": [
           {
            "line": {
             "colorbar": {
              "outlinewidth": 0,
              "ticks": ""
             }
            },
            "type": "parcoords"
           }
          ],
          "pie": [
           {
            "automargin": true,
            "type": "pie"
           }
          ],
          "scatter": [
           {
            "marker": {
             "colorbar": {
              "outlinewidth": 0,
              "ticks": ""
             }
            },
            "type": "scatter"
           }
          ],
          "scatter3d": [
           {
            "line": {
             "colorbar": {
              "outlinewidth": 0,
              "ticks": ""
             }
            },
            "marker": {
             "colorbar": {
              "outlinewidth": 0,
              "ticks": ""
             }
            },
            "type": "scatter3d"
           }
          ],
          "scattercarpet": [
           {
            "marker": {
             "colorbar": {
              "outlinewidth": 0,
              "ticks": ""
             }
            },
            "type": "scattercarpet"
           }
          ],
          "scattergeo": [
           {
            "marker": {
             "colorbar": {
              "outlinewidth": 0,
              "ticks": ""
             }
            },
            "type": "scattergeo"
           }
          ],
          "scattergl": [
           {
            "marker": {
             "colorbar": {
              "outlinewidth": 0,
              "ticks": ""
             }
            },
            "type": "scattergl"
           }
          ],
          "scattermapbox": [
           {
            "marker": {
             "colorbar": {
              "outlinewidth": 0,
              "ticks": ""
             }
            },
            "type": "scattermapbox"
           }
          ],
          "scatterpolar": [
           {
            "marker": {
             "colorbar": {
              "outlinewidth": 0,
              "ticks": ""
             }
            },
            "type": "scatterpolar"
           }
          ],
          "scatterpolargl": [
           {
            "marker": {
             "colorbar": {
              "outlinewidth": 0,
              "ticks": ""
             }
            },
            "type": "scatterpolargl"
           }
          ],
          "scatterternary": [
           {
            "marker": {
             "colorbar": {
              "outlinewidth": 0,
              "ticks": ""
             }
            },
            "type": "scatterternary"
           }
          ],
          "surface": [
           {
            "colorbar": {
             "outlinewidth": 0,
             "ticks": ""
            },
            "colorscale": [
             [
              0,
              "#0d0887"
             ],
             [
              0.1111111111111111,
              "#46039f"
             ],
             [
              0.2222222222222222,
              "#7201a8"
             ],
             [
              0.3333333333333333,
              "#9c179e"
             ],
             [
              0.4444444444444444,
              "#bd3786"
             ],
             [
              0.5555555555555556,
              "#d8576b"
             ],
             [
              0.6666666666666666,
              "#ed7953"
             ],
             [
              0.7777777777777778,
              "#fb9f3a"
             ],
             [
              0.8888888888888888,
              "#fdca26"
             ],
             [
              1,
              "#f0f921"
             ]
            ],
            "type": "surface"
           }
          ],
          "table": [
           {
            "cells": {
             "fill": {
              "color": "#EBF0F8"
             },
             "line": {
              "color": "white"
             }
            },
            "header": {
             "fill": {
              "color": "#C8D4E3"
             },
             "line": {
              "color": "white"
             }
            },
            "type": "table"
           }
          ]
         },
         "layout": {
          "annotationdefaults": {
           "arrowcolor": "#2a3f5f",
           "arrowhead": 0,
           "arrowwidth": 1
          },
          "autotypenumbers": "strict",
          "coloraxis": {
           "colorbar": {
            "outlinewidth": 0,
            "ticks": ""
           }
          },
          "colorscale": {
           "diverging": [
            [
             0,
             "#8e0152"
            ],
            [
             0.1,
             "#c51b7d"
            ],
            [
             0.2,
             "#de77ae"
            ],
            [
             0.3,
             "#f1b6da"
            ],
            [
             0.4,
             "#fde0ef"
            ],
            [
             0.5,
             "#f7f7f7"
            ],
            [
             0.6,
             "#e6f5d0"
            ],
            [
             0.7,
             "#b8e186"
            ],
            [
             0.8,
             "#7fbc41"
            ],
            [
             0.9,
             "#4d9221"
            ],
            [
             1,
             "#276419"
            ]
           ],
           "sequential": [
            [
             0,
             "#0d0887"
            ],
            [
             0.1111111111111111,
             "#46039f"
            ],
            [
             0.2222222222222222,
             "#7201a8"
            ],
            [
             0.3333333333333333,
             "#9c179e"
            ],
            [
             0.4444444444444444,
             "#bd3786"
            ],
            [
             0.5555555555555556,
             "#d8576b"
            ],
            [
             0.6666666666666666,
             "#ed7953"
            ],
            [
             0.7777777777777778,
             "#fb9f3a"
            ],
            [
             0.8888888888888888,
             "#fdca26"
            ],
            [
             1,
             "#f0f921"
            ]
           ],
           "sequentialminus": [
            [
             0,
             "#0d0887"
            ],
            [
             0.1111111111111111,
             "#46039f"
            ],
            [
             0.2222222222222222,
             "#7201a8"
            ],
            [
             0.3333333333333333,
             "#9c179e"
            ],
            [
             0.4444444444444444,
             "#bd3786"
            ],
            [
             0.5555555555555556,
             "#d8576b"
            ],
            [
             0.6666666666666666,
             "#ed7953"
            ],
            [
             0.7777777777777778,
             "#fb9f3a"
            ],
            [
             0.8888888888888888,
             "#fdca26"
            ],
            [
             1,
             "#f0f921"
            ]
           ]
          },
          "colorway": [
           "#636efa",
           "#EF553B",
           "#00cc96",
           "#ab63fa",
           "#FFA15A",
           "#19d3f3",
           "#FF6692",
           "#B6E880",
           "#FF97FF",
           "#FECB52"
          ],
          "font": {
           "color": "#2a3f5f"
          },
          "geo": {
           "bgcolor": "white",
           "lakecolor": "white",
           "landcolor": "#E5ECF6",
           "showlakes": true,
           "showland": true,
           "subunitcolor": "white"
          },
          "hoverlabel": {
           "align": "left"
          },
          "hovermode": "closest",
          "mapbox": {
           "style": "light"
          },
          "paper_bgcolor": "white",
          "plot_bgcolor": "#E5ECF6",
          "polar": {
           "angularaxis": {
            "gridcolor": "white",
            "linecolor": "white",
            "ticks": ""
           },
           "bgcolor": "#E5ECF6",
           "radialaxis": {
            "gridcolor": "white",
            "linecolor": "white",
            "ticks": ""
           }
          },
          "scene": {
           "xaxis": {
            "backgroundcolor": "#E5ECF6",
            "gridcolor": "white",
            "gridwidth": 2,
            "linecolor": "white",
            "showbackground": true,
            "ticks": "",
            "zerolinecolor": "white"
           },
           "yaxis": {
            "backgroundcolor": "#E5ECF6",
            "gridcolor": "white",
            "gridwidth": 2,
            "linecolor": "white",
            "showbackground": true,
            "ticks": "",
            "zerolinecolor": "white"
           },
           "zaxis": {
            "backgroundcolor": "#E5ECF6",
            "gridcolor": "white",
            "gridwidth": 2,
            "linecolor": "white",
            "showbackground": true,
            "ticks": "",
            "zerolinecolor": "white"
           }
          },
          "shapedefaults": {
           "line": {
            "color": "#2a3f5f"
           }
          },
          "ternary": {
           "aaxis": {
            "gridcolor": "white",
            "linecolor": "white",
            "ticks": ""
           },
           "baxis": {
            "gridcolor": "white",
            "linecolor": "white",
            "ticks": ""
           },
           "bgcolor": "#E5ECF6",
           "caxis": {
            "gridcolor": "white",
            "linecolor": "white",
            "ticks": ""
           }
          },
          "title": {
           "x": 0.05
          },
          "xaxis": {
           "automargin": true,
           "gridcolor": "white",
           "linecolor": "white",
           "ticks": "",
           "title": {
            "standoff": 15
           },
           "zerolinecolor": "white",
           "zerolinewidth": 2
          },
          "yaxis": {
           "automargin": true,
           "gridcolor": "white",
           "linecolor": "white",
           "ticks": "",
           "title": {
            "standoff": 15
           },
           "zerolinecolor": "white",
           "zerolinewidth": 2
          }
         }
        },
        "title": {
         "font": {
          "size": 20
         },
         "text": "Passenger by Airport(International/Domestic)",
         "x": 0.46,
         "y": 0.95
        }
       }
      }
     },
     "metadata": {},
     "output_type": "display_data"
    }
   ],
   "source": [
    "rate = [41.69 , 58.30]\n",
    "status = ['Domestic Passengers' , 'International Passengers']\n",
    "data = go.Pie(\n",
    "values= rate,\n",
    "labels= status,\n",
    ")\n",
    "layout = go.Layout(\n",
    "title=dict(text = \"Passenger by Airport(International/Domestic)\",x=0.46,y=0.95,font_size=20)\n",
    ")\n",
    "fig = go.Figure(data=data,layout=layout)\n",
    "fig.show()"
   ]
  },
  {
   "cell_type": "markdown",
   "id": "7b375da4",
   "metadata": {},
   "source": [
    "#### 2.2.1 Air Passengers Monthly - JED"
   ]
  },
  {
   "cell_type": "code",
   "execution_count": 46,
   "id": "b72c9a46",
   "metadata": {},
   "outputs": [
    {
     "data": {
      "text/html": [
       "<div>\n",
       "<style scoped>\n",
       "    .dataframe tbody tr th:only-of-type {\n",
       "        vertical-align: middle;\n",
       "    }\n",
       "\n",
       "    .dataframe tbody tr th {\n",
       "        vertical-align: top;\n",
       "    }\n",
       "\n",
       "    .dataframe thead th {\n",
       "        text-align: right;\n",
       "    }\n",
       "</style>\n",
       "<table border=\"1\" class=\"dataframe\">\n",
       "  <thead>\n",
       "    <tr style=\"text-align: right;\">\n",
       "      <th></th>\n",
       "      <th>JED</th>\n",
       "    </tr>\n",
       "    <tr>\n",
       "      <th>Year</th>\n",
       "      <th></th>\n",
       "    </tr>\n",
       "  </thead>\n",
       "  <tbody>\n",
       "    <tr>\n",
       "      <th>2015</th>\n",
       "      <td>1.189455e+06</td>\n",
       "    </tr>\n",
       "    <tr>\n",
       "      <th>2016</th>\n",
       "      <td>1.298969e+06</td>\n",
       "    </tr>\n",
       "    <tr>\n",
       "      <th>2017</th>\n",
       "      <td>1.423914e+06</td>\n",
       "    </tr>\n",
       "    <tr>\n",
       "      <th>2018</th>\n",
       "      <td>1.501535e+06</td>\n",
       "    </tr>\n",
       "    <tr>\n",
       "      <th>2019</th>\n",
       "      <td>1.565417e+06</td>\n",
       "    </tr>\n",
       "    <tr>\n",
       "      <th>2020</th>\n",
       "      <td>5.078088e+05</td>\n",
       "    </tr>\n",
       "    <tr>\n",
       "      <th>2021</th>\n",
       "      <td>5.882223e+05</td>\n",
       "    </tr>\n",
       "    <tr>\n",
       "      <th>2022</th>\n",
       "      <td>5.533898e+05</td>\n",
       "    </tr>\n",
       "  </tbody>\n",
       "</table>\n",
       "</div>"
      ],
      "text/plain": [
       "               JED\n",
       "Year              \n",
       "2015  1.189455e+06\n",
       "2016  1.298969e+06\n",
       "2017  1.423914e+06\n",
       "2018  1.501535e+06\n",
       "2019  1.565417e+06\n",
       "2020  5.078088e+05\n",
       "2021  5.882223e+05\n",
       "2022  5.533898e+05"
      ]
     },
     "execution_count": 46,
     "metadata": {},
     "output_type": "execute_result"
    }
   ],
   "source": [
    "Jeddah=passengers[['Year','Month_short','dom/intl','JED']]\n",
    "Jeddah.head()\n",
    "\n",
    "jeddah=Jeddah.groupby(['Year']).agg({'JED':'mean'})\n",
    "jeddah"
   ]
  },
  {
   "cell_type": "code",
   "execution_count": 47,
   "id": "1f481705",
   "metadata": {},
   "outputs": [
    {
     "data": {
      "application/vnd.plotly.v1+json": {
       "config": {
        "plotlyServerURL": "https://plot.ly"
       },
       "data": [
        {
         "fill": "tozeroy",
         "marker": {
          "color": "gold"
         },
         "type": "scatter",
         "x": [
          2015,
          2016,
          2017,
          2018,
          2019,
          2020,
          2021,
          2022
         ],
         "y": [
          1189454.8333333333,
          1298969.4166666667,
          1423914.0833333333,
          1501535.0416666667,
          1565416.9583333333,
          507808.7916666667,
          588222.2916666666,
          553389.75
         ]
        }
       ],
       "layout": {
        "template": {
         "data": {
          "bar": [
           {
            "error_x": {
             "color": "#2a3f5f"
            },
            "error_y": {
             "color": "#2a3f5f"
            },
            "marker": {
             "line": {
              "color": "#E5ECF6",
              "width": 0.5
             },
             "pattern": {
              "fillmode": "overlay",
              "size": 10,
              "solidity": 0.2
             }
            },
            "type": "bar"
           }
          ],
          "barpolar": [
           {
            "marker": {
             "line": {
              "color": "#E5ECF6",
              "width": 0.5
             },
             "pattern": {
              "fillmode": "overlay",
              "size": 10,
              "solidity": 0.2
             }
            },
            "type": "barpolar"
           }
          ],
          "carpet": [
           {
            "aaxis": {
             "endlinecolor": "#2a3f5f",
             "gridcolor": "white",
             "linecolor": "white",
             "minorgridcolor": "white",
             "startlinecolor": "#2a3f5f"
            },
            "baxis": {
             "endlinecolor": "#2a3f5f",
             "gridcolor": "white",
             "linecolor": "white",
             "minorgridcolor": "white",
             "startlinecolor": "#2a3f5f"
            },
            "type": "carpet"
           }
          ],
          "choropleth": [
           {
            "colorbar": {
             "outlinewidth": 0,
             "ticks": ""
            },
            "type": "choropleth"
           }
          ],
          "contour": [
           {
            "colorbar": {
             "outlinewidth": 0,
             "ticks": ""
            },
            "colorscale": [
             [
              0,
              "#0d0887"
             ],
             [
              0.1111111111111111,
              "#46039f"
             ],
             [
              0.2222222222222222,
              "#7201a8"
             ],
             [
              0.3333333333333333,
              "#9c179e"
             ],
             [
              0.4444444444444444,
              "#bd3786"
             ],
             [
              0.5555555555555556,
              "#d8576b"
             ],
             [
              0.6666666666666666,
              "#ed7953"
             ],
             [
              0.7777777777777778,
              "#fb9f3a"
             ],
             [
              0.8888888888888888,
              "#fdca26"
             ],
             [
              1,
              "#f0f921"
             ]
            ],
            "type": "contour"
           }
          ],
          "contourcarpet": [
           {
            "colorbar": {
             "outlinewidth": 0,
             "ticks": ""
            },
            "type": "contourcarpet"
           }
          ],
          "heatmap": [
           {
            "colorbar": {
             "outlinewidth": 0,
             "ticks": ""
            },
            "colorscale": [
             [
              0,
              "#0d0887"
             ],
             [
              0.1111111111111111,
              "#46039f"
             ],
             [
              0.2222222222222222,
              "#7201a8"
             ],
             [
              0.3333333333333333,
              "#9c179e"
             ],
             [
              0.4444444444444444,
              "#bd3786"
             ],
             [
              0.5555555555555556,
              "#d8576b"
             ],
             [
              0.6666666666666666,
              "#ed7953"
             ],
             [
              0.7777777777777778,
              "#fb9f3a"
             ],
             [
              0.8888888888888888,
              "#fdca26"
             ],
             [
              1,
              "#f0f921"
             ]
            ],
            "type": "heatmap"
           }
          ],
          "heatmapgl": [
           {
            "colorbar": {
             "outlinewidth": 0,
             "ticks": ""
            },
            "colorscale": [
             [
              0,
              "#0d0887"
             ],
             [
              0.1111111111111111,
              "#46039f"
             ],
             [
              0.2222222222222222,
              "#7201a8"
             ],
             [
              0.3333333333333333,
              "#9c179e"
             ],
             [
              0.4444444444444444,
              "#bd3786"
             ],
             [
              0.5555555555555556,
              "#d8576b"
             ],
             [
              0.6666666666666666,
              "#ed7953"
             ],
             [
              0.7777777777777778,
              "#fb9f3a"
             ],
             [
              0.8888888888888888,
              "#fdca26"
             ],
             [
              1,
              "#f0f921"
             ]
            ],
            "type": "heatmapgl"
           }
          ],
          "histogram": [
           {
            "marker": {
             "pattern": {
              "fillmode": "overlay",
              "size": 10,
              "solidity": 0.2
             }
            },
            "type": "histogram"
           }
          ],
          "histogram2d": [
           {
            "colorbar": {
             "outlinewidth": 0,
             "ticks": ""
            },
            "colorscale": [
             [
              0,
              "#0d0887"
             ],
             [
              0.1111111111111111,
              "#46039f"
             ],
             [
              0.2222222222222222,
              "#7201a8"
             ],
             [
              0.3333333333333333,
              "#9c179e"
             ],
             [
              0.4444444444444444,
              "#bd3786"
             ],
             [
              0.5555555555555556,
              "#d8576b"
             ],
             [
              0.6666666666666666,
              "#ed7953"
             ],
             [
              0.7777777777777778,
              "#fb9f3a"
             ],
             [
              0.8888888888888888,
              "#fdca26"
             ],
             [
              1,
              "#f0f921"
             ]
            ],
            "type": "histogram2d"
           }
          ],
          "histogram2dcontour": [
           {
            "colorbar": {
             "outlinewidth": 0,
             "ticks": ""
            },
            "colorscale": [
             [
              0,
              "#0d0887"
             ],
             [
              0.1111111111111111,
              "#46039f"
             ],
             [
              0.2222222222222222,
              "#7201a8"
             ],
             [
              0.3333333333333333,
              "#9c179e"
             ],
             [
              0.4444444444444444,
              "#bd3786"
             ],
             [
              0.5555555555555556,
              "#d8576b"
             ],
             [
              0.6666666666666666,
              "#ed7953"
             ],
             [
              0.7777777777777778,
              "#fb9f3a"
             ],
             [
              0.8888888888888888,
              "#fdca26"
             ],
             [
              1,
              "#f0f921"
             ]
            ],
            "type": "histogram2dcontour"
           }
          ],
          "mesh3d": [
           {
            "colorbar": {
             "outlinewidth": 0,
             "ticks": ""
            },
            "type": "mesh3d"
           }
          ],
          "parcoords": [
           {
            "line": {
             "colorbar": {
              "outlinewidth": 0,
              "ticks": ""
             }
            },
            "type": "parcoords"
           }
          ],
          "pie": [
           {
            "automargin": true,
            "type": "pie"
           }
          ],
          "scatter": [
           {
            "marker": {
             "colorbar": {
              "outlinewidth": 0,
              "ticks": ""
             }
            },
            "type": "scatter"
           }
          ],
          "scatter3d": [
           {
            "line": {
             "colorbar": {
              "outlinewidth": 0,
              "ticks": ""
             }
            },
            "marker": {
             "colorbar": {
              "outlinewidth": 0,
              "ticks": ""
             }
            },
            "type": "scatter3d"
           }
          ],
          "scattercarpet": [
           {
            "marker": {
             "colorbar": {
              "outlinewidth": 0,
              "ticks": ""
             }
            },
            "type": "scattercarpet"
           }
          ],
          "scattergeo": [
           {
            "marker": {
             "colorbar": {
              "outlinewidth": 0,
              "ticks": ""
             }
            },
            "type": "scattergeo"
           }
          ],
          "scattergl": [
           {
            "marker": {
             "colorbar": {
              "outlinewidth": 0,
              "ticks": ""
             }
            },
            "type": "scattergl"
           }
          ],
          "scattermapbox": [
           {
            "marker": {
             "colorbar": {
              "outlinewidth": 0,
              "ticks": ""
             }
            },
            "type": "scattermapbox"
           }
          ],
          "scatterpolar": [
           {
            "marker": {
             "colorbar": {
              "outlinewidth": 0,
              "ticks": ""
             }
            },
            "type": "scatterpolar"
           }
          ],
          "scatterpolargl": [
           {
            "marker": {
             "colorbar": {
              "outlinewidth": 0,
              "ticks": ""
             }
            },
            "type": "scatterpolargl"
           }
          ],
          "scatterternary": [
           {
            "marker": {
             "colorbar": {
              "outlinewidth": 0,
              "ticks": ""
             }
            },
            "type": "scatterternary"
           }
          ],
          "surface": [
           {
            "colorbar": {
             "outlinewidth": 0,
             "ticks": ""
            },
            "colorscale": [
             [
              0,
              "#0d0887"
             ],
             [
              0.1111111111111111,
              "#46039f"
             ],
             [
              0.2222222222222222,
              "#7201a8"
             ],
             [
              0.3333333333333333,
              "#9c179e"
             ],
             [
              0.4444444444444444,
              "#bd3786"
             ],
             [
              0.5555555555555556,
              "#d8576b"
             ],
             [
              0.6666666666666666,
              "#ed7953"
             ],
             [
              0.7777777777777778,
              "#fb9f3a"
             ],
             [
              0.8888888888888888,
              "#fdca26"
             ],
             [
              1,
              "#f0f921"
             ]
            ],
            "type": "surface"
           }
          ],
          "table": [
           {
            "cells": {
             "fill": {
              "color": "#EBF0F8"
             },
             "line": {
              "color": "white"
             }
            },
            "header": {
             "fill": {
              "color": "#C8D4E3"
             },
             "line": {
              "color": "white"
             }
            },
            "type": "table"
           }
          ]
         },
         "layout": {
          "annotationdefaults": {
           "arrowcolor": "#2a3f5f",
           "arrowhead": 0,
           "arrowwidth": 1
          },
          "autotypenumbers": "strict",
          "coloraxis": {
           "colorbar": {
            "outlinewidth": 0,
            "ticks": ""
           }
          },
          "colorscale": {
           "diverging": [
            [
             0,
             "#8e0152"
            ],
            [
             0.1,
             "#c51b7d"
            ],
            [
             0.2,
             "#de77ae"
            ],
            [
             0.3,
             "#f1b6da"
            ],
            [
             0.4,
             "#fde0ef"
            ],
            [
             0.5,
             "#f7f7f7"
            ],
            [
             0.6,
             "#e6f5d0"
            ],
            [
             0.7,
             "#b8e186"
            ],
            [
             0.8,
             "#7fbc41"
            ],
            [
             0.9,
             "#4d9221"
            ],
            [
             1,
             "#276419"
            ]
           ],
           "sequential": [
            [
             0,
             "#0d0887"
            ],
            [
             0.1111111111111111,
             "#46039f"
            ],
            [
             0.2222222222222222,
             "#7201a8"
            ],
            [
             0.3333333333333333,
             "#9c179e"
            ],
            [
             0.4444444444444444,
             "#bd3786"
            ],
            [
             0.5555555555555556,
             "#d8576b"
            ],
            [
             0.6666666666666666,
             "#ed7953"
            ],
            [
             0.7777777777777778,
             "#fb9f3a"
            ],
            [
             0.8888888888888888,
             "#fdca26"
            ],
            [
             1,
             "#f0f921"
            ]
           ],
           "sequentialminus": [
            [
             0,
             "#0d0887"
            ],
            [
             0.1111111111111111,
             "#46039f"
            ],
            [
             0.2222222222222222,
             "#7201a8"
            ],
            [
             0.3333333333333333,
             "#9c179e"
            ],
            [
             0.4444444444444444,
             "#bd3786"
            ],
            [
             0.5555555555555556,
             "#d8576b"
            ],
            [
             0.6666666666666666,
             "#ed7953"
            ],
            [
             0.7777777777777778,
             "#fb9f3a"
            ],
            [
             0.8888888888888888,
             "#fdca26"
            ],
            [
             1,
             "#f0f921"
            ]
           ]
          },
          "colorway": [
           "#636efa",
           "#EF553B",
           "#00cc96",
           "#ab63fa",
           "#FFA15A",
           "#19d3f3",
           "#FF6692",
           "#B6E880",
           "#FF97FF",
           "#FECB52"
          ],
          "font": {
           "color": "#2a3f5f"
          },
          "geo": {
           "bgcolor": "white",
           "lakecolor": "white",
           "landcolor": "#E5ECF6",
           "showlakes": true,
           "showland": true,
           "subunitcolor": "white"
          },
          "hoverlabel": {
           "align": "left"
          },
          "hovermode": "closest",
          "mapbox": {
           "style": "light"
          },
          "paper_bgcolor": "white",
          "plot_bgcolor": "#E5ECF6",
          "polar": {
           "angularaxis": {
            "gridcolor": "white",
            "linecolor": "white",
            "ticks": ""
           },
           "bgcolor": "#E5ECF6",
           "radialaxis": {
            "gridcolor": "white",
            "linecolor": "white",
            "ticks": ""
           }
          },
          "scene": {
           "xaxis": {
            "backgroundcolor": "#E5ECF6",
            "gridcolor": "white",
            "gridwidth": 2,
            "linecolor": "white",
            "showbackground": true,
            "ticks": "",
            "zerolinecolor": "white"
           },
           "yaxis": {
            "backgroundcolor": "#E5ECF6",
            "gridcolor": "white",
            "gridwidth": 2,
            "linecolor": "white",
            "showbackground": true,
            "ticks": "",
            "zerolinecolor": "white"
           },
           "zaxis": {
            "backgroundcolor": "#E5ECF6",
            "gridcolor": "white",
            "gridwidth": 2,
            "linecolor": "white",
            "showbackground": true,
            "ticks": "",
            "zerolinecolor": "white"
           }
          },
          "shapedefaults": {
           "line": {
            "color": "#2a3f5f"
           }
          },
          "ternary": {
           "aaxis": {
            "gridcolor": "white",
            "linecolor": "white",
            "ticks": ""
           },
           "baxis": {
            "gridcolor": "white",
            "linecolor": "white",
            "ticks": ""
           },
           "bgcolor": "#E5ECF6",
           "caxis": {
            "gridcolor": "white",
            "linecolor": "white",
            "ticks": ""
           }
          },
          "title": {
           "x": 0.05
          },
          "xaxis": {
           "automargin": true,
           "gridcolor": "white",
           "linecolor": "white",
           "ticks": "",
           "title": {
            "standoff": 15
           },
           "zerolinecolor": "white",
           "zerolinewidth": 2
          },
          "yaxis": {
           "automargin": true,
           "gridcolor": "white",
           "linecolor": "white",
           "ticks": "",
           "title": {
            "standoff": 15
           },
           "zerolinecolor": "white",
           "zerolinewidth": 2
          }
         }
        },
        "title": {
         "text": "The average number of passengers in King Abualaziz Airport (2015-2022)",
         "x": 0.5
        },
        "xaxis": {
         "showgrid": false
        },
        "yaxis": {
         "showgrid": false
        }
       }
      }
     },
     "metadata": {},
     "output_type": "display_data"
    }
   ],
   "source": [
    "# Plot to show the mean number of passengers in Jeddah \n",
    "x = jeddah.index\n",
    "y = jeddah.JED\n",
    "fig = go.Figure()\n",
    "fig.add_trace(go.Scatter(x=x, y=y, fill='tozeroy',marker = dict(color = 'gold'))) # fill down to xaxis\n",
    "# Hide grid lines\n",
    "fig.update_layout(title_text='The average number of passengers in King Abualaziz Airport (2015-2022)', title_x=0.5)\n",
    "\n",
    "fig.update_xaxes(showgrid=False)\n",
    "fig.update_yaxes(showgrid=False)\n",
    "fig.show()"
   ]
  },
  {
   "cell_type": "markdown",
   "id": "99c46686",
   "metadata": {},
   "source": [
    "### 2.3. King Fahd International Airport - DMM"
   ]
  },
  {
   "cell_type": "markdown",
   "id": "dfffdbbd",
   "metadata": {},
   "source": [
    "King Fahd International Airport - DMM, the three largest airport in the world, and one of the most growing air passengers, Dammam the oil industry have its importan placce as it serve different cities and being near to four countries."
   ]
  },
  {
   "cell_type": "code",
   "execution_count": 48,
   "id": "f31c1bcf",
   "metadata": {},
   "outputs": [
    {
     "data": {
      "text/html": [
       "<div>\n",
       "<style scoped>\n",
       "    .dataframe tbody tr th:only-of-type {\n",
       "        vertical-align: middle;\n",
       "    }\n",
       "\n",
       "    .dataframe tbody tr th {\n",
       "        vertical-align: top;\n",
       "    }\n",
       "\n",
       "    .dataframe thead th {\n",
       "        text-align: right;\n",
       "    }\n",
       "</style>\n",
       "<table border=\"1\" class=\"dataframe\">\n",
       "  <thead>\n",
       "    <tr style=\"text-align: right;\">\n",
       "      <th></th>\n",
       "      <th>index</th>\n",
       "      <th>Year</th>\n",
       "      <th>Airport</th>\n",
       "      <th>FlightsA-Domestic</th>\n",
       "      <th>PaxA-Domestic</th>\n",
       "      <th>FlightsD-Domestic</th>\n",
       "      <th>PaxD-Domestic</th>\n",
       "      <th>FlightsA-international</th>\n",
       "      <th>PaxA-international</th>\n",
       "      <th>FlightsD-international</th>\n",
       "      <th>PaxD-international</th>\n",
       "      <th>Flights</th>\n",
       "      <th>Pax</th>\n",
       "    </tr>\n",
       "  </thead>\n",
       "  <tbody>\n",
       "    <tr>\n",
       "      <th>0</th>\n",
       "      <td>5</td>\n",
       "      <td>2010</td>\n",
       "      <td>DMM</td>\n",
       "      <td>10574</td>\n",
       "      <td>1111447</td>\n",
       "      <td>10611</td>\n",
       "      <td>1093376</td>\n",
       "      <td>12241</td>\n",
       "      <td>1204119</td>\n",
       "      <td>12155</td>\n",
       "      <td>1170321</td>\n",
       "      <td>45581</td>\n",
       "      <td>4579263</td>\n",
       "    </tr>\n",
       "    <tr>\n",
       "      <th>1</th>\n",
       "      <td>30</td>\n",
       "      <td>2011</td>\n",
       "      <td>DMM</td>\n",
       "      <td>10976</td>\n",
       "      <td>1174453</td>\n",
       "      <td>10998</td>\n",
       "      <td>1164244</td>\n",
       "      <td>14510</td>\n",
       "      <td>1512760</td>\n",
       "      <td>14448</td>\n",
       "      <td>1456986</td>\n",
       "      <td>50932</td>\n",
       "      <td>5308443</td>\n",
       "    </tr>\n",
       "    <tr>\n",
       "      <th>2</th>\n",
       "      <td>56</td>\n",
       "      <td>2012</td>\n",
       "      <td>DMM</td>\n",
       "      <td>12088</td>\n",
       "      <td>1363547</td>\n",
       "      <td>12041</td>\n",
       "      <td>1363242</td>\n",
       "      <td>16063</td>\n",
       "      <td>1573788</td>\n",
       "      <td>15949</td>\n",
       "      <td>1834952</td>\n",
       "      <td>56141</td>\n",
       "      <td>6135529</td>\n",
       "    </tr>\n",
       "    <tr>\n",
       "      <th>3</th>\n",
       "      <td>82</td>\n",
       "      <td>2013</td>\n",
       "      <td>DMM</td>\n",
       "      <td>13450</td>\n",
       "      <td>1532397</td>\n",
       "      <td>13228</td>\n",
       "      <td>1498327</td>\n",
       "      <td>17107</td>\n",
       "      <td>1858535</td>\n",
       "      <td>17100</td>\n",
       "      <td>1983093</td>\n",
       "      <td>60885</td>\n",
       "      <td>6872352</td>\n",
       "    </tr>\n",
       "    <tr>\n",
       "      <th>4</th>\n",
       "      <td>108</td>\n",
       "      <td>2014</td>\n",
       "      <td>DMM</td>\n",
       "      <td>15009</td>\n",
       "      <td>1733536</td>\n",
       "      <td>15175</td>\n",
       "      <td>1768501</td>\n",
       "      <td>18442</td>\n",
       "      <td>2327684</td>\n",
       "      <td>18290</td>\n",
       "      <td>2212398</td>\n",
       "      <td>66916</td>\n",
       "      <td>8042119</td>\n",
       "    </tr>\n",
       "    <tr>\n",
       "      <th>5</th>\n",
       "      <td>134</td>\n",
       "      <td>2015</td>\n",
       "      <td>DMM</td>\n",
       "      <td>16593</td>\n",
       "      <td>2007243</td>\n",
       "      <td>16664</td>\n",
       "      <td>2050397</td>\n",
       "      <td>19478</td>\n",
       "      <td>2619612</td>\n",
       "      <td>19428</td>\n",
       "      <td>2469605</td>\n",
       "      <td>72163</td>\n",
       "      <td>9146857</td>\n",
       "    </tr>\n",
       "    <tr>\n",
       "      <th>6</th>\n",
       "      <td>160</td>\n",
       "      <td>2016</td>\n",
       "      <td>DMM</td>\n",
       "      <td>24100</td>\n",
       "      <td>2259768</td>\n",
       "      <td>23927</td>\n",
       "      <td>2261833</td>\n",
       "      <td>21083</td>\n",
       "      <td>2622519</td>\n",
       "      <td>21257</td>\n",
       "      <td>2567214</td>\n",
       "      <td>90367</td>\n",
       "      <td>9711334</td>\n",
       "    </tr>\n",
       "    <tr>\n",
       "      <th>7</th>\n",
       "      <td>187</td>\n",
       "      <td>2017</td>\n",
       "      <td>DMM</td>\n",
       "      <td>25763</td>\n",
       "      <td>2595960</td>\n",
       "      <td>25735</td>\n",
       "      <td>2572790</td>\n",
       "      <td>19834</td>\n",
       "      <td>2420037</td>\n",
       "      <td>19857</td>\n",
       "      <td>2561042</td>\n",
       "      <td>91189</td>\n",
       "      <td>10149829</td>\n",
       "    </tr>\n",
       "    <tr>\n",
       "      <th>8</th>\n",
       "      <td>214</td>\n",
       "      <td>2018</td>\n",
       "      <td>DMM</td>\n",
       "      <td>26401</td>\n",
       "      <td>2766651</td>\n",
       "      <td>26522</td>\n",
       "      <td>2776042</td>\n",
       "      <td>20261</td>\n",
       "      <td>2350707</td>\n",
       "      <td>20193</td>\n",
       "      <td>2561513</td>\n",
       "      <td>93377</td>\n",
       "      <td>10454913</td>\n",
       "    </tr>\n",
       "    <tr>\n",
       "      <th>9</th>\n",
       "      <td>241</td>\n",
       "      <td>2019</td>\n",
       "      <td>DMM</td>\n",
       "      <td>28786</td>\n",
       "      <td>3152291</td>\n",
       "      <td>28749</td>\n",
       "      <td>3168537</td>\n",
       "      <td>18613</td>\n",
       "      <td>2453865</td>\n",
       "      <td>18642</td>\n",
       "      <td>2393690</td>\n",
       "      <td>94790</td>\n",
       "      <td>11168383</td>\n",
       "    </tr>\n",
       "    <tr>\n",
       "      <th>10</th>\n",
       "      <td>269</td>\n",
       "      <td>2020</td>\n",
       "      <td>DMM</td>\n",
       "      <td>16928</td>\n",
       "      <td>1382559</td>\n",
       "      <td>16817</td>\n",
       "      <td>1340700</td>\n",
       "      <td>6888</td>\n",
       "      <td>680459</td>\n",
       "      <td>7000</td>\n",
       "      <td>833904</td>\n",
       "      <td>47633</td>\n",
       "      <td>4237622</td>\n",
       "    </tr>\n",
       "    <tr>\n",
       "      <th>11</th>\n",
       "      <td>297</td>\n",
       "      <td>2021</td>\n",
       "      <td>DMM</td>\n",
       "      <td>21251</td>\n",
       "      <td>1741588</td>\n",
       "      <td>21276</td>\n",
       "      <td>1741180</td>\n",
       "      <td>9122</td>\n",
       "      <td>966102</td>\n",
       "      <td>9093</td>\n",
       "      <td>1046220</td>\n",
       "      <td>60742</td>\n",
       "      <td>5495090</td>\n",
       "    </tr>\n",
       "  </tbody>\n",
       "</table>\n",
       "</div>"
      ],
      "text/plain": [
       "    index  Year Airport  FlightsA-Domestic  PaxA-Domestic  FlightsD-Domestic  \\\n",
       "0       5  2010     DMM              10574        1111447              10611   \n",
       "1      30  2011     DMM              10976        1174453              10998   \n",
       "2      56  2012     DMM              12088        1363547              12041   \n",
       "3      82  2013     DMM              13450        1532397              13228   \n",
       "4     108  2014     DMM              15009        1733536              15175   \n",
       "5     134  2015     DMM              16593        2007243              16664   \n",
       "6     160  2016     DMM              24100        2259768              23927   \n",
       "7     187  2017     DMM              25763        2595960              25735   \n",
       "8     214  2018     DMM              26401        2766651              26522   \n",
       "9     241  2019     DMM              28786        3152291              28749   \n",
       "10    269  2020     DMM              16928        1382559              16817   \n",
       "11    297  2021     DMM              21251        1741588              21276   \n",
       "\n",
       "    PaxD-Domestic  FlightsA-international  PaxA-international  \\\n",
       "0         1093376                   12241             1204119   \n",
       "1         1164244                   14510             1512760   \n",
       "2         1363242                   16063             1573788   \n",
       "3         1498327                   17107             1858535   \n",
       "4         1768501                   18442             2327684   \n",
       "5         2050397                   19478             2619612   \n",
       "6         2261833                   21083             2622519   \n",
       "7         2572790                   19834             2420037   \n",
       "8         2776042                   20261             2350707   \n",
       "9         3168537                   18613             2453865   \n",
       "10        1340700                    6888              680459   \n",
       "11        1741180                    9122              966102   \n",
       "\n",
       "    FlightsD-international  PaxD-international  Flights       Pax  \n",
       "0                    12155             1170321    45581   4579263  \n",
       "1                    14448             1456986    50932   5308443  \n",
       "2                    15949             1834952    56141   6135529  \n",
       "3                    17100             1983093    60885   6872352  \n",
       "4                    18290             2212398    66916   8042119  \n",
       "5                    19428             2469605    72163   9146857  \n",
       "6                    21257             2567214    90367   9711334  \n",
       "7                    19857             2561042    91189  10149829  \n",
       "8                    20193             2561513    93377  10454913  \n",
       "9                    18642             2393690    94790  11168383  \n",
       "10                    7000              833904    47633   4237622  \n",
       "11                    9093             1046220    60742   5495090  "
      ]
     },
     "execution_count": 48,
     "metadata": {},
     "output_type": "execute_result"
    }
   ],
   "source": [
    "# filter data with only DMM code\n",
    "DMMpax=flights[(flights['Airport'] == 'DMM')]\n",
    "DMMpax.reset_index()"
   ]
  },
  {
   "cell_type": "code",
   "execution_count": 49,
   "id": "e73f05c1",
   "metadata": {},
   "outputs": [
    {
     "data": {
      "text/html": [
       "<div>\n",
       "<style scoped>\n",
       "    .dataframe tbody tr th:only-of-type {\n",
       "        vertical-align: middle;\n",
       "    }\n",
       "\n",
       "    .dataframe tbody tr th {\n",
       "        vertical-align: top;\n",
       "    }\n",
       "\n",
       "    .dataframe thead th {\n",
       "        text-align: right;\n",
       "    }\n",
       "</style>\n",
       "<table border=\"1\" class=\"dataframe\">\n",
       "  <thead>\n",
       "    <tr style=\"text-align: right;\">\n",
       "      <th></th>\n",
       "      <th>index</th>\n",
       "      <th>Year</th>\n",
       "      <th>Airport</th>\n",
       "      <th>Pax</th>\n",
       "    </tr>\n",
       "  </thead>\n",
       "  <tbody>\n",
       "    <tr>\n",
       "      <th>0</th>\n",
       "      <td>5</td>\n",
       "      <td>2010</td>\n",
       "      <td>DMM</td>\n",
       "      <td>4579263</td>\n",
       "    </tr>\n",
       "    <tr>\n",
       "      <th>1</th>\n",
       "      <td>30</td>\n",
       "      <td>2011</td>\n",
       "      <td>DMM</td>\n",
       "      <td>5308443</td>\n",
       "    </tr>\n",
       "    <tr>\n",
       "      <th>2</th>\n",
       "      <td>56</td>\n",
       "      <td>2012</td>\n",
       "      <td>DMM</td>\n",
       "      <td>6135529</td>\n",
       "    </tr>\n",
       "    <tr>\n",
       "      <th>3</th>\n",
       "      <td>82</td>\n",
       "      <td>2013</td>\n",
       "      <td>DMM</td>\n",
       "      <td>6872352</td>\n",
       "    </tr>\n",
       "    <tr>\n",
       "      <th>4</th>\n",
       "      <td>108</td>\n",
       "      <td>2014</td>\n",
       "      <td>DMM</td>\n",
       "      <td>8042119</td>\n",
       "    </tr>\n",
       "    <tr>\n",
       "      <th>5</th>\n",
       "      <td>134</td>\n",
       "      <td>2015</td>\n",
       "      <td>DMM</td>\n",
       "      <td>9146857</td>\n",
       "    </tr>\n",
       "    <tr>\n",
       "      <th>6</th>\n",
       "      <td>160</td>\n",
       "      <td>2016</td>\n",
       "      <td>DMM</td>\n",
       "      <td>9711334</td>\n",
       "    </tr>\n",
       "    <tr>\n",
       "      <th>7</th>\n",
       "      <td>187</td>\n",
       "      <td>2017</td>\n",
       "      <td>DMM</td>\n",
       "      <td>10149829</td>\n",
       "    </tr>\n",
       "    <tr>\n",
       "      <th>8</th>\n",
       "      <td>214</td>\n",
       "      <td>2018</td>\n",
       "      <td>DMM</td>\n",
       "      <td>10454913</td>\n",
       "    </tr>\n",
       "    <tr>\n",
       "      <th>9</th>\n",
       "      <td>241</td>\n",
       "      <td>2019</td>\n",
       "      <td>DMM</td>\n",
       "      <td>11168383</td>\n",
       "    </tr>\n",
       "    <tr>\n",
       "      <th>10</th>\n",
       "      <td>269</td>\n",
       "      <td>2020</td>\n",
       "      <td>DMM</td>\n",
       "      <td>4237622</td>\n",
       "    </tr>\n",
       "    <tr>\n",
       "      <th>11</th>\n",
       "      <td>297</td>\n",
       "      <td>2021</td>\n",
       "      <td>DMM</td>\n",
       "      <td>5495090</td>\n",
       "    </tr>\n",
       "  </tbody>\n",
       "</table>\n",
       "</div>"
      ],
      "text/plain": [
       "    index  Year Airport       Pax\n",
       "0       5  2010     DMM   4579263\n",
       "1      30  2011     DMM   5308443\n",
       "2      56  2012     DMM   6135529\n",
       "3      82  2013     DMM   6872352\n",
       "4     108  2014     DMM   8042119\n",
       "5     134  2015     DMM   9146857\n",
       "6     160  2016     DMM   9711334\n",
       "7     187  2017     DMM  10149829\n",
       "8     214  2018     DMM  10454913\n",
       "9     241  2019     DMM  11168383\n",
       "10    269  2020     DMM   4237622\n",
       "11    297  2021     DMM   5495090"
      ]
     },
     "execution_count": 49,
     "metadata": {},
     "output_type": "execute_result"
    }
   ],
   "source": [
    "precentDMMpax=DMMpax[['Year','Airport','Pax']]\n",
    "precentDMMpax = precentDMMpax.copy()  # Ensuring a copy is made to avoid warning note\n",
    "\n",
    "precentDMMpax.reset_index()"
   ]
  },
  {
   "cell_type": "code",
   "execution_count": 50,
   "id": "567399c1",
   "metadata": {
    "scrolled": true
   },
   "outputs": [
    {
     "data": {
      "text/html": [
       "<div>\n",
       "<style scoped>\n",
       "    .dataframe tbody tr th:only-of-type {\n",
       "        vertical-align: middle;\n",
       "    }\n",
       "\n",
       "    .dataframe tbody tr th {\n",
       "        vertical-align: top;\n",
       "    }\n",
       "\n",
       "    .dataframe thead th {\n",
       "        text-align: right;\n",
       "    }\n",
       "</style>\n",
       "<table border=\"1\" class=\"dataframe\">\n",
       "  <thead>\n",
       "    <tr style=\"text-align: right;\">\n",
       "      <th></th>\n",
       "      <th>index</th>\n",
       "      <th>Year</th>\n",
       "      <th>Airport</th>\n",
       "      <th>Pax</th>\n",
       "      <th>increasing_precentage</th>\n",
       "    </tr>\n",
       "  </thead>\n",
       "  <tbody>\n",
       "    <tr>\n",
       "      <th>0</th>\n",
       "      <td>5</td>\n",
       "      <td>2010</td>\n",
       "      <td>DMM</td>\n",
       "      <td>4579263</td>\n",
       "      <td>NaN</td>\n",
       "    </tr>\n",
       "    <tr>\n",
       "      <th>1</th>\n",
       "      <td>30</td>\n",
       "      <td>2011</td>\n",
       "      <td>DMM</td>\n",
       "      <td>5308443</td>\n",
       "      <td>15.923523</td>\n",
       "    </tr>\n",
       "    <tr>\n",
       "      <th>2</th>\n",
       "      <td>56</td>\n",
       "      <td>2012</td>\n",
       "      <td>DMM</td>\n",
       "      <td>6135529</td>\n",
       "      <td>15.580576</td>\n",
       "    </tr>\n",
       "    <tr>\n",
       "      <th>3</th>\n",
       "      <td>82</td>\n",
       "      <td>2013</td>\n",
       "      <td>DMM</td>\n",
       "      <td>6872352</td>\n",
       "      <td>12.009119</td>\n",
       "    </tr>\n",
       "    <tr>\n",
       "      <th>4</th>\n",
       "      <td>108</td>\n",
       "      <td>2014</td>\n",
       "      <td>DMM</td>\n",
       "      <td>8042119</td>\n",
       "      <td>17.021349</td>\n",
       "    </tr>\n",
       "    <tr>\n",
       "      <th>5</th>\n",
       "      <td>134</td>\n",
       "      <td>2015</td>\n",
       "      <td>DMM</td>\n",
       "      <td>9146857</td>\n",
       "      <td>13.736902</td>\n",
       "    </tr>\n",
       "    <tr>\n",
       "      <th>6</th>\n",
       "      <td>160</td>\n",
       "      <td>2016</td>\n",
       "      <td>DMM</td>\n",
       "      <td>9711334</td>\n",
       "      <td>6.171267</td>\n",
       "    </tr>\n",
       "    <tr>\n",
       "      <th>7</th>\n",
       "      <td>187</td>\n",
       "      <td>2017</td>\n",
       "      <td>DMM</td>\n",
       "      <td>10149829</td>\n",
       "      <td>4.515291</td>\n",
       "    </tr>\n",
       "    <tr>\n",
       "      <th>8</th>\n",
       "      <td>214</td>\n",
       "      <td>2018</td>\n",
       "      <td>DMM</td>\n",
       "      <td>10454913</td>\n",
       "      <td>3.005804</td>\n",
       "    </tr>\n",
       "    <tr>\n",
       "      <th>9</th>\n",
       "      <td>241</td>\n",
       "      <td>2019</td>\n",
       "      <td>DMM</td>\n",
       "      <td>11168383</td>\n",
       "      <td>6.824256</td>\n",
       "    </tr>\n",
       "    <tr>\n",
       "      <th>10</th>\n",
       "      <td>269</td>\n",
       "      <td>2020</td>\n",
       "      <td>DMM</td>\n",
       "      <td>4237622</td>\n",
       "      <td>-62.056978</td>\n",
       "    </tr>\n",
       "    <tr>\n",
       "      <th>11</th>\n",
       "      <td>297</td>\n",
       "      <td>2021</td>\n",
       "      <td>DMM</td>\n",
       "      <td>5495090</td>\n",
       "      <td>29.673907</td>\n",
       "    </tr>\n",
       "  </tbody>\n",
       "</table>\n",
       "</div>"
      ],
      "text/plain": [
       "    index  Year Airport       Pax  increasing_precentage\n",
       "0       5  2010     DMM   4579263                    NaN\n",
       "1      30  2011     DMM   5308443              15.923523\n",
       "2      56  2012     DMM   6135529              15.580576\n",
       "3      82  2013     DMM   6872352              12.009119\n",
       "4     108  2014     DMM   8042119              17.021349\n",
       "5     134  2015     DMM   9146857              13.736902\n",
       "6     160  2016     DMM   9711334               6.171267\n",
       "7     187  2017     DMM  10149829               4.515291\n",
       "8     214  2018     DMM  10454913               3.005804\n",
       "9     241  2019     DMM  11168383               6.824256\n",
       "10    269  2020     DMM   4237622             -62.056978\n",
       "11    297  2021     DMM   5495090              29.673907"
      ]
     },
     "execution_count": 50,
     "metadata": {},
     "output_type": "execute_result"
    }
   ],
   "source": [
    "# finding the precentage of changes\n",
    "DMMprecentage=precentDMMpax['Pax'].pct_change()\n",
    "precentDMMpax['increasing_precentage']=DMMprecentage*100 # Assign the new value of changes \n",
    "precentDMMpax.reset_index()"
   ]
  },
  {
   "cell_type": "markdown",
   "id": "5e09dd2d",
   "metadata": {},
   "source": [
    "Rate of chnages shows increasing through the years, Dammam have been the destinations of Gulf States citizens, and major administrative center for the Saudi oil industry. \"More than 86% of Saudi basic industries are located in this province\" , so this show how the movement of air passengers will increase year on year."
   ]
  },
  {
   "cell_type": "markdown",
   "id": "cd2023f3",
   "metadata": {},
   "source": [
    "#### 4.3.1. International arrivals to DMM airports"
   ]
  },
  {
   "cell_type": "code",
   "execution_count": 51,
   "id": "3894730c",
   "metadata": {},
   "outputs": [
    {
     "data": {
      "text/html": [
       "<div>\n",
       "<style scoped>\n",
       "    .dataframe tbody tr th:only-of-type {\n",
       "        vertical-align: middle;\n",
       "    }\n",
       "\n",
       "    .dataframe tbody tr th {\n",
       "        vertical-align: top;\n",
       "    }\n",
       "\n",
       "    .dataframe thead th {\n",
       "        text-align: right;\n",
       "    }\n",
       "</style>\n",
       "<table border=\"1\" class=\"dataframe\">\n",
       "  <thead>\n",
       "    <tr style=\"text-align: right;\">\n",
       "      <th></th>\n",
       "      <th>Year</th>\n",
       "      <th>Airport</th>\n",
       "      <th>PaxA-international</th>\n",
       "      <th>Chages %</th>\n",
       "    </tr>\n",
       "  </thead>\n",
       "  <tbody>\n",
       "    <tr>\n",
       "      <th>5</th>\n",
       "      <td>2010</td>\n",
       "      <td>DMM</td>\n",
       "      <td>1204119</td>\n",
       "      <td>nan%</td>\n",
       "    </tr>\n",
       "    <tr>\n",
       "      <th>30</th>\n",
       "      <td>2011</td>\n",
       "      <td>DMM</td>\n",
       "      <td>1512760</td>\n",
       "      <td>25.63%</td>\n",
       "    </tr>\n",
       "    <tr>\n",
       "      <th>56</th>\n",
       "      <td>2012</td>\n",
       "      <td>DMM</td>\n",
       "      <td>1573788</td>\n",
       "      <td>4.03%</td>\n",
       "    </tr>\n",
       "    <tr>\n",
       "      <th>82</th>\n",
       "      <td>2013</td>\n",
       "      <td>DMM</td>\n",
       "      <td>1858535</td>\n",
       "      <td>18.09%</td>\n",
       "    </tr>\n",
       "    <tr>\n",
       "      <th>108</th>\n",
       "      <td>2014</td>\n",
       "      <td>DMM</td>\n",
       "      <td>2327684</td>\n",
       "      <td>25.24%</td>\n",
       "    </tr>\n",
       "    <tr>\n",
       "      <th>134</th>\n",
       "      <td>2015</td>\n",
       "      <td>DMM</td>\n",
       "      <td>2619612</td>\n",
       "      <td>12.54%</td>\n",
       "    </tr>\n",
       "    <tr>\n",
       "      <th>160</th>\n",
       "      <td>2016</td>\n",
       "      <td>DMM</td>\n",
       "      <td>2622519</td>\n",
       "      <td>0.11%</td>\n",
       "    </tr>\n",
       "    <tr>\n",
       "      <th>187</th>\n",
       "      <td>2017</td>\n",
       "      <td>DMM</td>\n",
       "      <td>2420037</td>\n",
       "      <td>-7.72%</td>\n",
       "    </tr>\n",
       "    <tr>\n",
       "      <th>214</th>\n",
       "      <td>2018</td>\n",
       "      <td>DMM</td>\n",
       "      <td>2350707</td>\n",
       "      <td>-2.86%</td>\n",
       "    </tr>\n",
       "    <tr>\n",
       "      <th>241</th>\n",
       "      <td>2019</td>\n",
       "      <td>DMM</td>\n",
       "      <td>2453865</td>\n",
       "      <td>4.39%</td>\n",
       "    </tr>\n",
       "    <tr>\n",
       "      <th>269</th>\n",
       "      <td>2020</td>\n",
       "      <td>DMM</td>\n",
       "      <td>680459</td>\n",
       "      <td>-72.27%</td>\n",
       "    </tr>\n",
       "    <tr>\n",
       "      <th>297</th>\n",
       "      <td>2021</td>\n",
       "      <td>DMM</td>\n",
       "      <td>966102</td>\n",
       "      <td>41.98%</td>\n",
       "    </tr>\n",
       "  </tbody>\n",
       "</table>\n",
       "</div>"
      ],
      "text/plain": [
       "     Year Airport  PaxA-international Chages %\n",
       "5    2010     DMM             1204119     nan%\n",
       "30   2011     DMM             1512760   25.63%\n",
       "56   2012     DMM             1573788    4.03%\n",
       "82   2013     DMM             1858535   18.09%\n",
       "108  2014     DMM             2327684   25.24%\n",
       "134  2015     DMM             2619612   12.54%\n",
       "160  2016     DMM             2622519    0.11%\n",
       "187  2017     DMM             2420037   -7.72%\n",
       "214  2018     DMM             2350707   -2.86%\n",
       "241  2019     DMM             2453865    4.39%\n",
       "269  2020     DMM              680459  -72.27%\n",
       "297  2021     DMM              966102   41.98%"
      ]
     },
     "execution_count": 51,
     "metadata": {},
     "output_type": "execute_result"
    }
   ],
   "source": [
    "DammampaxArrival=DMMpax[['Year','Airport','PaxA-international']]\n",
    "DammampaxArrival=DammampaxArrival.copy()\n",
    "ch_arr_DMM=DammampaxArrival['PaxA-international'].pct_change()\n",
    "DammampaxArrival['Chages %']=ch_arr_DMM\n",
    "DammampaxArrival['Chages %']=DammampaxArrival['Chages %'].map(\"{:.2%}\".format)\n",
    "DammampaxArrival.head(12)"
   ]
  },
  {
   "cell_type": "markdown",
   "id": "55e67f66",
   "metadata": {},
   "source": [
    "**2014** in this year rate of chnage was 25.24% compared to 2013, Dammam has been selected as the new location for the Construction Machinery Show 2014and for its relevance to heavy construction and machinery equipment. Dammam has been selected as the new location for the show, for its relevance to heavy construction and machinery equipment. The timing of the event has been moved to prevent clashing with international machinery events in April such as Bauma and Conexpo. "
   ]
  },
  {
   "cell_type": "markdown",
   "id": "b83f8571",
   "metadata": {},
   "source": [
    "### Arrivals Flights  - DMM\n"
   ]
  },
  {
   "cell_type": "code",
   "execution_count": 52,
   "id": "6b48a101",
   "metadata": {
    "scrolled": false
   },
   "outputs": [
    {
     "data": {
      "text/html": [
       "<div>\n",
       "<style scoped>\n",
       "    .dataframe tbody tr th:only-of-type {\n",
       "        vertical-align: middle;\n",
       "    }\n",
       "\n",
       "    .dataframe tbody tr th {\n",
       "        vertical-align: top;\n",
       "    }\n",
       "\n",
       "    .dataframe thead th {\n",
       "        text-align: right;\n",
       "    }\n",
       "</style>\n",
       "<table border=\"1\" class=\"dataframe\">\n",
       "  <thead>\n",
       "    <tr style=\"text-align: right;\">\n",
       "      <th></th>\n",
       "      <th>Year</th>\n",
       "      <th>Airport</th>\n",
       "      <th>FlightsA-international</th>\n",
       "      <th>FlightsA-Domestic</th>\n",
       "      <th>changes_international_arr</th>\n",
       "      <th>changes_domestic_arr</th>\n",
       "    </tr>\n",
       "  </thead>\n",
       "  <tbody>\n",
       "    <tr>\n",
       "      <th>5</th>\n",
       "      <td>2010</td>\n",
       "      <td>DMM</td>\n",
       "      <td>12241</td>\n",
       "      <td>10574</td>\n",
       "      <td>NaN</td>\n",
       "      <td>NaN</td>\n",
       "    </tr>\n",
       "    <tr>\n",
       "      <th>30</th>\n",
       "      <td>2011</td>\n",
       "      <td>DMM</td>\n",
       "      <td>14510</td>\n",
       "      <td>10976</td>\n",
       "      <td>18.536067</td>\n",
       "      <td>3.801778</td>\n",
       "    </tr>\n",
       "    <tr>\n",
       "      <th>56</th>\n",
       "      <td>2012</td>\n",
       "      <td>DMM</td>\n",
       "      <td>16063</td>\n",
       "      <td>12088</td>\n",
       "      <td>10.702963</td>\n",
       "      <td>10.131195</td>\n",
       "    </tr>\n",
       "    <tr>\n",
       "      <th>82</th>\n",
       "      <td>2013</td>\n",
       "      <td>DMM</td>\n",
       "      <td>17107</td>\n",
       "      <td>13450</td>\n",
       "      <td>6.499409</td>\n",
       "      <td>11.267373</td>\n",
       "    </tr>\n",
       "    <tr>\n",
       "      <th>108</th>\n",
       "      <td>2014</td>\n",
       "      <td>DMM</td>\n",
       "      <td>18442</td>\n",
       "      <td>15009</td>\n",
       "      <td>7.803823</td>\n",
       "      <td>11.591078</td>\n",
       "    </tr>\n",
       "    <tr>\n",
       "      <th>134</th>\n",
       "      <td>2015</td>\n",
       "      <td>DMM</td>\n",
       "      <td>19478</td>\n",
       "      <td>16593</td>\n",
       "      <td>5.617612</td>\n",
       "      <td>10.553668</td>\n",
       "    </tr>\n",
       "    <tr>\n",
       "      <th>160</th>\n",
       "      <td>2016</td>\n",
       "      <td>DMM</td>\n",
       "      <td>21083</td>\n",
       "      <td>24100</td>\n",
       "      <td>8.240066</td>\n",
       "      <td>45.241970</td>\n",
       "    </tr>\n",
       "    <tr>\n",
       "      <th>187</th>\n",
       "      <td>2017</td>\n",
       "      <td>DMM</td>\n",
       "      <td>19834</td>\n",
       "      <td>25763</td>\n",
       "      <td>-5.924204</td>\n",
       "      <td>6.900415</td>\n",
       "    </tr>\n",
       "    <tr>\n",
       "      <th>214</th>\n",
       "      <td>2018</td>\n",
       "      <td>DMM</td>\n",
       "      <td>20261</td>\n",
       "      <td>26401</td>\n",
       "      <td>2.152869</td>\n",
       "      <td>2.476420</td>\n",
       "    </tr>\n",
       "    <tr>\n",
       "      <th>241</th>\n",
       "      <td>2019</td>\n",
       "      <td>DMM</td>\n",
       "      <td>18613</td>\n",
       "      <td>28786</td>\n",
       "      <td>-8.133853</td>\n",
       "      <td>9.033749</td>\n",
       "    </tr>\n",
       "    <tr>\n",
       "      <th>269</th>\n",
       "      <td>2020</td>\n",
       "      <td>DMM</td>\n",
       "      <td>6888</td>\n",
       "      <td>16928</td>\n",
       "      <td>-62.993607</td>\n",
       "      <td>-41.193636</td>\n",
       "    </tr>\n",
       "    <tr>\n",
       "      <th>297</th>\n",
       "      <td>2021</td>\n",
       "      <td>DMM</td>\n",
       "      <td>9122</td>\n",
       "      <td>21251</td>\n",
       "      <td>32.433217</td>\n",
       "      <td>25.537571</td>\n",
       "    </tr>\n",
       "  </tbody>\n",
       "</table>\n",
       "</div>"
      ],
      "text/plain": [
       "     Year Airport  FlightsA-international  FlightsA-Domestic  \\\n",
       "5    2010     DMM                   12241              10574   \n",
       "30   2011     DMM                   14510              10976   \n",
       "56   2012     DMM                   16063              12088   \n",
       "82   2013     DMM                   17107              13450   \n",
       "108  2014     DMM                   18442              15009   \n",
       "134  2015     DMM                   19478              16593   \n",
       "160  2016     DMM                   21083              24100   \n",
       "187  2017     DMM                   19834              25763   \n",
       "214  2018     DMM                   20261              26401   \n",
       "241  2019     DMM                   18613              28786   \n",
       "269  2020     DMM                    6888              16928   \n",
       "297  2021     DMM                    9122              21251   \n",
       "\n",
       "     changes_international_arr  changes_domestic_arr  \n",
       "5                          NaN                   NaN  \n",
       "30                   18.536067              3.801778  \n",
       "56                   10.702963             10.131195  \n",
       "82                    6.499409             11.267373  \n",
       "108                   7.803823             11.591078  \n",
       "134                   5.617612             10.553668  \n",
       "160                   8.240066             45.241970  \n",
       "187                  -5.924204              6.900415  \n",
       "214                   2.152869              2.476420  \n",
       "241                  -8.133853              9.033749  \n",
       "269                 -62.993607            -41.193636  \n",
       "297                  32.433217             25.537571  "
      ]
     },
     "execution_count": 52,
     "metadata": {},
     "output_type": "execute_result"
    }
   ],
   "source": [
    "Dammam_A_flights=DMMpax[['Year','Airport','FlightsA-international','FlightsA-Domestic']]\n",
    "Dammam_A_flights=Dammam_A_flights.copy()\n",
    "# 1. applying .pct_change() to find the rate changes year on year for internatinal arrival flights\n",
    "Dammam_A_changes=Dammam_A_flights['FlightsA-international'].pct_change()\n",
    "Dammam_A_flights['changes_international_arr']=Dammam_A_changes*100\n",
    "\n",
    "# 2. applying .pct_change() to find the rate changes year on year for domestic arrival flights\n",
    "Dammam_D_changes=Dammam_A_flights['FlightsA-Domestic'].pct_change()\n",
    "Dammam_A_flights['changes_domestic_arr']=Dammam_D_changes*100\n",
    "\n",
    "Dammam_A_flights"
   ]
  },
  {
   "cell_type": "markdown",
   "id": "d5a8a685",
   "metadata": {},
   "source": [
    "#### 2.3.1 Monthly Air Passengers - DMM\n"
   ]
  },
  {
   "cell_type": "code",
   "execution_count": 53,
   "id": "64c3248d",
   "metadata": {
    "scrolled": true
   },
   "outputs": [
    {
     "data": {
      "text/html": [
       "<div>\n",
       "<style scoped>\n",
       "    .dataframe tbody tr th:only-of-type {\n",
       "        vertical-align: middle;\n",
       "    }\n",
       "\n",
       "    .dataframe tbody tr th {\n",
       "        vertical-align: top;\n",
       "    }\n",
       "\n",
       "    .dataframe thead th {\n",
       "        text-align: right;\n",
       "    }\n",
       "</style>\n",
       "<table border=\"1\" class=\"dataframe\">\n",
       "  <thead>\n",
       "    <tr style=\"text-align: right;\">\n",
       "      <th></th>\n",
       "      <th>DMM</th>\n",
       "    </tr>\n",
       "    <tr>\n",
       "      <th>Year</th>\n",
       "      <th></th>\n",
       "    </tr>\n",
       "  </thead>\n",
       "  <tbody>\n",
       "    <tr>\n",
       "      <th>2015</th>\n",
       "      <td>381119.041667</td>\n",
       "    </tr>\n",
       "    <tr>\n",
       "      <th>2016</th>\n",
       "      <td>404638.916667</td>\n",
       "    </tr>\n",
       "    <tr>\n",
       "      <th>2017</th>\n",
       "      <td>422909.541667</td>\n",
       "    </tr>\n",
       "    <tr>\n",
       "      <th>2018</th>\n",
       "      <td>435621.375000</td>\n",
       "    </tr>\n",
       "    <tr>\n",
       "      <th>2019</th>\n",
       "      <td>465349.291667</td>\n",
       "    </tr>\n",
       "    <tr>\n",
       "      <th>2020</th>\n",
       "      <td>176573.916667</td>\n",
       "    </tr>\n",
       "    <tr>\n",
       "      <th>2021</th>\n",
       "      <td>248808.291667</td>\n",
       "    </tr>\n",
       "    <tr>\n",
       "      <th>2022</th>\n",
       "      <td>236255.750000</td>\n",
       "    </tr>\n",
       "  </tbody>\n",
       "</table>\n",
       "</div>"
      ],
      "text/plain": [
       "                DMM\n",
       "Year               \n",
       "2015  381119.041667\n",
       "2016  404638.916667\n",
       "2017  422909.541667\n",
       "2018  435621.375000\n",
       "2019  465349.291667\n",
       "2020  176573.916667\n",
       "2021  248808.291667\n",
       "2022  236255.750000"
      ]
     },
     "execution_count": 53,
     "metadata": {},
     "output_type": "execute_result"
    }
   ],
   "source": [
    "# dataset with month specified\n",
    "Dammam=passengers[['Year','Month_short','dom/intl','DMM']]\n",
    "Dammam.head()\n",
    "\n",
    "dammam=Dammam.groupby(['Year']).agg({'DMM':'mean'})\n",
    "dammam"
   ]
  },
  {
   "cell_type": "code",
   "execution_count": 54,
   "id": "63bcaa1d",
   "metadata": {
    "scrolled": false
   },
   "outputs": [
    {
     "data": {
      "application/vnd.plotly.v1+json": {
       "config": {
        "plotlyServerURL": "https://plot.ly"
       },
       "data": [
        {
         "fill": "tozeroy",
         "marker": {
          "color": "gold"
         },
         "type": "scatter",
         "x": [
          2015,
          2016,
          2017,
          2018,
          2019,
          2020,
          2021,
          2022
         ],
         "y": [
          381119.0416666667,
          404638.9166666667,
          422909.5416666667,
          435621.375,
          465349.2916666667,
          176573.91666666666,
          248808.29166666666,
          236255.75
         ]
        }
       ],
       "layout": {
        "template": {
         "data": {
          "bar": [
           {
            "error_x": {
             "color": "#2a3f5f"
            },
            "error_y": {
             "color": "#2a3f5f"
            },
            "marker": {
             "line": {
              "color": "#E5ECF6",
              "width": 0.5
             },
             "pattern": {
              "fillmode": "overlay",
              "size": 10,
              "solidity": 0.2
             }
            },
            "type": "bar"
           }
          ],
          "barpolar": [
           {
            "marker": {
             "line": {
              "color": "#E5ECF6",
              "width": 0.5
             },
             "pattern": {
              "fillmode": "overlay",
              "size": 10,
              "solidity": 0.2
             }
            },
            "type": "barpolar"
           }
          ],
          "carpet": [
           {
            "aaxis": {
             "endlinecolor": "#2a3f5f",
             "gridcolor": "white",
             "linecolor": "white",
             "minorgridcolor": "white",
             "startlinecolor": "#2a3f5f"
            },
            "baxis": {
             "endlinecolor": "#2a3f5f",
             "gridcolor": "white",
             "linecolor": "white",
             "minorgridcolor": "white",
             "startlinecolor": "#2a3f5f"
            },
            "type": "carpet"
           }
          ],
          "choropleth": [
           {
            "colorbar": {
             "outlinewidth": 0,
             "ticks": ""
            },
            "type": "choropleth"
           }
          ],
          "contour": [
           {
            "colorbar": {
             "outlinewidth": 0,
             "ticks": ""
            },
            "colorscale": [
             [
              0,
              "#0d0887"
             ],
             [
              0.1111111111111111,
              "#46039f"
             ],
             [
              0.2222222222222222,
              "#7201a8"
             ],
             [
              0.3333333333333333,
              "#9c179e"
             ],
             [
              0.4444444444444444,
              "#bd3786"
             ],
             [
              0.5555555555555556,
              "#d8576b"
             ],
             [
              0.6666666666666666,
              "#ed7953"
             ],
             [
              0.7777777777777778,
              "#fb9f3a"
             ],
             [
              0.8888888888888888,
              "#fdca26"
             ],
             [
              1,
              "#f0f921"
             ]
            ],
            "type": "contour"
           }
          ],
          "contourcarpet": [
           {
            "colorbar": {
             "outlinewidth": 0,
             "ticks": ""
            },
            "type": "contourcarpet"
           }
          ],
          "heatmap": [
           {
            "colorbar": {
             "outlinewidth": 0,
             "ticks": ""
            },
            "colorscale": [
             [
              0,
              "#0d0887"
             ],
             [
              0.1111111111111111,
              "#46039f"
             ],
             [
              0.2222222222222222,
              "#7201a8"
             ],
             [
              0.3333333333333333,
              "#9c179e"
             ],
             [
              0.4444444444444444,
              "#bd3786"
             ],
             [
              0.5555555555555556,
              "#d8576b"
             ],
             [
              0.6666666666666666,
              "#ed7953"
             ],
             [
              0.7777777777777778,
              "#fb9f3a"
             ],
             [
              0.8888888888888888,
              "#fdca26"
             ],
             [
              1,
              "#f0f921"
             ]
            ],
            "type": "heatmap"
           }
          ],
          "heatmapgl": [
           {
            "colorbar": {
             "outlinewidth": 0,
             "ticks": ""
            },
            "colorscale": [
             [
              0,
              "#0d0887"
             ],
             [
              0.1111111111111111,
              "#46039f"
             ],
             [
              0.2222222222222222,
              "#7201a8"
             ],
             [
              0.3333333333333333,
              "#9c179e"
             ],
             [
              0.4444444444444444,
              "#bd3786"
             ],
             [
              0.5555555555555556,
              "#d8576b"
             ],
             [
              0.6666666666666666,
              "#ed7953"
             ],
             [
              0.7777777777777778,
              "#fb9f3a"
             ],
             [
              0.8888888888888888,
              "#fdca26"
             ],
             [
              1,
              "#f0f921"
             ]
            ],
            "type": "heatmapgl"
           }
          ],
          "histogram": [
           {
            "marker": {
             "pattern": {
              "fillmode": "overlay",
              "size": 10,
              "solidity": 0.2
             }
            },
            "type": "histogram"
           }
          ],
          "histogram2d": [
           {
            "colorbar": {
             "outlinewidth": 0,
             "ticks": ""
            },
            "colorscale": [
             [
              0,
              "#0d0887"
             ],
             [
              0.1111111111111111,
              "#46039f"
             ],
             [
              0.2222222222222222,
              "#7201a8"
             ],
             [
              0.3333333333333333,
              "#9c179e"
             ],
             [
              0.4444444444444444,
              "#bd3786"
             ],
             [
              0.5555555555555556,
              "#d8576b"
             ],
             [
              0.6666666666666666,
              "#ed7953"
             ],
             [
              0.7777777777777778,
              "#fb9f3a"
             ],
             [
              0.8888888888888888,
              "#fdca26"
             ],
             [
              1,
              "#f0f921"
             ]
            ],
            "type": "histogram2d"
           }
          ],
          "histogram2dcontour": [
           {
            "colorbar": {
             "outlinewidth": 0,
             "ticks": ""
            },
            "colorscale": [
             [
              0,
              "#0d0887"
             ],
             [
              0.1111111111111111,
              "#46039f"
             ],
             [
              0.2222222222222222,
              "#7201a8"
             ],
             [
              0.3333333333333333,
              "#9c179e"
             ],
             [
              0.4444444444444444,
              "#bd3786"
             ],
             [
              0.5555555555555556,
              "#d8576b"
             ],
             [
              0.6666666666666666,
              "#ed7953"
             ],
             [
              0.7777777777777778,
              "#fb9f3a"
             ],
             [
              0.8888888888888888,
              "#fdca26"
             ],
             [
              1,
              "#f0f921"
             ]
            ],
            "type": "histogram2dcontour"
           }
          ],
          "mesh3d": [
           {
            "colorbar": {
             "outlinewidth": 0,
             "ticks": ""
            },
            "type": "mesh3d"
           }
          ],
          "parcoords": [
           {
            "line": {
             "colorbar": {
              "outlinewidth": 0,
              "ticks": ""
             }
            },
            "type": "parcoords"
           }
          ],
          "pie": [
           {
            "automargin": true,
            "type": "pie"
           }
          ],
          "scatter": [
           {
            "marker": {
             "colorbar": {
              "outlinewidth": 0,
              "ticks": ""
             }
            },
            "type": "scatter"
           }
          ],
          "scatter3d": [
           {
            "line": {
             "colorbar": {
              "outlinewidth": 0,
              "ticks": ""
             }
            },
            "marker": {
             "colorbar": {
              "outlinewidth": 0,
              "ticks": ""
             }
            },
            "type": "scatter3d"
           }
          ],
          "scattercarpet": [
           {
            "marker": {
             "colorbar": {
              "outlinewidth": 0,
              "ticks": ""
             }
            },
            "type": "scattercarpet"
           }
          ],
          "scattergeo": [
           {
            "marker": {
             "colorbar": {
              "outlinewidth": 0,
              "ticks": ""
             }
            },
            "type": "scattergeo"
           }
          ],
          "scattergl": [
           {
            "marker": {
             "colorbar": {
              "outlinewidth": 0,
              "ticks": ""
             }
            },
            "type": "scattergl"
           }
          ],
          "scattermapbox": [
           {
            "marker": {
             "colorbar": {
              "outlinewidth": 0,
              "ticks": ""
             }
            },
            "type": "scattermapbox"
           }
          ],
          "scatterpolar": [
           {
            "marker": {
             "colorbar": {
              "outlinewidth": 0,
              "ticks": ""
             }
            },
            "type": "scatterpolar"
           }
          ],
          "scatterpolargl": [
           {
            "marker": {
             "colorbar": {
              "outlinewidth": 0,
              "ticks": ""
             }
            },
            "type": "scatterpolargl"
           }
          ],
          "scatterternary": [
           {
            "marker": {
             "colorbar": {
              "outlinewidth": 0,
              "ticks": ""
             }
            },
            "type": "scatterternary"
           }
          ],
          "surface": [
           {
            "colorbar": {
             "outlinewidth": 0,
             "ticks": ""
            },
            "colorscale": [
             [
              0,
              "#0d0887"
             ],
             [
              0.1111111111111111,
              "#46039f"
             ],
             [
              0.2222222222222222,
              "#7201a8"
             ],
             [
              0.3333333333333333,
              "#9c179e"
             ],
             [
              0.4444444444444444,
              "#bd3786"
             ],
             [
              0.5555555555555556,
              "#d8576b"
             ],
             [
              0.6666666666666666,
              "#ed7953"
             ],
             [
              0.7777777777777778,
              "#fb9f3a"
             ],
             [
              0.8888888888888888,
              "#fdca26"
             ],
             [
              1,
              "#f0f921"
             ]
            ],
            "type": "surface"
           }
          ],
          "table": [
           {
            "cells": {
             "fill": {
              "color": "#EBF0F8"
             },
             "line": {
              "color": "white"
             }
            },
            "header": {
             "fill": {
              "color": "#C8D4E3"
             },
             "line": {
              "color": "white"
             }
            },
            "type": "table"
           }
          ]
         },
         "layout": {
          "annotationdefaults": {
           "arrowcolor": "#2a3f5f",
           "arrowhead": 0,
           "arrowwidth": 1
          },
          "autotypenumbers": "strict",
          "coloraxis": {
           "colorbar": {
            "outlinewidth": 0,
            "ticks": ""
           }
          },
          "colorscale": {
           "diverging": [
            [
             0,
             "#8e0152"
            ],
            [
             0.1,
             "#c51b7d"
            ],
            [
             0.2,
             "#de77ae"
            ],
            [
             0.3,
             "#f1b6da"
            ],
            [
             0.4,
             "#fde0ef"
            ],
            [
             0.5,
             "#f7f7f7"
            ],
            [
             0.6,
             "#e6f5d0"
            ],
            [
             0.7,
             "#b8e186"
            ],
            [
             0.8,
             "#7fbc41"
            ],
            [
             0.9,
             "#4d9221"
            ],
            [
             1,
             "#276419"
            ]
           ],
           "sequential": [
            [
             0,
             "#0d0887"
            ],
            [
             0.1111111111111111,
             "#46039f"
            ],
            [
             0.2222222222222222,
             "#7201a8"
            ],
            [
             0.3333333333333333,
             "#9c179e"
            ],
            [
             0.4444444444444444,
             "#bd3786"
            ],
            [
             0.5555555555555556,
             "#d8576b"
            ],
            [
             0.6666666666666666,
             "#ed7953"
            ],
            [
             0.7777777777777778,
             "#fb9f3a"
            ],
            [
             0.8888888888888888,
             "#fdca26"
            ],
            [
             1,
             "#f0f921"
            ]
           ],
           "sequentialminus": [
            [
             0,
             "#0d0887"
            ],
            [
             0.1111111111111111,
             "#46039f"
            ],
            [
             0.2222222222222222,
             "#7201a8"
            ],
            [
             0.3333333333333333,
             "#9c179e"
            ],
            [
             0.4444444444444444,
             "#bd3786"
            ],
            [
             0.5555555555555556,
             "#d8576b"
            ],
            [
             0.6666666666666666,
             "#ed7953"
            ],
            [
             0.7777777777777778,
             "#fb9f3a"
            ],
            [
             0.8888888888888888,
             "#fdca26"
            ],
            [
             1,
             "#f0f921"
            ]
           ]
          },
          "colorway": [
           "#636efa",
           "#EF553B",
           "#00cc96",
           "#ab63fa",
           "#FFA15A",
           "#19d3f3",
           "#FF6692",
           "#B6E880",
           "#FF97FF",
           "#FECB52"
          ],
          "font": {
           "color": "#2a3f5f"
          },
          "geo": {
           "bgcolor": "white",
           "lakecolor": "white",
           "landcolor": "#E5ECF6",
           "showlakes": true,
           "showland": true,
           "subunitcolor": "white"
          },
          "hoverlabel": {
           "align": "left"
          },
          "hovermode": "closest",
          "mapbox": {
           "style": "light"
          },
          "paper_bgcolor": "white",
          "plot_bgcolor": "#E5ECF6",
          "polar": {
           "angularaxis": {
            "gridcolor": "white",
            "linecolor": "white",
            "ticks": ""
           },
           "bgcolor": "#E5ECF6",
           "radialaxis": {
            "gridcolor": "white",
            "linecolor": "white",
            "ticks": ""
           }
          },
          "scene": {
           "xaxis": {
            "backgroundcolor": "#E5ECF6",
            "gridcolor": "white",
            "gridwidth": 2,
            "linecolor": "white",
            "showbackground": true,
            "ticks": "",
            "zerolinecolor": "white"
           },
           "yaxis": {
            "backgroundcolor": "#E5ECF6",
            "gridcolor": "white",
            "gridwidth": 2,
            "linecolor": "white",
            "showbackground": true,
            "ticks": "",
            "zerolinecolor": "white"
           },
           "zaxis": {
            "backgroundcolor": "#E5ECF6",
            "gridcolor": "white",
            "gridwidth": 2,
            "linecolor": "white",
            "showbackground": true,
            "ticks": "",
            "zerolinecolor": "white"
           }
          },
          "shapedefaults": {
           "line": {
            "color": "#2a3f5f"
           }
          },
          "ternary": {
           "aaxis": {
            "gridcolor": "white",
            "linecolor": "white",
            "ticks": ""
           },
           "baxis": {
            "gridcolor": "white",
            "linecolor": "white",
            "ticks": ""
           },
           "bgcolor": "#E5ECF6",
           "caxis": {
            "gridcolor": "white",
            "linecolor": "white",
            "ticks": ""
           }
          },
          "title": {
           "x": 0.05
          },
          "xaxis": {
           "automargin": true,
           "gridcolor": "white",
           "linecolor": "white",
           "ticks": "",
           "title": {
            "standoff": 15
           },
           "zerolinecolor": "white",
           "zerolinewidth": 2
          },
          "yaxis": {
           "automargin": true,
           "gridcolor": "white",
           "linecolor": "white",
           "ticks": "",
           "title": {
            "standoff": 15
           },
           "zerolinecolor": "white",
           "zerolinewidth": 2
          }
         }
        },
        "title": {
         "text": "The average number of passengers in King Fhad Airport (2015-2022)",
         "x": 0.5
        },
        "xaxis": {
         "showgrid": false
        },
        "yaxis": {
         "showgrid": false
        }
       }
      }
     },
     "metadata": {},
     "output_type": "display_data"
    }
   ],
   "source": [
    "# Plot to show the mean number of passengers in dammam \n",
    "x = dammam.index\n",
    "y = dammam.DMM\n",
    "fig = go.Figure()\n",
    "fig.add_trace(go.Scatter(x=x, y=y, fill='tozeroy',marker = dict(color = 'gold'))) # fill down to xaxis\n",
    "# Hide grid lines\n",
    "fig.update_layout(title_text='The average number of passengers in King Fhad Airport (2015-2022)', title_x=0.5)\n",
    "\n",
    "fig.update_xaxes(showgrid=False)\n",
    "fig.update_yaxes(showgrid=False)\n",
    "fig.show()"
   ]
  },
  {
   "cell_type": "code",
   "execution_count": 55,
   "id": "a13b62b5",
   "metadata": {},
   "outputs": [
    {
     "data": {
      "text/html": [
       "<div>\n",
       "<style scoped>\n",
       "    .dataframe tbody tr th:only-of-type {\n",
       "        vertical-align: middle;\n",
       "    }\n",
       "\n",
       "    .dataframe tbody tr th {\n",
       "        vertical-align: top;\n",
       "    }\n",
       "\n",
       "    .dataframe thead th {\n",
       "        text-align: right;\n",
       "    }\n",
       "</style>\n",
       "<table border=\"1\" class=\"dataframe\">\n",
       "  <thead>\n",
       "    <tr style=\"text-align: right;\">\n",
       "      <th></th>\n",
       "      <th>Year</th>\n",
       "      <th>Month_short</th>\n",
       "      <th>dom/intl</th>\n",
       "      <th>DMM</th>\n",
       "    </tr>\n",
       "  </thead>\n",
       "  <tbody>\n",
       "    <tr>\n",
       "      <th>0</th>\n",
       "      <td>2015</td>\n",
       "      <td>Jan</td>\n",
       "      <td>Domestic</td>\n",
       "      <td>393682</td>\n",
       "    </tr>\n",
       "    <tr>\n",
       "      <th>2</th>\n",
       "      <td>2015</td>\n",
       "      <td>Feb</td>\n",
       "      <td>Domestic</td>\n",
       "      <td>332365</td>\n",
       "    </tr>\n",
       "    <tr>\n",
       "      <th>4</th>\n",
       "      <td>2015</td>\n",
       "      <td>Mar</td>\n",
       "      <td>Domestic</td>\n",
       "      <td>375757</td>\n",
       "    </tr>\n",
       "    <tr>\n",
       "      <th>6</th>\n",
       "      <td>2015</td>\n",
       "      <td>Apr</td>\n",
       "      <td>Domestic</td>\n",
       "      <td>319034</td>\n",
       "    </tr>\n",
       "    <tr>\n",
       "      <th>8</th>\n",
       "      <td>2015</td>\n",
       "      <td>May</td>\n",
       "      <td>Domestic</td>\n",
       "      <td>342345</td>\n",
       "    </tr>\n",
       "    <tr>\n",
       "      <th>...</th>\n",
       "      <td>...</td>\n",
       "      <td>...</td>\n",
       "      <td>...</td>\n",
       "      <td>...</td>\n",
       "    </tr>\n",
       "    <tr>\n",
       "      <th>162</th>\n",
       "      <td>2021</td>\n",
       "      <td>Oct</td>\n",
       "      <td>Domestic</td>\n",
       "      <td>353113</td>\n",
       "    </tr>\n",
       "    <tr>\n",
       "      <th>164</th>\n",
       "      <td>2021</td>\n",
       "      <td>Nov</td>\n",
       "      <td>Domestic</td>\n",
       "      <td>397817</td>\n",
       "    </tr>\n",
       "    <tr>\n",
       "      <th>166</th>\n",
       "      <td>2021</td>\n",
       "      <td>Dec</td>\n",
       "      <td>Domestic</td>\n",
       "      <td>432727</td>\n",
       "    </tr>\n",
       "    <tr>\n",
       "      <th>168</th>\n",
       "      <td>2022</td>\n",
       "      <td>Jan</td>\n",
       "      <td>Domestic</td>\n",
       "      <td>388343</td>\n",
       "    </tr>\n",
       "    <tr>\n",
       "      <th>170</th>\n",
       "      <td>2022</td>\n",
       "      <td>Feb</td>\n",
       "      <td>Domestic</td>\n",
       "      <td>143539</td>\n",
       "    </tr>\n",
       "  </tbody>\n",
       "</table>\n",
       "<p>86 rows × 4 columns</p>\n",
       "</div>"
      ],
      "text/plain": [
       "     Year Month_short  dom/intl     DMM\n",
       "0    2015         Jan  Domestic  393682\n",
       "2    2015         Feb  Domestic  332365\n",
       "4    2015         Mar  Domestic  375757\n",
       "6    2015         Apr  Domestic  319034\n",
       "8    2015         May  Domestic  342345\n",
       "..    ...         ...       ...     ...\n",
       "162  2021         Oct  Domestic  353113\n",
       "164  2021         Nov  Domestic  397817\n",
       "166  2021         Dec  Domestic  432727\n",
       "168  2022         Jan  Domestic  388343\n",
       "170  2022         Feb  Domestic  143539\n",
       "\n",
       "[86 rows x 4 columns]"
      ]
     },
     "execution_count": 55,
     "metadata": {},
     "output_type": "execute_result"
    }
   ],
   "source": [
    "# i want to find the mean for every year, both international and domestic\n",
    "# create separate variables \n",
    "JEDpax_domestic=Dammam[(Dammam['dom/intl'] == 'Domestic')]\n",
    "JEDpax_international=Dammam[(Dammam['dom/intl'] == 'international')]\n",
    "JEDpax_domestic"
   ]
  },
  {
   "cell_type": "code",
   "execution_count": 56,
   "id": "4cb24fe6",
   "metadata": {},
   "outputs": [
    {
     "ename": "NameError",
     "evalue": "name 'dammamMonthly_domestic' is not defined",
     "output_type": "error",
     "traceback": [
      "\u001b[0;31m---------------------------------------------------------------------------\u001b[0m",
      "\u001b[0;31mNameError\u001b[0m                                 Traceback (most recent call last)",
      "\u001b[0;32m/var/folders/g6/rt4jnpk953jfqzwwd9zn6kbm0000gn/T/ipykernel_3338/4217800789.py\u001b[0m in \u001b[0;36m<module>\u001b[0;34m\u001b[0m\n\u001b[1;32m      7\u001b[0m     subplot_titles=(\"Domestic Average Passengers 2015-2022\", \"International Average Passengers 2015-2022\"))\n\u001b[1;32m      8\u001b[0m \u001b[0;34m\u001b[0m\u001b[0m\n\u001b[0;32m----> 9\u001b[0;31m fig.add_trace(go.Scatter(x=dammamMonthly_domestic.index, y=dammamMonthly_domestic.DMM),\n\u001b[0m\u001b[1;32m     10\u001b[0m               row=1, col=1)\n\u001b[1;32m     11\u001b[0m \u001b[0;34m\u001b[0m\u001b[0m\n",
      "\u001b[0;31mNameError\u001b[0m: name 'dammamMonthly_domestic' is not defined"
     ]
    }
   ],
   "source": [
    "# import libraries to use visualization plots\n",
    "from plotly.subplots import make_subplots\n",
    "import plotly.graph_objects as go\n",
    "\n",
    "fig = make_subplots(\n",
    "    rows=2, cols=1,\n",
    "    subplot_titles=(\"Domestic Average Passengers 2015-2022\", \"International Average Passengers 2015-2022\"))\n",
    "\n",
    "fig.add_trace(go.Scatter(x=dammamMonthly_domestic.index, y=dammamMonthly_domestic.DMM),\n",
    "              row=1, col=1)\n",
    "\n",
    "fig.add_trace(go.Scatter(x=dammamMonthly_international.index, y=dammamMonthly_international.DMM),\n",
    "              row=2, col=1)\n",
    "\n",
    "\n",
    "\n",
    "fig.update_layout(height=500, width=1000,\n",
    "                  title_text=\" Number Of Passengers To Dammam from Domestic/International Airports (2015 - 2022 Jan - Feb)\")\n",
    "\n",
    "fig.show()"
   ]
  },
  {
   "cell_type": "markdown",
   "id": "96328470",
   "metadata": {},
   "source": [
    "### 2.4. Prince Mohammed Bin Abdulaziz International Airport - MED"
   ]
  },
  {
   "cell_type": "markdown",
   "id": "63ab3a5a",
   "metadata": {},
   "source": [
    "Prince Mohammed Bin Abdulaziz International Airport - MED, loccated in Al Madenah city, that have Al-Masjid an-Nabaw, \"Prophet's Mosque\" , million of visitors every year pass through Al Madenah and Makkah, the second largest mosque and second holiest site in Islam, air passengers is increasing year on year to visit this city."
   ]
  },
  {
   "cell_type": "code",
   "execution_count": null,
   "id": "2ebfea7b",
   "metadata": {},
   "outputs": [
    {
     "data": {
      "text/html": [
       "<div>\n",
       "<style scoped>\n",
       "    .dataframe tbody tr th:only-of-type {\n",
       "        vertical-align: middle;\n",
       "    }\n",
       "\n",
       "    .dataframe tbody tr th {\n",
       "        vertical-align: top;\n",
       "    }\n",
       "\n",
       "    .dataframe thead th {\n",
       "        text-align: right;\n",
       "    }\n",
       "</style>\n",
       "<table border=\"1\" class=\"dataframe\">\n",
       "  <thead>\n",
       "    <tr style=\"text-align: right;\">\n",
       "      <th></th>\n",
       "      <th>index</th>\n",
       "      <th>Year</th>\n",
       "      <th>Airport</th>\n",
       "      <th>FlightsA-Domestic</th>\n",
       "      <th>PaxA-Domestic</th>\n",
       "      <th>FlightsD-Domestic</th>\n",
       "      <th>PaxD-Domestic</th>\n",
       "      <th>FlightsA-international</th>\n",
       "      <th>PaxA-international</th>\n",
       "      <th>FlightsD-international</th>\n",
       "      <th>PaxD-international</th>\n",
       "      <th>Flights</th>\n",
       "      <th>Pax</th>\n",
       "    </tr>\n",
       "  </thead>\n",
       "  <tbody>\n",
       "    <tr>\n",
       "      <th>0</th>\n",
       "      <td>14</td>\n",
       "      <td>2010</td>\n",
       "      <td>MED</td>\n",
       "      <td>8517</td>\n",
       "      <td>653114</td>\n",
       "      <td>9715</td>\n",
       "      <td>665746</td>\n",
       "      <td>7050</td>\n",
       "      <td>1044396</td>\n",
       "      <td>5767</td>\n",
       "      <td>530931</td>\n",
       "      <td>31049</td>\n",
       "      <td>2894187</td>\n",
       "    </tr>\n",
       "    <tr>\n",
       "      <th>1</th>\n",
       "      <td>39</td>\n",
       "      <td>2011</td>\n",
       "      <td>MED</td>\n",
       "      <td>8352</td>\n",
       "      <td>687773</td>\n",
       "      <td>9765</td>\n",
       "      <td>728411</td>\n",
       "      <td>8216</td>\n",
       "      <td>1135071</td>\n",
       "      <td>6555</td>\n",
       "      <td>704193</td>\n",
       "      <td>32888</td>\n",
       "      <td>3255448</td>\n",
       "    </tr>\n",
       "    <tr>\n",
       "      <th>2</th>\n",
       "      <td>65</td>\n",
       "      <td>2012</td>\n",
       "      <td>MED</td>\n",
       "      <td>8801</td>\n",
       "      <td>805487</td>\n",
       "      <td>10374</td>\n",
       "      <td>833822</td>\n",
       "      <td>8306</td>\n",
       "      <td>1262359</td>\n",
       "      <td>6574</td>\n",
       "      <td>920447</td>\n",
       "      <td>34055</td>\n",
       "      <td>3822115</td>\n",
       "    </tr>\n",
       "    <tr>\n",
       "      <th>3</th>\n",
       "      <td>91</td>\n",
       "      <td>2013</td>\n",
       "      <td>MED</td>\n",
       "      <td>9007</td>\n",
       "      <td>810630</td>\n",
       "      <td>10415</td>\n",
       "      <td>857337</td>\n",
       "      <td>8389</td>\n",
       "      <td>1106371</td>\n",
       "      <td>7113</td>\n",
       "      <td>902716</td>\n",
       "      <td>34924</td>\n",
       "      <td>3677054</td>\n",
       "    </tr>\n",
       "    <tr>\n",
       "      <th>4</th>\n",
       "      <td>117</td>\n",
       "      <td>2014</td>\n",
       "      <td>MED</td>\n",
       "      <td>9529</td>\n",
       "      <td>877185</td>\n",
       "      <td>12048</td>\n",
       "      <td>1051324</td>\n",
       "      <td>10929</td>\n",
       "      <td>1336931</td>\n",
       "      <td>9244</td>\n",
       "      <td>1055893</td>\n",
       "      <td>41750</td>\n",
       "      <td>4321333</td>\n",
       "    </tr>\n",
       "    <tr>\n",
       "      <th>5</th>\n",
       "      <td>143</td>\n",
       "      <td>2015</td>\n",
       "      <td>MED</td>\n",
       "      <td>10587</td>\n",
       "      <td>969570</td>\n",
       "      <td>12103</td>\n",
       "      <td>1016213</td>\n",
       "      <td>13926</td>\n",
       "      <td>2256347</td>\n",
       "      <td>12415</td>\n",
       "      <td>1589033</td>\n",
       "      <td>49031</td>\n",
       "      <td>5831163</td>\n",
       "    </tr>\n",
       "    <tr>\n",
       "      <th>6</th>\n",
       "      <td>169</td>\n",
       "      <td>2016</td>\n",
       "      <td>MED</td>\n",
       "      <td>11026</td>\n",
       "      <td>1027566</td>\n",
       "      <td>12218</td>\n",
       "      <td>1080965</td>\n",
       "      <td>16199</td>\n",
       "      <td>2576960</td>\n",
       "      <td>15008</td>\n",
       "      <td>1887296</td>\n",
       "      <td>54451</td>\n",
       "      <td>6572787</td>\n",
       "    </tr>\n",
       "    <tr>\n",
       "      <th>7</th>\n",
       "      <td>196</td>\n",
       "      <td>2017</td>\n",
       "      <td>MED</td>\n",
       "      <td>10048</td>\n",
       "      <td>1133308</td>\n",
       "      <td>11753</td>\n",
       "      <td>1209758</td>\n",
       "      <td>18977</td>\n",
       "      <td>3094385</td>\n",
       "      <td>17267</td>\n",
       "      <td>2367844</td>\n",
       "      <td>58045</td>\n",
       "      <td>7805295</td>\n",
       "    </tr>\n",
       "    <tr>\n",
       "      <th>8</th>\n",
       "      <td>223</td>\n",
       "      <td>2018</td>\n",
       "      <td>MED</td>\n",
       "      <td>10521</td>\n",
       "      <td>1163323</td>\n",
       "      <td>13203</td>\n",
       "      <td>1322617</td>\n",
       "      <td>19808</td>\n",
       "      <td>3235944</td>\n",
       "      <td>17133</td>\n",
       "      <td>2422906</td>\n",
       "      <td>60665</td>\n",
       "      <td>8144790</td>\n",
       "    </tr>\n",
       "    <tr>\n",
       "      <th>9</th>\n",
       "      <td>250</td>\n",
       "      <td>2019</td>\n",
       "      <td>MED</td>\n",
       "      <td>11048</td>\n",
       "      <td>1223932</td>\n",
       "      <td>13012</td>\n",
       "      <td>1376222</td>\n",
       "      <td>19255</td>\n",
       "      <td>3321752</td>\n",
       "      <td>17289</td>\n",
       "      <td>2462067</td>\n",
       "      <td>60604</td>\n",
       "      <td>8383973</td>\n",
       "    </tr>\n",
       "    <tr>\n",
       "      <th>10</th>\n",
       "      <td>278</td>\n",
       "      <td>2020</td>\n",
       "      <td>MED</td>\n",
       "      <td>5077</td>\n",
       "      <td>464024</td>\n",
       "      <td>5507</td>\n",
       "      <td>502230</td>\n",
       "      <td>4145</td>\n",
       "      <td>705265</td>\n",
       "      <td>3721</td>\n",
       "      <td>576386</td>\n",
       "      <td>18450</td>\n",
       "      <td>2247905</td>\n",
       "    </tr>\n",
       "    <tr>\n",
       "      <th>11</th>\n",
       "      <td>306</td>\n",
       "      <td>2021</td>\n",
       "      <td>MED</td>\n",
       "      <td>7024</td>\n",
       "      <td>573690</td>\n",
       "      <td>7100</td>\n",
       "      <td>592662</td>\n",
       "      <td>2171</td>\n",
       "      <td>235567</td>\n",
       "      <td>2093</td>\n",
       "      <td>225469</td>\n",
       "      <td>18388</td>\n",
       "      <td>1627388</td>\n",
       "    </tr>\n",
       "  </tbody>\n",
       "</table>\n",
       "</div>"
      ],
      "text/plain": [
       "    index  Year Airport  FlightsA-Domestic  PaxA-Domestic  FlightsD-Domestic  \\\n",
       "0      14  2010     MED               8517         653114               9715   \n",
       "1      39  2011     MED               8352         687773               9765   \n",
       "2      65  2012     MED               8801         805487              10374   \n",
       "3      91  2013     MED               9007         810630              10415   \n",
       "4     117  2014     MED               9529         877185              12048   \n",
       "5     143  2015     MED              10587         969570              12103   \n",
       "6     169  2016     MED              11026        1027566              12218   \n",
       "7     196  2017     MED              10048        1133308              11753   \n",
       "8     223  2018     MED              10521        1163323              13203   \n",
       "9     250  2019     MED              11048        1223932              13012   \n",
       "10    278  2020     MED               5077         464024               5507   \n",
       "11    306  2021     MED               7024         573690               7100   \n",
       "\n",
       "    PaxD-Domestic  FlightsA-international  PaxA-international  \\\n",
       "0          665746                    7050             1044396   \n",
       "1          728411                    8216             1135071   \n",
       "2          833822                    8306             1262359   \n",
       "3          857337                    8389             1106371   \n",
       "4         1051324                   10929             1336931   \n",
       "5         1016213                   13926             2256347   \n",
       "6         1080965                   16199             2576960   \n",
       "7         1209758                   18977             3094385   \n",
       "8         1322617                   19808             3235944   \n",
       "9         1376222                   19255             3321752   \n",
       "10         502230                    4145              705265   \n",
       "11         592662                    2171              235567   \n",
       "\n",
       "    FlightsD-international  PaxD-international  Flights      Pax  \n",
       "0                     5767              530931    31049  2894187  \n",
       "1                     6555              704193    32888  3255448  \n",
       "2                     6574              920447    34055  3822115  \n",
       "3                     7113              902716    34924  3677054  \n",
       "4                     9244             1055893    41750  4321333  \n",
       "5                    12415             1589033    49031  5831163  \n",
       "6                    15008             1887296    54451  6572787  \n",
       "7                    17267             2367844    58045  7805295  \n",
       "8                    17133             2422906    60665  8144790  \n",
       "9                    17289             2462067    60604  8383973  \n",
       "10                    3721              576386    18450  2247905  \n",
       "11                    2093              225469    18388  1627388  "
      ]
     },
     "execution_count": 115,
     "metadata": {},
     "output_type": "execute_result"
    }
   ],
   "source": [
    "# filter the flight data with MED code airport\n",
    "MEDpax=flights[(flights['Airport'] == 'MED')]\n",
    "MEDpax.reset_index()"
   ]
  },
  {
   "cell_type": "code",
   "execution_count": null,
   "id": "1f46d0cd",
   "metadata": {},
   "outputs": [
    {
     "data": {
      "text/html": [
       "<div>\n",
       "<style scoped>\n",
       "    .dataframe tbody tr th:only-of-type {\n",
       "        vertical-align: middle;\n",
       "    }\n",
       "\n",
       "    .dataframe tbody tr th {\n",
       "        vertical-align: top;\n",
       "    }\n",
       "\n",
       "    .dataframe thead th {\n",
       "        text-align: right;\n",
       "    }\n",
       "</style>\n",
       "<table border=\"1\" class=\"dataframe\">\n",
       "  <thead>\n",
       "    <tr style=\"text-align: right;\">\n",
       "      <th></th>\n",
       "      <th>index</th>\n",
       "      <th>Year</th>\n",
       "      <th>Airport</th>\n",
       "      <th>Pax</th>\n",
       "    </tr>\n",
       "  </thead>\n",
       "  <tbody>\n",
       "    <tr>\n",
       "      <th>0</th>\n",
       "      <td>14</td>\n",
       "      <td>2010</td>\n",
       "      <td>MED</td>\n",
       "      <td>2894187</td>\n",
       "    </tr>\n",
       "    <tr>\n",
       "      <th>1</th>\n",
       "      <td>39</td>\n",
       "      <td>2011</td>\n",
       "      <td>MED</td>\n",
       "      <td>3255448</td>\n",
       "    </tr>\n",
       "    <tr>\n",
       "      <th>2</th>\n",
       "      <td>65</td>\n",
       "      <td>2012</td>\n",
       "      <td>MED</td>\n",
       "      <td>3822115</td>\n",
       "    </tr>\n",
       "    <tr>\n",
       "      <th>3</th>\n",
       "      <td>91</td>\n",
       "      <td>2013</td>\n",
       "      <td>MED</td>\n",
       "      <td>3677054</td>\n",
       "    </tr>\n",
       "    <tr>\n",
       "      <th>4</th>\n",
       "      <td>117</td>\n",
       "      <td>2014</td>\n",
       "      <td>MED</td>\n",
       "      <td>4321333</td>\n",
       "    </tr>\n",
       "    <tr>\n",
       "      <th>5</th>\n",
       "      <td>143</td>\n",
       "      <td>2015</td>\n",
       "      <td>MED</td>\n",
       "      <td>5831163</td>\n",
       "    </tr>\n",
       "    <tr>\n",
       "      <th>6</th>\n",
       "      <td>169</td>\n",
       "      <td>2016</td>\n",
       "      <td>MED</td>\n",
       "      <td>6572787</td>\n",
       "    </tr>\n",
       "    <tr>\n",
       "      <th>7</th>\n",
       "      <td>196</td>\n",
       "      <td>2017</td>\n",
       "      <td>MED</td>\n",
       "      <td>7805295</td>\n",
       "    </tr>\n",
       "    <tr>\n",
       "      <th>8</th>\n",
       "      <td>223</td>\n",
       "      <td>2018</td>\n",
       "      <td>MED</td>\n",
       "      <td>8144790</td>\n",
       "    </tr>\n",
       "    <tr>\n",
       "      <th>9</th>\n",
       "      <td>250</td>\n",
       "      <td>2019</td>\n",
       "      <td>MED</td>\n",
       "      <td>8383973</td>\n",
       "    </tr>\n",
       "    <tr>\n",
       "      <th>10</th>\n",
       "      <td>278</td>\n",
       "      <td>2020</td>\n",
       "      <td>MED</td>\n",
       "      <td>2247905</td>\n",
       "    </tr>\n",
       "    <tr>\n",
       "      <th>11</th>\n",
       "      <td>306</td>\n",
       "      <td>2021</td>\n",
       "      <td>MED</td>\n",
       "      <td>1627388</td>\n",
       "    </tr>\n",
       "  </tbody>\n",
       "</table>\n",
       "</div>"
      ],
      "text/plain": [
       "    index  Year Airport      Pax\n",
       "0      14  2010     MED  2894187\n",
       "1      39  2011     MED  3255448\n",
       "2      65  2012     MED  3822115\n",
       "3      91  2013     MED  3677054\n",
       "4     117  2014     MED  4321333\n",
       "5     143  2015     MED  5831163\n",
       "6     169  2016     MED  6572787\n",
       "7     196  2017     MED  7805295\n",
       "8     223  2018     MED  8144790\n",
       "9     250  2019     MED  8383973\n",
       "10    278  2020     MED  2247905\n",
       "11    306  2021     MED  1627388"
      ]
     },
     "execution_count": 116,
     "metadata": {},
     "output_type": "execute_result"
    }
   ],
   "source": [
    "precentMEDpax=MEDpax[['Year','Airport','Pax']]\n",
    "precentMEDpax = precentMEDpax.copy()  # Ensuring a copy is made\n",
    "\n",
    "precentMEDpax.reset_index()"
   ]
  },
  {
   "cell_type": "code",
   "execution_count": null,
   "id": "58add1b2",
   "metadata": {
    "scrolled": true
   },
   "outputs": [
    {
     "data": {
      "text/html": [
       "<div>\n",
       "<style scoped>\n",
       "    .dataframe tbody tr th:only-of-type {\n",
       "        vertical-align: middle;\n",
       "    }\n",
       "\n",
       "    .dataframe tbody tr th {\n",
       "        vertical-align: top;\n",
       "    }\n",
       "\n",
       "    .dataframe thead th {\n",
       "        text-align: right;\n",
       "    }\n",
       "</style>\n",
       "<table border=\"1\" class=\"dataframe\">\n",
       "  <thead>\n",
       "    <tr style=\"text-align: right;\">\n",
       "      <th></th>\n",
       "      <th>index</th>\n",
       "      <th>Year</th>\n",
       "      <th>Airport</th>\n",
       "      <th>Pax</th>\n",
       "      <th>increasing_precentage</th>\n",
       "    </tr>\n",
       "  </thead>\n",
       "  <tbody>\n",
       "    <tr>\n",
       "      <th>0</th>\n",
       "      <td>14</td>\n",
       "      <td>2010</td>\n",
       "      <td>MED</td>\n",
       "      <td>2894187</td>\n",
       "      <td>NaN</td>\n",
       "    </tr>\n",
       "    <tr>\n",
       "      <th>1</th>\n",
       "      <td>39</td>\n",
       "      <td>2011</td>\n",
       "      <td>MED</td>\n",
       "      <td>3255448</td>\n",
       "      <td>12.482296</td>\n",
       "    </tr>\n",
       "    <tr>\n",
       "      <th>2</th>\n",
       "      <td>65</td>\n",
       "      <td>2012</td>\n",
       "      <td>MED</td>\n",
       "      <td>3822115</td>\n",
       "      <td>17.406729</td>\n",
       "    </tr>\n",
       "    <tr>\n",
       "      <th>3</th>\n",
       "      <td>91</td>\n",
       "      <td>2013</td>\n",
       "      <td>MED</td>\n",
       "      <td>3677054</td>\n",
       "      <td>-3.795307</td>\n",
       "    </tr>\n",
       "    <tr>\n",
       "      <th>4</th>\n",
       "      <td>117</td>\n",
       "      <td>2014</td>\n",
       "      <td>MED</td>\n",
       "      <td>4321333</td>\n",
       "      <td>17.521608</td>\n",
       "    </tr>\n",
       "    <tr>\n",
       "      <th>5</th>\n",
       "      <td>143</td>\n",
       "      <td>2015</td>\n",
       "      <td>MED</td>\n",
       "      <td>5831163</td>\n",
       "      <td>34.938988</td>\n",
       "    </tr>\n",
       "    <tr>\n",
       "      <th>6</th>\n",
       "      <td>169</td>\n",
       "      <td>2016</td>\n",
       "      <td>MED</td>\n",
       "      <td>6572787</td>\n",
       "      <td>12.718286</td>\n",
       "    </tr>\n",
       "    <tr>\n",
       "      <th>7</th>\n",
       "      <td>196</td>\n",
       "      <td>2017</td>\n",
       "      <td>MED</td>\n",
       "      <td>7805295</td>\n",
       "      <td>18.751680</td>\n",
       "    </tr>\n",
       "    <tr>\n",
       "      <th>8</th>\n",
       "      <td>223</td>\n",
       "      <td>2018</td>\n",
       "      <td>MED</td>\n",
       "      <td>8144790</td>\n",
       "      <td>4.349547</td>\n",
       "    </tr>\n",
       "    <tr>\n",
       "      <th>9</th>\n",
       "      <td>250</td>\n",
       "      <td>2019</td>\n",
       "      <td>MED</td>\n",
       "      <td>8383973</td>\n",
       "      <td>2.936638</td>\n",
       "    </tr>\n",
       "    <tr>\n",
       "      <th>10</th>\n",
       "      <td>278</td>\n",
       "      <td>2020</td>\n",
       "      <td>MED</td>\n",
       "      <td>2247905</td>\n",
       "      <td>-73.188070</td>\n",
       "    </tr>\n",
       "    <tr>\n",
       "      <th>11</th>\n",
       "      <td>306</td>\n",
       "      <td>2021</td>\n",
       "      <td>MED</td>\n",
       "      <td>1627388</td>\n",
       "      <td>-27.604236</td>\n",
       "    </tr>\n",
       "  </tbody>\n",
       "</table>\n",
       "</div>"
      ],
      "text/plain": [
       "    index  Year Airport      Pax  increasing_precentage\n",
       "0      14  2010     MED  2894187                    NaN\n",
       "1      39  2011     MED  3255448              12.482296\n",
       "2      65  2012     MED  3822115              17.406729\n",
       "3      91  2013     MED  3677054              -3.795307\n",
       "4     117  2014     MED  4321333              17.521608\n",
       "5     143  2015     MED  5831163              34.938988\n",
       "6     169  2016     MED  6572787              12.718286\n",
       "7     196  2017     MED  7805295              18.751680\n",
       "8     223  2018     MED  8144790               4.349547\n",
       "9     250  2019     MED  8383973               2.936638\n",
       "10    278  2020     MED  2247905             -73.188070\n",
       "11    306  2021     MED  1627388             -27.604236"
      ]
     },
     "execution_count": 117,
     "metadata": {},
     "output_type": "execute_result"
    }
   ],
   "source": [
    "# measuring the increasing rate\n",
    "MEDprecentage=precentMEDpax['Pax'].pct_change()\n",
    "precentMEDpax['increasing_precentage']=MEDprecentage*100 # Assign the new value of changes \n",
    "precentMEDpax.reset_index()"
   ]
  },
  {
   "cell_type": "markdown",
   "id": "0028a1a8",
   "metadata": {},
   "source": [
    "**2015** , the highest rate of increasing of passengers number 34.93% compared to 2014, new Prince Mohammed Bin Abdulaziz International Airport was opend in 2015, this will increase the airport’s throughput from 5.7 million a year to eight million passengers a year.\n",
    "\n",
    " "
   ]
  },
  {
   "cell_type": "markdown",
   "id": "b3593c2c",
   "metadata": {},
   "source": [
    "#### International And Domestic arrivals Passengers to MED airports"
   ]
  },
  {
   "cell_type": "code",
   "execution_count": null,
   "id": "f42a127c",
   "metadata": {
    "scrolled": false
   },
   "outputs": [
    {
     "data": {
      "text/html": [
       "<div>\n",
       "<style scoped>\n",
       "    .dataframe tbody tr th:only-of-type {\n",
       "        vertical-align: middle;\n",
       "    }\n",
       "\n",
       "    .dataframe tbody tr th {\n",
       "        vertical-align: top;\n",
       "    }\n",
       "\n",
       "    .dataframe thead th {\n",
       "        text-align: right;\n",
       "    }\n",
       "</style>\n",
       "<table border=\"1\" class=\"dataframe\">\n",
       "  <thead>\n",
       "    <tr style=\"text-align: right;\">\n",
       "      <th></th>\n",
       "      <th>Year</th>\n",
       "      <th>Airport</th>\n",
       "      <th>PaxA-international</th>\n",
       "      <th>PaxA-Domestic</th>\n",
       "      <th>Chages_International</th>\n",
       "      <th>Chages_Domestic</th>\n",
       "    </tr>\n",
       "  </thead>\n",
       "  <tbody>\n",
       "    <tr>\n",
       "      <th>14</th>\n",
       "      <td>2010</td>\n",
       "      <td>MED</td>\n",
       "      <td>1044396</td>\n",
       "      <td>653114</td>\n",
       "      <td>NaN</td>\n",
       "      <td>NaN</td>\n",
       "    </tr>\n",
       "    <tr>\n",
       "      <th>39</th>\n",
       "      <td>2011</td>\n",
       "      <td>MED</td>\n",
       "      <td>1135071</td>\n",
       "      <td>687773</td>\n",
       "      <td>8.682052</td>\n",
       "      <td>5.306731</td>\n",
       "    </tr>\n",
       "    <tr>\n",
       "      <th>65</th>\n",
       "      <td>2012</td>\n",
       "      <td>MED</td>\n",
       "      <td>1262359</td>\n",
       "      <td>805487</td>\n",
       "      <td>11.214100</td>\n",
       "      <td>17.115240</td>\n",
       "    </tr>\n",
       "    <tr>\n",
       "      <th>91</th>\n",
       "      <td>2013</td>\n",
       "      <td>MED</td>\n",
       "      <td>1106371</td>\n",
       "      <td>810630</td>\n",
       "      <td>-12.356865</td>\n",
       "      <td>0.638496</td>\n",
       "    </tr>\n",
       "    <tr>\n",
       "      <th>117</th>\n",
       "      <td>2014</td>\n",
       "      <td>MED</td>\n",
       "      <td>1336931</td>\n",
       "      <td>877185</td>\n",
       "      <td>20.839303</td>\n",
       "      <td>8.210281</td>\n",
       "    </tr>\n",
       "    <tr>\n",
       "      <th>143</th>\n",
       "      <td>2015</td>\n",
       "      <td>MED</td>\n",
       "      <td>2256347</td>\n",
       "      <td>969570</td>\n",
       "      <td>68.770640</td>\n",
       "      <td>10.531986</td>\n",
       "    </tr>\n",
       "    <tr>\n",
       "      <th>169</th>\n",
       "      <td>2016</td>\n",
       "      <td>MED</td>\n",
       "      <td>2576960</td>\n",
       "      <td>1027566</td>\n",
       "      <td>14.209384</td>\n",
       "      <td>5.981621</td>\n",
       "    </tr>\n",
       "    <tr>\n",
       "      <th>196</th>\n",
       "      <td>2017</td>\n",
       "      <td>MED</td>\n",
       "      <td>3094385</td>\n",
       "      <td>1133308</td>\n",
       "      <td>20.078891</td>\n",
       "      <td>10.290531</td>\n",
       "    </tr>\n",
       "    <tr>\n",
       "      <th>223</th>\n",
       "      <td>2018</td>\n",
       "      <td>MED</td>\n",
       "      <td>3235944</td>\n",
       "      <td>1163323</td>\n",
       "      <td>4.574705</td>\n",
       "      <td>2.648442</td>\n",
       "    </tr>\n",
       "    <tr>\n",
       "      <th>250</th>\n",
       "      <td>2019</td>\n",
       "      <td>MED</td>\n",
       "      <td>3321752</td>\n",
       "      <td>1223932</td>\n",
       "      <td>2.651715</td>\n",
       "      <td>5.209989</td>\n",
       "    </tr>\n",
       "    <tr>\n",
       "      <th>278</th>\n",
       "      <td>2020</td>\n",
       "      <td>MED</td>\n",
       "      <td>705265</td>\n",
       "      <td>464024</td>\n",
       "      <td>-78.768283</td>\n",
       "      <td>-62.087436</td>\n",
       "    </tr>\n",
       "    <tr>\n",
       "      <th>306</th>\n",
       "      <td>2021</td>\n",
       "      <td>MED</td>\n",
       "      <td>235567</td>\n",
       "      <td>573690</td>\n",
       "      <td>-66.598796</td>\n",
       "      <td>23.633691</td>\n",
       "    </tr>\n",
       "  </tbody>\n",
       "</table>\n",
       "</div>"
      ],
      "text/plain": [
       "     Year Airport  PaxA-international  PaxA-Domestic  Chages_International  \\\n",
       "14   2010     MED             1044396         653114                   NaN   \n",
       "39   2011     MED             1135071         687773              8.682052   \n",
       "65   2012     MED             1262359         805487             11.214100   \n",
       "91   2013     MED             1106371         810630            -12.356865   \n",
       "117  2014     MED             1336931         877185             20.839303   \n",
       "143  2015     MED             2256347         969570             68.770640   \n",
       "169  2016     MED             2576960        1027566             14.209384   \n",
       "196  2017     MED             3094385        1133308             20.078891   \n",
       "223  2018     MED             3235944        1163323              4.574705   \n",
       "250  2019     MED             3321752        1223932              2.651715   \n",
       "278  2020     MED              705265         464024            -78.768283   \n",
       "306  2021     MED              235567         573690            -66.598796   \n",
       "\n",
       "     Chages_Domestic  \n",
       "14               NaN  \n",
       "39          5.306731  \n",
       "65         17.115240  \n",
       "91          0.638496  \n",
       "117         8.210281  \n",
       "143        10.531986  \n",
       "169         5.981621  \n",
       "196        10.290531  \n",
       "223         2.648442  \n",
       "250         5.209989  \n",
       "278       -62.087436  \n",
       "306        23.633691  "
      ]
     },
     "execution_count": 118,
     "metadata": {},
     "output_type": "execute_result"
    }
   ],
   "source": [
    "# comparing the changes year on year to passengers from domestic airports and passengers from international airports\n",
    "MedinapaxArrival=MEDpax[['Year','Airport','PaxA-international','PaxA-Domestic']]\n",
    "MedinapaxArrival=MedinapaxArrival.copy()\n",
    "ch_arr_MED=MedinapaxArrival['PaxA-international'].pct_change()\n",
    "MedinapaxArrival['Chages_International']=ch_arr_MED*100\n",
    "# passengers from domestic airports\n",
    "ch_arr_D_MED=MedinapaxArrival['PaxA-Domestic'].pct_change()\n",
    "MedinapaxArrival['Chages_Domestic']=ch_arr_D_MED*100\n",
    "MedinapaxArrival.head(12)"
   ]
  },
  {
   "cell_type": "markdown",
   "id": "1fc5d5b1",
   "metadata": {},
   "source": [
    "**International arrivals** increased from 1336931 to 2256347 in 2015, with 68.77% with highest increased rate in all the years."
   ]
  },
  {
   "cell_type": "code",
   "execution_count": null,
   "id": "d89f9b1a",
   "metadata": {},
   "outputs": [
    {
     "data": {
      "application/vnd.plotly.v1+json": {
       "config": {
        "plotlyServerURL": "https://plot.ly"
       },
       "data": [
        {
         "hovertemplate": "Year=%{x}<br>Changes=%{y}<extra></extra>",
         "legendgroup": "",
         "line": {
          "color": "#636efa",
          "dash": "solid"
         },
         "marker": {
          "symbol": "circle"
         },
         "mode": "lines",
         "name": "",
         "orientation": "v",
         "showlegend": false,
         "type": "scatter",
         "x": [
          2010,
          2011,
          2012,
          2013,
          2014,
          2015,
          2016,
          2017,
          2018,
          2019,
          2020,
          2021
         ],
         "xaxis": "x",
         "y": [
          null,
          0.08682051635586507,
          0.11214100263331539,
          -0.12356865202371115,
          0.208393025486026,
          0.6877063962164092,
          0.14209383574423606,
          0.2007889140692909,
          0.04574705474593488,
          0.026517146155804916,
          -0.7876828252079023,
          -0.665987961971741
         ],
         "yaxis": "y"
        },
        {
         "name": "Medina - international arrivals",
         "type": "scatter",
         "x": [
          2010,
          2011,
          2012,
          2013,
          2014,
          2015,
          2016,
          2017,
          2018,
          2019,
          2020,
          2021
         ],
         "y": [
          null,
          0.08682051635586507,
          0.11214100263331539,
          -0.12356865202371115,
          0.208393025486026,
          0.6877063962164092,
          0.14209383574423606,
          0.2007889140692909,
          0.04574705474593488,
          0.026517146155804916,
          -0.7876828252079023,
          -0.665987961971741
         ]
        },
        {
         "name": "Medina - Domestic arrivals",
         "type": "scatter",
         "x": [
          2010,
          2011,
          2012,
          2013,
          2014,
          2015,
          2016,
          2017,
          2018,
          2019,
          2020,
          2021
         ],
         "y": [
          null,
          0.053067305248394536,
          0.1711524005740266,
          0.006384957174976114,
          0.08210280892639066,
          0.10531985841071156,
          0.05981620718462821,
          0.10290531216486332,
          0.026484415533994277,
          0.05209988971248736,
          -0.6208743623011737,
          0.23633691360791675
         ]
        }
       ],
       "layout": {
        "legend": {
         "tracegroupgap": 0
        },
        "margin": {
         "t": 60
        },
        "template": {
         "data": {
          "bar": [
           {
            "error_x": {
             "color": "#2a3f5f"
            },
            "error_y": {
             "color": "#2a3f5f"
            },
            "marker": {
             "line": {
              "color": "#E5ECF6",
              "width": 0.5
             },
             "pattern": {
              "fillmode": "overlay",
              "size": 10,
              "solidity": 0.2
             }
            },
            "type": "bar"
           }
          ],
          "barpolar": [
           {
            "marker": {
             "line": {
              "color": "#E5ECF6",
              "width": 0.5
             },
             "pattern": {
              "fillmode": "overlay",
              "size": 10,
              "solidity": 0.2
             }
            },
            "type": "barpolar"
           }
          ],
          "carpet": [
           {
            "aaxis": {
             "endlinecolor": "#2a3f5f",
             "gridcolor": "white",
             "linecolor": "white",
             "minorgridcolor": "white",
             "startlinecolor": "#2a3f5f"
            },
            "baxis": {
             "endlinecolor": "#2a3f5f",
             "gridcolor": "white",
             "linecolor": "white",
             "minorgridcolor": "white",
             "startlinecolor": "#2a3f5f"
            },
            "type": "carpet"
           }
          ],
          "choropleth": [
           {
            "colorbar": {
             "outlinewidth": 0,
             "ticks": ""
            },
            "type": "choropleth"
           }
          ],
          "contour": [
           {
            "colorbar": {
             "outlinewidth": 0,
             "ticks": ""
            },
            "colorscale": [
             [
              0,
              "#0d0887"
             ],
             [
              0.1111111111111111,
              "#46039f"
             ],
             [
              0.2222222222222222,
              "#7201a8"
             ],
             [
              0.3333333333333333,
              "#9c179e"
             ],
             [
              0.4444444444444444,
              "#bd3786"
             ],
             [
              0.5555555555555556,
              "#d8576b"
             ],
             [
              0.6666666666666666,
              "#ed7953"
             ],
             [
              0.7777777777777778,
              "#fb9f3a"
             ],
             [
              0.8888888888888888,
              "#fdca26"
             ],
             [
              1,
              "#f0f921"
             ]
            ],
            "type": "contour"
           }
          ],
          "contourcarpet": [
           {
            "colorbar": {
             "outlinewidth": 0,
             "ticks": ""
            },
            "type": "contourcarpet"
           }
          ],
          "heatmap": [
           {
            "colorbar": {
             "outlinewidth": 0,
             "ticks": ""
            },
            "colorscale": [
             [
              0,
              "#0d0887"
             ],
             [
              0.1111111111111111,
              "#46039f"
             ],
             [
              0.2222222222222222,
              "#7201a8"
             ],
             [
              0.3333333333333333,
              "#9c179e"
             ],
             [
              0.4444444444444444,
              "#bd3786"
             ],
             [
              0.5555555555555556,
              "#d8576b"
             ],
             [
              0.6666666666666666,
              "#ed7953"
             ],
             [
              0.7777777777777778,
              "#fb9f3a"
             ],
             [
              0.8888888888888888,
              "#fdca26"
             ],
             [
              1,
              "#f0f921"
             ]
            ],
            "type": "heatmap"
           }
          ],
          "heatmapgl": [
           {
            "colorbar": {
             "outlinewidth": 0,
             "ticks": ""
            },
            "colorscale": [
             [
              0,
              "#0d0887"
             ],
             [
              0.1111111111111111,
              "#46039f"
             ],
             [
              0.2222222222222222,
              "#7201a8"
             ],
             [
              0.3333333333333333,
              "#9c179e"
             ],
             [
              0.4444444444444444,
              "#bd3786"
             ],
             [
              0.5555555555555556,
              "#d8576b"
             ],
             [
              0.6666666666666666,
              "#ed7953"
             ],
             [
              0.7777777777777778,
              "#fb9f3a"
             ],
             [
              0.8888888888888888,
              "#fdca26"
             ],
             [
              1,
              "#f0f921"
             ]
            ],
            "type": "heatmapgl"
           }
          ],
          "histogram": [
           {
            "marker": {
             "pattern": {
              "fillmode": "overlay",
              "size": 10,
              "solidity": 0.2
             }
            },
            "type": "histogram"
           }
          ],
          "histogram2d": [
           {
            "colorbar": {
             "outlinewidth": 0,
             "ticks": ""
            },
            "colorscale": [
             [
              0,
              "#0d0887"
             ],
             [
              0.1111111111111111,
              "#46039f"
             ],
             [
              0.2222222222222222,
              "#7201a8"
             ],
             [
              0.3333333333333333,
              "#9c179e"
             ],
             [
              0.4444444444444444,
              "#bd3786"
             ],
             [
              0.5555555555555556,
              "#d8576b"
             ],
             [
              0.6666666666666666,
              "#ed7953"
             ],
             [
              0.7777777777777778,
              "#fb9f3a"
             ],
             [
              0.8888888888888888,
              "#fdca26"
             ],
             [
              1,
              "#f0f921"
             ]
            ],
            "type": "histogram2d"
           }
          ],
          "histogram2dcontour": [
           {
            "colorbar": {
             "outlinewidth": 0,
             "ticks": ""
            },
            "colorscale": [
             [
              0,
              "#0d0887"
             ],
             [
              0.1111111111111111,
              "#46039f"
             ],
             [
              0.2222222222222222,
              "#7201a8"
             ],
             [
              0.3333333333333333,
              "#9c179e"
             ],
             [
              0.4444444444444444,
              "#bd3786"
             ],
             [
              0.5555555555555556,
              "#d8576b"
             ],
             [
              0.6666666666666666,
              "#ed7953"
             ],
             [
              0.7777777777777778,
              "#fb9f3a"
             ],
             [
              0.8888888888888888,
              "#fdca26"
             ],
             [
              1,
              "#f0f921"
             ]
            ],
            "type": "histogram2dcontour"
           }
          ],
          "mesh3d": [
           {
            "colorbar": {
             "outlinewidth": 0,
             "ticks": ""
            },
            "type": "mesh3d"
           }
          ],
          "parcoords": [
           {
            "line": {
             "colorbar": {
              "outlinewidth": 0,
              "ticks": ""
             }
            },
            "type": "parcoords"
           }
          ],
          "pie": [
           {
            "automargin": true,
            "type": "pie"
           }
          ],
          "scatter": [
           {
            "marker": {
             "colorbar": {
              "outlinewidth": 0,
              "ticks": ""
             }
            },
            "type": "scatter"
           }
          ],
          "scatter3d": [
           {
            "line": {
             "colorbar": {
              "outlinewidth": 0,
              "ticks": ""
             }
            },
            "marker": {
             "colorbar": {
              "outlinewidth": 0,
              "ticks": ""
             }
            },
            "type": "scatter3d"
           }
          ],
          "scattercarpet": [
           {
            "marker": {
             "colorbar": {
              "outlinewidth": 0,
              "ticks": ""
             }
            },
            "type": "scattercarpet"
           }
          ],
          "scattergeo": [
           {
            "marker": {
             "colorbar": {
              "outlinewidth": 0,
              "ticks": ""
             }
            },
            "type": "scattergeo"
           }
          ],
          "scattergl": [
           {
            "marker": {
             "colorbar": {
              "outlinewidth": 0,
              "ticks": ""
             }
            },
            "type": "scattergl"
           }
          ],
          "scattermapbox": [
           {
            "marker": {
             "colorbar": {
              "outlinewidth": 0,
              "ticks": ""
             }
            },
            "type": "scattermapbox"
           }
          ],
          "scatterpolar": [
           {
            "marker": {
             "colorbar": {
              "outlinewidth": 0,
              "ticks": ""
             }
            },
            "type": "scatterpolar"
           }
          ],
          "scatterpolargl": [
           {
            "marker": {
             "colorbar": {
              "outlinewidth": 0,
              "ticks": ""
             }
            },
            "type": "scatterpolargl"
           }
          ],
          "scatterternary": [
           {
            "marker": {
             "colorbar": {
              "outlinewidth": 0,
              "ticks": ""
             }
            },
            "type": "scatterternary"
           }
          ],
          "surface": [
           {
            "colorbar": {
             "outlinewidth": 0,
             "ticks": ""
            },
            "colorscale": [
             [
              0,
              "#0d0887"
             ],
             [
              0.1111111111111111,
              "#46039f"
             ],
             [
              0.2222222222222222,
              "#7201a8"
             ],
             [
              0.3333333333333333,
              "#9c179e"
             ],
             [
              0.4444444444444444,
              "#bd3786"
             ],
             [
              0.5555555555555556,
              "#d8576b"
             ],
             [
              0.6666666666666666,
              "#ed7953"
             ],
             [
              0.7777777777777778,
              "#fb9f3a"
             ],
             [
              0.8888888888888888,
              "#fdca26"
             ],
             [
              1,
              "#f0f921"
             ]
            ],
            "type": "surface"
           }
          ],
          "table": [
           {
            "cells": {
             "fill": {
              "color": "#EBF0F8"
             },
             "line": {
              "color": "white"
             }
            },
            "header": {
             "fill": {
              "color": "#C8D4E3"
             },
             "line": {
              "color": "white"
             }
            },
            "type": "table"
           }
          ]
         },
         "layout": {
          "annotationdefaults": {
           "arrowcolor": "#2a3f5f",
           "arrowhead": 0,
           "arrowwidth": 1
          },
          "autotypenumbers": "strict",
          "coloraxis": {
           "colorbar": {
            "outlinewidth": 0,
            "ticks": ""
           }
          },
          "colorscale": {
           "diverging": [
            [
             0,
             "#8e0152"
            ],
            [
             0.1,
             "#c51b7d"
            ],
            [
             0.2,
             "#de77ae"
            ],
            [
             0.3,
             "#f1b6da"
            ],
            [
             0.4,
             "#fde0ef"
            ],
            [
             0.5,
             "#f7f7f7"
            ],
            [
             0.6,
             "#e6f5d0"
            ],
            [
             0.7,
             "#b8e186"
            ],
            [
             0.8,
             "#7fbc41"
            ],
            [
             0.9,
             "#4d9221"
            ],
            [
             1,
             "#276419"
            ]
           ],
           "sequential": [
            [
             0,
             "#0d0887"
            ],
            [
             0.1111111111111111,
             "#46039f"
            ],
            [
             0.2222222222222222,
             "#7201a8"
            ],
            [
             0.3333333333333333,
             "#9c179e"
            ],
            [
             0.4444444444444444,
             "#bd3786"
            ],
            [
             0.5555555555555556,
             "#d8576b"
            ],
            [
             0.6666666666666666,
             "#ed7953"
            ],
            [
             0.7777777777777778,
             "#fb9f3a"
            ],
            [
             0.8888888888888888,
             "#fdca26"
            ],
            [
             1,
             "#f0f921"
            ]
           ],
           "sequentialminus": [
            [
             0,
             "#0d0887"
            ],
            [
             0.1111111111111111,
             "#46039f"
            ],
            [
             0.2222222222222222,
             "#7201a8"
            ],
            [
             0.3333333333333333,
             "#9c179e"
            ],
            [
             0.4444444444444444,
             "#bd3786"
            ],
            [
             0.5555555555555556,
             "#d8576b"
            ],
            [
             0.6666666666666666,
             "#ed7953"
            ],
            [
             0.7777777777777778,
             "#fb9f3a"
            ],
            [
             0.8888888888888888,
             "#fdca26"
            ],
            [
             1,
             "#f0f921"
            ]
           ]
          },
          "colorway": [
           "#636efa",
           "#EF553B",
           "#00cc96",
           "#ab63fa",
           "#FFA15A",
           "#19d3f3",
           "#FF6692",
           "#B6E880",
           "#FF97FF",
           "#FECB52"
          ],
          "font": {
           "color": "#2a3f5f"
          },
          "geo": {
           "bgcolor": "white",
           "lakecolor": "white",
           "landcolor": "#E5ECF6",
           "showlakes": true,
           "showland": true,
           "subunitcolor": "white"
          },
          "hoverlabel": {
           "align": "left"
          },
          "hovermode": "closest",
          "mapbox": {
           "style": "light"
          },
          "paper_bgcolor": "white",
          "plot_bgcolor": "#E5ECF6",
          "polar": {
           "angularaxis": {
            "gridcolor": "white",
            "linecolor": "white",
            "ticks": ""
           },
           "bgcolor": "#E5ECF6",
           "radialaxis": {
            "gridcolor": "white",
            "linecolor": "white",
            "ticks": ""
           }
          },
          "scene": {
           "xaxis": {
            "backgroundcolor": "#E5ECF6",
            "gridcolor": "white",
            "gridwidth": 2,
            "linecolor": "white",
            "showbackground": true,
            "ticks": "",
            "zerolinecolor": "white"
           },
           "yaxis": {
            "backgroundcolor": "#E5ECF6",
            "gridcolor": "white",
            "gridwidth": 2,
            "linecolor": "white",
            "showbackground": true,
            "ticks": "",
            "zerolinecolor": "white"
           },
           "zaxis": {
            "backgroundcolor": "#E5ECF6",
            "gridcolor": "white",
            "gridwidth": 2,
            "linecolor": "white",
            "showbackground": true,
            "ticks": "",
            "zerolinecolor": "white"
           }
          },
          "shapedefaults": {
           "line": {
            "color": "#2a3f5f"
           }
          },
          "ternary": {
           "aaxis": {
            "gridcolor": "white",
            "linecolor": "white",
            "ticks": ""
           },
           "baxis": {
            "gridcolor": "white",
            "linecolor": "white",
            "ticks": ""
           },
           "bgcolor": "#E5ECF6",
           "caxis": {
            "gridcolor": "white",
            "linecolor": "white",
            "ticks": ""
           }
          },
          "title": {
           "x": 0.05
          },
          "xaxis": {
           "automargin": true,
           "gridcolor": "white",
           "linecolor": "white",
           "ticks": "",
           "title": {
            "standoff": 15
           },
           "zerolinecolor": "white",
           "zerolinewidth": 2
          },
          "yaxis": {
           "automargin": true,
           "gridcolor": "white",
           "linecolor": "white",
           "ticks": "",
           "title": {
            "standoff": 15
           },
           "zerolinecolor": "white",
           "zerolinewidth": 2
          }
         }
        },
        "xaxis": {
         "anchor": "y",
         "domain": [
          0,
          1
         ],
         "title": {
          "text": "Year"
         }
        },
        "yaxis": {
         "anchor": "x",
         "domain": [
          0,
          1
         ],
         "title": {
          "text": "Changes"
         }
        }
       }
      },
      "text/html": [
       "<div>                            <div id=\"1f19baa0-97c0-4fa2-b5d6-377ef908876c\" class=\"plotly-graph-div\" style=\"height:525px; width:100%;\"></div>            <script type=\"text/javascript\">                require([\"plotly\"], function(Plotly) {                    window.PLOTLYENV=window.PLOTLYENV || {};                                    if (document.getElementById(\"1f19baa0-97c0-4fa2-b5d6-377ef908876c\")) {                    Plotly.newPlot(                        \"1f19baa0-97c0-4fa2-b5d6-377ef908876c\",                        [{\"hovertemplate\":\"Year=%{x}<br>Changes=%{y}<extra></extra>\",\"legendgroup\":\"\",\"line\":{\"color\":\"#636efa\",\"dash\":\"solid\"},\"marker\":{\"symbol\":\"circle\"},\"mode\":\"lines\",\"name\":\"\",\"orientation\":\"v\",\"showlegend\":false,\"x\":[2010,2011,2012,2013,2014,2015,2016,2017,2018,2019,2020,2021],\"xaxis\":\"x\",\"y\":[null,0.08682051635586507,0.11214100263331539,-0.12356865202371115,0.208393025486026,0.6877063962164092,0.14209383574423606,0.2007889140692909,0.04574705474593488,0.026517146155804916,-0.7876828252079023,-0.665987961971741],\"yaxis\":\"y\",\"type\":\"scatter\"},{\"name\":\"Medina - international arrivals\",\"x\":[2010,2011,2012,2013,2014,2015,2016,2017,2018,2019,2020,2021],\"y\":[null,0.08682051635586507,0.11214100263331539,-0.12356865202371115,0.208393025486026,0.6877063962164092,0.14209383574423606,0.2007889140692909,0.04574705474593488,0.026517146155804916,-0.7876828252079023,-0.665987961971741],\"type\":\"scatter\"},{\"name\":\"Medina - Domestic arrivals\",\"x\":[2010,2011,2012,2013,2014,2015,2016,2017,2018,2019,2020,2021],\"y\":[null,0.053067305248394536,0.1711524005740266,0.006384957174976114,0.08210280892639066,0.10531985841071156,0.05981620718462821,0.10290531216486332,0.026484415533994277,0.05209988971248736,-0.6208743623011737,0.23633691360791675],\"type\":\"scatter\"}],                        {\"template\":{\"data\":{\"bar\":[{\"error_x\":{\"color\":\"#2a3f5f\"},\"error_y\":{\"color\":\"#2a3f5f\"},\"marker\":{\"line\":{\"color\":\"#E5ECF6\",\"width\":0.5},\"pattern\":{\"fillmode\":\"overlay\",\"size\":10,\"solidity\":0.2}},\"type\":\"bar\"}],\"barpolar\":[{\"marker\":{\"line\":{\"color\":\"#E5ECF6\",\"width\":0.5},\"pattern\":{\"fillmode\":\"overlay\",\"size\":10,\"solidity\":0.2}},\"type\":\"barpolar\"}],\"carpet\":[{\"aaxis\":{\"endlinecolor\":\"#2a3f5f\",\"gridcolor\":\"white\",\"linecolor\":\"white\",\"minorgridcolor\":\"white\",\"startlinecolor\":\"#2a3f5f\"},\"baxis\":{\"endlinecolor\":\"#2a3f5f\",\"gridcolor\":\"white\",\"linecolor\":\"white\",\"minorgridcolor\":\"white\",\"startlinecolor\":\"#2a3f5f\"},\"type\":\"carpet\"}],\"choropleth\":[{\"colorbar\":{\"outlinewidth\":0,\"ticks\":\"\"},\"type\":\"choropleth\"}],\"contour\":[{\"colorbar\":{\"outlinewidth\":0,\"ticks\":\"\"},\"colorscale\":[[0.0,\"#0d0887\"],[0.1111111111111111,\"#46039f\"],[0.2222222222222222,\"#7201a8\"],[0.3333333333333333,\"#9c179e\"],[0.4444444444444444,\"#bd3786\"],[0.5555555555555556,\"#d8576b\"],[0.6666666666666666,\"#ed7953\"],[0.7777777777777778,\"#fb9f3a\"],[0.8888888888888888,\"#fdca26\"],[1.0,\"#f0f921\"]],\"type\":\"contour\"}],\"contourcarpet\":[{\"colorbar\":{\"outlinewidth\":0,\"ticks\":\"\"},\"type\":\"contourcarpet\"}],\"heatmap\":[{\"colorbar\":{\"outlinewidth\":0,\"ticks\":\"\"},\"colorscale\":[[0.0,\"#0d0887\"],[0.1111111111111111,\"#46039f\"],[0.2222222222222222,\"#7201a8\"],[0.3333333333333333,\"#9c179e\"],[0.4444444444444444,\"#bd3786\"],[0.5555555555555556,\"#d8576b\"],[0.6666666666666666,\"#ed7953\"],[0.7777777777777778,\"#fb9f3a\"],[0.8888888888888888,\"#fdca26\"],[1.0,\"#f0f921\"]],\"type\":\"heatmap\"}],\"heatmapgl\":[{\"colorbar\":{\"outlinewidth\":0,\"ticks\":\"\"},\"colorscale\":[[0.0,\"#0d0887\"],[0.1111111111111111,\"#46039f\"],[0.2222222222222222,\"#7201a8\"],[0.3333333333333333,\"#9c179e\"],[0.4444444444444444,\"#bd3786\"],[0.5555555555555556,\"#d8576b\"],[0.6666666666666666,\"#ed7953\"],[0.7777777777777778,\"#fb9f3a\"],[0.8888888888888888,\"#fdca26\"],[1.0,\"#f0f921\"]],\"type\":\"heatmapgl\"}],\"histogram\":[{\"marker\":{\"pattern\":{\"fillmode\":\"overlay\",\"size\":10,\"solidity\":0.2}},\"type\":\"histogram\"}],\"histogram2d\":[{\"colorbar\":{\"outlinewidth\":0,\"ticks\":\"\"},\"colorscale\":[[0.0,\"#0d0887\"],[0.1111111111111111,\"#46039f\"],[0.2222222222222222,\"#7201a8\"],[0.3333333333333333,\"#9c179e\"],[0.4444444444444444,\"#bd3786\"],[0.5555555555555556,\"#d8576b\"],[0.6666666666666666,\"#ed7953\"],[0.7777777777777778,\"#fb9f3a\"],[0.8888888888888888,\"#fdca26\"],[1.0,\"#f0f921\"]],\"type\":\"histogram2d\"}],\"histogram2dcontour\":[{\"colorbar\":{\"outlinewidth\":0,\"ticks\":\"\"},\"colorscale\":[[0.0,\"#0d0887\"],[0.1111111111111111,\"#46039f\"],[0.2222222222222222,\"#7201a8\"],[0.3333333333333333,\"#9c179e\"],[0.4444444444444444,\"#bd3786\"],[0.5555555555555556,\"#d8576b\"],[0.6666666666666666,\"#ed7953\"],[0.7777777777777778,\"#fb9f3a\"],[0.8888888888888888,\"#fdca26\"],[1.0,\"#f0f921\"]],\"type\":\"histogram2dcontour\"}],\"mesh3d\":[{\"colorbar\":{\"outlinewidth\":0,\"ticks\":\"\"},\"type\":\"mesh3d\"}],\"parcoords\":[{\"line\":{\"colorbar\":{\"outlinewidth\":0,\"ticks\":\"\"}},\"type\":\"parcoords\"}],\"pie\":[{\"automargin\":true,\"type\":\"pie\"}],\"scatter\":[{\"marker\":{\"colorbar\":{\"outlinewidth\":0,\"ticks\":\"\"}},\"type\":\"scatter\"}],\"scatter3d\":[{\"line\":{\"colorbar\":{\"outlinewidth\":0,\"ticks\":\"\"}},\"marker\":{\"colorbar\":{\"outlinewidth\":0,\"ticks\":\"\"}},\"type\":\"scatter3d\"}],\"scattercarpet\":[{\"marker\":{\"colorbar\":{\"outlinewidth\":0,\"ticks\":\"\"}},\"type\":\"scattercarpet\"}],\"scattergeo\":[{\"marker\":{\"colorbar\":{\"outlinewidth\":0,\"ticks\":\"\"}},\"type\":\"scattergeo\"}],\"scattergl\":[{\"marker\":{\"colorbar\":{\"outlinewidth\":0,\"ticks\":\"\"}},\"type\":\"scattergl\"}],\"scattermapbox\":[{\"marker\":{\"colorbar\":{\"outlinewidth\":0,\"ticks\":\"\"}},\"type\":\"scattermapbox\"}],\"scatterpolar\":[{\"marker\":{\"colorbar\":{\"outlinewidth\":0,\"ticks\":\"\"}},\"type\":\"scatterpolar\"}],\"scatterpolargl\":[{\"marker\":{\"colorbar\":{\"outlinewidth\":0,\"ticks\":\"\"}},\"type\":\"scatterpolargl\"}],\"scatterternary\":[{\"marker\":{\"colorbar\":{\"outlinewidth\":0,\"ticks\":\"\"}},\"type\":\"scatterternary\"}],\"surface\":[{\"colorbar\":{\"outlinewidth\":0,\"ticks\":\"\"},\"colorscale\":[[0.0,\"#0d0887\"],[0.1111111111111111,\"#46039f\"],[0.2222222222222222,\"#7201a8\"],[0.3333333333333333,\"#9c179e\"],[0.4444444444444444,\"#bd3786\"],[0.5555555555555556,\"#d8576b\"],[0.6666666666666666,\"#ed7953\"],[0.7777777777777778,\"#fb9f3a\"],[0.8888888888888888,\"#fdca26\"],[1.0,\"#f0f921\"]],\"type\":\"surface\"}],\"table\":[{\"cells\":{\"fill\":{\"color\":\"#EBF0F8\"},\"line\":{\"color\":\"white\"}},\"header\":{\"fill\":{\"color\":\"#C8D4E3\"},\"line\":{\"color\":\"white\"}},\"type\":\"table\"}]},\"layout\":{\"annotationdefaults\":{\"arrowcolor\":\"#2a3f5f\",\"arrowhead\":0,\"arrowwidth\":1},\"autotypenumbers\":\"strict\",\"coloraxis\":{\"colorbar\":{\"outlinewidth\":0,\"ticks\":\"\"}},\"colorscale\":{\"diverging\":[[0,\"#8e0152\"],[0.1,\"#c51b7d\"],[0.2,\"#de77ae\"],[0.3,\"#f1b6da\"],[0.4,\"#fde0ef\"],[0.5,\"#f7f7f7\"],[0.6,\"#e6f5d0\"],[0.7,\"#b8e186\"],[0.8,\"#7fbc41\"],[0.9,\"#4d9221\"],[1,\"#276419\"]],\"sequential\":[[0.0,\"#0d0887\"],[0.1111111111111111,\"#46039f\"],[0.2222222222222222,\"#7201a8\"],[0.3333333333333333,\"#9c179e\"],[0.4444444444444444,\"#bd3786\"],[0.5555555555555556,\"#d8576b\"],[0.6666666666666666,\"#ed7953\"],[0.7777777777777778,\"#fb9f3a\"],[0.8888888888888888,\"#fdca26\"],[1.0,\"#f0f921\"]],\"sequentialminus\":[[0.0,\"#0d0887\"],[0.1111111111111111,\"#46039f\"],[0.2222222222222222,\"#7201a8\"],[0.3333333333333333,\"#9c179e\"],[0.4444444444444444,\"#bd3786\"],[0.5555555555555556,\"#d8576b\"],[0.6666666666666666,\"#ed7953\"],[0.7777777777777778,\"#fb9f3a\"],[0.8888888888888888,\"#fdca26\"],[1.0,\"#f0f921\"]]},\"colorway\":[\"#636efa\",\"#EF553B\",\"#00cc96\",\"#ab63fa\",\"#FFA15A\",\"#19d3f3\",\"#FF6692\",\"#B6E880\",\"#FF97FF\",\"#FECB52\"],\"font\":{\"color\":\"#2a3f5f\"},\"geo\":{\"bgcolor\":\"white\",\"lakecolor\":\"white\",\"landcolor\":\"#E5ECF6\",\"showlakes\":true,\"showland\":true,\"subunitcolor\":\"white\"},\"hoverlabel\":{\"align\":\"left\"},\"hovermode\":\"closest\",\"mapbox\":{\"style\":\"light\"},\"paper_bgcolor\":\"white\",\"plot_bgcolor\":\"#E5ECF6\",\"polar\":{\"angularaxis\":{\"gridcolor\":\"white\",\"linecolor\":\"white\",\"ticks\":\"\"},\"bgcolor\":\"#E5ECF6\",\"radialaxis\":{\"gridcolor\":\"white\",\"linecolor\":\"white\",\"ticks\":\"\"}},\"scene\":{\"xaxis\":{\"backgroundcolor\":\"#E5ECF6\",\"gridcolor\":\"white\",\"gridwidth\":2,\"linecolor\":\"white\",\"showbackground\":true,\"ticks\":\"\",\"zerolinecolor\":\"white\"},\"yaxis\":{\"backgroundcolor\":\"#E5ECF6\",\"gridcolor\":\"white\",\"gridwidth\":2,\"linecolor\":\"white\",\"showbackground\":true,\"ticks\":\"\",\"zerolinecolor\":\"white\"},\"zaxis\":{\"backgroundcolor\":\"#E5ECF6\",\"gridcolor\":\"white\",\"gridwidth\":2,\"linecolor\":\"white\",\"showbackground\":true,\"ticks\":\"\",\"zerolinecolor\":\"white\"}},\"shapedefaults\":{\"line\":{\"color\":\"#2a3f5f\"}},\"ternary\":{\"aaxis\":{\"gridcolor\":\"white\",\"linecolor\":\"white\",\"ticks\":\"\"},\"baxis\":{\"gridcolor\":\"white\",\"linecolor\":\"white\",\"ticks\":\"\"},\"bgcolor\":\"#E5ECF6\",\"caxis\":{\"gridcolor\":\"white\",\"linecolor\":\"white\",\"ticks\":\"\"}},\"title\":{\"x\":0.05},\"xaxis\":{\"automargin\":true,\"gridcolor\":\"white\",\"linecolor\":\"white\",\"ticks\":\"\",\"title\":{\"standoff\":15},\"zerolinecolor\":\"white\",\"zerolinewidth\":2},\"yaxis\":{\"automargin\":true,\"gridcolor\":\"white\",\"linecolor\":\"white\",\"ticks\":\"\",\"title\":{\"standoff\":15},\"zerolinecolor\":\"white\",\"zerolinewidth\":2}}},\"xaxis\":{\"anchor\":\"y\",\"domain\":[0.0,1.0],\"title\":{\"text\":\"Year\"}},\"yaxis\":{\"anchor\":\"x\",\"domain\":[0.0,1.0],\"title\":{\"text\":\"Changes\"}},\"legend\":{\"tracegroupgap\":0},\"margin\":{\"t\":60}},                        {\"responsive\": true}                    ).then(function(){\n",
       "                            \n",
       "var gd = document.getElementById('1f19baa0-97c0-4fa2-b5d6-377ef908876c');\n",
       "var x = new MutationObserver(function (mutations, observer) {{\n",
       "        var display = window.getComputedStyle(gd).display;\n",
       "        if (!display || display === 'none') {{\n",
       "            console.log([gd, 'removed!']);\n",
       "            Plotly.purge(gd);\n",
       "            observer.disconnect();\n",
       "        }}\n",
       "}});\n",
       "\n",
       "// Listen for the removal of the full notebook cells\n",
       "var notebookContainer = gd.closest('#notebook-container');\n",
       "if (notebookContainer) {{\n",
       "    x.observe(notebookContainer, {childList: true});\n",
       "}}\n",
       "\n",
       "// Listen for the clearing of the current output cell\n",
       "var outputEl = gd.closest('.output');\n",
       "if (outputEl) {{\n",
       "    x.observe(outputEl, {childList: true});\n",
       "}}\n",
       "\n",
       "                        })                };                });            </script>        </div>"
      ]
     },
     "metadata": {},
     "output_type": "display_data"
    }
   ],
   "source": [
    "import plotly.express as px\n",
    "\n",
    "fig = px.line(\n",
    "x=MedinapaxArrival.Year,\n",
    "y= ch_arr_MED,\n",
    "labels=dict(x=\"Year\", y=\"Changes\"))\n",
    "fig.add_scatter(x=precentMEDpax.Year,\n",
    "y=ch_arr_MED,\n",
    "name = 'Medina - international arrivals',\n",
    "\n",
    ")\n",
    "fig.add_scatter(x=MedinapaxArrival.Year,\n",
    "y=ch_arr_D_MED,\n",
    "name = 'Medina - Domestic arrivals',\n",
    ")"
   ]
  },
  {
   "cell_type": "markdown",
   "id": "73b4542e",
   "metadata": {},
   "source": [
    "### Arrival Flights to MED"
   ]
  },
  {
   "cell_type": "code",
   "execution_count": null,
   "id": "af89b0a6",
   "metadata": {},
   "outputs": [
    {
     "data": {
      "text/html": [
       "<div>\n",
       "<style scoped>\n",
       "    .dataframe tbody tr th:only-of-type {\n",
       "        vertical-align: middle;\n",
       "    }\n",
       "\n",
       "    .dataframe tbody tr th {\n",
       "        vertical-align: top;\n",
       "    }\n",
       "\n",
       "    .dataframe thead th {\n",
       "        text-align: right;\n",
       "    }\n",
       "</style>\n",
       "<table border=\"1\" class=\"dataframe\">\n",
       "  <thead>\n",
       "    <tr style=\"text-align: right;\">\n",
       "      <th></th>\n",
       "      <th>Year</th>\n",
       "      <th>Airport</th>\n",
       "      <th>FlightsA-international</th>\n",
       "      <th>FlightsA-Domestic</th>\n",
       "      <th>changes_international_arr</th>\n",
       "      <th>changes_domestic_arr</th>\n",
       "    </tr>\n",
       "  </thead>\n",
       "  <tbody>\n",
       "    <tr>\n",
       "      <th>14</th>\n",
       "      <td>2010</td>\n",
       "      <td>MED</td>\n",
       "      <td>7050</td>\n",
       "      <td>8517</td>\n",
       "      <td>NaN</td>\n",
       "      <td>NaN</td>\n",
       "    </tr>\n",
       "    <tr>\n",
       "      <th>39</th>\n",
       "      <td>2011</td>\n",
       "      <td>MED</td>\n",
       "      <td>8216</td>\n",
       "      <td>8352</td>\n",
       "      <td>16.539007</td>\n",
       "      <td>-1.937302</td>\n",
       "    </tr>\n",
       "    <tr>\n",
       "      <th>65</th>\n",
       "      <td>2012</td>\n",
       "      <td>MED</td>\n",
       "      <td>8306</td>\n",
       "      <td>8801</td>\n",
       "      <td>1.095424</td>\n",
       "      <td>5.375958</td>\n",
       "    </tr>\n",
       "    <tr>\n",
       "      <th>91</th>\n",
       "      <td>2013</td>\n",
       "      <td>MED</td>\n",
       "      <td>8389</td>\n",
       "      <td>9007</td>\n",
       "      <td>0.999278</td>\n",
       "      <td>2.340643</td>\n",
       "    </tr>\n",
       "    <tr>\n",
       "      <th>117</th>\n",
       "      <td>2014</td>\n",
       "      <td>MED</td>\n",
       "      <td>10929</td>\n",
       "      <td>9529</td>\n",
       "      <td>30.277745</td>\n",
       "      <td>5.795492</td>\n",
       "    </tr>\n",
       "    <tr>\n",
       "      <th>143</th>\n",
       "      <td>2015</td>\n",
       "      <td>MED</td>\n",
       "      <td>13926</td>\n",
       "      <td>10587</td>\n",
       "      <td>27.422454</td>\n",
       "      <td>11.102949</td>\n",
       "    </tr>\n",
       "    <tr>\n",
       "      <th>169</th>\n",
       "      <td>2016</td>\n",
       "      <td>MED</td>\n",
       "      <td>16199</td>\n",
       "      <td>11026</td>\n",
       "      <td>16.321988</td>\n",
       "      <td>4.146595</td>\n",
       "    </tr>\n",
       "    <tr>\n",
       "      <th>196</th>\n",
       "      <td>2017</td>\n",
       "      <td>MED</td>\n",
       "      <td>18977</td>\n",
       "      <td>10048</td>\n",
       "      <td>17.149207</td>\n",
       "      <td>-8.869944</td>\n",
       "    </tr>\n",
       "    <tr>\n",
       "      <th>223</th>\n",
       "      <td>2018</td>\n",
       "      <td>MED</td>\n",
       "      <td>19808</td>\n",
       "      <td>10521</td>\n",
       "      <td>4.378985</td>\n",
       "      <td>4.707404</td>\n",
       "    </tr>\n",
       "    <tr>\n",
       "      <th>250</th>\n",
       "      <td>2019</td>\n",
       "      <td>MED</td>\n",
       "      <td>19255</td>\n",
       "      <td>11048</td>\n",
       "      <td>-2.791801</td>\n",
       "      <td>5.009030</td>\n",
       "    </tr>\n",
       "    <tr>\n",
       "      <th>278</th>\n",
       "      <td>2020</td>\n",
       "      <td>MED</td>\n",
       "      <td>4145</td>\n",
       "      <td>5077</td>\n",
       "      <td>-78.473124</td>\n",
       "      <td>-54.045981</td>\n",
       "    </tr>\n",
       "    <tr>\n",
       "      <th>306</th>\n",
       "      <td>2021</td>\n",
       "      <td>MED</td>\n",
       "      <td>2171</td>\n",
       "      <td>7024</td>\n",
       "      <td>-47.623643</td>\n",
       "      <td>38.349419</td>\n",
       "    </tr>\n",
       "  </tbody>\n",
       "</table>\n",
       "</div>"
      ],
      "text/plain": [
       "     Year Airport  FlightsA-international  FlightsA-Domestic  \\\n",
       "14   2010     MED                    7050               8517   \n",
       "39   2011     MED                    8216               8352   \n",
       "65   2012     MED                    8306               8801   \n",
       "91   2013     MED                    8389               9007   \n",
       "117  2014     MED                   10929               9529   \n",
       "143  2015     MED                   13926              10587   \n",
       "169  2016     MED                   16199              11026   \n",
       "196  2017     MED                   18977              10048   \n",
       "223  2018     MED                   19808              10521   \n",
       "250  2019     MED                   19255              11048   \n",
       "278  2020     MED                    4145               5077   \n",
       "306  2021     MED                    2171               7024   \n",
       "\n",
       "     changes_international_arr  changes_domestic_arr  \n",
       "14                         NaN                   NaN  \n",
       "39                   16.539007             -1.937302  \n",
       "65                    1.095424              5.375958  \n",
       "91                    0.999278              2.340643  \n",
       "117                  30.277745              5.795492  \n",
       "143                  27.422454             11.102949  \n",
       "169                  16.321988              4.146595  \n",
       "196                  17.149207             -8.869944  \n",
       "223                   4.378985              4.707404  \n",
       "250                  -2.791801              5.009030  \n",
       "278                 -78.473124            -54.045981  \n",
       "306                 -47.623643             38.349419  "
      ]
     },
     "execution_count": 120,
     "metadata": {},
     "output_type": "execute_result"
    }
   ],
   "source": [
    "arrivalflights=MEDpax[['Year','Airport','FlightsA-international','FlightsA-Domestic']]\n",
    "arrivalflights=arrivalflights.copy()\n",
    "\n",
    "I_arrivalflights_changes=arrivalflights['FlightsA-international'].pct_change()\n",
    "D_arrivalflights_changes=arrivalflights['FlightsA-Domestic'].pct_change()\n",
    "\n",
    "arrivalflights['changes_international_arr']=I_arrivalflights_changes*100\n",
    "arrivalflights['changes_domestic_arr']=D_arrivalflights_changes*100\n",
    "arrivalflights\n"
   ]
  },
  {
   "cell_type": "markdown",
   "id": "ebf234ce",
   "metadata": {},
   "source": [
    "**Number** of international arrivals flights increased in 2015 after the new airport in 2015 with 27.42% compared to 2014"
   ]
  },
  {
   "cell_type": "code",
   "execution_count": null,
   "id": "1e700c5b",
   "metadata": {},
   "outputs": [
    {
     "data": {
      "text/plain": [
       "Month_short\n",
       "Apr    239623.428571\n",
       "Aug    292010.214286\n",
       "Dec    265788.785714\n",
       "Feb    225878.500000\n",
       "Jan    271412.250000\n",
       "Jul    230544.642857\n",
       "Jun    205260.642857\n",
       "Mar    257926.500000\n",
       "May    234457.142857\n",
       "Nov    186716.642857\n",
       "Oct    186206.642857\n",
       "Sep    263098.428571\n",
       "Name: MED, dtype: float64"
      ]
     },
     "execution_count": 121,
     "metadata": {},
     "output_type": "execute_result"
    }
   ],
   "source": [
    "# mean number of passengers every month \n",
    "Medina=passengers[['Year','Month_short','dom/intl','MED']]\n",
    "Medina\n",
    "Medina=Medina.groupby('Month_short').MED.mean()\n",
    "Medina"
   ]
  },
  {
   "cell_type": "markdown",
   "id": "9adf268b",
   "metadata": {},
   "source": [
    "The highest mean is in July, Al Hajj Month."
   ]
  },
  {
   "cell_type": "markdown",
   "id": "453789f2",
   "metadata": {},
   "source": [
    "## 3. AlUla Airport And Neom Airport"
   ]
  },
  {
   "cell_type": "markdown",
   "id": "2d575f07",
   "metadata": {},
   "source": [
    "### 3.1 Prince Abdul Majeed bin Abdulaziz  Airport - ULH"
   ]
  },
  {
   "cell_type": "markdown",
   "id": "9ba89761",
   "metadata": {},
   "source": [
    "The airport was established on 31 October 2011, let's measure the numbers from 2010-2021. AlUla "
   ]
  },
  {
   "cell_type": "code",
   "execution_count": null,
   "id": "1f10e760",
   "metadata": {
    "scrolled": true
   },
   "outputs": [
    {
     "data": {
      "text/html": [
       "<div>\n",
       "<style scoped>\n",
       "    .dataframe tbody tr th:only-of-type {\n",
       "        vertical-align: middle;\n",
       "    }\n",
       "\n",
       "    .dataframe tbody tr th {\n",
       "        vertical-align: top;\n",
       "    }\n",
       "\n",
       "    .dataframe thead th {\n",
       "        text-align: right;\n",
       "    }\n",
       "</style>\n",
       "<table border=\"1\" class=\"dataframe\">\n",
       "  <thead>\n",
       "    <tr style=\"text-align: right;\">\n",
       "      <th></th>\n",
       "      <th>Year</th>\n",
       "      <th>Airport</th>\n",
       "      <th>FlightsA-Domestic</th>\n",
       "      <th>PaxA-Domestic</th>\n",
       "      <th>FlightsD-Domestic</th>\n",
       "      <th>PaxD-Domestic</th>\n",
       "      <th>FlightsA-international</th>\n",
       "      <th>PaxA-international</th>\n",
       "      <th>FlightsD-international</th>\n",
       "      <th>PaxD-international</th>\n",
       "      <th>Flights</th>\n",
       "      <th>Pax</th>\n",
       "    </tr>\n",
       "  </thead>\n",
       "  <tbody>\n",
       "    <tr>\n",
       "      <th>47</th>\n",
       "      <td>2011</td>\n",
       "      <td>ULH</td>\n",
       "      <td>19</td>\n",
       "      <td>585</td>\n",
       "      <td>19</td>\n",
       "      <td>442</td>\n",
       "      <td>0</td>\n",
       "      <td>0</td>\n",
       "      <td>0</td>\n",
       "      <td>0</td>\n",
       "      <td>38</td>\n",
       "      <td>1027</td>\n",
       "    </tr>\n",
       "    <tr>\n",
       "      <th>73</th>\n",
       "      <td>2012</td>\n",
       "      <td>ULH</td>\n",
       "      <td>107</td>\n",
       "      <td>4231</td>\n",
       "      <td>107</td>\n",
       "      <td>4379</td>\n",
       "      <td>0</td>\n",
       "      <td>0</td>\n",
       "      <td>0</td>\n",
       "      <td>0</td>\n",
       "      <td>214</td>\n",
       "      <td>8610</td>\n",
       "    </tr>\n",
       "    <tr>\n",
       "      <th>99</th>\n",
       "      <td>2013</td>\n",
       "      <td>ULH</td>\n",
       "      <td>107</td>\n",
       "      <td>4541</td>\n",
       "      <td>106</td>\n",
       "      <td>4598</td>\n",
       "      <td>0</td>\n",
       "      <td>0</td>\n",
       "      <td>0</td>\n",
       "      <td>0</td>\n",
       "      <td>213</td>\n",
       "      <td>9139</td>\n",
       "    </tr>\n",
       "    <tr>\n",
       "      <th>125</th>\n",
       "      <td>2014</td>\n",
       "      <td>ULH</td>\n",
       "      <td>200</td>\n",
       "      <td>7195</td>\n",
       "      <td>200</td>\n",
       "      <td>6943</td>\n",
       "      <td>0</td>\n",
       "      <td>0</td>\n",
       "      <td>0</td>\n",
       "      <td>0</td>\n",
       "      <td>400</td>\n",
       "      <td>14138</td>\n",
       "    </tr>\n",
       "    <tr>\n",
       "      <th>151</th>\n",
       "      <td>2015</td>\n",
       "      <td>ULH</td>\n",
       "      <td>208</td>\n",
       "      <td>10753</td>\n",
       "      <td>208</td>\n",
       "      <td>11246</td>\n",
       "      <td>0</td>\n",
       "      <td>0</td>\n",
       "      <td>0</td>\n",
       "      <td>0</td>\n",
       "      <td>416</td>\n",
       "      <td>21999</td>\n",
       "    </tr>\n",
       "    <tr>\n",
       "      <th>178</th>\n",
       "      <td>2016</td>\n",
       "      <td>ULH</td>\n",
       "      <td>260</td>\n",
       "      <td>11136</td>\n",
       "      <td>261</td>\n",
       "      <td>11808</td>\n",
       "      <td>0</td>\n",
       "      <td>0</td>\n",
       "      <td>1</td>\n",
       "      <td>0</td>\n",
       "      <td>522</td>\n",
       "      <td>22944</td>\n",
       "    </tr>\n",
       "    <tr>\n",
       "      <th>205</th>\n",
       "      <td>2017</td>\n",
       "      <td>ULH</td>\n",
       "      <td>367</td>\n",
       "      <td>12118</td>\n",
       "      <td>362</td>\n",
       "      <td>13025</td>\n",
       "      <td>14</td>\n",
       "      <td>0</td>\n",
       "      <td>15</td>\n",
       "      <td>0</td>\n",
       "      <td>758</td>\n",
       "      <td>25143</td>\n",
       "    </tr>\n",
       "    <tr>\n",
       "      <th>232</th>\n",
       "      <td>2018</td>\n",
       "      <td>ULH</td>\n",
       "      <td>547</td>\n",
       "      <td>16808</td>\n",
       "      <td>544</td>\n",
       "      <td>17119</td>\n",
       "      <td>11</td>\n",
       "      <td>104</td>\n",
       "      <td>11</td>\n",
       "      <td>198</td>\n",
       "      <td>1113</td>\n",
       "      <td>34229</td>\n",
       "    </tr>\n",
       "    <tr>\n",
       "      <th>260</th>\n",
       "      <td>2019</td>\n",
       "      <td>ULH</td>\n",
       "      <td>700</td>\n",
       "      <td>29642</td>\n",
       "      <td>707</td>\n",
       "      <td>29388</td>\n",
       "      <td>120</td>\n",
       "      <td>966</td>\n",
       "      <td>111</td>\n",
       "      <td>1142</td>\n",
       "      <td>1638</td>\n",
       "      <td>61138</td>\n",
       "    </tr>\n",
       "    <tr>\n",
       "      <th>288</th>\n",
       "      <td>2020</td>\n",
       "      <td>ULH</td>\n",
       "      <td>589</td>\n",
       "      <td>23325</td>\n",
       "      <td>584</td>\n",
       "      <td>23179</td>\n",
       "      <td>146</td>\n",
       "      <td>1277</td>\n",
       "      <td>151</td>\n",
       "      <td>997</td>\n",
       "      <td>1470</td>\n",
       "      <td>48778</td>\n",
       "    </tr>\n",
       "    <tr>\n",
       "      <th>316</th>\n",
       "      <td>2021</td>\n",
       "      <td>ULH</td>\n",
       "      <td>1081</td>\n",
       "      <td>36936</td>\n",
       "      <td>1080</td>\n",
       "      <td>35859</td>\n",
       "      <td>66</td>\n",
       "      <td>794</td>\n",
       "      <td>65</td>\n",
       "      <td>535</td>\n",
       "      <td>2292</td>\n",
       "      <td>74124</td>\n",
       "    </tr>\n",
       "  </tbody>\n",
       "</table>\n",
       "</div>"
      ],
      "text/plain": [
       "     Year Airport  FlightsA-Domestic  PaxA-Domestic  FlightsD-Domestic  \\\n",
       "47   2011     ULH                 19            585                 19   \n",
       "73   2012     ULH                107           4231                107   \n",
       "99   2013     ULH                107           4541                106   \n",
       "125  2014     ULH                200           7195                200   \n",
       "151  2015     ULH                208          10753                208   \n",
       "178  2016     ULH                260          11136                261   \n",
       "205  2017     ULH                367          12118                362   \n",
       "232  2018     ULH                547          16808                544   \n",
       "260  2019     ULH                700          29642                707   \n",
       "288  2020     ULH                589          23325                584   \n",
       "316  2021     ULH               1081          36936               1080   \n",
       "\n",
       "     PaxD-Domestic  FlightsA-international  PaxA-international  \\\n",
       "47             442                       0                   0   \n",
       "73            4379                       0                   0   \n",
       "99            4598                       0                   0   \n",
       "125           6943                       0                   0   \n",
       "151          11246                       0                   0   \n",
       "178          11808                       0                   0   \n",
       "205          13025                      14                   0   \n",
       "232          17119                      11                 104   \n",
       "260          29388                     120                 966   \n",
       "288          23179                     146                1277   \n",
       "316          35859                      66                 794   \n",
       "\n",
       "     FlightsD-international  PaxD-international  Flights    Pax  \n",
       "47                        0                   0       38   1027  \n",
       "73                        0                   0      214   8610  \n",
       "99                        0                   0      213   9139  \n",
       "125                       0                   0      400  14138  \n",
       "151                       0                   0      416  21999  \n",
       "178                       1                   0      522  22944  \n",
       "205                      15                   0      758  25143  \n",
       "232                      11                 198     1113  34229  \n",
       "260                     111                1142     1638  61138  \n",
       "288                     151                 997     1470  48778  \n",
       "316                      65                 535     2292  74124  "
      ]
     },
     "execution_count": 122,
     "metadata": {},
     "output_type": "execute_result"
    }
   ],
   "source": [
    "Alula_yearly=flights[(flights['Airport'] == 'ULH')]\n",
    "Alula_yearly"
   ]
  },
  {
   "cell_type": "code",
   "execution_count": null,
   "id": "b26430bb",
   "metadata": {
    "scrolled": true
   },
   "outputs": [
    {
     "data": {
      "text/html": [
       "<div>\n",
       "<style scoped>\n",
       "    .dataframe tbody tr th:only-of-type {\n",
       "        vertical-align: middle;\n",
       "    }\n",
       "\n",
       "    .dataframe tbody tr th {\n",
       "        vertical-align: top;\n",
       "    }\n",
       "\n",
       "    .dataframe thead th {\n",
       "        text-align: right;\n",
       "    }\n",
       "</style>\n",
       "<table border=\"1\" class=\"dataframe\">\n",
       "  <thead>\n",
       "    <tr style=\"text-align: right;\">\n",
       "      <th></th>\n",
       "      <th>Year</th>\n",
       "      <th>Airport</th>\n",
       "      <th>FlightsA-Domestic</th>\n",
       "      <th>PaxA-Domestic</th>\n",
       "      <th>FlightsD-Domestic</th>\n",
       "      <th>PaxD-Domestic</th>\n",
       "      <th>FlightsA-international</th>\n",
       "      <th>PaxA-international</th>\n",
       "      <th>FlightsD-international</th>\n",
       "      <th>PaxD-international</th>\n",
       "      <th>Flights</th>\n",
       "      <th>Pax</th>\n",
       "      <th>Changes_Flights_arrival_D</th>\n",
       "      <th>Changes_Passengers_arrival_D</th>\n",
       "      <th>Changes_Flights_arrival_International</th>\n",
       "      <th>Changes_Passengers_arrival_International</th>\n",
       "      <th>total_passengers_changes</th>\n",
       "    </tr>\n",
       "  </thead>\n",
       "  <tbody>\n",
       "    <tr>\n",
       "      <th>47</th>\n",
       "      <td>2011</td>\n",
       "      <td>ULH</td>\n",
       "      <td>19</td>\n",
       "      <td>585</td>\n",
       "      <td>19</td>\n",
       "      <td>442</td>\n",
       "      <td>0</td>\n",
       "      <td>0</td>\n",
       "      <td>0</td>\n",
       "      <td>0</td>\n",
       "      <td>38</td>\n",
       "      <td>1027</td>\n",
       "      <td>NaN</td>\n",
       "      <td>NaN</td>\n",
       "      <td>NaN</td>\n",
       "      <td>NaN</td>\n",
       "      <td>NaN</td>\n",
       "    </tr>\n",
       "    <tr>\n",
       "      <th>73</th>\n",
       "      <td>2012</td>\n",
       "      <td>ULH</td>\n",
       "      <td>107</td>\n",
       "      <td>4231</td>\n",
       "      <td>107</td>\n",
       "      <td>4379</td>\n",
       "      <td>0</td>\n",
       "      <td>0</td>\n",
       "      <td>0</td>\n",
       "      <td>0</td>\n",
       "      <td>214</td>\n",
       "      <td>8610</td>\n",
       "      <td>463.157895</td>\n",
       "      <td>623.247863</td>\n",
       "      <td>NaN</td>\n",
       "      <td>NaN</td>\n",
       "      <td>738.364167</td>\n",
       "    </tr>\n",
       "    <tr>\n",
       "      <th>99</th>\n",
       "      <td>2013</td>\n",
       "      <td>ULH</td>\n",
       "      <td>107</td>\n",
       "      <td>4541</td>\n",
       "      <td>106</td>\n",
       "      <td>4598</td>\n",
       "      <td>0</td>\n",
       "      <td>0</td>\n",
       "      <td>0</td>\n",
       "      <td>0</td>\n",
       "      <td>213</td>\n",
       "      <td>9139</td>\n",
       "      <td>0.000000</td>\n",
       "      <td>7.326873</td>\n",
       "      <td>NaN</td>\n",
       "      <td>NaN</td>\n",
       "      <td>6.144019</td>\n",
       "    </tr>\n",
       "    <tr>\n",
       "      <th>125</th>\n",
       "      <td>2014</td>\n",
       "      <td>ULH</td>\n",
       "      <td>200</td>\n",
       "      <td>7195</td>\n",
       "      <td>200</td>\n",
       "      <td>6943</td>\n",
       "      <td>0</td>\n",
       "      <td>0</td>\n",
       "      <td>0</td>\n",
       "      <td>0</td>\n",
       "      <td>400</td>\n",
       "      <td>14138</td>\n",
       "      <td>86.915888</td>\n",
       "      <td>58.445276</td>\n",
       "      <td>NaN</td>\n",
       "      <td>NaN</td>\n",
       "      <td>54.699639</td>\n",
       "    </tr>\n",
       "    <tr>\n",
       "      <th>151</th>\n",
       "      <td>2015</td>\n",
       "      <td>ULH</td>\n",
       "      <td>208</td>\n",
       "      <td>10753</td>\n",
       "      <td>208</td>\n",
       "      <td>11246</td>\n",
       "      <td>0</td>\n",
       "      <td>0</td>\n",
       "      <td>0</td>\n",
       "      <td>0</td>\n",
       "      <td>416</td>\n",
       "      <td>21999</td>\n",
       "      <td>4.000000</td>\n",
       "      <td>49.451008</td>\n",
       "      <td>NaN</td>\n",
       "      <td>NaN</td>\n",
       "      <td>55.601924</td>\n",
       "    </tr>\n",
       "    <tr>\n",
       "      <th>178</th>\n",
       "      <td>2016</td>\n",
       "      <td>ULH</td>\n",
       "      <td>260</td>\n",
       "      <td>11136</td>\n",
       "      <td>261</td>\n",
       "      <td>11808</td>\n",
       "      <td>0</td>\n",
       "      <td>0</td>\n",
       "      <td>1</td>\n",
       "      <td>0</td>\n",
       "      <td>522</td>\n",
       "      <td>22944</td>\n",
       "      <td>25.000000</td>\n",
       "      <td>3.561797</td>\n",
       "      <td>NaN</td>\n",
       "      <td>NaN</td>\n",
       "      <td>4.295650</td>\n",
       "    </tr>\n",
       "    <tr>\n",
       "      <th>205</th>\n",
       "      <td>2017</td>\n",
       "      <td>ULH</td>\n",
       "      <td>367</td>\n",
       "      <td>12118</td>\n",
       "      <td>362</td>\n",
       "      <td>13025</td>\n",
       "      <td>14</td>\n",
       "      <td>0</td>\n",
       "      <td>15</td>\n",
       "      <td>0</td>\n",
       "      <td>758</td>\n",
       "      <td>25143</td>\n",
       "      <td>41.153846</td>\n",
       "      <td>8.818247</td>\n",
       "      <td>inf</td>\n",
       "      <td>NaN</td>\n",
       "      <td>9.584205</td>\n",
       "    </tr>\n",
       "    <tr>\n",
       "      <th>232</th>\n",
       "      <td>2018</td>\n",
       "      <td>ULH</td>\n",
       "      <td>547</td>\n",
       "      <td>16808</td>\n",
       "      <td>544</td>\n",
       "      <td>17119</td>\n",
       "      <td>11</td>\n",
       "      <td>104</td>\n",
       "      <td>11</td>\n",
       "      <td>198</td>\n",
       "      <td>1113</td>\n",
       "      <td>34229</td>\n",
       "      <td>49.046322</td>\n",
       "      <td>38.702756</td>\n",
       "      <td>-21.428571</td>\n",
       "      <td>inf</td>\n",
       "      <td>36.137295</td>\n",
       "    </tr>\n",
       "    <tr>\n",
       "      <th>260</th>\n",
       "      <td>2019</td>\n",
       "      <td>ULH</td>\n",
       "      <td>700</td>\n",
       "      <td>29642</td>\n",
       "      <td>707</td>\n",
       "      <td>29388</td>\n",
       "      <td>120</td>\n",
       "      <td>966</td>\n",
       "      <td>111</td>\n",
       "      <td>1142</td>\n",
       "      <td>1638</td>\n",
       "      <td>61138</td>\n",
       "      <td>27.970750</td>\n",
       "      <td>76.356497</td>\n",
       "      <td>990.909091</td>\n",
       "      <td>828.846154</td>\n",
       "      <td>78.614625</td>\n",
       "    </tr>\n",
       "    <tr>\n",
       "      <th>288</th>\n",
       "      <td>2020</td>\n",
       "      <td>ULH</td>\n",
       "      <td>589</td>\n",
       "      <td>23325</td>\n",
       "      <td>584</td>\n",
       "      <td>23179</td>\n",
       "      <td>146</td>\n",
       "      <td>1277</td>\n",
       "      <td>151</td>\n",
       "      <td>997</td>\n",
       "      <td>1470</td>\n",
       "      <td>48778</td>\n",
       "      <td>-15.857143</td>\n",
       "      <td>-21.310978</td>\n",
       "      <td>21.666667</td>\n",
       "      <td>32.194617</td>\n",
       "      <td>-20.216559</td>\n",
       "    </tr>\n",
       "    <tr>\n",
       "      <th>316</th>\n",
       "      <td>2021</td>\n",
       "      <td>ULH</td>\n",
       "      <td>1081</td>\n",
       "      <td>36936</td>\n",
       "      <td>1080</td>\n",
       "      <td>35859</td>\n",
       "      <td>66</td>\n",
       "      <td>794</td>\n",
       "      <td>65</td>\n",
       "      <td>535</td>\n",
       "      <td>2292</td>\n",
       "      <td>74124</td>\n",
       "      <td>83.531409</td>\n",
       "      <td>58.353698</td>\n",
       "      <td>-54.794521</td>\n",
       "      <td>-37.823023</td>\n",
       "      <td>51.961950</td>\n",
       "    </tr>\n",
       "  </tbody>\n",
       "</table>\n",
       "</div>"
      ],
      "text/plain": [
       "     Year Airport  FlightsA-Domestic  PaxA-Domestic  FlightsD-Domestic  \\\n",
       "47   2011     ULH                 19            585                 19   \n",
       "73   2012     ULH                107           4231                107   \n",
       "99   2013     ULH                107           4541                106   \n",
       "125  2014     ULH                200           7195                200   \n",
       "151  2015     ULH                208          10753                208   \n",
       "178  2016     ULH                260          11136                261   \n",
       "205  2017     ULH                367          12118                362   \n",
       "232  2018     ULH                547          16808                544   \n",
       "260  2019     ULH                700          29642                707   \n",
       "288  2020     ULH                589          23325                584   \n",
       "316  2021     ULH               1081          36936               1080   \n",
       "\n",
       "     PaxD-Domestic  FlightsA-international  PaxA-international  \\\n",
       "47             442                       0                   0   \n",
       "73            4379                       0                   0   \n",
       "99            4598                       0                   0   \n",
       "125           6943                       0                   0   \n",
       "151          11246                       0                   0   \n",
       "178          11808                       0                   0   \n",
       "205          13025                      14                   0   \n",
       "232          17119                      11                 104   \n",
       "260          29388                     120                 966   \n",
       "288          23179                     146                1277   \n",
       "316          35859                      66                 794   \n",
       "\n",
       "     FlightsD-international  PaxD-international  Flights    Pax  \\\n",
       "47                        0                   0       38   1027   \n",
       "73                        0                   0      214   8610   \n",
       "99                        0                   0      213   9139   \n",
       "125                       0                   0      400  14138   \n",
       "151                       0                   0      416  21999   \n",
       "178                       1                   0      522  22944   \n",
       "205                      15                   0      758  25143   \n",
       "232                      11                 198     1113  34229   \n",
       "260                     111                1142     1638  61138   \n",
       "288                     151                 997     1470  48778   \n",
       "316                      65                 535     2292  74124   \n",
       "\n",
       "     Changes_Flights_arrival_D  Changes_Passengers_arrival_D  \\\n",
       "47                         NaN                           NaN   \n",
       "73                  463.157895                    623.247863   \n",
       "99                    0.000000                      7.326873   \n",
       "125                  86.915888                     58.445276   \n",
       "151                   4.000000                     49.451008   \n",
       "178                  25.000000                      3.561797   \n",
       "205                  41.153846                      8.818247   \n",
       "232                  49.046322                     38.702756   \n",
       "260                  27.970750                     76.356497   \n",
       "288                 -15.857143                    -21.310978   \n",
       "316                  83.531409                     58.353698   \n",
       "\n",
       "     Changes_Flights_arrival_International  \\\n",
       "47                                     NaN   \n",
       "73                                     NaN   \n",
       "99                                     NaN   \n",
       "125                                    NaN   \n",
       "151                                    NaN   \n",
       "178                                    NaN   \n",
       "205                                    inf   \n",
       "232                             -21.428571   \n",
       "260                             990.909091   \n",
       "288                              21.666667   \n",
       "316                             -54.794521   \n",
       "\n",
       "     Changes_Passengers_arrival_International  total_passengers_changes  \n",
       "47                                        NaN                       NaN  \n",
       "73                                        NaN                738.364167  \n",
       "99                                        NaN                  6.144019  \n",
       "125                                       NaN                 54.699639  \n",
       "151                                       NaN                 55.601924  \n",
       "178                                       NaN                  4.295650  \n",
       "205                                       NaN                  9.584205  \n",
       "232                                       inf                 36.137295  \n",
       "260                                828.846154                 78.614625  \n",
       "288                                 32.194617                -20.216559  \n",
       "316                                -37.823023                 51.961950  "
      ]
     },
     "execution_count": 123,
     "metadata": {},
     "output_type": "execute_result"
    }
   ],
   "source": [
    "Alula_yearly=Alula_yearly.copy()\n",
    "FlightsA_Domestic_changes=Alula_yearly['FlightsA-Domestic'].pct_change()\n",
    "Alula_yearly['Changes_Flights_arrival_D']=FlightsA_Domestic_changes*100\n",
    "PaxA_Domestic_changes=Alula_yearly['PaxA-Domestic'].pct_change()\n",
    "Alula_yearly['Changes_Passengers_arrival_D']=PaxA_Domestic_changes*100\n",
    "FlightsA_international_changes=Alula_yearly['FlightsA-international'].pct_change()\n",
    "Alula_yearly['Changes_Flights_arrival_International']=FlightsA_international_changes*100\n",
    "PaxA_international_changes=Alula_yearly['PaxA-international'].pct_change()\n",
    "Alula_yearly['Changes_Passengers_arrival_International']=PaxA_international_changes*100\n",
    "Pax_changes=Alula_yearly['Pax'].pct_change()\n",
    "Alula_yearly['total_passengers_changes']=Pax_changes*100\n",
    "Alula_yearly"
   ]
  },
  {
   "cell_type": "markdown",
   "id": "4e91d6e9",
   "metadata": {},
   "source": [
    "NaN because there was no international flights before 2017"
   ]
  },
  {
   "cell_type": "markdown",
   "id": "4ea4b53b",
   "metadata": {},
   "source": [
    "Number of passngers that arrives from domestic airports increased by 76.35% in 2019, and for international also a huge increasing rate. This year is where \"The Royal Commission for AlUla announced its vision to responsibly develop AlUla as a world heritage destination \"<br> And Even though 2020 Covid hit over, 2021 is the brighter year as a big rate of changes with 58% increasing in the passengers of domestic airports. And for the international 2020 was the top year of international passengers number, because 2020 was the **\"** Desert X AlUla is the first international collaboration for Desert X, which was founded to connect desert communities and cultures through contemporary art. The exhibition will bring together artists from Saudi Arabia and the surrounding region with artists from around the world presenting large-scale installations, including site-specific works and commissions that respond to the landscape and specific conditions of the desert. **\"**"
   ]
  },
  {
   "cell_type": "code",
   "execution_count": null,
   "id": "b6ad6d9a",
   "metadata": {
    "scrolled": false
   },
   "outputs": [],
   "source": [
    "Alula=passengers[['Year','Month_short','dom/intl','ULH']]\n",
    "#Alula.tail(30)"
   ]
  },
  {
   "cell_type": "code",
   "execution_count": null,
   "id": "c26a1799",
   "metadata": {
    "scrolled": true
   },
   "outputs": [
    {
     "data": {
      "text/html": [
       "<div>\n",
       "<style scoped>\n",
       "    .dataframe tbody tr th:only-of-type {\n",
       "        vertical-align: middle;\n",
       "    }\n",
       "\n",
       "    .dataframe tbody tr th {\n",
       "        vertical-align: top;\n",
       "    }\n",
       "\n",
       "    .dataframe thead th {\n",
       "        text-align: right;\n",
       "    }\n",
       "</style>\n",
       "<table border=\"1\" class=\"dataframe\">\n",
       "  <thead>\n",
       "    <tr style=\"text-align: right;\">\n",
       "      <th></th>\n",
       "      <th>level_0</th>\n",
       "      <th>index</th>\n",
       "      <th>Year</th>\n",
       "      <th>Month_short</th>\n",
       "      <th>dom/intl</th>\n",
       "      <th>ULH</th>\n",
       "    </tr>\n",
       "  </thead>\n",
       "  <tbody>\n",
       "    <tr>\n",
       "      <th>0</th>\n",
       "      <td>72</td>\n",
       "      <td>144</td>\n",
       "      <td>2021</td>\n",
       "      <td>Jan</td>\n",
       "      <td>Domestic</td>\n",
       "      <td>4478</td>\n",
       "    </tr>\n",
       "    <tr>\n",
       "      <th>1</th>\n",
       "      <td>73</td>\n",
       "      <td>146</td>\n",
       "      <td>2021</td>\n",
       "      <td>Feb</td>\n",
       "      <td>Domestic</td>\n",
       "      <td>4949</td>\n",
       "    </tr>\n",
       "    <tr>\n",
       "      <th>2</th>\n",
       "      <td>74</td>\n",
       "      <td>148</td>\n",
       "      <td>2021</td>\n",
       "      <td>Mar</td>\n",
       "      <td>Domestic</td>\n",
       "      <td>7431</td>\n",
       "    </tr>\n",
       "    <tr>\n",
       "      <th>3</th>\n",
       "      <td>75</td>\n",
       "      <td>150</td>\n",
       "      <td>2021</td>\n",
       "      <td>Apr</td>\n",
       "      <td>Domestic</td>\n",
       "      <td>4741</td>\n",
       "    </tr>\n",
       "    <tr>\n",
       "      <th>4</th>\n",
       "      <td>76</td>\n",
       "      <td>152</td>\n",
       "      <td>2021</td>\n",
       "      <td>May</td>\n",
       "      <td>Domestic</td>\n",
       "      <td>3308</td>\n",
       "    </tr>\n",
       "    <tr>\n",
       "      <th>5</th>\n",
       "      <td>77</td>\n",
       "      <td>154</td>\n",
       "      <td>2021</td>\n",
       "      <td>Jun</td>\n",
       "      <td>Domestic</td>\n",
       "      <td>3263</td>\n",
       "    </tr>\n",
       "    <tr>\n",
       "      <th>6</th>\n",
       "      <td>78</td>\n",
       "      <td>156</td>\n",
       "      <td>2021</td>\n",
       "      <td>Jul</td>\n",
       "      <td>Domestic</td>\n",
       "      <td>3306</td>\n",
       "    </tr>\n",
       "    <tr>\n",
       "      <th>7</th>\n",
       "      <td>79</td>\n",
       "      <td>158</td>\n",
       "      <td>2021</td>\n",
       "      <td>Aug</td>\n",
       "      <td>Domestic</td>\n",
       "      <td>3181</td>\n",
       "    </tr>\n",
       "    <tr>\n",
       "      <th>8</th>\n",
       "      <td>80</td>\n",
       "      <td>160</td>\n",
       "      <td>2021</td>\n",
       "      <td>Sep</td>\n",
       "      <td>Domestic</td>\n",
       "      <td>5146</td>\n",
       "    </tr>\n",
       "    <tr>\n",
       "      <th>9</th>\n",
       "      <td>81</td>\n",
       "      <td>162</td>\n",
       "      <td>2021</td>\n",
       "      <td>Oct</td>\n",
       "      <td>Domestic</td>\n",
       "      <td>7414</td>\n",
       "    </tr>\n",
       "    <tr>\n",
       "      <th>10</th>\n",
       "      <td>82</td>\n",
       "      <td>164</td>\n",
       "      <td>2021</td>\n",
       "      <td>Nov</td>\n",
       "      <td>Domestic</td>\n",
       "      <td>12548</td>\n",
       "    </tr>\n",
       "    <tr>\n",
       "      <th>11</th>\n",
       "      <td>83</td>\n",
       "      <td>166</td>\n",
       "      <td>2021</td>\n",
       "      <td>Dec</td>\n",
       "      <td>Domestic</td>\n",
       "      <td>17508</td>\n",
       "    </tr>\n",
       "  </tbody>\n",
       "</table>\n",
       "</div>"
      ],
      "text/plain": [
       "    level_0  index  Year Month_short  dom/intl    ULH\n",
       "0        72    144  2021         Jan  Domestic   4478\n",
       "1        73    146  2021         Feb  Domestic   4949\n",
       "2        74    148  2021         Mar  Domestic   7431\n",
       "3        75    150  2021         Apr  Domestic   4741\n",
       "4        76    152  2021         May  Domestic   3308\n",
       "5        77    154  2021         Jun  Domestic   3263\n",
       "6        78    156  2021         Jul  Domestic   3306\n",
       "7        79    158  2021         Aug  Domestic   3181\n",
       "8        80    160  2021         Sep  Domestic   5146\n",
       "9        81    162  2021         Oct  Domestic   7414\n",
       "10       82    164  2021         Nov  Domestic  12548\n",
       "11       83    166  2021         Dec  Domestic  17508"
      ]
     },
     "execution_count": 125,
     "metadata": {},
     "output_type": "execute_result"
    }
   ],
   "source": [
    "# having numbers of passengers per month months, plotting them will give clear increasing of the numbers\n",
    "Alula_domestic=Alula.loc[(Alula[\"dom/intl\"] == \"Domestic\"),:].reset_index()\n",
    "\n",
    "Y2018=Alula_domestic.loc[(Alula_domestic[\"Year\"] == 2018),:].reset_index()\n",
    "Y2018\n",
    "Y2019=Alula_domestic.loc[(Alula_domestic[\"Year\"] == 2019),:].reset_index()\n",
    "Y2019\n",
    "Y2020=Alula_domestic.loc[(Alula_domestic[\"Year\"] == 2020),:].reset_index()\n",
    "Y2020\n",
    "Y2021=Alula_domestic.loc[(Alula_domestic[\"Year\"] == 2021),:].reset_index()\n",
    "Y2021"
   ]
  },
  {
   "cell_type": "code",
   "execution_count": null,
   "id": "bb81233d",
   "metadata": {},
   "outputs": [
    {
     "data": {
      "text/html": [
       "<div>\n",
       "<style scoped>\n",
       "    .dataframe tbody tr th:only-of-type {\n",
       "        vertical-align: middle;\n",
       "    }\n",
       "\n",
       "    .dataframe tbody tr th {\n",
       "        vertical-align: top;\n",
       "    }\n",
       "\n",
       "    .dataframe thead th {\n",
       "        text-align: right;\n",
       "    }\n",
       "</style>\n",
       "<table border=\"1\" class=\"dataframe\">\n",
       "  <thead>\n",
       "    <tr style=\"text-align: right;\">\n",
       "      <th></th>\n",
       "      <th>ULH</th>\n",
       "    </tr>\n",
       "    <tr>\n",
       "      <th>Year</th>\n",
       "      <th></th>\n",
       "    </tr>\n",
       "  </thead>\n",
       "  <tbody>\n",
       "    <tr>\n",
       "      <th>2015</th>\n",
       "      <td>0.000000</td>\n",
       "    </tr>\n",
       "    <tr>\n",
       "      <th>2016</th>\n",
       "      <td>0.000000</td>\n",
       "    </tr>\n",
       "    <tr>\n",
       "      <th>2017</th>\n",
       "      <td>0.000000</td>\n",
       "    </tr>\n",
       "    <tr>\n",
       "      <th>2018</th>\n",
       "      <td>25.166667</td>\n",
       "    </tr>\n",
       "    <tr>\n",
       "      <th>2019</th>\n",
       "      <td>167.750000</td>\n",
       "    </tr>\n",
       "    <tr>\n",
       "      <th>2020</th>\n",
       "      <td>165.583333</td>\n",
       "    </tr>\n",
       "    <tr>\n",
       "      <th>2021</th>\n",
       "      <td>116.250000</td>\n",
       "    </tr>\n",
       "    <tr>\n",
       "      <th>2022</th>\n",
       "      <td>1512.000000</td>\n",
       "    </tr>\n",
       "  </tbody>\n",
       "</table>\n",
       "</div>"
      ],
      "text/plain": [
       "              ULH\n",
       "Year             \n",
       "2015     0.000000\n",
       "2016     0.000000\n",
       "2017     0.000000\n",
       "2018    25.166667\n",
       "2019   167.750000\n",
       "2020   165.583333\n",
       "2021   116.250000\n",
       "2022  1512.000000"
      ]
     },
     "execution_count": 126,
     "metadata": {},
     "output_type": "execute_result"
    }
   ],
   "source": [
    "# International average air passsengers.\n",
    "Alula_international=Alula.loc[(Alula[\"dom/intl\"] == \"international\"),:].reset_index()\n",
    "Alula_international=Alula_international.groupby(['Year']).agg({'ULH':'mean'})\n",
    "Alula_international"
   ]
  },
  {
   "cell_type": "code",
   "execution_count": null,
   "id": "c185a486",
   "metadata": {
    "scrolled": false
   },
   "outputs": [
    {
     "data": {
      "application/vnd.plotly.v1+json": {
       "config": {
        "plotlyServerURL": "https://plot.ly"
       },
       "data": [
        {
         "type": "scatter",
         "x": [
          "Jan",
          "Feb",
          "Mar",
          "Apr",
          "May",
          "Jun",
          "Jul",
          "Aug",
          "Sep",
          "Oct",
          "Nov",
          "Dec"
         ],
         "xaxis": "x",
         "y": [
          2901,
          2724,
          3766,
          2439,
          2048,
          2631,
          2171,
          2614,
          2232,
          2715,
          3133,
          4553
         ],
         "yaxis": "y"
        },
        {
         "type": "scatter",
         "x": [
          "Jan",
          "Feb",
          "Mar",
          "Apr",
          "May",
          "Jun",
          "Jul",
          "Aug",
          "Sep",
          "Oct",
          "Nov",
          "Dec"
         ],
         "xaxis": "x2",
         "y": [
          8563,
          11045,
          3459,
          2677,
          3008,
          3727,
          3172,
          3943,
          3403,
          4745,
          5127,
          6256
         ],
         "yaxis": "y2"
        },
        {
         "type": "scatter",
         "x": [
          "Jan",
          "Feb",
          "Mar",
          "Apr",
          "May",
          "Jun",
          "Jul",
          "Aug",
          "Sep",
          "Oct",
          "Nov",
          "Dec"
         ],
         "xaxis": "x3",
         "y": [
          12322,
          10633,
          4360,
          0,
          82,
          528,
          1609,
          2071,
          2043,
          3743,
          4006,
          5394
         ],
         "yaxis": "y3"
        },
        {
         "type": "scatter",
         "x": [
          "Jan",
          "Feb",
          "Mar",
          "Apr",
          "May",
          "Jun",
          "Jul",
          "Aug",
          "Sep",
          "Oct",
          "Nov",
          "Dec"
         ],
         "xaxis": "x4",
         "y": [
          4478,
          4949,
          7431,
          4741,
          3308,
          3263,
          3306,
          3181,
          5146,
          7414,
          12548,
          17508
         ],
         "yaxis": "y4"
        }
       ],
       "layout": {
        "annotations": [
         {
          "font": {
           "size": 16
          },
          "showarrow": false,
          "text": "Domestic Passengers 2018 ",
          "x": 0.225,
          "xanchor": "center",
          "xref": "paper",
          "y": 1,
          "yanchor": "bottom",
          "yref": "paper"
         },
         {
          "font": {
           "size": 16
          },
          "showarrow": false,
          "text": "Domestic Passengers 2019",
          "x": 0.775,
          "xanchor": "center",
          "xref": "paper",
          "y": 1,
          "yanchor": "bottom",
          "yref": "paper"
         },
         {
          "font": {
           "size": 16
          },
          "showarrow": false,
          "text": "Domestic Passengers 2020",
          "x": 0.225,
          "xanchor": "center",
          "xref": "paper",
          "y": 0.375,
          "yanchor": "bottom",
          "yref": "paper"
         },
         {
          "font": {
           "size": 16
          },
          "showarrow": false,
          "text": "Domestic Passengers 2021",
          "x": 0.775,
          "xanchor": "center",
          "xref": "paper",
          "y": 0.375,
          "yanchor": "bottom",
          "yref": "paper"
         }
        ],
        "height": 500,
        "template": {
         "data": {
          "bar": [
           {
            "error_x": {
             "color": "#2a3f5f"
            },
            "error_y": {
             "color": "#2a3f5f"
            },
            "marker": {
             "line": {
              "color": "#E5ECF6",
              "width": 0.5
             },
             "pattern": {
              "fillmode": "overlay",
              "size": 10,
              "solidity": 0.2
             }
            },
            "type": "bar"
           }
          ],
          "barpolar": [
           {
            "marker": {
             "line": {
              "color": "#E5ECF6",
              "width": 0.5
             },
             "pattern": {
              "fillmode": "overlay",
              "size": 10,
              "solidity": 0.2
             }
            },
            "type": "barpolar"
           }
          ],
          "carpet": [
           {
            "aaxis": {
             "endlinecolor": "#2a3f5f",
             "gridcolor": "white",
             "linecolor": "white",
             "minorgridcolor": "white",
             "startlinecolor": "#2a3f5f"
            },
            "baxis": {
             "endlinecolor": "#2a3f5f",
             "gridcolor": "white",
             "linecolor": "white",
             "minorgridcolor": "white",
             "startlinecolor": "#2a3f5f"
            },
            "type": "carpet"
           }
          ],
          "choropleth": [
           {
            "colorbar": {
             "outlinewidth": 0,
             "ticks": ""
            },
            "type": "choropleth"
           }
          ],
          "contour": [
           {
            "colorbar": {
             "outlinewidth": 0,
             "ticks": ""
            },
            "colorscale": [
             [
              0,
              "#0d0887"
             ],
             [
              0.1111111111111111,
              "#46039f"
             ],
             [
              0.2222222222222222,
              "#7201a8"
             ],
             [
              0.3333333333333333,
              "#9c179e"
             ],
             [
              0.4444444444444444,
              "#bd3786"
             ],
             [
              0.5555555555555556,
              "#d8576b"
             ],
             [
              0.6666666666666666,
              "#ed7953"
             ],
             [
              0.7777777777777778,
              "#fb9f3a"
             ],
             [
              0.8888888888888888,
              "#fdca26"
             ],
             [
              1,
              "#f0f921"
             ]
            ],
            "type": "contour"
           }
          ],
          "contourcarpet": [
           {
            "colorbar": {
             "outlinewidth": 0,
             "ticks": ""
            },
            "type": "contourcarpet"
           }
          ],
          "heatmap": [
           {
            "colorbar": {
             "outlinewidth": 0,
             "ticks": ""
            },
            "colorscale": [
             [
              0,
              "#0d0887"
             ],
             [
              0.1111111111111111,
              "#46039f"
             ],
             [
              0.2222222222222222,
              "#7201a8"
             ],
             [
              0.3333333333333333,
              "#9c179e"
             ],
             [
              0.4444444444444444,
              "#bd3786"
             ],
             [
              0.5555555555555556,
              "#d8576b"
             ],
             [
              0.6666666666666666,
              "#ed7953"
             ],
             [
              0.7777777777777778,
              "#fb9f3a"
             ],
             [
              0.8888888888888888,
              "#fdca26"
             ],
             [
              1,
              "#f0f921"
             ]
            ],
            "type": "heatmap"
           }
          ],
          "heatmapgl": [
           {
            "colorbar": {
             "outlinewidth": 0,
             "ticks": ""
            },
            "colorscale": [
             [
              0,
              "#0d0887"
             ],
             [
              0.1111111111111111,
              "#46039f"
             ],
             [
              0.2222222222222222,
              "#7201a8"
             ],
             [
              0.3333333333333333,
              "#9c179e"
             ],
             [
              0.4444444444444444,
              "#bd3786"
             ],
             [
              0.5555555555555556,
              "#d8576b"
             ],
             [
              0.6666666666666666,
              "#ed7953"
             ],
             [
              0.7777777777777778,
              "#fb9f3a"
             ],
             [
              0.8888888888888888,
              "#fdca26"
             ],
             [
              1,
              "#f0f921"
             ]
            ],
            "type": "heatmapgl"
           }
          ],
          "histogram": [
           {
            "marker": {
             "pattern": {
              "fillmode": "overlay",
              "size": 10,
              "solidity": 0.2
             }
            },
            "type": "histogram"
           }
          ],
          "histogram2d": [
           {
            "colorbar": {
             "outlinewidth": 0,
             "ticks": ""
            },
            "colorscale": [
             [
              0,
              "#0d0887"
             ],
             [
              0.1111111111111111,
              "#46039f"
             ],
             [
              0.2222222222222222,
              "#7201a8"
             ],
             [
              0.3333333333333333,
              "#9c179e"
             ],
             [
              0.4444444444444444,
              "#bd3786"
             ],
             [
              0.5555555555555556,
              "#d8576b"
             ],
             [
              0.6666666666666666,
              "#ed7953"
             ],
             [
              0.7777777777777778,
              "#fb9f3a"
             ],
             [
              0.8888888888888888,
              "#fdca26"
             ],
             [
              1,
              "#f0f921"
             ]
            ],
            "type": "histogram2d"
           }
          ],
          "histogram2dcontour": [
           {
            "colorbar": {
             "outlinewidth": 0,
             "ticks": ""
            },
            "colorscale": [
             [
              0,
              "#0d0887"
             ],
             [
              0.1111111111111111,
              "#46039f"
             ],
             [
              0.2222222222222222,
              "#7201a8"
             ],
             [
              0.3333333333333333,
              "#9c179e"
             ],
             [
              0.4444444444444444,
              "#bd3786"
             ],
             [
              0.5555555555555556,
              "#d8576b"
             ],
             [
              0.6666666666666666,
              "#ed7953"
             ],
             [
              0.7777777777777778,
              "#fb9f3a"
             ],
             [
              0.8888888888888888,
              "#fdca26"
             ],
             [
              1,
              "#f0f921"
             ]
            ],
            "type": "histogram2dcontour"
           }
          ],
          "mesh3d": [
           {
            "colorbar": {
             "outlinewidth": 0,
             "ticks": ""
            },
            "type": "mesh3d"
           }
          ],
          "parcoords": [
           {
            "line": {
             "colorbar": {
              "outlinewidth": 0,
              "ticks": ""
             }
            },
            "type": "parcoords"
           }
          ],
          "pie": [
           {
            "automargin": true,
            "type": "pie"
           }
          ],
          "scatter": [
           {
            "marker": {
             "colorbar": {
              "outlinewidth": 0,
              "ticks": ""
             }
            },
            "type": "scatter"
           }
          ],
          "scatter3d": [
           {
            "line": {
             "colorbar": {
              "outlinewidth": 0,
              "ticks": ""
             }
            },
            "marker": {
             "colorbar": {
              "outlinewidth": 0,
              "ticks": ""
             }
            },
            "type": "scatter3d"
           }
          ],
          "scattercarpet": [
           {
            "marker": {
             "colorbar": {
              "outlinewidth": 0,
              "ticks": ""
             }
            },
            "type": "scattercarpet"
           }
          ],
          "scattergeo": [
           {
            "marker": {
             "colorbar": {
              "outlinewidth": 0,
              "ticks": ""
             }
            },
            "type": "scattergeo"
           }
          ],
          "scattergl": [
           {
            "marker": {
             "colorbar": {
              "outlinewidth": 0,
              "ticks": ""
             }
            },
            "type": "scattergl"
           }
          ],
          "scattermapbox": [
           {
            "marker": {
             "colorbar": {
              "outlinewidth": 0,
              "ticks": ""
             }
            },
            "type": "scattermapbox"
           }
          ],
          "scatterpolar": [
           {
            "marker": {
             "colorbar": {
              "outlinewidth": 0,
              "ticks": ""
             }
            },
            "type": "scatterpolar"
           }
          ],
          "scatterpolargl": [
           {
            "marker": {
             "colorbar": {
              "outlinewidth": 0,
              "ticks": ""
             }
            },
            "type": "scatterpolargl"
           }
          ],
          "scatterternary": [
           {
            "marker": {
             "colorbar": {
              "outlinewidth": 0,
              "ticks": ""
             }
            },
            "type": "scatterternary"
           }
          ],
          "surface": [
           {
            "colorbar": {
             "outlinewidth": 0,
             "ticks": ""
            },
            "colorscale": [
             [
              0,
              "#0d0887"
             ],
             [
              0.1111111111111111,
              "#46039f"
             ],
             [
              0.2222222222222222,
              "#7201a8"
             ],
             [
              0.3333333333333333,
              "#9c179e"
             ],
             [
              0.4444444444444444,
              "#bd3786"
             ],
             [
              0.5555555555555556,
              "#d8576b"
             ],
             [
              0.6666666666666666,
              "#ed7953"
             ],
             [
              0.7777777777777778,
              "#fb9f3a"
             ],
             [
              0.8888888888888888,
              "#fdca26"
             ],
             [
              1,
              "#f0f921"
             ]
            ],
            "type": "surface"
           }
          ],
          "table": [
           {
            "cells": {
             "fill": {
              "color": "#EBF0F8"
             },
             "line": {
              "color": "white"
             }
            },
            "header": {
             "fill": {
              "color": "#C8D4E3"
             },
             "line": {
              "color": "white"
             }
            },
            "type": "table"
           }
          ]
         },
         "layout": {
          "annotationdefaults": {
           "arrowcolor": "#2a3f5f",
           "arrowhead": 0,
           "arrowwidth": 1
          },
          "autotypenumbers": "strict",
          "coloraxis": {
           "colorbar": {
            "outlinewidth": 0,
            "ticks": ""
           }
          },
          "colorscale": {
           "diverging": [
            [
             0,
             "#8e0152"
            ],
            [
             0.1,
             "#c51b7d"
            ],
            [
             0.2,
             "#de77ae"
            ],
            [
             0.3,
             "#f1b6da"
            ],
            [
             0.4,
             "#fde0ef"
            ],
            [
             0.5,
             "#f7f7f7"
            ],
            [
             0.6,
             "#e6f5d0"
            ],
            [
             0.7,
             "#b8e186"
            ],
            [
             0.8,
             "#7fbc41"
            ],
            [
             0.9,
             "#4d9221"
            ],
            [
             1,
             "#276419"
            ]
           ],
           "sequential": [
            [
             0,
             "#0d0887"
            ],
            [
             0.1111111111111111,
             "#46039f"
            ],
            [
             0.2222222222222222,
             "#7201a8"
            ],
            [
             0.3333333333333333,
             "#9c179e"
            ],
            [
             0.4444444444444444,
             "#bd3786"
            ],
            [
             0.5555555555555556,
             "#d8576b"
            ],
            [
             0.6666666666666666,
             "#ed7953"
            ],
            [
             0.7777777777777778,
             "#fb9f3a"
            ],
            [
             0.8888888888888888,
             "#fdca26"
            ],
            [
             1,
             "#f0f921"
            ]
           ],
           "sequentialminus": [
            [
             0,
             "#0d0887"
            ],
            [
             0.1111111111111111,
             "#46039f"
            ],
            [
             0.2222222222222222,
             "#7201a8"
            ],
            [
             0.3333333333333333,
             "#9c179e"
            ],
            [
             0.4444444444444444,
             "#bd3786"
            ],
            [
             0.5555555555555556,
             "#d8576b"
            ],
            [
             0.6666666666666666,
             "#ed7953"
            ],
            [
             0.7777777777777778,
             "#fb9f3a"
            ],
            [
             0.8888888888888888,
             "#fdca26"
            ],
            [
             1,
             "#f0f921"
            ]
           ]
          },
          "colorway": [
           "#636efa",
           "#EF553B",
           "#00cc96",
           "#ab63fa",
           "#FFA15A",
           "#19d3f3",
           "#FF6692",
           "#B6E880",
           "#FF97FF",
           "#FECB52"
          ],
          "font": {
           "color": "#2a3f5f"
          },
          "geo": {
           "bgcolor": "white",
           "lakecolor": "white",
           "landcolor": "#E5ECF6",
           "showlakes": true,
           "showland": true,
           "subunitcolor": "white"
          },
          "hoverlabel": {
           "align": "left"
          },
          "hovermode": "closest",
          "mapbox": {
           "style": "light"
          },
          "paper_bgcolor": "white",
          "plot_bgcolor": "#E5ECF6",
          "polar": {
           "angularaxis": {
            "gridcolor": "white",
            "linecolor": "white",
            "ticks": ""
           },
           "bgcolor": "#E5ECF6",
           "radialaxis": {
            "gridcolor": "white",
            "linecolor": "white",
            "ticks": ""
           }
          },
          "scene": {
           "xaxis": {
            "backgroundcolor": "#E5ECF6",
            "gridcolor": "white",
            "gridwidth": 2,
            "linecolor": "white",
            "showbackground": true,
            "ticks": "",
            "zerolinecolor": "white"
           },
           "yaxis": {
            "backgroundcolor": "#E5ECF6",
            "gridcolor": "white",
            "gridwidth": 2,
            "linecolor": "white",
            "showbackground": true,
            "ticks": "",
            "zerolinecolor": "white"
           },
           "zaxis": {
            "backgroundcolor": "#E5ECF6",
            "gridcolor": "white",
            "gridwidth": 2,
            "linecolor": "white",
            "showbackground": true,
            "ticks": "",
            "zerolinecolor": "white"
           }
          },
          "shapedefaults": {
           "line": {
            "color": "#2a3f5f"
           }
          },
          "ternary": {
           "aaxis": {
            "gridcolor": "white",
            "linecolor": "white",
            "ticks": ""
           },
           "baxis": {
            "gridcolor": "white",
            "linecolor": "white",
            "ticks": ""
           },
           "bgcolor": "#E5ECF6",
           "caxis": {
            "gridcolor": "white",
            "linecolor": "white",
            "ticks": ""
           }
          },
          "title": {
           "x": 0.05
          },
          "xaxis": {
           "automargin": true,
           "gridcolor": "white",
           "linecolor": "white",
           "ticks": "",
           "title": {
            "standoff": 15
           },
           "zerolinecolor": "white",
           "zerolinewidth": 2
          },
          "yaxis": {
           "automargin": true,
           "gridcolor": "white",
           "linecolor": "white",
           "ticks": "",
           "title": {
            "standoff": 15
           },
           "zerolinecolor": "white",
           "zerolinewidth": 2
          }
         }
        },
        "title": {
         "text": "AlUla Number Of Passengers Per Month - AlUla (2018 - 2021)"
        },
        "width": 1000,
        "xaxis": {
         "anchor": "y",
         "domain": [
          0,
          0.45
         ]
        },
        "xaxis2": {
         "anchor": "y2",
         "domain": [
          0.55,
          1
         ]
        },
        "xaxis3": {
         "anchor": "y3",
         "domain": [
          0,
          0.45
         ]
        },
        "xaxis4": {
         "anchor": "y4",
         "domain": [
          0.55,
          1
         ]
        },
        "yaxis": {
         "anchor": "x",
         "domain": [
          0.625,
          1
         ]
        },
        "yaxis2": {
         "anchor": "x2",
         "domain": [
          0.625,
          1
         ]
        },
        "yaxis3": {
         "anchor": "x3",
         "domain": [
          0,
          0.375
         ]
        },
        "yaxis4": {
         "anchor": "x4",
         "domain": [
          0,
          0.375
         ]
        }
       }
      },
      "text/html": [
       "<div>                            <div id=\"6f46b8f6-308e-4c6c-8185-c710a1e7e104\" class=\"plotly-graph-div\" style=\"height:500px; width:1000px;\"></div>            <script type=\"text/javascript\">                require([\"plotly\"], function(Plotly) {                    window.PLOTLYENV=window.PLOTLYENV || {};                                    if (document.getElementById(\"6f46b8f6-308e-4c6c-8185-c710a1e7e104\")) {                    Plotly.newPlot(                        \"6f46b8f6-308e-4c6c-8185-c710a1e7e104\",                        [{\"x\":[\"Jan\",\"Feb\",\"Mar\",\"Apr\",\"May\",\"Jun\",\"Jul\",\"Aug\",\"Sep\",\"Oct\",\"Nov\",\"Dec\"],\"y\":[2901,2724,3766,2439,2048,2631,2171,2614,2232,2715,3133,4553],\"type\":\"scatter\",\"xaxis\":\"x\",\"yaxis\":\"y\"},{\"x\":[\"Jan\",\"Feb\",\"Mar\",\"Apr\",\"May\",\"Jun\",\"Jul\",\"Aug\",\"Sep\",\"Oct\",\"Nov\",\"Dec\"],\"y\":[8563,11045,3459,2677,3008,3727,3172,3943,3403,4745,5127,6256],\"type\":\"scatter\",\"xaxis\":\"x2\",\"yaxis\":\"y2\"},{\"x\":[\"Jan\",\"Feb\",\"Mar\",\"Apr\",\"May\",\"Jun\",\"Jul\",\"Aug\",\"Sep\",\"Oct\",\"Nov\",\"Dec\"],\"y\":[12322,10633,4360,0,82,528,1609,2071,2043,3743,4006,5394],\"type\":\"scatter\",\"xaxis\":\"x3\",\"yaxis\":\"y3\"},{\"x\":[\"Jan\",\"Feb\",\"Mar\",\"Apr\",\"May\",\"Jun\",\"Jul\",\"Aug\",\"Sep\",\"Oct\",\"Nov\",\"Dec\"],\"y\":[4478,4949,7431,4741,3308,3263,3306,3181,5146,7414,12548,17508],\"type\":\"scatter\",\"xaxis\":\"x4\",\"yaxis\":\"y4\"}],                        {\"template\":{\"data\":{\"bar\":[{\"error_x\":{\"color\":\"#2a3f5f\"},\"error_y\":{\"color\":\"#2a3f5f\"},\"marker\":{\"line\":{\"color\":\"#E5ECF6\",\"width\":0.5},\"pattern\":{\"fillmode\":\"overlay\",\"size\":10,\"solidity\":0.2}},\"type\":\"bar\"}],\"barpolar\":[{\"marker\":{\"line\":{\"color\":\"#E5ECF6\",\"width\":0.5},\"pattern\":{\"fillmode\":\"overlay\",\"size\":10,\"solidity\":0.2}},\"type\":\"barpolar\"}],\"carpet\":[{\"aaxis\":{\"endlinecolor\":\"#2a3f5f\",\"gridcolor\":\"white\",\"linecolor\":\"white\",\"minorgridcolor\":\"white\",\"startlinecolor\":\"#2a3f5f\"},\"baxis\":{\"endlinecolor\":\"#2a3f5f\",\"gridcolor\":\"white\",\"linecolor\":\"white\",\"minorgridcolor\":\"white\",\"startlinecolor\":\"#2a3f5f\"},\"type\":\"carpet\"}],\"choropleth\":[{\"colorbar\":{\"outlinewidth\":0,\"ticks\":\"\"},\"type\":\"choropleth\"}],\"contour\":[{\"colorbar\":{\"outlinewidth\":0,\"ticks\":\"\"},\"colorscale\":[[0.0,\"#0d0887\"],[0.1111111111111111,\"#46039f\"],[0.2222222222222222,\"#7201a8\"],[0.3333333333333333,\"#9c179e\"],[0.4444444444444444,\"#bd3786\"],[0.5555555555555556,\"#d8576b\"],[0.6666666666666666,\"#ed7953\"],[0.7777777777777778,\"#fb9f3a\"],[0.8888888888888888,\"#fdca26\"],[1.0,\"#f0f921\"]],\"type\":\"contour\"}],\"contourcarpet\":[{\"colorbar\":{\"outlinewidth\":0,\"ticks\":\"\"},\"type\":\"contourcarpet\"}],\"heatmap\":[{\"colorbar\":{\"outlinewidth\":0,\"ticks\":\"\"},\"colorscale\":[[0.0,\"#0d0887\"],[0.1111111111111111,\"#46039f\"],[0.2222222222222222,\"#7201a8\"],[0.3333333333333333,\"#9c179e\"],[0.4444444444444444,\"#bd3786\"],[0.5555555555555556,\"#d8576b\"],[0.6666666666666666,\"#ed7953\"],[0.7777777777777778,\"#fb9f3a\"],[0.8888888888888888,\"#fdca26\"],[1.0,\"#f0f921\"]],\"type\":\"heatmap\"}],\"heatmapgl\":[{\"colorbar\":{\"outlinewidth\":0,\"ticks\":\"\"},\"colorscale\":[[0.0,\"#0d0887\"],[0.1111111111111111,\"#46039f\"],[0.2222222222222222,\"#7201a8\"],[0.3333333333333333,\"#9c179e\"],[0.4444444444444444,\"#bd3786\"],[0.5555555555555556,\"#d8576b\"],[0.6666666666666666,\"#ed7953\"],[0.7777777777777778,\"#fb9f3a\"],[0.8888888888888888,\"#fdca26\"],[1.0,\"#f0f921\"]],\"type\":\"heatmapgl\"}],\"histogram\":[{\"marker\":{\"pattern\":{\"fillmode\":\"overlay\",\"size\":10,\"solidity\":0.2}},\"type\":\"histogram\"}],\"histogram2d\":[{\"colorbar\":{\"outlinewidth\":0,\"ticks\":\"\"},\"colorscale\":[[0.0,\"#0d0887\"],[0.1111111111111111,\"#46039f\"],[0.2222222222222222,\"#7201a8\"],[0.3333333333333333,\"#9c179e\"],[0.4444444444444444,\"#bd3786\"],[0.5555555555555556,\"#d8576b\"],[0.6666666666666666,\"#ed7953\"],[0.7777777777777778,\"#fb9f3a\"],[0.8888888888888888,\"#fdca26\"],[1.0,\"#f0f921\"]],\"type\":\"histogram2d\"}],\"histogram2dcontour\":[{\"colorbar\":{\"outlinewidth\":0,\"ticks\":\"\"},\"colorscale\":[[0.0,\"#0d0887\"],[0.1111111111111111,\"#46039f\"],[0.2222222222222222,\"#7201a8\"],[0.3333333333333333,\"#9c179e\"],[0.4444444444444444,\"#bd3786\"],[0.5555555555555556,\"#d8576b\"],[0.6666666666666666,\"#ed7953\"],[0.7777777777777778,\"#fb9f3a\"],[0.8888888888888888,\"#fdca26\"],[1.0,\"#f0f921\"]],\"type\":\"histogram2dcontour\"}],\"mesh3d\":[{\"colorbar\":{\"outlinewidth\":0,\"ticks\":\"\"},\"type\":\"mesh3d\"}],\"parcoords\":[{\"line\":{\"colorbar\":{\"outlinewidth\":0,\"ticks\":\"\"}},\"type\":\"parcoords\"}],\"pie\":[{\"automargin\":true,\"type\":\"pie\"}],\"scatter\":[{\"marker\":{\"colorbar\":{\"outlinewidth\":0,\"ticks\":\"\"}},\"type\":\"scatter\"}],\"scatter3d\":[{\"line\":{\"colorbar\":{\"outlinewidth\":0,\"ticks\":\"\"}},\"marker\":{\"colorbar\":{\"outlinewidth\":0,\"ticks\":\"\"}},\"type\":\"scatter3d\"}],\"scattercarpet\":[{\"marker\":{\"colorbar\":{\"outlinewidth\":0,\"ticks\":\"\"}},\"type\":\"scattercarpet\"}],\"scattergeo\":[{\"marker\":{\"colorbar\":{\"outlinewidth\":0,\"ticks\":\"\"}},\"type\":\"scattergeo\"}],\"scattergl\":[{\"marker\":{\"colorbar\":{\"outlinewidth\":0,\"ticks\":\"\"}},\"type\":\"scattergl\"}],\"scattermapbox\":[{\"marker\":{\"colorbar\":{\"outlinewidth\":0,\"ticks\":\"\"}},\"type\":\"scattermapbox\"}],\"scatterpolar\":[{\"marker\":{\"colorbar\":{\"outlinewidth\":0,\"ticks\":\"\"}},\"type\":\"scatterpolar\"}],\"scatterpolargl\":[{\"marker\":{\"colorbar\":{\"outlinewidth\":0,\"ticks\":\"\"}},\"type\":\"scatterpolargl\"}],\"scatterternary\":[{\"marker\":{\"colorbar\":{\"outlinewidth\":0,\"ticks\":\"\"}},\"type\":\"scatterternary\"}],\"surface\":[{\"colorbar\":{\"outlinewidth\":0,\"ticks\":\"\"},\"colorscale\":[[0.0,\"#0d0887\"],[0.1111111111111111,\"#46039f\"],[0.2222222222222222,\"#7201a8\"],[0.3333333333333333,\"#9c179e\"],[0.4444444444444444,\"#bd3786\"],[0.5555555555555556,\"#d8576b\"],[0.6666666666666666,\"#ed7953\"],[0.7777777777777778,\"#fb9f3a\"],[0.8888888888888888,\"#fdca26\"],[1.0,\"#f0f921\"]],\"type\":\"surface\"}],\"table\":[{\"cells\":{\"fill\":{\"color\":\"#EBF0F8\"},\"line\":{\"color\":\"white\"}},\"header\":{\"fill\":{\"color\":\"#C8D4E3\"},\"line\":{\"color\":\"white\"}},\"type\":\"table\"}]},\"layout\":{\"annotationdefaults\":{\"arrowcolor\":\"#2a3f5f\",\"arrowhead\":0,\"arrowwidth\":1},\"autotypenumbers\":\"strict\",\"coloraxis\":{\"colorbar\":{\"outlinewidth\":0,\"ticks\":\"\"}},\"colorscale\":{\"diverging\":[[0,\"#8e0152\"],[0.1,\"#c51b7d\"],[0.2,\"#de77ae\"],[0.3,\"#f1b6da\"],[0.4,\"#fde0ef\"],[0.5,\"#f7f7f7\"],[0.6,\"#e6f5d0\"],[0.7,\"#b8e186\"],[0.8,\"#7fbc41\"],[0.9,\"#4d9221\"],[1,\"#276419\"]],\"sequential\":[[0.0,\"#0d0887\"],[0.1111111111111111,\"#46039f\"],[0.2222222222222222,\"#7201a8\"],[0.3333333333333333,\"#9c179e\"],[0.4444444444444444,\"#bd3786\"],[0.5555555555555556,\"#d8576b\"],[0.6666666666666666,\"#ed7953\"],[0.7777777777777778,\"#fb9f3a\"],[0.8888888888888888,\"#fdca26\"],[1.0,\"#f0f921\"]],\"sequentialminus\":[[0.0,\"#0d0887\"],[0.1111111111111111,\"#46039f\"],[0.2222222222222222,\"#7201a8\"],[0.3333333333333333,\"#9c179e\"],[0.4444444444444444,\"#bd3786\"],[0.5555555555555556,\"#d8576b\"],[0.6666666666666666,\"#ed7953\"],[0.7777777777777778,\"#fb9f3a\"],[0.8888888888888888,\"#fdca26\"],[1.0,\"#f0f921\"]]},\"colorway\":[\"#636efa\",\"#EF553B\",\"#00cc96\",\"#ab63fa\",\"#FFA15A\",\"#19d3f3\",\"#FF6692\",\"#B6E880\",\"#FF97FF\",\"#FECB52\"],\"font\":{\"color\":\"#2a3f5f\"},\"geo\":{\"bgcolor\":\"white\",\"lakecolor\":\"white\",\"landcolor\":\"#E5ECF6\",\"showlakes\":true,\"showland\":true,\"subunitcolor\":\"white\"},\"hoverlabel\":{\"align\":\"left\"},\"hovermode\":\"closest\",\"mapbox\":{\"style\":\"light\"},\"paper_bgcolor\":\"white\",\"plot_bgcolor\":\"#E5ECF6\",\"polar\":{\"angularaxis\":{\"gridcolor\":\"white\",\"linecolor\":\"white\",\"ticks\":\"\"},\"bgcolor\":\"#E5ECF6\",\"radialaxis\":{\"gridcolor\":\"white\",\"linecolor\":\"white\",\"ticks\":\"\"}},\"scene\":{\"xaxis\":{\"backgroundcolor\":\"#E5ECF6\",\"gridcolor\":\"white\",\"gridwidth\":2,\"linecolor\":\"white\",\"showbackground\":true,\"ticks\":\"\",\"zerolinecolor\":\"white\"},\"yaxis\":{\"backgroundcolor\":\"#E5ECF6\",\"gridcolor\":\"white\",\"gridwidth\":2,\"linecolor\":\"white\",\"showbackground\":true,\"ticks\":\"\",\"zerolinecolor\":\"white\"},\"zaxis\":{\"backgroundcolor\":\"#E5ECF6\",\"gridcolor\":\"white\",\"gridwidth\":2,\"linecolor\":\"white\",\"showbackground\":true,\"ticks\":\"\",\"zerolinecolor\":\"white\"}},\"shapedefaults\":{\"line\":{\"color\":\"#2a3f5f\"}},\"ternary\":{\"aaxis\":{\"gridcolor\":\"white\",\"linecolor\":\"white\",\"ticks\":\"\"},\"baxis\":{\"gridcolor\":\"white\",\"linecolor\":\"white\",\"ticks\":\"\"},\"bgcolor\":\"#E5ECF6\",\"caxis\":{\"gridcolor\":\"white\",\"linecolor\":\"white\",\"ticks\":\"\"}},\"title\":{\"x\":0.05},\"xaxis\":{\"automargin\":true,\"gridcolor\":\"white\",\"linecolor\":\"white\",\"ticks\":\"\",\"title\":{\"standoff\":15},\"zerolinecolor\":\"white\",\"zerolinewidth\":2},\"yaxis\":{\"automargin\":true,\"gridcolor\":\"white\",\"linecolor\":\"white\",\"ticks\":\"\",\"title\":{\"standoff\":15},\"zerolinecolor\":\"white\",\"zerolinewidth\":2}}},\"xaxis\":{\"anchor\":\"y\",\"domain\":[0.0,0.45]},\"yaxis\":{\"anchor\":\"x\",\"domain\":[0.625,1.0]},\"xaxis2\":{\"anchor\":\"y2\",\"domain\":[0.55,1.0]},\"yaxis2\":{\"anchor\":\"x2\",\"domain\":[0.625,1.0]},\"xaxis3\":{\"anchor\":\"y3\",\"domain\":[0.0,0.45]},\"yaxis3\":{\"anchor\":\"x3\",\"domain\":[0.0,0.375]},\"xaxis4\":{\"anchor\":\"y4\",\"domain\":[0.55,1.0]},\"yaxis4\":{\"anchor\":\"x4\",\"domain\":[0.0,0.375]},\"annotations\":[{\"font\":{\"size\":16},\"showarrow\":false,\"text\":\"Domestic Passengers 2018 \",\"x\":0.225,\"xanchor\":\"center\",\"xref\":\"paper\",\"y\":1.0,\"yanchor\":\"bottom\",\"yref\":\"paper\"},{\"font\":{\"size\":16},\"showarrow\":false,\"text\":\"Domestic Passengers 2019\",\"x\":0.775,\"xanchor\":\"center\",\"xref\":\"paper\",\"y\":1.0,\"yanchor\":\"bottom\",\"yref\":\"paper\"},{\"font\":{\"size\":16},\"showarrow\":false,\"text\":\"Domestic Passengers 2020\",\"x\":0.225,\"xanchor\":\"center\",\"xref\":\"paper\",\"y\":0.375,\"yanchor\":\"bottom\",\"yref\":\"paper\"},{\"font\":{\"size\":16},\"showarrow\":false,\"text\":\"Domestic Passengers 2021\",\"x\":0.775,\"xanchor\":\"center\",\"xref\":\"paper\",\"y\":0.375,\"yanchor\":\"bottom\",\"yref\":\"paper\"}],\"title\":{\"text\":\"AlUla Number Of Passengers Per Month - AlUla (2018 - 2021)\"},\"height\":500,\"width\":1000},                        {\"responsive\": true}                    ).then(function(){\n",
       "                            \n",
       "var gd = document.getElementById('6f46b8f6-308e-4c6c-8185-c710a1e7e104');\n",
       "var x = new MutationObserver(function (mutations, observer) {{\n",
       "        var display = window.getComputedStyle(gd).display;\n",
       "        if (!display || display === 'none') {{\n",
       "            console.log([gd, 'removed!']);\n",
       "            Plotly.purge(gd);\n",
       "            observer.disconnect();\n",
       "        }}\n",
       "}});\n",
       "\n",
       "// Listen for the removal of the full notebook cells\n",
       "var notebookContainer = gd.closest('#notebook-container');\n",
       "if (notebookContainer) {{\n",
       "    x.observe(notebookContainer, {childList: true});\n",
       "}}\n",
       "\n",
       "// Listen for the clearing of the current output cell\n",
       "var outputEl = gd.closest('.output');\n",
       "if (outputEl) {{\n",
       "    x.observe(outputEl, {childList: true});\n",
       "}}\n",
       "\n",
       "                        })                };                });            </script>        </div>"
      ]
     },
     "metadata": {},
     "output_type": "display_data"
    }
   ],
   "source": [
    "from plotly.subplots import make_subplots\n",
    "import plotly.graph_objects as go\n",
    "\n",
    "fig = make_subplots(\n",
    "    rows=2, cols=2,\n",
    "    subplot_titles=(\"Domestic Passengers 2018 \", \"Domestic Passengers 2019\",'Domestic Passengers 2020','Domestic Passengers 2021'))\n",
    "\n",
    "fig.add_trace(go.Scatter(x=Y2018.Month_short, y=Y2018.ULH),\n",
    "              row=1, col=1)\n",
    "\n",
    "fig.add_trace(go.Scatter(x=Y2019.Month_short, y=Y2019.ULH),\n",
    "              row=1, col=2)\n",
    "fig.add_trace(go.Scatter(x=Y2020.Month_short, y=Y2020.ULH),\n",
    "              row=2, col=1)\n",
    "fig.add_trace(go.Scatter(x=Y2021.Month_short, y=Y2021.ULH),\n",
    "              row=2, col=2)\n",
    "\n",
    "fig.update_layout(height=500, width=1000,\n",
    "                  title_text=\"AlUla Number Of Passengers Per Month - AlUla (2018 - 2021)\")\n",
    "\n",
    "fig.show()"
   ]
  },
  {
   "cell_type": "markdown",
   "id": "21b739d4",
   "metadata": {},
   "source": [
    "### NEOM Bay Regional Airport\n"
   ]
  },
  {
   "cell_type": "code",
   "execution_count": null,
   "id": "8af01dc5",
   "metadata": {
    "scrolled": true
   },
   "outputs": [],
   "source": [
    "Neom_yearly=flights[(flights['Airport'] == 'NUM')]\n",
    "\n",
    "NEOM=passengers[['Year','Month_short','dom/intl','NUM']]\n",
    "#NEOM.head()\n",
    "\n",
    "#neom=NEOM.groupby(['Year']).agg({'NUM':'mean'})\n",
    "#NEOM.tail(70)\n",
    "\n",
    "Neom_yearly"
   ]
  },
  {
   "cell_type": "markdown",
   "id": "c6f23295",
   "metadata": {},
   "source": [
    "Neom airport still in its first stages, but mentioning this at the end, as it is will be from the biggest factors in the near future in increasing the air passengers numbers. The workers on NEOM projects were the first to land in NUM at 2019  "
   ]
  },
  {
   "cell_type": "markdown",
   "id": "87ac41c4",
   "metadata": {},
   "source": [
    "## 5. Comparing The Growth Of Saudi Arabia International Airports To Other Intrenational Airports"
   ]
  },
  {
   "cell_type": "code",
   "execution_count": null,
   "id": "80b51d38",
   "metadata": {},
   "outputs": [],
   "source": [
    "internationa_airports=pd.read_csv('international_airports.csv')\n",
    "internationa_airports"
   ]
  },
  {
   "cell_type": "markdown",
   "id": "5c961492",
   "metadata": {},
   "source": [
    "<i>DXB</i> : Dubai International Airport <br>\n",
    "<i>LHR</i> : Heathrow Airport"
   ]
  },
  {
   "cell_type": "code",
   "execution_count": null,
   "id": "273c849f",
   "metadata": {},
   "outputs": [
    {
     "ename": "NameError",
     "evalue": "name 'internationa_airports' is not defined",
     "output_type": "error",
     "traceback": [
      "\u001b[0;31m---------------------------------------------------------------------------\u001b[0m",
      "\u001b[0;31mNameError\u001b[0m                                 Traceback (most recent call last)",
      "\u001b[0;32m/var/folders/g6/rt4jnpk953jfqzwwd9zn6kbm0000gn/T/ipykernel_43868/4219873274.py\u001b[0m in \u001b[0;36m<module>\u001b[0;34m\u001b[0m\n\u001b[0;32m----> 1\u001b[0;31m \u001b[0mDXB_changes\u001b[0m\u001b[0;34m=\u001b[0m\u001b[0minternationa_airports\u001b[0m\u001b[0;34m[\u001b[0m\u001b[0;34m'DXB'\u001b[0m\u001b[0;34m]\u001b[0m\u001b[0;34m.\u001b[0m\u001b[0mpct_change\u001b[0m\u001b[0;34m(\u001b[0m\u001b[0;34m)\u001b[0m\u001b[0;34m\u001b[0m\u001b[0;34m\u001b[0m\u001b[0m\n\u001b[0m\u001b[1;32m      2\u001b[0m \u001b[0mLHR_changes\u001b[0m\u001b[0;34m=\u001b[0m\u001b[0minternationa_airports\u001b[0m\u001b[0;34m[\u001b[0m\u001b[0;34m'LHR'\u001b[0m\u001b[0;34m]\u001b[0m\u001b[0;34m.\u001b[0m\u001b[0mpct_change\u001b[0m\u001b[0;34m(\u001b[0m\u001b[0;34m)\u001b[0m\u001b[0;34m\u001b[0m\u001b[0;34m\u001b[0m\u001b[0m\n\u001b[1;32m      3\u001b[0m \u001b[0mRUH_changes\u001b[0m\u001b[0;34m=\u001b[0m\u001b[0minternationa_airports\u001b[0m\u001b[0;34m[\u001b[0m\u001b[0;34m'RUH'\u001b[0m\u001b[0;34m]\u001b[0m\u001b[0;34m.\u001b[0m\u001b[0mpct_change\u001b[0m\u001b[0;34m(\u001b[0m\u001b[0;34m)\u001b[0m\u001b[0;34m\u001b[0m\u001b[0;34m\u001b[0m\u001b[0m\n\u001b[1;32m      4\u001b[0m \u001b[0mDMM_changes\u001b[0m\u001b[0;34m=\u001b[0m\u001b[0minternationa_airports\u001b[0m\u001b[0;34m[\u001b[0m\u001b[0;34m'DMM'\u001b[0m\u001b[0;34m]\u001b[0m\u001b[0;34m.\u001b[0m\u001b[0mpct_change\u001b[0m\u001b[0;34m(\u001b[0m\u001b[0;34m)\u001b[0m\u001b[0;34m\u001b[0m\u001b[0;34m\u001b[0m\u001b[0m\n\u001b[1;32m      5\u001b[0m \u001b[0mJED_changes\u001b[0m\u001b[0;34m=\u001b[0m\u001b[0minternationa_airports\u001b[0m\u001b[0;34m[\u001b[0m\u001b[0;34m'JED'\u001b[0m\u001b[0;34m]\u001b[0m\u001b[0;34m.\u001b[0m\u001b[0mpct_change\u001b[0m\u001b[0;34m(\u001b[0m\u001b[0;34m)\u001b[0m\u001b[0;34m\u001b[0m\u001b[0;34m\u001b[0m\u001b[0m\n",
      "\u001b[0;31mNameError\u001b[0m: name 'internationa_airports' is not defined"
     ]
    }
   ],
   "source": [
    "DXB_changes=internationa_airports['DXB'].pct_change()\n",
    "LHR_changes=internationa_airports['LHR'].pct_change()\n",
    "RUH_changes=internationa_airports['RUH'].pct_change()\n",
    "DMM_changes=internationa_airports['DMM'].pct_change()\n",
    "JED_changes=internationa_airports['JED'].pct_change()\n",
    "MED_changes=internationa_airports['MED'].pct_change()\n",
    "\n",
    "internationa_airports['DXB_yearOnyear']=DXB_changes*100\n",
    "internationa_airports['LHR_yearOnyear']=LHR_changes*100\n",
    "internationa_airports['RUH_yearOnyear']=RUH_changes*100\n",
    "internationa_airports['DMM_yearOnyear']=DMM_changes*100\n",
    "internationa_airports['JED_yearOnyear']=JED_changes*100\n",
    "internationa_airports['MED_yearOnyear']=MED_changes*100\n",
    "\n",
    "internationa_airports.loc[:,['Year','DXB_yearOnyear','LHR_yearOnyear','RUH_yearOnyear','DMM_yearOnyear','JED_yearOnyear','MED_yearOnyear']]"
   ]
  },
  {
   "cell_type": "code",
   "execution_count": null,
   "id": "a93859e9",
   "metadata": {},
   "outputs": [
    {
     "ename": "NameError",
     "evalue": "name 'internationa_airports' is not defined",
     "output_type": "error",
     "traceback": [
      "\u001b[0;31m---------------------------------------------------------------------------\u001b[0m",
      "\u001b[0;31mNameError\u001b[0m                                 Traceback (most recent call last)",
      "\u001b[0;32m/var/folders/g6/rt4jnpk953jfqzwwd9zn6kbm0000gn/T/ipykernel_43868/1535781680.py\u001b[0m in \u001b[0;36m<module>\u001b[0;34m\u001b[0m\n\u001b[1;32m      4\u001b[0m \u001b[0;34m\u001b[0m\u001b[0m\n\u001b[1;32m      5\u001b[0m DXB_airport = go.Scatter(\n\u001b[0;32m----> 6\u001b[0;31m \u001b[0mx\u001b[0m \u001b[0;34m=\u001b[0m\u001b[0minternationa_airports\u001b[0m\u001b[0;34m.\u001b[0m\u001b[0mYear\u001b[0m\u001b[0;34m,\u001b[0m\u001b[0;34m\u001b[0m\u001b[0;34m\u001b[0m\u001b[0m\n\u001b[0m\u001b[1;32m      7\u001b[0m \u001b[0my\u001b[0m \u001b[0;34m=\u001b[0m\u001b[0minternationa_airports\u001b[0m\u001b[0;34m.\u001b[0m\u001b[0mDXB_yearOnyear\u001b[0m\u001b[0;34m,\u001b[0m\u001b[0;34m\u001b[0m\u001b[0;34m\u001b[0m\u001b[0m\n\u001b[1;32m      8\u001b[0m \u001b[0mmode\u001b[0m \u001b[0;34m=\u001b[0m \u001b[0;34m'lines'\u001b[0m\u001b[0;34m,\u001b[0m\u001b[0;34m\u001b[0m\u001b[0;34m\u001b[0m\u001b[0m\n",
      "\u001b[0;31mNameError\u001b[0m: name 'internationa_airports' is not defined"
     ]
    }
   ],
   "source": [
    "from plotly.offline import iplot\n",
    "\n",
    "#from plotly.plotly import iplot\n",
    "\n",
    "DXB_airport = go.Scatter(\n",
    "x =internationa_airports.Year,\n",
    "y =internationa_airports.DXB_yearOnyear,\n",
    "mode = 'lines',\n",
    "name = 'DXB'\n",
    ")\n",
    "\n",
    "LHR_airport = go.Scatter(\n",
    "x = internationa_airports.Year,\n",
    "y = internationa_airports.LHR_yearOnyear,\n",
    "mode = 'lines',\n",
    "name = 'LHR'\n",
    ")\n",
    "RUH_airport = go.Scatter(\n",
    "x = internationa_airports.Year,\n",
    "y = internationa_airports.RUH_yearOnyear,\n",
    "mode = 'lines',\n",
    "name = 'RUH'\n",
    ")\n",
    "DMM_airport = go.Scatter(\n",
    "x = internationa_airports.Year,\n",
    "y = internationa_airports.DMM_yearOnyear,\n",
    "mode = 'lines',\n",
    "name = 'DMM'\n",
    ")\n",
    "\n",
    "JED_airport = go.Scatter(\n",
    "x = internationa_airports.Year,\n",
    "y = internationa_airports.JED_yearOnyear,\n",
    "mode = 'lines',\n",
    "name = 'JED'\n",
    ")\n",
    "MED_airport = go.Scatter(\n",
    "x = internationa_airports.Year,\n",
    "y = internationa_airports.MED_yearOnyear,\n",
    "mode = 'lines',\n",
    "name = 'MED'\n",
    ")\n",
    "\n",
    "# Layout setting\n",
    "layout = go.Layout(\n",
    "title=dict(text = \"Number Of Air Passengers From 2010 - 2021\",x=0.5,y=0.95),\n",
    "yaxis = dict(title = 'Number in Million',showgrid=False,showline=False), # y-axis label\n",
    "paper_bgcolor= '#ffffff',\n",
    "plot_bgcolor= '#FFFDE7'\n",
    ")\n",
    "\n",
    "data = [DXB_airport,LHR_airport,RUH_airport,DMM_airport,JED_airport,MED_airport]\n",
    "\n",
    "fig = go.Figure(data=data,layout=layout)\n",
    "layout = go.Layout(\n",
    "    autosize=False,\n",
    "    width=200,\n",
    "    height=400)\n",
    "iplot(fig)"
   ]
  },
  {
   "cell_type": "markdown",
   "id": "e1230add",
   "metadata": {},
   "source": [
    "<li>Fastest grow rate after 2020 : </li>  Riyadh and Dammam are the two airports with fast recover in passenger numbers after Covid-19 2020, therefor these two city have rich movement of passengers especially for the entertainment seasons that lunched at 2021\n",
    "<li>Suadi Arabia Airports : </li> Have larger raising rate of changes, that means number are growing higher comparing to the previous year.\n",
    "<li>Heathrow Airport : </li> Didn't recover to its usual numbers before 2020,\n"
   ]
  },
  {
   "cell_type": "markdown",
   "id": "272f9636",
   "metadata": {},
   "source": [
    "## 6. Answering Research Question - Conclusion"
   ]
  },
  {
   "cell_type": "markdown",
   "id": "3d3ee9d3",
   "metadata": {},
   "source": [
    "<li><code>What are the main factors that are driving the changes on number of air passengers in Saudi Arabia?</code></li>"
   ]
  },
  {
   "cell_type": "markdown",
   "id": "a56ae96d",
   "metadata": {},
   "source": [
    "At the end, Saudi international airports shows huge increasing of air passengers numbers, sure. **But** this is obvious, any country with a plan such as ours will have big numbers of people passing. My analysis process helped in looking for fctors that may show things effect in the increasing rates, and they are:<br>\n",
    "<blockquote> King Abdulaziz International Airport - JED:  <br>\n",
    "Data shows that Masjid al-Haram is the biggest factor behind some increasing/decreasing rates. Lowest precentage of international arrivals was -14.17% in 2012, (2011/2012) in these years plans of largest expansion for Masjid al-Haram lunched, which result in closing some areas of the Great Mosque, therefore the opening of the all Great Mosque was in the (2014/2015) and in this periods the number of international arrivals increased by 27% 2014, and 19% 2015. Where the mean precentage of domestic arrivale is 41.69%, international is 58.30%   </blockquote>\n"
   ]
  },
  {
   "cell_type": "markdown",
   "id": "b3701b2d",
   "metadata": {},
   "source": [
    "<blockquote> King Khalid International Airport - RUH:  <br>\n",
    "Data shows that 2012 have the highest increases precentage, in this year 22 airplanes (Boeing) was added to Saudi aircraft, this may result on increasing the air passengers travelers.\n",
    "Also, new expansion plan was decided in 2012, to enhance all the airport facilities. The number of arrivals from domestic airport increased by 10% in 2019, its second largest rate after 2012, as in 2019 one of the most huge events started such as Riyadh season. Citizens movement recorded in increasing numbers   </blockquote>"
   ]
  },
  {
   "cell_type": "markdown",
   "id": "df793324",
   "metadata": {},
   "source": [
    "<blockquote> Prince Mohammed Bin Abdulaziz International Airport - MED  <br>\n",
    "Data shows that in 2015 highest rate of increasing of passengers number 34.93% compared to 2014, new Prince Mohammed Bin Abdulaziz International Airport was opend in 2015, this will increase the airport’s throughput from 5.7 million a year to eight million passengers a year. And for only international arrivals 2015 rate increased by 68% with 2256347 number of visitors </blockquote>"
   ]
  },
  {
   "cell_type": "markdown",
   "id": "8baed849",
   "metadata": {},
   "source": [
    "<blockquote> King Fahd International Airport - DMM  <br>\n",
    "Data shows that Dammam city lived a years with increasing in the number of passengers, without reaching to find one factor, except that this city has its special place، sharing its border with four of the Gulf countries, DMM serve four rich areas with opportunities like Khobar, Al Jubail, Al Dhahran (Home to Saudi Aramco)\n",
    " \n",
    "</blockquote>"
   ]
  },
  {
   "cell_type": "markdown",
   "id": "9f279436",
   "metadata": {},
   "source": [
    "### Awards :"
   ]
  },
  {
   "cell_type": "markdown",
   "id": "ea52a3b9",
   "metadata": {},
   "source": [
    "**World’s Most Improved Airports 2021:** <br>\n",
    "JED : 5th"
   ]
  },
  {
   "cell_type": "markdown",
   "id": "3dc749e7",
   "metadata": {},
   "source": [
    "**Best Airports in the world 2021:** <br>\n",
    "JED : 50th <br>\n",
    "RUH : 58th<br>\n",
    "DMM : 87th <br>\n",
    "**Best Airports in the Middle East 2021:** <br>\n",
    "JED : 3th <br>\n",
    "RUH : 5th<br>\n",
    "MED : 6th <br>\n",
    "DMM : 9th\n"
   ]
  },
  {
   "cell_type": "markdown",
   "id": "4de65afa",
   "metadata": {},
   "source": [
    "Source Of The Awards > [here](https://www.worldairportawards.com/)"
   ]
  }
 ],
 "metadata": {
  "kernelspec": {
   "display_name": "Python 3 (ipykernel)",
   "language": "python",
   "name": "python3"
  },
  "language_info": {
   "codemirror_mode": {
    "name": "ipython",
    "version": 3
   },
   "file_extension": ".py",
   "mimetype": "text/x-python",
   "name": "python",
   "nbconvert_exporter": "python",
   "pygments_lexer": "ipython3",
   "version": "3.9.7"
  }
 },
 "nbformat": 4,
 "nbformat_minor": 5
}
